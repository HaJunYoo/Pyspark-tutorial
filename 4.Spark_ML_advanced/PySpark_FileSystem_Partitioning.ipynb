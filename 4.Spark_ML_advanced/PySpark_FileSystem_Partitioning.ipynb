{
 "cells": [
  {
   "cell_type": "markdown",
   "metadata": {
    "id": "XIA23YgbXKJd"
   },
   "source": [
    "이를 위해 pyspark과 Py4J 패키지를 설치한다. Py4J 패키지는 파이썬 프로그램이 자바가상머신상의 오브젝트들을 접근할 수 있게 해준다. Local Standalone Spark을 사용한다."
   ]
  },
  {
   "cell_type": "code",
   "execution_count": 1,
   "metadata": {
    "colab": {
     "base_uri": "https://localhost:8080/"
    },
    "id": "NbT0rpGfVdiq",
    "outputId": "d66566e8-6e47-4288-aa24-dff1fb127643"
   },
   "outputs": [
    {
     "name": "stdout",
     "output_type": "stream",
     "text": [
      "Looking in indexes: https://pypi.org/simple, https://us-python.pkg.dev/colab-wheels/public/simple/\n",
      "Requirement already satisfied: pyspark==3.3.1 in /usr/local/lib/python3.8/dist-packages (3.3.1)\n",
      "Requirement already satisfied: py4j==0.10.9.5 in /usr/local/lib/python3.8/dist-packages (0.10.9.5)\n"
     ]
    }
   ],
   "source": [
    "!pip install pyspark==3.3.1 py4j==0.10.9.5 "
   ]
  },
  {
   "cell_type": "markdown",
   "metadata": {
    "id": "Ew_eTGrvXlDw"
   },
   "source": [
    "**Spark Session**을 하나 만든다"
   ]
  },
  {
   "cell_type": "code",
   "execution_count": 13,
   "metadata": {
    "id": "3vm6tgcPXdnR",
    "tags": []
   },
   "outputs": [],
   "source": [
    "from pyspark.sql import *\n",
    "from pyspark.sql.functions import *\n",
    "\n",
    "if __name__ == \"__main__\":\n",
    "    spark = SparkSession \\\n",
    "        .builder \\\n",
    "        .appName(\"Spark FS Partition Demo\") \\\n",
    "        .master(\"local[3]\") \\\n",
    "        .enableHiveSupport() \\\n",
    "        .getOrCreate()"
   ]
  },
  {
   "cell_type": "code",
   "execution_count": 14,
   "metadata": {
    "colab": {
     "base_uri": "https://localhost:8080/"
    },
    "id": "UKrMnuGVK77P",
    "outputId": "2655e997-ba8f-4a29-d12d-217ce3b0d1b2",
    "tags": []
   },
   "outputs": [
    {
     "name": "stdout",
     "output_type": "stream",
     "text": [
      "--2023-07-06 17:13:26--  https://pyspark-test-sj.s3.us-west-2.amazonaws.com/appl_stock.csv\n",
      "Resolving pyspark-test-sj.s3.us-west-2.amazonaws.com (pyspark-test-sj.s3.us-west-2.amazonaws.com)... 52.218.217.81, 52.92.212.42, 3.5.81.204, ...\n",
      "Connecting to pyspark-test-sj.s3.us-west-2.amazonaws.com (pyspark-test-sj.s3.us-west-2.amazonaws.com)|52.218.217.81|:443... connected.\n",
      "HTTP request sent, awaiting response... 200 OK\n",
      "Length: 143130 (140K) [text/csv]\n",
      "Saving to: ‘appl_stock.csv.2’\n",
      "\n",
      "appl_stock.csv.2    100%[===================>] 139.78K   440KB/s    in 0.3s    \n",
      "\n",
      "2023-07-06 17:13:27 (440 KB/s) - ‘appl_stock.csv.2’ saved [143130/143130]\n",
      "\n"
     ]
    }
   ],
   "source": [
    "!wget https://pyspark-test-sj.s3.us-west-2.amazonaws.com/appl_stock.csv"
   ]
  },
  {
   "cell_type": "markdown",
   "metadata": {},
   "source": [
    "파일을 하나 다운받아서 spark managed table로 저장을 해보자"
   ]
  },
  {
   "cell_type": "code",
   "execution_count": 15,
   "metadata": {
    "colab": {
     "base_uri": "https://localhost:8080/"
    },
    "id": "3ZhdS0i7LZEc",
    "outputId": "03ec8477-4606-4e37-be36-505e1edb2e90",
    "tags": []
   },
   "outputs": [
    {
     "name": "stdout",
     "output_type": "stream",
     "text": [
      "root\n",
      " |-- Date: timestamp (nullable = true)\n",
      " |-- Open: double (nullable = true)\n",
      " |-- High: double (nullable = true)\n",
      " |-- Low: double (nullable = true)\n",
      " |-- Close: double (nullable = true)\n",
      " |-- Volume: integer (nullable = true)\n",
      " |-- Adj Close: double (nullable = true)\n",
      "\n"
     ]
    }
   ],
   "source": [
    "df = spark.read.csv(\"appl_stock.csv\", header=True, inferSchema=True)\n",
    "df.printSchema()"
   ]
  },
  {
   "cell_type": "code",
   "execution_count": 16,
   "metadata": {
    "colab": {
     "base_uri": "https://localhost:8080/"
    },
    "id": "7g56ZGQKkRBm",
    "outputId": "4d83ab88-48ac-4230-aae0-29a96caa7d54",
    "tags": []
   },
   "outputs": [
    {
     "name": "stdout",
     "output_type": "stream",
     "text": [
      "+-------------------+------------------+------------------+------------------+------------------+---------+------------------+\n",
      "|               Date|              Open|              High|               Low|             Close|   Volume|         Adj Close|\n",
      "+-------------------+------------------+------------------+------------------+------------------+---------+------------------+\n",
      "|2010-01-04 00:00:00|        213.429998|        214.499996|212.38000099999996|        214.009998|123432400|         27.727039|\n",
      "|2010-01-05 00:00:00|        214.599998|        215.589994|        213.249994|        214.379993|150476200|27.774976000000002|\n",
      "|2010-01-06 00:00:00|        214.379993|            215.23|        210.750004|        210.969995|138040000|27.333178000000004|\n",
      "|2010-01-07 00:00:00|            211.75|        212.000006|        209.050005|            210.58|119282800|          27.28265|\n",
      "|2010-01-08 00:00:00|        210.299994|        212.000006|209.06000500000002|211.98000499999998|111902700|         27.464034|\n",
      "|2010-01-11 00:00:00|212.79999700000002|        213.000002|        208.450005|210.11000299999998|115557400|         27.221758|\n",
      "|2010-01-12 00:00:00|209.18999499999998|209.76999500000002|        206.419998|        207.720001|148614900|          26.91211|\n",
      "|2010-01-13 00:00:00|        207.870005|210.92999500000002|        204.099998|        210.650002|151473000|          27.29172|\n",
      "|2010-01-14 00:00:00|210.11000299999998|210.45999700000002|        209.020004|            209.43|108223500|         27.133657|\n",
      "|2010-01-15 00:00:00|210.92999500000002|211.59999700000003|        205.869999|            205.93|148516900|26.680197999999997|\n",
      "+-------------------+------------------+------------------+------------------+------------------+---------+------------------+\n",
      "only showing top 10 rows\n",
      "\n"
     ]
    }
   ],
   "source": [
    "df.show(10)"
   ]
  },
  {
   "cell_type": "code",
   "execution_count": 17,
   "metadata": {},
   "outputs": [
    {
     "data": {
      "text/plain": [
       "[Table(name='appl_stock', database='default', description=None, tableType='MANAGED', isTemporary=False)]"
      ]
     },
     "execution_count": 17,
     "metadata": {},
     "output_type": "execute_result"
    }
   ],
   "source": [
    "spark.catalog.listTables()"
   ]
  },
  {
   "cell_type": "code",
   "execution_count": 18,
   "metadata": {
    "id": "vGFDiqDcLeq7",
    "tags": []
   },
   "outputs": [],
   "source": [
    "# year, month 칼럼 생성\n",
    "\n",
    "df = df.withColumn(\"year\", year(df.Date)) \\\n",
    "    .withColumn(\"month\", month(df.Date))"
   ]
  },
  {
   "cell_type": "code",
   "execution_count": 19,
   "metadata": {
    "colab": {
     "base_uri": "https://localhost:8080/"
    },
    "id": "08wqKxwmxxqp",
    "outputId": "97cc2c11-1d4e-4102-9489-77c3c52f9b2a",
    "tags": []
   },
   "outputs": [
    {
     "data": {
      "text/plain": [
       "DataFrame[]"
      ]
     },
     "execution_count": 19,
     "metadata": {},
     "output_type": "execute_result"
    }
   ],
   "source": [
    "# 아래 문에서 appl_stock를 저장하기 때문에 삭제해준다\n",
    "spark.sql(\"DROP TABLE IF EXISTS appl_stock\")"
   ]
  },
  {
   "cell_type": "code",
   "execution_count": 20,
   "metadata": {
    "id": "wmbJXYQ0LlUB",
    "tags": []
   },
   "outputs": [],
   "source": [
    "# year, month 기준으로 파티셔닝을 해서 저장\n",
    "df.write.partitionBy(\"year\", \"month\").saveAsTable(\"appl_stock\")"
   ]
  },
  {
   "cell_type": "code",
   "execution_count": 21,
   "metadata": {
    "colab": {
     "base_uri": "https://localhost:8080/"
    },
    "id": "z5bWDtHsk7lB",
    "outputId": "057bd2b6-7529-4f5f-9fc8-9f8ba0eaf3e5",
    "tags": []
   },
   "outputs": [
    {
     "name": "stdout",
     "output_type": "stream",
     "text": [
      "total 912\n",
      "drwxr-xr-x 3 jovyan users     96 Jul  6 17:13 spark-warehouse\n",
      "-rw-r--r-- 1 jovyan users  18328 Jul  6 17:13 PySpark_FileSystem_Partitioning.ipynb\n",
      "drwxr-xr-x 9 jovyan users    288 Jul  6 17:07 metastore_db\n",
      "-rw-r--r-- 1 jovyan users    734 Jul  6 17:07 derby.log\n",
      "drwxr-xr-x 7 jovyan users    224 Jul  6 17:05 bucket_partitioning\n",
      "drwxr-xr-x 8 jovyan users    256 Jul  6 15:22 join_broadcast_join\n",
      "drwxr-xr-x 5 jovyan users    160 Jul  6 15:09 wordcount\n",
      "-rw-r--r-- 1 jovyan users  20898 Jul  6 15:09 PySpark_Schema_Evolution.ipynb\n",
      "-rw-r--r-- 1 jovyan users  11503 Jul  6 08:19 PySpark_Write_실습.ipynb\n",
      "drwxr-xr-x 5 jovyan users    160 Jul  6 08:17 dataOutput\n",
      "-rw-r--r-- 1 jovyan users   1640 Jul  4 12:19 bucketDemo.py\n",
      "-rw-r--r-- 1 jovyan users  30374 Jul  4 12:19 PySpark_ML_실습2.ipynb\n",
      "-rw-r--r-- 1 jovyan users  32836 Jul  4 12:19 PySpark_ML_실습1.ipynb\n",
      "-rw-r--r-- 1 jovyan users  71580 Jan 25 22:11 schema3.parquet\n",
      "-rw-r--r-- 1 jovyan users  71580 Jan 25 22:11 schema3.parquet.1\n",
      "-rw-r--r-- 1 jovyan users  49915 Jan 25 22:11 schema1.parquet\n",
      "-rw-r--r-- 1 jovyan users  49915 Jan 25 22:11 schema1.parquet.1\n",
      "-rw-r--r-- 1 jovyan users  57205 Jan 25 22:11 schema2.parquet\n",
      "-rw-r--r-- 1 jovyan users  57205 Jan 25 22:11 schema2.parquet.1\n",
      "-rw-r--r-- 1 jovyan users 143130 Jul  6  2018 appl_stock.csv\n",
      "-rw-r--r-- 1 jovyan users 143130 Jul  6  2018 appl_stock.csv.1\n",
      "-rw-r--r-- 1 jovyan users 143130 Jul  6  2018 appl_stock.csv.2\n"
     ]
    }
   ],
   "source": [
    "!ls -tl "
   ]
  },
  {
   "cell_type": "code",
   "execution_count": 9,
   "metadata": {
    "colab": {
     "base_uri": "https://localhost:8080/"
    },
    "id": "7Ba_I35Ek_Na",
    "outputId": "657c90ad-d8ac-4f08-b070-e9d308ee1865",
    "tags": []
   },
   "outputs": [
    {
     "name": "stdout",
     "output_type": "stream",
     "text": [
      "total 0\n",
      "drwxr-xr-x 11 jovyan users 352 Jul  6 17:07 appl_stock\n"
     ]
    }
   ],
   "source": [
    "!ls -tl spark-warehouse/"
   ]
  },
  {
   "cell_type": "code",
   "execution_count": 10,
   "metadata": {
    "colab": {
     "base_uri": "https://localhost:8080/"
    },
    "id": "gvBbDITnlBQB",
    "outputId": "be62ec04-4f1d-435a-9ce9-69a5efb7228f",
    "tags": []
   },
   "outputs": [
    {
     "name": "stdout",
     "output_type": "stream",
     "text": [
      "total 0\n",
      "-rw-r--r--  1 jovyan users   0 Jul  6 17:07  _SUCCESS\n",
      "drwxr-xr-x 14 jovyan users 448 Jul  6 17:07 'year=2016'\n",
      "drwxr-xr-x 14 jovyan users 448 Jul  6 17:07 'year=2015'\n",
      "drwxr-xr-x 14 jovyan users 448 Jul  6 17:07 'year=2014'\n",
      "drwxr-xr-x 14 jovyan users 448 Jul  6 17:07 'year=2013'\n",
      "drwxr-xr-x 14 jovyan users 448 Jul  6 17:07 'year=2012'\n",
      "drwxr-xr-x 14 jovyan users 448 Jul  6 17:07 'year=2011'\n",
      "drwxr-xr-x 14 jovyan users 448 Jul  6 17:07 'year=2010'\n"
     ]
    }
   ],
   "source": [
    "!ls -tl spark-warehouse/appl_stock/"
   ]
  },
  {
   "cell_type": "code",
   "execution_count": 11,
   "metadata": {
    "colab": {
     "base_uri": "https://localhost:8080/"
    },
    "id": "nBJuOTxrlDIU",
    "outputId": "f52b04b4-01a8-4855-9a00-439cadd045e8",
    "tags": []
   },
   "outputs": [
    {
     "name": "stdout",
     "output_type": "stream",
     "text": [
      "total 0\n",
      "drwxr-xr-x 4 jovyan users 128 Jul  6 17:07 'month=12'\n",
      "drwxr-xr-x 4 jovyan users 128 Jul  6 17:07 'month=11'\n",
      "drwxr-xr-x 4 jovyan users 128 Jul  6 17:07 'month=10'\n",
      "drwxr-xr-x 4 jovyan users 128 Jul  6 17:07 'month=9'\n",
      "drwxr-xr-x 4 jovyan users 128 Jul  6 17:07 'month=8'\n",
      "drwxr-xr-x 4 jovyan users 128 Jul  6 17:07 'month=7'\n",
      "drwxr-xr-x 4 jovyan users 128 Jul  6 17:07 'month=6'\n",
      "drwxr-xr-x 4 jovyan users 128 Jul  6 17:07 'month=5'\n",
      "drwxr-xr-x 4 jovyan users 128 Jul  6 17:07 'month=4'\n",
      "drwxr-xr-x 4 jovyan users 128 Jul  6 17:07 'month=3'\n",
      "drwxr-xr-x 4 jovyan users 128 Jul  6 17:07 'month=2'\n",
      "drwxr-xr-x 4 jovyan users 128 Jul  6 17:07 'month=1'\n"
     ]
    }
   ],
   "source": [
    "!ls -tl spark-warehouse/appl_stock/year\\=2010/"
   ]
  },
  {
   "cell_type": "code",
   "execution_count": 12,
   "metadata": {
    "colab": {
     "base_uri": "https://localhost:8080/"
    },
    "id": "w9KESVaElIik",
    "outputId": "aa310c19-ec79-4275-fbf0-f865388e7f7c",
    "tags": []
   },
   "outputs": [
    {
     "name": "stdout",
     "output_type": "stream",
     "text": [
      "total 4\n",
      "-rw-r--r-- 1 jovyan users 3027 Jul  6 17:07 part-00000-16f22434-ccb8-4395-b4c4-770bce4a5007.c000.snappy.parquet\n"
     ]
    }
   ],
   "source": [
    "!ls -tl spark-warehouse/appl_stock/year\\=2010/month\\=12/"
   ]
  },
  {
   "cell_type": "markdown",
   "metadata": {
    "id": "LEp7sjYlkgs7"
   },
   "source": [
    "### How to Read from Partitioned table"
   ]
  },
  {
   "cell_type": "code",
   "execution_count": 15,
   "metadata": {
    "id": "JssSpbT_kgP9"
   },
   "outputs": [],
   "source": [
    "df = spark.read.table(\"appl_stock\").where(\"year = 2016 and month = 12\")"
   ]
  },
  {
   "cell_type": "code",
   "execution_count": 16,
   "metadata": {
    "colab": {
     "base_uri": "https://localhost:8080/"
    },
    "id": "MVGLhbuZk4RH",
    "outputId": "7e25aec0-f08d-4af5-ecc6-ea59b6c73f3b"
   },
   "outputs": [
    {
     "name": "stdout",
     "output_type": "stream",
     "text": [
      "+-------------------+------------------+------------------+----------+----------+--------+------------------+----+-----+\n",
      "|               Date|              Open|              High|       Low|     Close|  Volume|         Adj Close|year|month|\n",
      "+-------------------+------------------+------------------+----------+----------+--------+------------------+----+-----+\n",
      "|2016-12-01 00:00:00|        110.370003|        110.940002|109.029999|109.489998|37086900|        109.017344|2016|   12|\n",
      "|2016-12-02 00:00:00|109.16999799999999|        110.089996|108.849998|109.900002|26528000|        109.425578|2016|   12|\n",
      "|2016-12-05 00:00:00|             110.0|        110.029999|    108.25|109.110001|34324500|108.63898700000001|2016|   12|\n",
      "|2016-12-06 00:00:00|             109.5|        110.360001|109.190002|109.949997|26195500|109.47535800000001|2016|   12|\n",
      "|2016-12-07 00:00:00|        109.260002|        111.190002|109.160004|111.029999|29998700|        110.550697|2016|   12|\n",
      "|2016-12-08 00:00:00|        110.860001|            112.43|110.599998|112.120003|27068300|111.63599599999999|2016|   12|\n",
      "|2016-12-09 00:00:00|        112.309998|        114.699997|112.309998|113.949997|34402600|113.45808999999998|2016|   12|\n",
      "|2016-12-12 00:00:00|        113.290001|             115.0|112.489998|113.300003|26374400|        112.810902|2016|   12|\n",
      "|2016-12-13 00:00:00|        113.839996|115.91999799999999|    113.75|115.190002|43733800|        114.692743|2016|   12|\n",
      "|2016-12-14 00:00:00|        115.040001|        116.199997|114.980003|115.190002|34031800|        114.692743|2016|   12|\n",
      "+-------------------+------------------+------------------+----------+----------+--------+------------------+----+-----+\n",
      "only showing top 10 rows\n",
      "\n"
     ]
    }
   ],
   "source": [
    "df.show(10)"
   ]
  },
  {
   "cell_type": "code",
   "execution_count": 17,
   "metadata": {
    "colab": {
     "base_uri": "https://localhost:8080/"
    },
    "id": "090C7D5bk5DX",
    "outputId": "6d7c3df3-3e0b-45cb-9964-ea979c739544"
   },
   "outputs": [
    {
     "name": "stdout",
     "output_type": "stream",
     "text": [
      "+-------------------+------------------+------------------+----------+----------+--------+------------------+----+-----+\n",
      "|               Date|              Open|              High|       Low|     Close|  Volume|         Adj Close|year|month|\n",
      "+-------------------+------------------+------------------+----------+----------+--------+------------------+----+-----+\n",
      "|2016-12-01 00:00:00|        110.370003|        110.940002|109.029999|109.489998|37086900|        109.017344|2016|   12|\n",
      "|2016-12-02 00:00:00|109.16999799999999|        110.089996|108.849998|109.900002|26528000|        109.425578|2016|   12|\n",
      "|2016-12-05 00:00:00|             110.0|        110.029999|    108.25|109.110001|34324500|108.63898700000001|2016|   12|\n",
      "|2016-12-06 00:00:00|             109.5|        110.360001|109.190002|109.949997|26195500|109.47535800000001|2016|   12|\n",
      "|2016-12-07 00:00:00|        109.260002|        111.190002|109.160004|111.029999|29998700|        110.550697|2016|   12|\n",
      "|2016-12-08 00:00:00|        110.860001|            112.43|110.599998|112.120003|27068300|111.63599599999999|2016|   12|\n",
      "|2016-12-09 00:00:00|        112.309998|        114.699997|112.309998|113.949997|34402600|113.45808999999998|2016|   12|\n",
      "|2016-12-12 00:00:00|        113.290001|             115.0|112.489998|113.300003|26374400|        112.810902|2016|   12|\n",
      "|2016-12-13 00:00:00|        113.839996|115.91999799999999|    113.75|115.190002|43733800|        114.692743|2016|   12|\n",
      "|2016-12-14 00:00:00|        115.040001|        116.199997|114.980003|115.190002|34031800|        114.692743|2016|   12|\n",
      "+-------------------+------------------+------------------+----------+----------+--------+------------------+----+-----+\n",
      "only showing top 10 rows\n",
      "\n"
     ]
    }
   ],
   "source": [
    "spark.sql(\"SELECT * FROM appl_stock WHERE year = 2016 and month = 12\").show(10)"
   ]
  }
 ],
 "metadata": {
  "colab": {
   "provenance": []
  },
  "kernelspec": {
   "display_name": "Python 3 (ipykernel)",
   "language": "python",
   "name": "python3"
  },
  "language_info": {
   "codemirror_mode": {
    "name": "ipython",
    "version": 3
   },
   "file_extension": ".py",
   "mimetype": "text/x-python",
   "name": "python",
   "nbconvert_exporter": "python",
   "pygments_lexer": "ipython3",
   "version": "3.10.9"
  }
 },
 "nbformat": 4,
 "nbformat_minor": 4
}
