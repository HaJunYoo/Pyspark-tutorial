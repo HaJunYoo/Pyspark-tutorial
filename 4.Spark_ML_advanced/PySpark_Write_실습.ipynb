{
 "cells": [
  {
   "cell_type": "markdown",
   "metadata": {
    "id": "XIA23YgbXKJd"
   },
   "source": [
    "이를 위해 pyspark과 Py4J 패키지를 설치한다. Py4J 패키지는 파이썬 프로그램이 자바가상머신상의 오브젝트들을 접근할 수 있게 해준다. Local Standalone Spark을 사용한다."
   ]
  },
  {
   "cell_type": "code",
   "execution_count": 1,
   "metadata": {
    "colab": {
     "base_uri": "https://localhost:8080/"
    },
    "id": "NbT0rpGfVdiq",
    "outputId": "665ef15a-7a7b-447e-b54d-0794dc9e8ff4"
   },
   "outputs": [
    {
     "name": "stdout",
     "output_type": "stream",
     "text": [
      "Looking in indexes: https://pypi.org/simple, https://us-python.pkg.dev/colab-wheels/public/simple/\n",
      "Collecting pyspark==3.3.1\n",
      "  Downloading pyspark-3.3.1.tar.gz (281.4 MB)\n",
      "\u001b[2K     \u001b[90m━━━━━━━━━━━━━━━━━━━━━━━━━━━━━━━━━━━━━━━\u001b[0m \u001b[32m281.4/281.4 MB\u001b[0m \u001b[31m3.7 MB/s\u001b[0m eta \u001b[36m0:00:00\u001b[0m\n",
      "\u001b[?25h  Preparing metadata (setup.py) ... \u001b[?25l\u001b[?25hdone\n",
      "Collecting py4j==0.10.9.5\n",
      "  Downloading py4j-0.10.9.5-py2.py3-none-any.whl (199 kB)\n",
      "\u001b[2K     \u001b[90m━━━━━━━━━━━━━━━━━━━━━━━━━━━━━━━━━━━━━━━\u001b[0m \u001b[32m199.7/199.7 KB\u001b[0m \u001b[31m9.6 MB/s\u001b[0m eta \u001b[36m0:00:00\u001b[0m\n",
      "\u001b[?25hBuilding wheels for collected packages: pyspark\n",
      "  Building wheel for pyspark (setup.py) ... \u001b[?25l\u001b[?25hdone\n",
      "  Created wheel for pyspark: filename=pyspark-3.3.1-py2.py3-none-any.whl size=281845512 sha256=ab316fa9de4d46b25066dfe942c5c8dce71a511b10beeec1507edf12ac6dab90\n",
      "  Stored in directory: /root/.cache/pip/wheels/43/dc/11/ec201cd671da62fa9c5cc77078235e40722170ceba231d7598\n",
      "Successfully built pyspark\n",
      "Installing collected packages: py4j, pyspark\n",
      "Successfully installed py4j-0.10.9.5 pyspark-3.3.1\n"
     ]
    }
   ],
   "source": [
    "!pip install pyspark==3.3.1 py4j==0.10.9.5 "
   ]
  },
  {
   "cell_type": "markdown",
   "metadata": {
    "id": "Ew_eTGrvXlDw"
   },
   "source": [
    "**Spark Session**을 하나 만든다"
   ]
  },
  {
   "cell_type": "code",
   "execution_count": 1,
   "metadata": {
    "id": "3vm6tgcPXdnR",
    "tags": []
   },
   "outputs": [],
   "source": [
    "from pyspark.sql import *\n",
    "from pyspark.sql.functions import *\n",
    "\n",
    "if __name__ == \"__main__\":\n",
    "    spark = SparkSession \\\n",
    "        .builder \\\n",
    "        .appName(\"Spark Writing Demo\") \\\n",
    "        .master(\"local[3]\") \\\n",
    "        .config(\"spark.jars.packages\", \"org.apache.spark:spark-avro_2.12:3.3.1\") \\\n",
    "        .getOrCreate()"
   ]
  },
  {
   "cell_type": "code",
   "execution_count": 2,
   "metadata": {
    "colab": {
     "base_uri": "https://localhost:8080/"
    },
    "id": "UKrMnuGVK77P",
    "outputId": "5005d713-33e7-400b-ef9e-60af6c32926a",
    "tags": []
   },
   "outputs": [
    {
     "name": "stdout",
     "output_type": "stream",
     "text": [
      "--2023-07-06 08:11:23--  https://pyspark-test-sj.s3.us-west-2.amazonaws.com/appl_stock.csv\n",
      "Resolving pyspark-test-sj.s3.us-west-2.amazonaws.com (pyspark-test-sj.s3.us-west-2.amazonaws.com)... 52.92.163.234, 52.218.153.97, 52.92.129.106, ...\n",
      "Connecting to pyspark-test-sj.s3.us-west-2.amazonaws.com (pyspark-test-sj.s3.us-west-2.amazonaws.com)|52.92.163.234|:443... connected.\n",
      "HTTP request sent, awaiting response... 200 OK\n",
      "Length: 143130 (140K) [text/csv]\n",
      "Saving to: ‘appl_stock.csv’\n",
      "\n",
      "appl_stock.csv      100%[===================>] 139.78K   436KB/s    in 0.3s    \n",
      "\n",
      "2023-07-06 08:11:24 (436 KB/s) - ‘appl_stock.csv’ saved [143130/143130]\n",
      "\n"
     ]
    }
   ],
   "source": [
    "!wget https://pyspark-test-sj.s3.us-west-2.amazonaws.com/appl_stock.csv"
   ]
  },
  {
   "cell_type": "code",
   "execution_count": 3,
   "metadata": {
    "id": "3ZhdS0i7LZEc",
    "tags": []
   },
   "outputs": [],
   "source": [
    "df = spark.read \\\n",
    "    .format(\"csv\") \\\n",
    "    .load(\"appl_stock.csv\")"
   ]
  },
  {
   "cell_type": "code",
   "execution_count": 4,
   "metadata": {
    "colab": {
     "base_uri": "https://localhost:8080/"
    },
    "id": "7g56ZGQKkRBm",
    "outputId": "fa4c5b36-b9db-4e5a-88b0-e6272a98b4b1",
    "tags": []
   },
   "outputs": [
    {
     "name": "stdout",
     "output_type": "stream",
     "text": [
      "Num Partitions before: 1\n",
      "+--------------------+-----+\n",
      "|SPARK_PARTITION_ID()|count|\n",
      "+--------------------+-----+\n",
      "|                   0| 1763|\n",
      "+--------------------+-----+\n",
      "\n"
     ]
    }
   ],
   "source": [
    "print(\"Num Partitions before: \" + str(df.rdd.getNumPartitions()))\n",
    "df.groupBy(spark_partition_id()).count().show()"
   ]
  },
  {
   "cell_type": "code",
   "execution_count": 5,
   "metadata": {
    "colab": {
     "base_uri": "https://localhost:8080/"
    },
    "id": "aej8p-pXDLUR",
    "outputId": "18eba7d6-a6ce-4e08-ca5f-9de943c5146b",
    "tags": []
   },
   "outputs": [
    {
     "name": "stdout",
     "output_type": "stream",
     "text": [
      "Num Partitions after: 4\n",
      "+--------------------+-----+\n",
      "|SPARK_PARTITION_ID()|count|\n",
      "+--------------------+-----+\n",
      "|                   0|  440|\n",
      "|                   1|  441|\n",
      "|                   2|  441|\n",
      "|                   3|  441|\n",
      "+--------------------+-----+\n",
      "\n"
     ]
    }
   ],
   "source": [
    "df2 = df.repartition(4) # 파티션 수 재조정\n",
    "print(\"Num Partitions after: \" + str(df2.rdd.getNumPartitions()))\n",
    "df2.groupBy(spark_partition_id()).count().show()"
   ]
  },
  {
   "cell_type": "code",
   "execution_count": 6,
   "metadata": {
    "colab": {
     "base_uri": "https://localhost:8080/"
    },
    "id": "fu7BluXqZNI5",
    "outputId": "91f68daf-fc9a-4f53-f563-c8da46e189d3",
    "tags": []
   },
   "outputs": [
    {
     "name": "stdout",
     "output_type": "stream",
     "text": [
      "Num Partitions after: 2\n",
      "+--------------------+-----+\n",
      "|SPARK_PARTITION_ID()|count|\n",
      "+--------------------+-----+\n",
      "|                   0|  881|\n",
      "|                   1|  882|\n",
      "+--------------------+-----+\n",
      "\n"
     ]
    }
   ],
   "source": [
    "df3 = df2.coalesce(2) # 파티션 수를 줄이는 역활\n",
    "print(\"Num Partitions after: \" + str(df3.rdd.getNumPartitions()))\n",
    "df3.groupBy(spark_partition_id()).count().show()"
   ]
  },
  {
   "cell_type": "code",
   "execution_count": 17,
   "metadata": {
    "id": "I9O63IczT1uf",
    "tags": []
   },
   "outputs": [],
   "source": [
    "df.write \\\n",
    "    .format(\"avro\") \\\n",
    "    .mode(\"overwrite\") \\\n",
    "    .option(\"path\", \"dataOutput/avro/\") \\\n",
    "    .save()"
   ]
  },
  {
   "cell_type": "code",
   "execution_count": 18,
   "metadata": {
    "id": "T9IeT7ebT-dH",
    "tags": []
   },
   "outputs": [],
   "source": [
    "df2.write \\\n",
    "    .format(\"parquet\") \\\n",
    "    .mode(\"overwrite\") \\\n",
    "    .option(\"path\", \"dataOutput/parquet/\") \\\n",
    "    .save()"
   ]
  },
  {
   "cell_type": "code",
   "execution_count": 19,
   "metadata": {
    "id": "ukCfK1vaZaTN",
    "tags": []
   },
   "outputs": [],
   "source": [
    "df3.write \\\n",
    "    .format(\"json\") \\\n",
    "    .mode(\"overwrite\") \\\n",
    "    .option(\"path\", \"dataOutput/json/\") \\\n",
    "    .save()"
   ]
  },
  {
   "cell_type": "code",
   "execution_count": 20,
   "metadata": {
    "colab": {
     "base_uri": "https://localhost:8080/"
    },
    "id": "dmZzZFhOWQX-",
    "outputId": "0f119662-abe1-464b-d543-3b766c246c80",
    "tags": []
   },
   "outputs": [
    {
     "name": "stdout",
     "output_type": "stream",
     "text": [
      "total 0\n",
      "drwxr-xr-x  8 jovyan users 256 Jul  6 08:17 json\n",
      "drwxr-xr-x 12 jovyan users 384 Jul  6 08:17 parquet\n",
      "drwxr-xr-x  6 jovyan users 192 Jul  6 08:17 avro\n"
     ]
    }
   ],
   "source": [
    "!ls -tl dataOutput/"
   ]
  },
  {
   "cell_type": "code",
   "execution_count": 21,
   "metadata": {
    "colab": {
     "base_uri": "https://localhost:8080/"
    },
    "id": "gtwnnfpEWTck",
    "outputId": "739aa2f8-da9c-4dfc-95f3-d551e5c4689b",
    "tags": []
   },
   "outputs": [
    {
     "name": "stdout",
     "output_type": "stream",
     "text": [
      "total 112\n",
      "-rw-r--r-- 1 jovyan users     0 Jul  6 08:17 _SUCCESS\n",
      "-rw-r--r-- 1 jovyan users 28024 Jul  6 08:17 part-00003-c02ecb4a-f42c-4126-ab1d-1871cf30698b-c000.snappy.parquet\n",
      "-rw-r--r-- 1 jovyan users 28069 Jul  6 08:17 part-00002-c02ecb4a-f42c-4126-ab1d-1871cf30698b-c000.snappy.parquet\n",
      "-rw-r--r-- 1 jovyan users 27833 Jul  6 08:17 part-00000-c02ecb4a-f42c-4126-ab1d-1871cf30698b-c000.snappy.parquet\n",
      "-rw-r--r-- 1 jovyan users 27787 Jul  6 08:17 part-00001-c02ecb4a-f42c-4126-ab1d-1871cf30698b-c000.snappy.parquet\n"
     ]
    }
   ],
   "source": [
    "!ls -tl dataOutput/parquet/"
   ]
  },
  {
   "cell_type": "code",
   "execution_count": 22,
   "metadata": {
    "colab": {
     "base_uri": "https://localhost:8080/"
    },
    "id": "_EVWKay0WWOp",
    "outputId": "66b392d0-9449-48ff-f98f-d801fd92cdd9",
    "tags": []
   },
   "outputs": [
    {
     "name": "stdout",
     "output_type": "stream",
     "text": [
      "total 88\n",
      "-rw-r--r-- 1 jovyan users     0 Jul  6 08:17 _SUCCESS\n",
      "-rw-r--r-- 1 jovyan users 89029 Jul  6 08:17 part-00000-02c960af-589b-4a06-8281-bae1884a68c8-c000.avro\n"
     ]
    }
   ],
   "source": [
    "!ls -tl dataOutput/avro/"
   ]
  },
  {
   "cell_type": "code",
   "execution_count": 23,
   "metadata": {
    "colab": {
     "base_uri": "https://localhost:8080/"
    },
    "id": "8w6Y74vaWYSl",
    "outputId": "54636768-964c-4d4d-bbef-b9c86965df5e",
    "tags": []
   },
   "outputs": [
    {
     "name": "stdout",
     "output_type": "stream",
     "text": [
      "total 240\n",
      "-rw-r--r-- 1 jovyan users      0 Jul  6 08:17 _SUCCESS\n",
      "-rw-r--r-- 1 jovyan users 122570 Jul  6 08:17 part-00000-e9008506-50b0-4c8b-8ab8-4c0102b3a9c0-c000.json\n",
      "-rw-r--r-- 1 jovyan users 122814 Jul  6 08:17 part-00001-e9008506-50b0-4c8b-8ab8-4c0102b3a9c0-c000.json\n"
     ]
    }
   ],
   "source": [
    "!ls -tl dataOutput/json/"
   ]
  },
  {
   "cell_type": "code",
   "execution_count": null,
   "metadata": {
    "id": "S-KacOeGbVAa"
   },
   "outputs": [],
   "source": []
  }
 ],
 "metadata": {
  "colab": {
   "provenance": []
  },
  "kernelspec": {
   "display_name": "Python 3 (ipykernel)",
   "language": "python",
   "name": "python3"
  },
  "language_info": {
   "codemirror_mode": {
    "name": "ipython",
    "version": 3
   },
   "file_extension": ".py",
   "mimetype": "text/x-python",
   "name": "python",
   "nbconvert_exporter": "python",
   "pygments_lexer": "ipython3",
   "version": "3.10.9"
  }
 },
 "nbformat": 4,
 "nbformat_minor": 4
}
