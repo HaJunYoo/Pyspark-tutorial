{
  "nbformat": 4,
  "nbformat_minor": 0,
  "metadata": {
    "colab": {
      "provenance": [],
      "collapsed_sections": [
        "LoCk7SgRrFuP",
        "QkvG7CGo1BgF",
        "YV16sPAT04lt",
        "cdANBnd70u-E",
        "ziIgaC_cXx8S",
        "1bbYGM8MX3zO",
        "9nO5mhnwPozH",
        "uBXdq3jqPwur"
      ]
    },
    "kernelspec": {
      "name": "python3",
      "display_name": "Python 3"
    }
  },
  "cells": [
    {
      "cell_type": "markdown",
      "metadata": {
        "id": "XIA23YgbXKJd"
      },
      "source": [
        "이를 위해 pyspark과 Py4J 패키지를 설치한다. Py4J 패키지는 파이썬 프로그램이 자바가상머신상의 오브젝트들을 접근할 수 있게 해준다. Local Standalone Spark을 사용한다."
      ]
    },
    {
      "cell_type": "code",
      "metadata": {
        "colab": {
          "base_uri": "https://localhost:8080/"
        },
        "id": "NbT0rpGfVdiq",
        "outputId": "11901df2-fe38-4471-985e-0106df11dbf0"
      },
      "source": [
        "!pip install pyspark==3.3.1 py4j==0.10.9.5 "
      ],
      "execution_count": 1,
      "outputs": [
        {
          "output_type": "stream",
          "name": "stdout",
          "text": [
            "Looking in indexes: https://pypi.org/simple, https://us-python.pkg.dev/colab-wheels/public/simple/\n",
            "Collecting pyspark==3.3.1\n",
            "  Downloading pyspark-3.3.1.tar.gz (281.4 MB)\n",
            "\u001b[2K     \u001b[90m━━━━━━━━━━━━━━━━━━━━━━━━━━━━━━━━━━━━━━━\u001b[0m \u001b[32m281.4/281.4 MB\u001b[0m \u001b[31m4.3 MB/s\u001b[0m eta \u001b[36m0:00:00\u001b[0m\n",
            "\u001b[?25h  Preparing metadata (setup.py) ... \u001b[?25l\u001b[?25hdone\n",
            "Collecting py4j==0.10.9.5\n",
            "  Downloading py4j-0.10.9.5-py2.py3-none-any.whl (199 kB)\n",
            "\u001b[2K     \u001b[90m━━━━━━━━━━━━━━━━━━━━━━━━━━━━━━━━━━━━━━\u001b[0m \u001b[32m199.7/199.7 KB\u001b[0m \u001b[31m10.4 MB/s\u001b[0m eta \u001b[36m0:00:00\u001b[0m\n",
            "\u001b[?25hBuilding wheels for collected packages: pyspark\n",
            "  Building wheel for pyspark (setup.py) ... \u001b[?25l\u001b[?25hdone\n",
            "  Created wheel for pyspark: filename=pyspark-3.3.1-py2.py3-none-any.whl size=281845512 sha256=f442d742d67948ded05f6658d3a3d92f2954fcf387f0da9699c3c5d64b560021\n",
            "  Stored in directory: /root/.cache/pip/wheels/43/dc/11/ec201cd671da62fa9c5cc77078235e40722170ceba231d7598\n",
            "Successfully built pyspark\n",
            "Installing collected packages: py4j, pyspark\n",
            "Successfully installed py4j-0.10.9.5 pyspark-3.3.1\n"
          ]
        }
      ]
    },
    {
      "cell_type": "code",
      "source": [
        "!wget https://s3-geospatial.s3.us-west-2.amazonaws.com/orders.csv"
      ],
      "metadata": {
        "colab": {
          "base_uri": "https://localhost:8080/"
        },
        "id": "1Iu9l5k_E2ih",
        "outputId": "bac68e19-9910-4aac-e511-7a2c3e26663f"
      },
      "execution_count": 2,
      "outputs": [
        {
          "output_type": "stream",
          "name": "stdout",
          "text": [
            "--2023-01-24 02:44:33--  https://s3-geospatial.s3.us-west-2.amazonaws.com/orders.csv\n",
            "Resolving s3-geospatial.s3.us-west-2.amazonaws.com (s3-geospatial.s3.us-west-2.amazonaws.com)... 52.218.224.185, 3.5.84.112, 52.92.132.122, ...\n",
            "Connecting to s3-geospatial.s3.us-west-2.amazonaws.com (s3-geospatial.s3.us-west-2.amazonaws.com)|52.218.224.185|:443... connected.\n",
            "HTTP request sent, awaiting response... 200 OK\n",
            "Length: 89951 (88K) [text/csv]\n",
            "Saving to: ‘orders.csv’\n",
            "\n",
            "orders.csv          100%[===================>]  87.84K  --.-KB/s    in 0.08s   \n",
            "\n",
            "2023-01-24 02:44:33 (1.09 MB/s) - ‘orders.csv’ saved [89951/89951]\n",
            "\n"
          ]
        }
      ]
    },
    {
      "cell_type": "markdown",
      "metadata": {
        "id": "Ew_eTGrvXlDw"
      },
      "source": [
        "**Spark Session** "
      ]
    },
    {
      "cell_type": "code",
      "metadata": {
        "id": "3vm6tgcPXdnR"
      },
      "source": [
        "from pyspark.sql import SparkSession\n",
        "\n",
        "spark = SparkSession \\\n",
        "    .builder \\\n",
        "    .appName(\"Python Spark Hive\") \\\n",
        "    .enableHiveSupport() \\\n",
        "    .getOrCreate()"
      ],
      "execution_count": 3,
      "outputs": []
    },
    {
      "cell_type": "code",
      "source": [
        "!ls -tl"
      ],
      "metadata": {
        "colab": {
          "base_uri": "https://localhost:8080/"
        },
        "id": "xbMEqdtjhSaH",
        "outputId": "625a1ecb-bf97-45b1-8fa9-7da258d056b9"
      },
      "execution_count": 4,
      "outputs": [
        {
          "output_type": "stream",
          "name": "stdout",
          "text": [
            "total 92\n",
            "drwxr-xr-x 1 root root  4096 Jan 20 14:35 sample_data\n",
            "-rw-r--r-- 1 root root 89951 Apr 24  2022 orders.csv\n"
          ]
        }
      ]
    },
    {
      "cell_type": "code",
      "source": [
        "# Read in data and create a DataFrame\n",
        "df = spark.read.csv(\"orders.csv\", inferSchema=True, header=True, sep ='\\t')"
      ],
      "metadata": {
        "id": "AT05iUsDEZgO"
      },
      "execution_count": 5,
      "outputs": []
    },
    {
      "cell_type": "code",
      "source": [
        "df.show(5)"
      ],
      "metadata": {
        "colab": {
          "base_uri": "https://localhost:8080/"
        },
        "id": "ZwUYSreyhOvf",
        "outputId": "d350fe85-002d-47a3-99fe-c6f8bf8083f2"
      },
      "execution_count": 6,
      "outputs": [
        {
          "output_type": "stream",
          "name": "stdout",
          "text": [
            "+------------+--------------------+\n",
            "|    order_id|               items|\n",
            "+------------+--------------------+\n",
            "|860196503764|[{\"name\": \"DAILY ...|\n",
            "|860292645076|[{\"name\": \"DAILY ...|\n",
            "|860320956628|[{\"name\": \"DAILY ...|\n",
            "|860321513684|[{\"name\": \"DAILY ...|\n",
            "|862930665684|[{\"name\": \"DAILY ...|\n",
            "+------------+--------------------+\n",
            "only showing top 5 rows\n",
            "\n"
          ]
        }
      ]
    },
    {
      "cell_type": "code",
      "source": [
        "spark.sql(\"CREATE DATABASE IF NOT EXISTS TEST_DB\")\n",
        "spark.sql(\"USE TEST_DB\")"
      ],
      "metadata": {
        "id": "jL9To7qyu2mL",
        "colab": {
          "base_uri": "https://localhost:8080/"
        },
        "outputId": "070f7bf2-dfed-41e7-cac2-f5dfb25eef3d"
      },
      "execution_count": 8,
      "outputs": [
        {
          "output_type": "execute_result",
          "data": {
            "text/plain": [
              "DataFrame[]"
            ]
          },
          "metadata": {},
          "execution_count": 8
        }
      ]
    },
    {
      "cell_type": "code",
      "source": [
        "spark.sql(\"SHOW DATABASES\").show()"
      ],
      "metadata": {
        "colab": {
          "base_uri": "https://localhost:8080/"
        },
        "id": "pA8GQM-aZj4c",
        "outputId": "375e633c-2df1-4396-ec75-63dd1ae10f50"
      },
      "execution_count": 9,
      "outputs": [
        {
          "output_type": "stream",
          "name": "stdout",
          "text": [
            "+---------+\n",
            "|namespace|\n",
            "+---------+\n",
            "|  default|\n",
            "|  test_db|\n",
            "+---------+\n",
            "\n"
          ]
        }
      ]
    },
    {
      "cell_type": "code",
      "source": [
        "!ls -tl"
      ],
      "metadata": {
        "colab": {
          "base_uri": "https://localhost:8080/"
        },
        "id": "yM26NrabhVPw",
        "outputId": "086d2ea5-24c7-42ee-e310-54ae4b8c4263"
      },
      "execution_count": 10,
      "outputs": [
        {
          "output_type": "stream",
          "name": "stdout",
          "text": [
            "total 104\n",
            "drwxr-xr-x 3 root root  4096 Jan 24 02:47 spark-warehouse\n",
            "drwxr-xr-x 5 root root  4096 Jan 24 02:45 metastore_db\n",
            "-rw-r--r-- 1 root root   670 Jan 24 02:45 derby.log\n",
            "drwxr-xr-x 1 root root  4096 Jan 20 14:35 sample_data\n",
            "-rw-r--r-- 1 root root 89951 Apr 24  2022 orders.csv\n"
          ]
        }
      ]
    },
    {
      "cell_type": "code",
      "source": [
        "df.write.saveAsTable(\"TEST_DB.orders\", mode=\"overwrite\")"
      ],
      "metadata": {
        "id": "_FzT1klth3St"
      },
      "execution_count": 11,
      "outputs": []
    },
    {
      "cell_type": "code",
      "source": [
        "!ls -tl spark-warehouse/test_db.db/orders/"
      ],
      "metadata": {
        "colab": {
          "base_uri": "https://localhost:8080/"
        },
        "id": "S2akh9ojh8px",
        "outputId": "5fd3850b-55b4-41e4-f9c7-aa43a799f260"
      },
      "execution_count": 12,
      "outputs": [
        {
          "output_type": "stream",
          "name": "stdout",
          "text": [
            "total 24\n",
            "-rw-r--r-- 1 root root     0 Jan 24 02:48 _SUCCESS\n",
            "-rw-r--r-- 1 root root 23051 Jan 24 02:48 part-00000-f4ed8af4-1a11-4b9a-bfeb-148f61db75a8-c000.snappy.parquet\n"
          ]
        }
      ]
    },
    {
      "cell_type": "code",
      "source": [
        "spark.sql(\"SELECT * FROM TEST_DB.orders\").show(5)"
      ],
      "metadata": {
        "colab": {
          "base_uri": "https://localhost:8080/"
        },
        "id": "vk_bSxqkFC7Y",
        "outputId": "277a8d1f-8ca7-48d7-a9ce-ce5c4ffa5a74"
      },
      "execution_count": 13,
      "outputs": [
        {
          "output_type": "stream",
          "name": "stdout",
          "text": [
            "+------------+--------------------+\n",
            "|    order_id|               items|\n",
            "+------------+--------------------+\n",
            "|860196503764|[{\"name\": \"DAILY ...|\n",
            "|860292645076|[{\"name\": \"DAILY ...|\n",
            "|860320956628|[{\"name\": \"DAILY ...|\n",
            "|860321513684|[{\"name\": \"DAILY ...|\n",
            "|862930665684|[{\"name\": \"DAILY ...|\n",
            "+------------+--------------------+\n",
            "only showing top 5 rows\n",
            "\n"
          ]
        }
      ]
    },
    {
      "cell_type": "code",
      "source": [
        "spark.table(\"TEST_DB.orders\").show(5)"
      ],
      "metadata": {
        "colab": {
          "base_uri": "https://localhost:8080/"
        },
        "id": "1WBmG-TNFIu7",
        "outputId": "cb23c8d3-a1b4-4049-8d70-95582004a8c4"
      },
      "execution_count": 14,
      "outputs": [
        {
          "output_type": "stream",
          "name": "stdout",
          "text": [
            "+------------+--------------------+\n",
            "|    order_id|               items|\n",
            "+------------+--------------------+\n",
            "|860196503764|[{\"name\": \"DAILY ...|\n",
            "|860292645076|[{\"name\": \"DAILY ...|\n",
            "|860320956628|[{\"name\": \"DAILY ...|\n",
            "|860321513684|[{\"name\": \"DAILY ...|\n",
            "|862930665684|[{\"name\": \"DAILY ...|\n",
            "+------------+--------------------+\n",
            "only showing top 5 rows\n",
            "\n"
          ]
        }
      ]
    },
    {
      "cell_type": "code",
      "source": [
        "!ls -tl metastore_db/"
      ],
      "metadata": {
        "colab": {
          "base_uri": "https://localhost:8080/"
        },
        "id": "ULtPpbXgF27m",
        "outputId": "bd159ba9-1590-4632-8ac5-7d4bf6501c1b"
      },
      "execution_count": 15,
      "outputs": [
        {
          "output_type": "stream",
          "name": "stdout",
          "text": [
            "total 28\n",
            "drwxr-xr-x 2 root root 4096 Jan 24 02:49 seg0\n",
            "-rw-r--r-- 1 root root  900 Jan 24 02:45 service.properties\n",
            "-rw-r--r-- 1 root root  608 Jan 24 02:45 README_DO_NOT_TOUCH_FILES.txt\n",
            "drwxr-xr-x 2 root root 4096 Jan 24 02:45 log\n",
            "-rw-r--r-- 1 root root   38 Jan 24 02:45 db.lck\n",
            "-rw-r--r-- 1 root root    4 Jan 24 02:45 dbex.lck\n",
            "drwxr-xr-x 2 root root 4096 Jan 24 02:45 tmp\n"
          ]
        }
      ]
    },
    {
      "cell_type": "code",
      "source": [
        "spark.catalog.listTables()"
      ],
      "metadata": {
        "id": "HFE9zkakGA55",
        "colab": {
          "base_uri": "https://localhost:8080/"
        },
        "outputId": "fed66300-78d5-44cb-8317-af7830196cb3"
      },
      "execution_count": 16,
      "outputs": [
        {
          "output_type": "execute_result",
          "data": {
            "text/plain": [
              "[Table(name='orders', database='test_db', description=None, tableType='MANAGED', isTemporary=False)]"
            ]
          },
          "metadata": {},
          "execution_count": 16
        }
      ]
    },
    {
      "cell_type": "code",
      "source": [
        "spark.sql(\"\"\"\n",
        "    DROP TABLE IF EXISTS TEST_DB.orders_count;\n",
        "\"\"\")"
      ],
      "metadata": {
        "colab": {
          "base_uri": "https://localhost:8080/"
        },
        "id": "WYqTUySXif_H",
        "outputId": "7a4d2069-cc0f-407e-e7d1-77df45e016cf"
      },
      "execution_count": 17,
      "outputs": [
        {
          "output_type": "execute_result",
          "data": {
            "text/plain": [
              "DataFrame[]"
            ]
          },
          "metadata": {},
          "execution_count": 17
        }
      ]
    },
    {
      "cell_type": "code",
      "source": [
        "spark.sql(\"\"\"\n",
        "    CREATE TABLE TEST_DB.orders_count AS \n",
        "    SELECT order_id, COUNT(1) as count \n",
        "    FROM TEST_DB.orders\n",
        "    GROUP BY 1\"\"\")"
      ],
      "metadata": {
        "colab": {
          "base_uri": "https://localhost:8080/"
        },
        "id": "_zy1yzp9jUmQ",
        "outputId": "297f740c-2e9c-4aae-cad8-c77ea90e2138"
      },
      "execution_count": 18,
      "outputs": [
        {
          "output_type": "execute_result",
          "data": {
            "text/plain": [
              "DataFrame[]"
            ]
          },
          "metadata": {},
          "execution_count": 18
        }
      ]
    },
    {
      "cell_type": "code",
      "source": [
        "spark.catalog.listTables()"
      ],
      "metadata": {
        "colab": {
          "base_uri": "https://localhost:8080/"
        },
        "id": "jVSEuePEiyYW",
        "outputId": "a267b7bf-4f2e-42de-b0c6-da0646a9a4c2"
      },
      "execution_count": 19,
      "outputs": [
        {
          "output_type": "execute_result",
          "data": {
            "text/plain": [
              "[Table(name='orders', database='test_db', description=None, tableType='MANAGED', isTemporary=False),\n",
              " Table(name='orders_count', database='test_db', description=None, tableType='MANAGED', isTemporary=False)]"
            ]
          },
          "metadata": {},
          "execution_count": 19
        }
      ]
    },
    {
      "cell_type": "code",
      "source": [
        "!ls -tl spark-warehouse/test_db.db/"
      ],
      "metadata": {
        "colab": {
          "base_uri": "https://localhost:8080/"
        },
        "id": "LgplGelhi0hq",
        "outputId": "a2a3ed5f-e2ee-4893-f1ef-4644164c2bec"
      },
      "execution_count": 20,
      "outputs": [
        {
          "output_type": "stream",
          "name": "stdout",
          "text": [
            "total 8\n",
            "drwxr-xr-x 2 root root 4096 Jan 24 02:52 orders_count\n",
            "drwxr-xr-x 2 root root 4096 Jan 24 02:49 orders\n"
          ]
        }
      ]
    },
    {
      "cell_type": "code",
      "source": [
        "spark.sql(\"SELECT * FROM test_db.orders_count LIMIT 10\").show()"
      ],
      "metadata": {
        "colab": {
          "base_uri": "https://localhost:8080/"
        },
        "id": "pGcE_5LXi4zj",
        "outputId": "7638fb4e-fae2-48da-e866-77b8ab3531d3"
      },
      "execution_count": 21,
      "outputs": [
        {
          "output_type": "stream",
          "name": "stdout",
          "text": [
            "+-------------+-----+\n",
            "|     order_id|count|\n",
            "+-------------+-----+\n",
            "|1209310019796|    1|\n",
            "|1253925257428|    1|\n",
            "|1314797846740|    1|\n",
            "|1370637402324|    1|\n",
            "|1967690285268|    1|\n",
            "|1971226443988|    1|\n",
            "|2106987970772|    1|\n",
            "|2135281533140|    1|\n",
            "|1271771070676|    1|\n",
            "|1713331765460|    1|\n",
            "+-------------+-----+\n",
            "\n"
          ]
        }
      ]
    },
    {
      "cell_type": "code",
      "source": [],
      "metadata": {
        "id": "9D0FCc86ZfOG"
      },
      "execution_count": null,
      "outputs": []
    }
  ]
}