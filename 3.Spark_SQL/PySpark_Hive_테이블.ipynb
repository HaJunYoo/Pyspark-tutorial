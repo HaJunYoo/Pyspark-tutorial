{
 "cells": [
  {
   "cell_type": "markdown",
   "metadata": {
    "id": "XIA23YgbXKJd"
   },
   "source": [
    "이를 위해 pyspark과 Py4J 패키지를 설치한다. Py4J 패키지는 파이썬 프로그램이 자바가상머신상의 오브젝트들을 접근할 수 있게 해준다. Local Standalone Spark을 사용한다."
   ]
  },
  {
   "cell_type": "code",
   "execution_count": 1,
   "metadata": {
    "colab": {
     "base_uri": "https://localhost:8080/"
    },
    "id": "NbT0rpGfVdiq",
    "outputId": "11901df2-fe38-4471-985e-0106df11dbf0"
   },
   "outputs": [
    {
     "name": "stdout",
     "output_type": "stream",
     "text": [
      "Looking in indexes: https://pypi.org/simple, https://us-python.pkg.dev/colab-wheels/public/simple/\n",
      "Collecting pyspark==3.3.1\n",
      "  Downloading pyspark-3.3.1.tar.gz (281.4 MB)\n",
      "\u001b[2K     \u001b[90m━━━━━━━━━━━━━━━━━━━━━━━━━━━━━━━━━━━━━━━\u001b[0m \u001b[32m281.4/281.4 MB\u001b[0m \u001b[31m4.3 MB/s\u001b[0m eta \u001b[36m0:00:00\u001b[0m\n",
      "\u001b[?25h  Preparing metadata (setup.py) ... \u001b[?25l\u001b[?25hdone\n",
      "Collecting py4j==0.10.9.5\n",
      "  Downloading py4j-0.10.9.5-py2.py3-none-any.whl (199 kB)\n",
      "\u001b[2K     \u001b[90m━━━━━━━━━━━━━━━━━━━━━━━━━━━━━━━━━━━━━━\u001b[0m \u001b[32m199.7/199.7 KB\u001b[0m \u001b[31m10.4 MB/s\u001b[0m eta \u001b[36m0:00:00\u001b[0m\n",
      "\u001b[?25hBuilding wheels for collected packages: pyspark\n",
      "  Building wheel for pyspark (setup.py) ... \u001b[?25l\u001b[?25hdone\n",
      "  Created wheel for pyspark: filename=pyspark-3.3.1-py2.py3-none-any.whl size=281845512 sha256=f442d742d67948ded05f6658d3a3d92f2954fcf387f0da9699c3c5d64b560021\n",
      "  Stored in directory: /root/.cache/pip/wheels/43/dc/11/ec201cd671da62fa9c5cc77078235e40722170ceba231d7598\n",
      "Successfully built pyspark\n",
      "Installing collected packages: py4j, pyspark\n",
      "Successfully installed py4j-0.10.9.5 pyspark-3.3.1\n"
     ]
    }
   ],
   "source": [
    "!pip install pyspark==3.3.1 py4j==0.10.9.5 "
   ]
  },
  {
   "cell_type": "code",
   "execution_count": 1,
   "metadata": {
    "colab": {
     "base_uri": "https://localhost:8080/"
    },
    "id": "1Iu9l5k_E2ih",
    "outputId": "bac68e19-9910-4aac-e511-7a2c3e26663f",
    "tags": []
   },
   "outputs": [
    {
     "name": "stdout",
     "output_type": "stream",
     "text": [
      "--2023-07-06 06:33:27--  https://s3-geospatial.s3.us-west-2.amazonaws.com/orders.csv\n",
      "Resolving s3-geospatial.s3.us-west-2.amazonaws.com (s3-geospatial.s3.us-west-2.amazonaws.com)... 3.5.81.139, 52.92.131.66, 3.5.80.151, ...\n",
      "Connecting to s3-geospatial.s3.us-west-2.amazonaws.com (s3-geospatial.s3.us-west-2.amazonaws.com)|3.5.81.139|:443... connected.\n",
      "HTTP request sent, awaiting response... 200 OK\n",
      "Length: 89951 (88K) [text/csv]\n",
      "Saving to: ‘orders.csv.2’\n",
      "\n",
      "orders.csv.2        100%[===================>]  87.84K   283KB/s    in 0.3s    \n",
      "\n",
      "2023-07-06 06:33:28 (283 KB/s) - ‘orders.csv.2’ saved [89951/89951]\n",
      "\n"
     ]
    }
   ],
   "source": [
    "!wget https://s3-geospatial.s3.us-west-2.amazonaws.com/orders.csv"
   ]
  },
  {
   "cell_type": "markdown",
   "metadata": {
    "id": "Ew_eTGrvXlDw"
   },
   "source": [
    "**Spark Session** "
   ]
  },
  {
   "cell_type": "code",
   "execution_count": 2,
   "metadata": {
    "id": "3vm6tgcPXdnR",
    "tags": []
   },
   "outputs": [],
   "source": [
    "from pyspark.sql import SparkSession\n",
    "\n",
    "spark = SparkSession \\\n",
    "    .builder \\\n",
    "    .appName(\"Python Spark Hive\") \\\n",
    "    .enableHiveSupport() \\\n",
    "    .getOrCreate()"
   ]
  },
  {
   "cell_type": "code",
   "execution_count": 3,
   "metadata": {
    "colab": {
     "base_uri": "https://localhost:8080/"
    },
    "id": "xbMEqdtjhSaH",
    "outputId": "625a1ecb-bf97-45b1-8fa9-7da258d056b9",
    "tags": []
   },
   "outputs": [
    {
     "name": "stdout",
     "output_type": "stream",
     "text": [
      "total 428\n",
      "-rw-r--r-- 1 jovyan users 15488 Jul  6 05:53 PySpark_Hive_테이블.ipynb\n",
      "-rw-r--r-- 1 jovyan users 22980 Jul  6 05:51 PySpark_SQL_월별_채널별_매출과_방문자_정보.ipynb\n",
      "-rw-r--r-- 1 jovyan users 20718 Jul  6 05:50 PySpark_SQL_사용자별로_처음_채널과_마지막_채널_알아내기.ipynb\n",
      "-rw-r--r-- 1 jovyan users 24221 Jul  6 03:43 PySpark_SQL_총_매출이_가장_많은_사용자_10명_찾기.ipynb\n",
      "-rw-r--r-- 1 jovyan users 23582 Jul  5 14:03 PySpark_SQL_JOIN.ipynb\n",
      "-rw-r--r-- 1 jovyan users 31980 Jul  5 12:45 PySpark_UDF.ipynb\n",
      "drwxr-xr-x 2 jovyan users    64 Jul  5 12:42 spark-warehouse\n",
      "drwxr-xr-x 5 jovyan users   160 Jul  5 01:40 unittest\n",
      "-rw-r--r-- 1 jovyan users 17509 Jul  4 12:19 PySpark_유닛_테스트.ipynb\n",
      "-rw-r--r-- 1 jovyan users 89951 Apr 24  2022 orders.csv\n",
      "-rw-r--r-- 1 jovyan users 89951 Apr 24  2022 orders.csv.1\n",
      "-rw-r--r-- 1 jovyan users 89951 Apr 24  2022 orders.csv.2\n"
     ]
    }
   ],
   "source": [
    "!ls -tl"
   ]
  },
  {
   "cell_type": "code",
   "execution_count": 7,
   "metadata": {
    "id": "AT05iUsDEZgO",
    "tags": []
   },
   "outputs": [],
   "source": [
    "# Read in data and create a DataFrame\n",
    "df = spark.read.csv(\"orders.csv\", inferSchema=True, header=True, sep ='\\t')"
   ]
  },
  {
   "cell_type": "code",
   "execution_count": 8,
   "metadata": {
    "colab": {
     "base_uri": "https://localhost:8080/"
    },
    "id": "ZwUYSreyhOvf",
    "outputId": "d350fe85-002d-47a3-99fe-c6f8bf8083f2",
    "tags": []
   },
   "outputs": [
    {
     "name": "stdout",
     "output_type": "stream",
     "text": [
      "+------------+--------------------+\n",
      "|    order_id|               items|\n",
      "+------------+--------------------+\n",
      "|860196503764|[{\"name\": \"DAILY ...|\n",
      "|860292645076|[{\"name\": \"DAILY ...|\n",
      "|860320956628|[{\"name\": \"DAILY ...|\n",
      "|860321513684|[{\"name\": \"DAILY ...|\n",
      "|862930665684|[{\"name\": \"DAILY ...|\n",
      "+------------+--------------------+\n",
      "only showing top 5 rows\n",
      "\n"
     ]
    }
   ],
   "source": [
    "df.show(5)"
   ]
  },
  {
   "cell_type": "code",
   "execution_count": 9,
   "metadata": {
    "colab": {
     "base_uri": "https://localhost:8080/"
    },
    "id": "jL9To7qyu2mL",
    "outputId": "070f7bf2-dfed-41e7-cac2-f5dfb25eef3d",
    "tags": []
   },
   "outputs": [
    {
     "data": {
      "text/plain": [
       "DataFrame[]"
      ]
     },
     "execution_count": 9,
     "metadata": {},
     "output_type": "execute_result"
    }
   ],
   "source": [
    "spark.sql(\"CREATE DATABASE IF NOT EXISTS TEST_DB\")\n",
    "spark.sql(\"USE TEST_DB\")"
   ]
  },
  {
   "cell_type": "code",
   "execution_count": 10,
   "metadata": {
    "colab": {
     "base_uri": "https://localhost:8080/"
    },
    "id": "pA8GQM-aZj4c",
    "outputId": "375e633c-2df1-4396-ec75-63dd1ae10f50",
    "tags": []
   },
   "outputs": [
    {
     "name": "stdout",
     "output_type": "stream",
     "text": [
      "+---------+\n",
      "|namespace|\n",
      "+---------+\n",
      "|  default|\n",
      "|  test_db|\n",
      "+---------+\n",
      "\n"
     ]
    }
   ],
   "source": [
    "spark.sql(\"SHOW DATABASES\").show()"
   ]
  },
  {
   "cell_type": "code",
   "execution_count": 11,
   "metadata": {
    "colab": {
     "base_uri": "https://localhost:8080/"
    },
    "id": "yM26NrabhVPw",
    "outputId": "086d2ea5-24c7-42ee-e310-54ae4b8c4263",
    "tags": []
   },
   "outputs": [
    {
     "name": "stdout",
     "output_type": "stream",
     "text": [
      "total 436\n",
      "-rw-r--r-- 1 jovyan users 16560 Jul  6 06:34 PySpark_Hive_테이블.ipynb\n",
      "drwxr-xr-x 3 jovyan users    96 Jul  6 06:33 spark-warehouse\n",
      "drwxr-xr-x 9 jovyan users   288 Jul  6 06:33 metastore_db\n",
      "-rw-r--r-- 1 jovyan users   718 Jul  6 06:33 derby.log\n",
      "-rw-r--r-- 1 jovyan users 22980 Jul  6 05:51 PySpark_SQL_월별_채널별_매출과_방문자_정보.ipynb\n",
      "-rw-r--r-- 1 jovyan users 20718 Jul  6 05:50 PySpark_SQL_사용자별로_처음_채널과_마지막_채널_알아내기.ipynb\n",
      "-rw-r--r-- 1 jovyan users 24221 Jul  6 03:43 PySpark_SQL_총_매출이_가장_많은_사용자_10명_찾기.ipynb\n",
      "-rw-r--r-- 1 jovyan users 23582 Jul  5 14:03 PySpark_SQL_JOIN.ipynb\n",
      "-rw-r--r-- 1 jovyan users 31980 Jul  5 12:45 PySpark_UDF.ipynb\n",
      "drwxr-xr-x 5 jovyan users   160 Jul  5 01:40 unittest\n",
      "-rw-r--r-- 1 jovyan users 17509 Jul  4 12:19 PySpark_유닛_테스트.ipynb\n",
      "-rw-r--r-- 1 jovyan users 89951 Apr 24  2022 orders.csv\n",
      "-rw-r--r-- 1 jovyan users 89951 Apr 24  2022 orders.csv.1\n",
      "-rw-r--r-- 1 jovyan users 89951 Apr 24  2022 orders.csv.2\n"
     ]
    }
   ],
   "source": [
    "!ls -tl"
   ]
  },
  {
   "cell_type": "code",
   "execution_count": 12,
   "metadata": {
    "id": "_FzT1klth3St",
    "tags": []
   },
   "outputs": [],
   "source": [
    "df.write.saveAsTable(\"TEST_DB.orders\", mode=\"overwrite\")"
   ]
  },
  {
   "cell_type": "code",
   "execution_count": 13,
   "metadata": {
    "colab": {
     "base_uri": "https://localhost:8080/"
    },
    "id": "S2akh9ojh8px",
    "outputId": "5fd3850b-55b4-41e4-f9c7-aa43a799f260",
    "tags": []
   },
   "outputs": [
    {
     "name": "stdout",
     "output_type": "stream",
     "text": [
      "total 24\n",
      "-rw-r--r-- 1 jovyan users     0 Jul  6 06:39 _SUCCESS\n",
      "-rw-r--r-- 1 jovyan users 23051 Jul  6 06:39 part-00000-6203101c-0b42-416c-8759-96c49b0fb55c-c000.snappy.parquet\n"
     ]
    }
   ],
   "source": [
    "!ls -tl spark-warehouse/test_db.db/orders/"
   ]
  },
  {
   "cell_type": "code",
   "execution_count": 14,
   "metadata": {
    "colab": {
     "base_uri": "https://localhost:8080/"
    },
    "id": "vk_bSxqkFC7Y",
    "outputId": "277a8d1f-8ca7-48d7-a9ce-ce5c4ffa5a74",
    "tags": []
   },
   "outputs": [
    {
     "name": "stdout",
     "output_type": "stream",
     "text": [
      "+------------+--------------------+\n",
      "|    order_id|               items|\n",
      "+------------+--------------------+\n",
      "|860196503764|[{\"name\": \"DAILY ...|\n",
      "|860292645076|[{\"name\": \"DAILY ...|\n",
      "|860320956628|[{\"name\": \"DAILY ...|\n",
      "|860321513684|[{\"name\": \"DAILY ...|\n",
      "|862930665684|[{\"name\": \"DAILY ...|\n",
      "+------------+--------------------+\n",
      "only showing top 5 rows\n",
      "\n"
     ]
    }
   ],
   "source": [
    "spark.sql(\"SELECT * FROM TEST_DB.orders\").show(5)"
   ]
  },
  {
   "cell_type": "code",
   "execution_count": 15,
   "metadata": {
    "colab": {
     "base_uri": "https://localhost:8080/"
    },
    "id": "1WBmG-TNFIu7",
    "outputId": "cb23c8d3-a1b4-4049-8d70-95582004a8c4",
    "tags": []
   },
   "outputs": [
    {
     "name": "stdout",
     "output_type": "stream",
     "text": [
      "+------------+--------------------+\n",
      "|    order_id|               items|\n",
      "+------------+--------------------+\n",
      "|860196503764|[{\"name\": \"DAILY ...|\n",
      "|860292645076|[{\"name\": \"DAILY ...|\n",
      "|860320956628|[{\"name\": \"DAILY ...|\n",
      "|860321513684|[{\"name\": \"DAILY ...|\n",
      "|862930665684|[{\"name\": \"DAILY ...|\n",
      "+------------+--------------------+\n",
      "only showing top 5 rows\n",
      "\n"
     ]
    }
   ],
   "source": [
    "spark.table(\"TEST_DB.orders\").show(5)"
   ]
  },
  {
   "cell_type": "code",
   "execution_count": 16,
   "metadata": {
    "colab": {
     "base_uri": "https://localhost:8080/"
    },
    "id": "ULtPpbXgF27m",
    "outputId": "bd159ba9-1590-4632-8ac5-7d4bf6501c1b",
    "tags": []
   },
   "outputs": [
    {
     "name": "stdout",
     "output_type": "stream",
     "text": [
      "total 16\n",
      "drwxr-xr-x 168 jovyan users 5376 Jul  6 06:39 seg0\n",
      "-rw-r--r--   1 jovyan users  916 Jul  6 06:33 service.properties\n",
      "-rw-r--r--   1 jovyan users  608 Jul  6 06:33 README_DO_NOT_TOUCH_FILES.txt\n",
      "drwxr-xr-x   6 jovyan users  192 Jul  6 06:33 log\n",
      "-rw-r--r--   1 jovyan users   38 Jul  6 06:33 db.lck\n",
      "-rw-r--r--   1 jovyan users    4 Jul  6 06:33 dbex.lck\n",
      "drwxr-xr-x   2 jovyan users   64 Jul  6 06:33 tmp\n"
     ]
    }
   ],
   "source": [
    "!ls -tl metastore_db/"
   ]
  },
  {
   "cell_type": "code",
   "execution_count": 17,
   "metadata": {
    "colab": {
     "base_uri": "https://localhost:8080/"
    },
    "id": "HFE9zkakGA55",
    "outputId": "fed66300-78d5-44cb-8317-af7830196cb3",
    "tags": []
   },
   "outputs": [
    {
     "data": {
      "text/plain": [
       "[Table(name='orders', database='test_db', description=None, tableType='MANAGED', isTemporary=False)]"
      ]
     },
     "execution_count": 17,
     "metadata": {},
     "output_type": "execute_result"
    }
   ],
   "source": [
    "spark.catalog.listTables()"
   ]
  },
  {
   "cell_type": "code",
   "execution_count": 18,
   "metadata": {
    "colab": {
     "base_uri": "https://localhost:8080/"
    },
    "id": "WYqTUySXif_H",
    "outputId": "7a4d2069-cc0f-407e-e7d1-77df45e016cf",
    "tags": []
   },
   "outputs": [
    {
     "data": {
      "text/plain": [
       "DataFrame[]"
      ]
     },
     "execution_count": 18,
     "metadata": {},
     "output_type": "execute_result"
    }
   ],
   "source": [
    "spark.sql(\"\"\"\n",
    "    DROP TABLE IF EXISTS TEST_DB.orders_count;\n",
    "\"\"\")"
   ]
  },
  {
   "cell_type": "code",
   "execution_count": 19,
   "metadata": {
    "colab": {
     "base_uri": "https://localhost:8080/"
    },
    "id": "_zy1yzp9jUmQ",
    "outputId": "297f740c-2e9c-4aae-cad8-c77ea90e2138",
    "tags": []
   },
   "outputs": [
    {
     "data": {
      "text/plain": [
       "DataFrame[]"
      ]
     },
     "execution_count": 19,
     "metadata": {},
     "output_type": "execute_result"
    }
   ],
   "source": [
    "spark.sql(\"\"\"\n",
    "    CREATE TABLE TEST_DB.orders_count AS \n",
    "    SELECT order_id, COUNT(1) as count \n",
    "    FROM TEST_DB.orders\n",
    "    GROUP BY 1\"\"\")"
   ]
  },
  {
   "cell_type": "code",
   "execution_count": 21,
   "metadata": {
    "colab": {
     "base_uri": "https://localhost:8080/"
    },
    "id": "jVSEuePEiyYW",
    "outputId": "a267b7bf-4f2e-42de-b0c6-da0646a9a4c2",
    "tags": []
   },
   "outputs": [
    {
     "data": {
      "text/plain": [
       "[Table(name='orders', database='test_db', description=None, tableType='MANAGED', isTemporary=False),\n",
       " Table(name='orders_count', database='test_db', description=None, tableType='MANAGED', isTemporary=False)]"
      ]
     },
     "execution_count": 21,
     "metadata": {},
     "output_type": "execute_result"
    }
   ],
   "source": [
    "spark.catalog.listTables()"
   ]
  },
  {
   "cell_type": "code",
   "execution_count": 22,
   "metadata": {
    "colab": {
     "base_uri": "https://localhost:8080/"
    },
    "id": "LgplGelhi0hq",
    "outputId": "a2a3ed5f-e2ee-4893-f1ef-4644164c2bec",
    "tags": []
   },
   "outputs": [
    {
     "name": "stdout",
     "output_type": "stream",
     "text": [
      "total 0\n",
      "drwxr-xr-x 4 jovyan users 128 Jul  6 06:39 orders_count\n",
      "drwxr-xr-x 6 jovyan users 192 Jul  6 06:39 orders\n"
     ]
    }
   ],
   "source": [
    "!ls -tl spark-warehouse/test_db.db/"
   ]
  },
  {
   "cell_type": "code",
   "execution_count": 23,
   "metadata": {
    "colab": {
     "base_uri": "https://localhost:8080/"
    },
    "id": "pGcE_5LXi4zj",
    "outputId": "7638fb4e-fae2-48da-e866-77b8ab3531d3",
    "tags": []
   },
   "outputs": [
    {
     "name": "stdout",
     "output_type": "stream",
     "text": [
      "+-------------+-----+\n",
      "|     order_id|count|\n",
      "+-------------+-----+\n",
      "|1209310019796|    1|\n",
      "|1253925257428|    1|\n",
      "|1314797846740|    1|\n",
      "|1370637402324|    1|\n",
      "|1967690285268|    1|\n",
      "|1971226443988|    1|\n",
      "|2106987970772|    1|\n",
      "|2135281533140|    1|\n",
      "|1271771070676|    1|\n",
      "|1713331765460|    1|\n",
      "+-------------+-----+\n",
      "\n"
     ]
    }
   ],
   "source": [
    "spark.sql(\"SELECT * FROM test_db.orders_count LIMIT 10\").show()"
   ]
  },
  {
   "cell_type": "code",
   "execution_count": null,
   "metadata": {
    "id": "9D0FCc86ZfOG"
   },
   "outputs": [],
   "source": []
  }
 ],
 "metadata": {
  "colab": {
   "collapsed_sections": [
    "LoCk7SgRrFuP",
    "QkvG7CGo1BgF",
    "YV16sPAT04lt",
    "cdANBnd70u-E",
    "ziIgaC_cXx8S",
    "1bbYGM8MX3zO",
    "9nO5mhnwPozH",
    "uBXdq3jqPwur"
   ],
   "provenance": []
  },
  "kernelspec": {
   "display_name": "Python 3 (ipykernel)",
   "language": "python",
   "name": "python3"
  },
  "language_info": {
   "codemirror_mode": {
    "name": "ipython",
    "version": 3
   },
   "file_extension": ".py",
   "mimetype": "text/x-python",
   "name": "python",
   "nbconvert_exporter": "python",
   "pygments_lexer": "ipython3",
   "version": "3.10.9"
  }
 },
 "nbformat": 4,
 "nbformat_minor": 4
}
