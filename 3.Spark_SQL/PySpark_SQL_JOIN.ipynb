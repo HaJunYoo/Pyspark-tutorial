{
  "nbformat": 4,
  "nbformat_minor": 0,
  "metadata": {
    "colab": {
      "provenance": []
    },
    "kernelspec": {
      "name": "python3",
      "display_name": "Python 3"
    }
  },
  "cells": [
    {
      "cell_type": "markdown",
      "source": [
        "## PySpark 설치"
      ],
      "metadata": {
        "id": "Efh-3P4StVBg"
      }
    },
    {
      "cell_type": "code",
      "metadata": {
        "colab": {
          "base_uri": "https://localhost:8080/"
        },
        "id": "NbT0rpGfVdiq",
        "outputId": "2a8e7fbc-a270-4541-da3b-c1f8d167a905"
      },
      "source": [
        "!pip install pyspark==3.3.1 py4j==0.10.9.5 "
      ],
      "execution_count": 1,
      "outputs": [
        {
          "output_type": "stream",
          "name": "stdout",
          "text": [
            "Looking in indexes: https://pypi.org/simple, https://us-python.pkg.dev/colab-wheels/public/simple/\n",
            "Collecting pyspark==3.3.1\n",
            "  Downloading pyspark-3.3.1.tar.gz (281.4 MB)\n",
            "\u001b[2K     \u001b[90m━━━━━━━━━━━━━━━━━━━━━━━━━━━━━━━━━━━━━━━\u001b[0m \u001b[32m281.4/281.4 MB\u001b[0m \u001b[31m3.7 MB/s\u001b[0m eta \u001b[36m0:00:00\u001b[0m\n",
            "\u001b[?25h  Preparing metadata (setup.py) ... \u001b[?25l\u001b[?25hdone\n",
            "Collecting py4j==0.10.9.5\n",
            "  Downloading py4j-0.10.9.5-py2.py3-none-any.whl (199 kB)\n",
            "\u001b[2K     \u001b[90m━━━━━━━━━━━━━━━━━━━━━━━━━━━━━━━━━━━━━━\u001b[0m \u001b[32m199.7/199.7 KB\u001b[0m \u001b[31m11.1 MB/s\u001b[0m eta \u001b[36m0:00:00\u001b[0m\n",
            "\u001b[?25hBuilding wheels for collected packages: pyspark\n",
            "  Building wheel for pyspark (setup.py) ... \u001b[?25l\u001b[?25hdone\n",
            "  Created wheel for pyspark: filename=pyspark-3.3.1-py2.py3-none-any.whl size=281845512 sha256=26da422daebe2a300684f7fbcb6760a9634728e3d09e10db7c70248ecb068537\n",
            "  Stored in directory: /root/.cache/pip/wheels/43/dc/11/ec201cd671da62fa9c5cc77078235e40722170ceba231d7598\n",
            "Successfully built pyspark\n",
            "Installing collected packages: py4j, pyspark\n",
            "Successfully installed py4j-0.10.9.5 pyspark-3.3.1\n"
          ]
        }
      ]
    },
    {
      "cell_type": "code",
      "metadata": {
        "id": "3vm6tgcPXdnR"
      },
      "source": [
        "from pyspark.sql import SparkSession\n",
        "\n",
        "spark = SparkSession \\\n",
        "    .builder \\\n",
        "    .appName(\"Python Spark SQL #1\") \\\n",
        "    .getOrCreate()"
      ],
      "execution_count": 2,
      "outputs": []
    },
    {
      "cell_type": "markdown",
      "source": [
        "## 조인 실습 테이블 2개 로딩"
      ],
      "metadata": {
        "id": "d3Qhs8MwuCS1"
      }
    },
    {
      "cell_type": "code",
      "source": [
        "vital = [\n",
        "     { 'UserID': 100, 'VitalID': 1, 'Date': '2020-01-01', 'Weight': 75 },\n",
        "     { 'UserID': 100, 'VitalID': 2, 'Date': '2020-01-02', 'Weight': 78 },\n",
        "     { 'UserID': 101, 'VitalID': 3, 'Date': '2020-01-01', 'Weight': 90 },\n",
        "     { 'UserID': 101, 'VitalID': 4, 'Date': '2020-01-02', 'Weight': 95 },\n",
        "]\n",
        "\n",
        "alert = [\n",
        "    { 'AlertID': 1, 'VitalID': 4, 'AlertType': 'WeightIncrease', 'Date': '2020-01-01', 'UserID': 101},\n",
        "    { 'AlertID': 2, 'VitalID': None, 'AlertType': 'MissingVital', 'Date': '2020-01-04', 'UserID': 100},\n",
        "    { 'AlertID': 3, 'VitalID': None, 'AlertType': 'MissingVital', 'Date': '2020-01-05', 'UserID': 101}\n",
        "]"
      ],
      "metadata": {
        "id": "npw3MGoWuFH8"
      },
      "execution_count": 3,
      "outputs": []
    },
    {
      "cell_type": "code",
      "source": [
        "rdd_vital = spark.sparkContext.parallelize(vital)\n",
        "rdd_alert = spark.sparkContext.parallelize(alert)"
      ],
      "metadata": {
        "id": "nF8YM6K1u9u8"
      },
      "execution_count": 4,
      "outputs": []
    },
    {
      "cell_type": "code",
      "source": [
        "df_vital = rdd_vital.toDF()\n",
        "df_alert = rdd_alert.toDF()"
      ],
      "metadata": {
        "id": "MHjArqA72U1h"
      },
      "execution_count": 5,
      "outputs": []
    },
    {
      "cell_type": "code",
      "source": [
        "df_vital.printSchema()"
      ],
      "metadata": {
        "colab": {
          "base_uri": "https://localhost:8080/"
        },
        "id": "sZBsD0V62nGO",
        "outputId": "a216a61e-6ed1-4ebc-87c4-d3c78f89b5d6"
      },
      "execution_count": 6,
      "outputs": [
        {
          "output_type": "stream",
          "name": "stdout",
          "text": [
            "root\n",
            " |-- Date: string (nullable = true)\n",
            " |-- UserID: long (nullable = true)\n",
            " |-- VitalID: long (nullable = true)\n",
            " |-- Weight: long (nullable = true)\n",
            "\n"
          ]
        }
      ]
    },
    {
      "cell_type": "code",
      "source": [
        "df_alert.printSchema()"
      ],
      "metadata": {
        "colab": {
          "base_uri": "https://localhost:8080/"
        },
        "id": "cAolvJH1vyWb",
        "outputId": "d019ff2d-9cb1-4ba8-e323-9367314e30ad"
      },
      "execution_count": 7,
      "outputs": [
        {
          "output_type": "stream",
          "name": "stdout",
          "text": [
            "root\n",
            " |-- AlertID: long (nullable = true)\n",
            " |-- AlertType: string (nullable = true)\n",
            " |-- Date: string (nullable = true)\n",
            " |-- UserID: long (nullable = true)\n",
            " |-- VitalID: long (nullable = true)\n",
            "\n"
          ]
        }
      ]
    },
    {
      "cell_type": "markdown",
      "source": [
        "## JOIN by DataFrame"
      ],
      "metadata": {
        "id": "N7s1BEG529k0"
      }
    },
    {
      "cell_type": "code",
      "source": [
        "# INNER JOIN\n",
        "join_expr = df_vital.VitalID == df_alert.VitalID\n",
        "df_vital.join(df_alert, join_expr, \"inner\").show()"
      ],
      "metadata": {
        "colab": {
          "base_uri": "https://localhost:8080/"
        },
        "id": "fXM54Q6D29Ed",
        "outputId": "810c8bcd-076a-4d21-8c32-ecc157b84816"
      },
      "execution_count": 8,
      "outputs": [
        {
          "output_type": "stream",
          "name": "stdout",
          "text": [
            "+----------+------+-------+------+-------+--------------+----------+------+-------+\n",
            "|      Date|UserID|VitalID|Weight|AlertID|     AlertType|      Date|UserID|VitalID|\n",
            "+----------+------+-------+------+-------+--------------+----------+------+-------+\n",
            "|2020-01-02|   101|      4|    95|      1|WeightIncrease|2020-01-01|   101|      4|\n",
            "+----------+------+-------+------+-------+--------------+----------+------+-------+\n",
            "\n"
          ]
        }
      ]
    },
    {
      "cell_type": "code",
      "source": [
        "# LEFT JOIN\n",
        "join_expr = df_vital.VitalID == df_alert.VitalID\n",
        "df_vital.join(df_alert, join_expr, \"left\").show()"
      ],
      "metadata": {
        "colab": {
          "base_uri": "https://localhost:8080/"
        },
        "id": "a4d7hLVr5A_y",
        "outputId": "f1877d6c-68c5-4ec4-aee8-5bd466ccddc8"
      },
      "execution_count": 9,
      "outputs": [
        {
          "output_type": "stream",
          "name": "stdout",
          "text": [
            "+----------+------+-------+------+-------+--------------+----------+------+-------+\n",
            "|      Date|UserID|VitalID|Weight|AlertID|     AlertType|      Date|UserID|VitalID|\n",
            "+----------+------+-------+------+-------+--------------+----------+------+-------+\n",
            "|2020-01-01|   100|      1|    75|   null|          null|      null|  null|   null|\n",
            "|2020-01-02|   100|      2|    78|   null|          null|      null|  null|   null|\n",
            "|2020-01-01|   101|      3|    90|   null|          null|      null|  null|   null|\n",
            "|2020-01-02|   101|      4|    95|      1|WeightIncrease|2020-01-01|   101|      4|\n",
            "+----------+------+-------+------+-------+--------------+----------+------+-------+\n",
            "\n"
          ]
        }
      ]
    },
    {
      "cell_type": "code",
      "source": [
        "# RIGHT JOIN\n",
        "join_expr = df_vital.VitalID == df_alert.VitalID\n",
        "df_vital.join(df_alert, join_expr, \"right\").show()"
      ],
      "metadata": {
        "colab": {
          "base_uri": "https://localhost:8080/"
        },
        "id": "nqJCVWPw5H6A",
        "outputId": "30c8f8f4-73dd-4513-9b58-b35680b0ed54"
      },
      "execution_count": 10,
      "outputs": [
        {
          "output_type": "stream",
          "name": "stdout",
          "text": [
            "+----------+------+-------+------+-------+--------------+----------+------+-------+\n",
            "|      Date|UserID|VitalID|Weight|AlertID|     AlertType|      Date|UserID|VitalID|\n",
            "+----------+------+-------+------+-------+--------------+----------+------+-------+\n",
            "|2020-01-02|   101|      4|    95|      1|WeightIncrease|2020-01-01|   101|      4|\n",
            "|      null|  null|   null|  null|      2|  MissingVital|2020-01-04|   100|   null|\n",
            "|      null|  null|   null|  null|      3|  MissingVital|2020-01-05|   101|   null|\n",
            "+----------+------+-------+------+-------+--------------+----------+------+-------+\n",
            "\n"
          ]
        }
      ]
    },
    {
      "cell_type": "code",
      "source": [
        "# FULL OUTER JOIN\n",
        "join_expr = df_vital.VitalID == df_alert.VitalID\n",
        "df_vital.join(df_alert, join_expr, \"full\").show()"
      ],
      "metadata": {
        "colab": {
          "base_uri": "https://localhost:8080/"
        },
        "id": "dySkJObl5KVU",
        "outputId": "c87ff187-34e5-427f-8b77-9ff2369bf45b"
      },
      "execution_count": 11,
      "outputs": [
        {
          "output_type": "stream",
          "name": "stdout",
          "text": [
            "+----------+------+-------+------+-------+--------------+----------+------+-------+\n",
            "|      Date|UserID|VitalID|Weight|AlertID|     AlertType|      Date|UserID|VitalID|\n",
            "+----------+------+-------+------+-------+--------------+----------+------+-------+\n",
            "|      null|  null|   null|  null|      2|  MissingVital|2020-01-04|   100|   null|\n",
            "|      null|  null|   null|  null|      3|  MissingVital|2020-01-05|   101|   null|\n",
            "|2020-01-01|   100|      1|    75|   null|          null|      null|  null|   null|\n",
            "|2020-01-02|   100|      2|    78|   null|          null|      null|  null|   null|\n",
            "|2020-01-01|   101|      3|    90|   null|          null|      null|  null|   null|\n",
            "|2020-01-02|   101|      4|    95|      1|WeightIncrease|2020-01-01|   101|      4|\n",
            "+----------+------+-------+------+-------+--------------+----------+------+-------+\n",
            "\n"
          ]
        }
      ]
    },
    {
      "cell_type": "code",
      "source": [
        "# CROSS JOIN\n",
        "df_vital.join(df_alert, None, \"cross\").show()"
      ],
      "metadata": {
        "colab": {
          "base_uri": "https://localhost:8080/"
        },
        "id": "d43BHiaI5OJC",
        "outputId": "2b07dd1f-b756-4437-a595-95d3c0e71a90"
      },
      "execution_count": 12,
      "outputs": [
        {
          "output_type": "stream",
          "name": "stdout",
          "text": [
            "+----------+------+-------+------+-------+--------------+----------+------+-------+\n",
            "|      Date|UserID|VitalID|Weight|AlertID|     AlertType|      Date|UserID|VitalID|\n",
            "+----------+------+-------+------+-------+--------------+----------+------+-------+\n",
            "|2020-01-01|   100|      1|    75|      1|WeightIncrease|2020-01-01|   101|      4|\n",
            "|2020-01-02|   100|      2|    78|      1|WeightIncrease|2020-01-01|   101|      4|\n",
            "|2020-01-01|   100|      1|    75|      2|  MissingVital|2020-01-04|   100|   null|\n",
            "|2020-01-01|   100|      1|    75|      3|  MissingVital|2020-01-05|   101|   null|\n",
            "|2020-01-02|   100|      2|    78|      2|  MissingVital|2020-01-04|   100|   null|\n",
            "|2020-01-02|   100|      2|    78|      3|  MissingVital|2020-01-05|   101|   null|\n",
            "|2020-01-01|   101|      3|    90|      1|WeightIncrease|2020-01-01|   101|      4|\n",
            "|2020-01-02|   101|      4|    95|      1|WeightIncrease|2020-01-01|   101|      4|\n",
            "|2020-01-01|   101|      3|    90|      2|  MissingVital|2020-01-04|   100|   null|\n",
            "|2020-01-01|   101|      3|    90|      3|  MissingVital|2020-01-05|   101|   null|\n",
            "|2020-01-02|   101|      4|    95|      2|  MissingVital|2020-01-04|   100|   null|\n",
            "|2020-01-02|   101|      4|    95|      3|  MissingVital|2020-01-05|   101|   null|\n",
            "+----------+------+-------+------+-------+--------------+----------+------+-------+\n",
            "\n"
          ]
        }
      ]
    },
    {
      "cell_type": "code",
      "source": [
        "# SELF JOIN\n",
        "join_expr = df_vital.VitalID == df_vital.VitalID\n",
        "df_vital.join(df_vital, join_expr, \"left\").show()"
      ],
      "metadata": {
        "colab": {
          "base_uri": "https://localhost:8080/"
        },
        "id": "1fuMgCb_5Y7Z",
        "outputId": "9ee4fa8a-848b-4724-894a-ea64f4dc5f55"
      },
      "execution_count": 13,
      "outputs": [
        {
          "output_type": "stream",
          "name": "stdout",
          "text": [
            "+----------+------+-------+------+----------+------+-------+------+\n",
            "|      Date|UserID|VitalID|Weight|      Date|UserID|VitalID|Weight|\n",
            "+----------+------+-------+------+----------+------+-------+------+\n",
            "|2020-01-01|   100|      1|    75|2020-01-01|   100|      1|    75|\n",
            "|2020-01-02|   100|      2|    78|2020-01-02|   100|      2|    78|\n",
            "|2020-01-01|   101|      3|    90|2020-01-01|   101|      3|    90|\n",
            "|2020-01-02|   101|      4|    95|2020-01-02|   101|      4|    95|\n",
            "+----------+------+-------+------+----------+------+-------+------+\n",
            "\n"
          ]
        }
      ]
    },
    {
      "cell_type": "markdown",
      "source": [
        "## JOIN by SQL"
      ],
      "metadata": {
        "id": "zChnkwWO3ClW"
      }
    },
    {
      "cell_type": "code",
      "source": [
        "df_vital.createOrReplaceTempView(\"Vital\")\n",
        "df_alert.createOrReplaceTempView(\"Alert\")"
      ],
      "metadata": {
        "id": "_8Lejetx3D8M"
      },
      "execution_count": 14,
      "outputs": []
    },
    {
      "cell_type": "code",
      "source": [
        "# INNER JOIN\n",
        "df_inner_join = spark.sql(\"\"\"SELECT * FROM Vital v\n",
        "JOIN Alert a ON v.vitalID = a.vitalID;\"\"\")\n",
        "df_inner_join.show()"
      ],
      "metadata": {
        "colab": {
          "base_uri": "https://localhost:8080/"
        },
        "id": "t4xIAQdh3kZm",
        "outputId": "ec83022e-9f15-4037-add1-11343f2ab004"
      },
      "execution_count": 15,
      "outputs": [
        {
          "output_type": "stream",
          "name": "stdout",
          "text": [
            "+----------+------+-------+------+-------+--------------+----------+------+-------+\n",
            "|      Date|UserID|VitalID|Weight|AlertID|     AlertType|      Date|UserID|VitalID|\n",
            "+----------+------+-------+------+-------+--------------+----------+------+-------+\n",
            "|2020-01-02|   101|      4|    95|      1|WeightIncrease|2020-01-01|   101|      4|\n",
            "+----------+------+-------+------+-------+--------------+----------+------+-------+\n",
            "\n"
          ]
        }
      ]
    },
    {
      "cell_type": "code",
      "source": [
        "# LEFT JOIN\n",
        "df_left_join = spark.sql(\"\"\"SELECT * FROM Vital v\n",
        "LEFT JOIN Alert a ON v.vitalID = a.vitalID;\"\"\")\n",
        "df_left_join.show()"
      ],
      "metadata": {
        "colab": {
          "base_uri": "https://localhost:8080/"
        },
        "id": "tinySjFV34CW",
        "outputId": "9ba178b4-f00a-4dca-df31-bf200835bc88"
      },
      "execution_count": 16,
      "outputs": [
        {
          "output_type": "stream",
          "name": "stdout",
          "text": [
            "+----------+------+-------+------+-------+--------------+----------+------+-------+\n",
            "|      Date|UserID|VitalID|Weight|AlertID|     AlertType|      Date|UserID|VitalID|\n",
            "+----------+------+-------+------+-------+--------------+----------+------+-------+\n",
            "|2020-01-01|   100|      1|    75|   null|          null|      null|  null|   null|\n",
            "|2020-01-02|   100|      2|    78|   null|          null|      null|  null|   null|\n",
            "|2020-01-01|   101|      3|    90|   null|          null|      null|  null|   null|\n",
            "|2020-01-02|   101|      4|    95|      1|WeightIncrease|2020-01-01|   101|      4|\n",
            "+----------+------+-------+------+-------+--------------+----------+------+-------+\n",
            "\n"
          ]
        }
      ]
    },
    {
      "cell_type": "code",
      "source": [
        "# RIGHT JOIN\n",
        "df_right_join = spark.sql(\"\"\"SELECT * FROM Vital v\n",
        "RIGHT JOIN Alert a ON v.vitalID = a.vitalID;\"\"\")\n",
        "df_right_join.show()"
      ],
      "metadata": {
        "colab": {
          "base_uri": "https://localhost:8080/"
        },
        "id": "DOf0w4Wg3_XH",
        "outputId": "05f55912-57ba-483f-c669-60556f0a17dc"
      },
      "execution_count": 17,
      "outputs": [
        {
          "output_type": "stream",
          "name": "stdout",
          "text": [
            "+----------+------+-------+------+-------+--------------+----------+------+-------+\n",
            "|      Date|UserID|VitalID|Weight|AlertID|     AlertType|      Date|UserID|VitalID|\n",
            "+----------+------+-------+------+-------+--------------+----------+------+-------+\n",
            "|2020-01-02|   101|      4|    95|      1|WeightIncrease|2020-01-01|   101|      4|\n",
            "|      null|  null|   null|  null|      2|  MissingVital|2020-01-04|   100|   null|\n",
            "|      null|  null|   null|  null|      3|  MissingVital|2020-01-05|   101|   null|\n",
            "+----------+------+-------+------+-------+--------------+----------+------+-------+\n",
            "\n"
          ]
        }
      ]
    },
    {
      "cell_type": "code",
      "source": [
        "# OUTER JOIN\n",
        "df_outer_join = spark.sql(\"\"\"SELECT * FROM Vital v\n",
        "FULL JOIN Alert a ON v.vitalID = a.vitalID;\"\"\")\n",
        "df_outer_join.show()"
      ],
      "metadata": {
        "colab": {
          "base_uri": "https://localhost:8080/"
        },
        "id": "KdsQg2Jv4Dcn",
        "outputId": "6dc62777-b302-49a1-8ac6-e85f41b0b4bc"
      },
      "execution_count": 18,
      "outputs": [
        {
          "output_type": "stream",
          "name": "stdout",
          "text": [
            "+----------+------+-------+------+-------+--------------+----------+------+-------+\n",
            "|      Date|UserID|VitalID|Weight|AlertID|     AlertType|      Date|UserID|VitalID|\n",
            "+----------+------+-------+------+-------+--------------+----------+------+-------+\n",
            "|      null|  null|   null|  null|      2|  MissingVital|2020-01-04|   100|   null|\n",
            "|      null|  null|   null|  null|      3|  MissingVital|2020-01-05|   101|   null|\n",
            "|2020-01-01|   100|      1|    75|   null|          null|      null|  null|   null|\n",
            "|2020-01-02|   100|      2|    78|   null|          null|      null|  null|   null|\n",
            "|2020-01-01|   101|      3|    90|   null|          null|      null|  null|   null|\n",
            "|2020-01-02|   101|      4|    95|      1|WeightIncrease|2020-01-01|   101|      4|\n",
            "+----------+------+-------+------+-------+--------------+----------+------+-------+\n",
            "\n"
          ]
        }
      ]
    },
    {
      "cell_type": "code",
      "source": [
        "# CROSS JOIN\n",
        "df_cross_join = spark.sql(\"\"\"SELECT * FROM Vital v\n",
        "CROSS JOIN Alert a\"\"\")\n",
        "df_cross_join.show()"
      ],
      "metadata": {
        "colab": {
          "base_uri": "https://localhost:8080/"
        },
        "id": "Qe5086Ai4Jx3",
        "outputId": "1d49a2af-70c3-46b3-f885-9b70b21f955d"
      },
      "execution_count": 19,
      "outputs": [
        {
          "output_type": "stream",
          "name": "stdout",
          "text": [
            "+----------+------+-------+------+-------+--------------+----------+------+-------+\n",
            "|      Date|UserID|VitalID|Weight|AlertID|     AlertType|      Date|UserID|VitalID|\n",
            "+----------+------+-------+------+-------+--------------+----------+------+-------+\n",
            "|2020-01-01|   100|      1|    75|      1|WeightIncrease|2020-01-01|   101|      4|\n",
            "|2020-01-02|   100|      2|    78|      1|WeightIncrease|2020-01-01|   101|      4|\n",
            "|2020-01-01|   100|      1|    75|      2|  MissingVital|2020-01-04|   100|   null|\n",
            "|2020-01-01|   100|      1|    75|      3|  MissingVital|2020-01-05|   101|   null|\n",
            "|2020-01-02|   100|      2|    78|      2|  MissingVital|2020-01-04|   100|   null|\n",
            "|2020-01-02|   100|      2|    78|      3|  MissingVital|2020-01-05|   101|   null|\n",
            "|2020-01-01|   101|      3|    90|      1|WeightIncrease|2020-01-01|   101|      4|\n",
            "|2020-01-02|   101|      4|    95|      1|WeightIncrease|2020-01-01|   101|      4|\n",
            "|2020-01-01|   101|      3|    90|      2|  MissingVital|2020-01-04|   100|   null|\n",
            "|2020-01-01|   101|      3|    90|      3|  MissingVital|2020-01-05|   101|   null|\n",
            "|2020-01-02|   101|      4|    95|      2|  MissingVital|2020-01-04|   100|   null|\n",
            "|2020-01-02|   101|      4|    95|      3|  MissingVital|2020-01-05|   101|   null|\n",
            "+----------+------+-------+------+-------+--------------+----------+------+-------+\n",
            "\n"
          ]
        }
      ]
    },
    {
      "cell_type": "code",
      "source": [
        "# self JOIN\n",
        "df_self_join = spark.sql(\"\"\"SELECT * FROM Vital v1\n",
        "JOIN Vital v2\"\"\")\n",
        "df_self_join.show()"
      ],
      "metadata": {
        "colab": {
          "base_uri": "https://localhost:8080/"
        },
        "id": "Z3VOvx3l4TF2",
        "outputId": "f48cb018-516a-46b6-efc8-133a64d85a3d"
      },
      "execution_count": 20,
      "outputs": [
        {
          "output_type": "stream",
          "name": "stdout",
          "text": [
            "+----------+------+-------+------+----------+------+-------+------+\n",
            "|      Date|UserID|VitalID|Weight|      Date|UserID|VitalID|Weight|\n",
            "+----------+------+-------+------+----------+------+-------+------+\n",
            "|2020-01-01|   100|      1|    75|2020-01-01|   100|      1|    75|\n",
            "|2020-01-01|   100|      1|    75|2020-01-02|   100|      2|    78|\n",
            "|2020-01-02|   100|      2|    78|2020-01-01|   100|      1|    75|\n",
            "|2020-01-02|   100|      2|    78|2020-01-02|   100|      2|    78|\n",
            "|2020-01-01|   100|      1|    75|2020-01-01|   101|      3|    90|\n",
            "|2020-01-01|   100|      1|    75|2020-01-02|   101|      4|    95|\n",
            "|2020-01-02|   100|      2|    78|2020-01-01|   101|      3|    90|\n",
            "|2020-01-02|   100|      2|    78|2020-01-02|   101|      4|    95|\n",
            "|2020-01-01|   101|      3|    90|2020-01-01|   100|      1|    75|\n",
            "|2020-01-01|   101|      3|    90|2020-01-02|   100|      2|    78|\n",
            "|2020-01-02|   101|      4|    95|2020-01-01|   100|      1|    75|\n",
            "|2020-01-02|   101|      4|    95|2020-01-02|   100|      2|    78|\n",
            "|2020-01-01|   101|      3|    90|2020-01-01|   101|      3|    90|\n",
            "|2020-01-01|   101|      3|    90|2020-01-02|   101|      4|    95|\n",
            "|2020-01-02|   101|      4|    95|2020-01-01|   101|      3|    90|\n",
            "|2020-01-02|   101|      4|    95|2020-01-02|   101|      4|    95|\n",
            "+----------+------+-------+------+----------+------+-------+------+\n",
            "\n"
          ]
        }
      ]
    },
    {
      "cell_type": "code",
      "source": [],
      "metadata": {
        "id": "NOcaf2pr4cV_"
      },
      "execution_count": null,
      "outputs": []
    }
  ]
}