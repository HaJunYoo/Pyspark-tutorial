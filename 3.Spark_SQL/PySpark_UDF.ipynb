{
 "cells": [
  {
   "cell_type": "markdown",
   "metadata": {
    "id": "XIA23YgbXKJd"
   },
   "source": [
    "이를 위해 pyspark과 Py4J 패키지를 설치한다. Py4J 패키지는 파이썬 프로그램이 자바가상머신상의 오브젝트들을 접근할 수 있게 해준다. Local Standalone Spark을 사용한다."
   ]
  },
  {
   "cell_type": "code",
   "execution_count": 1,
   "metadata": {
    "colab": {
     "base_uri": "https://localhost:8080/"
    },
    "id": "NbT0rpGfVdiq",
    "outputId": "df7d4266-e88d-48c6-a450-63ba9d3a6c60"
   },
   "outputs": [
    {
     "name": "stdout",
     "output_type": "stream",
     "text": [
      "Looking in indexes: https://pypi.org/simple, https://us-python.pkg.dev/colab-wheels/public/simple/\n",
      "Collecting pyspark==3.3.1\n",
      "  Downloading pyspark-3.3.1.tar.gz (281.4 MB)\n",
      "\u001b[2K     \u001b[90m━━━━━━━━━━━━━━━━━━━━━━━━━━━━━━━━━━━━━━━\u001b[0m \u001b[32m281.4/281.4 MB\u001b[0m \u001b[31m4.0 MB/s\u001b[0m eta \u001b[36m0:00:00\u001b[0m\n",
      "\u001b[?25h  Preparing metadata (setup.py) ... \u001b[?25l\u001b[?25hdone\n",
      "Collecting py4j==0.10.9.5\n",
      "  Downloading py4j-0.10.9.5-py2.py3-none-any.whl (199 kB)\n",
      "\u001b[2K     \u001b[90m━━━━━━━━━━━━━━━━━━━━━━━━━━━━━━━━━━━━━━\u001b[0m \u001b[32m199.7/199.7 KB\u001b[0m \u001b[31m10.9 MB/s\u001b[0m eta \u001b[36m0:00:00\u001b[0m\n",
      "\u001b[?25hBuilding wheels for collected packages: pyspark\n",
      "  Building wheel for pyspark (setup.py) ... \u001b[?25l\u001b[?25hdone\n",
      "  Created wheel for pyspark: filename=pyspark-3.3.1-py2.py3-none-any.whl size=281845512 sha256=0cf7edf0da78354c2e8571c41872e54ee02b7ac5308e51839a106878f421c23c\n",
      "  Stored in directory: /root/.cache/pip/wheels/43/dc/11/ec201cd671da62fa9c5cc77078235e40722170ceba231d7598\n",
      "Successfully built pyspark\n",
      "Installing collected packages: py4j, pyspark\n",
      "Successfully installed py4j-0.10.9.5 pyspark-3.3.1\n"
     ]
    }
   ],
   "source": [
    "!pip install pyspark==3.3.1 py4j==0.10.9.5 "
   ]
  },
  {
   "cell_type": "markdown",
   "metadata": {
    "id": "Ew_eTGrvXlDw"
   },
   "source": [
    "**Spark Session:** 생성"
   ]
  },
  {
   "cell_type": "code",
   "execution_count": 46,
   "metadata": {
    "id": "3vm6tgcPXdnR",
    "tags": []
   },
   "outputs": [],
   "source": [
    "from pyspark.sql import SparkSession\n",
    "\n",
    "spark = SparkSession \\\n",
    "    .builder \\\n",
    "    .appName(\"Python Spark UDF\") \\\n",
    "    .getOrCreate()"
   ]
  },
  {
   "cell_type": "markdown",
   "metadata": {},
   "source": [
    "- 앞서 UDF를 실습\n",
    "    - 하나의 레코드로부터 다수의 레코드 만들어내기\n",
    "    - Order 데이터의 items 필드에서 다수의 Order Item 레코드를 만들기"
   ]
  },
  {
   "cell_type": "markdown",
   "metadata": {
    "id": "cdANBnd70u-E"
   },
   "source": [
    "### Dataframe/SQL에 UDF 사용해보기 #1"
   ]
  },
  {
   "cell_type": "code",
   "execution_count": 47,
   "metadata": {
    "colab": {
     "base_uri": "https://localhost:8080/"
    },
    "id": "SpnFBENHzyGw",
    "outputId": "fa6ba4e0-27a8-4513-b054-73dcaaf628d9",
    "tags": []
   },
   "outputs": [
    {
     "name": "stdout",
     "output_type": "stream",
     "text": [
      "+-----+------------+\n",
      "|Seqno|Name        |\n",
      "+-----+------------+\n",
      "|1    |john jones  |\n",
      "|2    |tracey smith|\n",
      "|3    |amy sanders |\n",
      "+-----+------------+\n",
      "\n"
     ]
    }
   ],
   "source": [
    "columns = [\"Seqno\",\"Name\"]\n",
    "data = [(\"1\", \"john jones\"),\n",
    "    (\"2\", \"tracey smith\"),\n",
    "    (\"3\", \"amy sanders\")]\n",
    "\n",
    "df = spark.createDataFrame(data=data,schema=columns)\n",
    "\n",
    "df.show(truncate=False)"
   ]
  },
  {
   "cell_type": "code",
   "execution_count": 48,
   "metadata": {
    "colab": {
     "base_uri": "https://localhost:8080/"
    },
    "id": "PrUPK5CLzztg",
    "outputId": "abc98612-e7b8-432b-b222-4e7bed11489a",
    "tags": []
   },
   "outputs": [
    {
     "name": "stdout",
     "output_type": "stream",
     "text": [
      "+-----+------------+------------+\n",
      "|Seqno|Name        |Curated Name|\n",
      "+-----+------------+------------+\n",
      "|1    |john jones  |JOHN JONES  |\n",
      "|2    |tracey smith|TRACEY SMITH|\n",
      "|3    |amy sanders |AMY SANDERS |\n",
      "+-----+------------+------------+\n",
      "\n"
     ]
    }
   ],
   "source": [
    "import pyspark.sql.functions as F\n",
    "from pyspark.sql.types import *\n",
    "\n",
    "upperUDF = F.udf(lambda z:z.upper())   \n",
    "\n",
    "df.withColumn(\"Curated Name\", upperUDF(\"Name\")) \\\n",
    "  .show(truncate=False)"
   ]
  },
  {
   "cell_type": "code",
   "execution_count": 49,
   "metadata": {
    "id": "WA9eV8lijU27",
    "tags": []
   },
   "outputs": [],
   "source": [
    "def upper_udf(s):\n",
    "    return s.upper()"
   ]
  },
  {
   "cell_type": "code",
   "execution_count": 50,
   "metadata": {
    "colab": {
     "base_uri": "https://localhost:8080/"
    },
    "id": "LQ9BOeDFwp5W",
    "outputId": "65a8d645-a40b-4477-e536-6eeefb4068ad",
    "tags": []
   },
   "outputs": [
    {
     "name": "stdout",
     "output_type": "stream",
     "text": [
      "+-----+------------+------------+\n",
      "|Seqno|Name        |Curated Name|\n",
      "+-----+------------+------------+\n",
      "|1    |john jones  |JOHN JONES  |\n",
      "|2    |tracey smith|TRACEY SMITH|\n",
      "|3    |amy sanders |AMY SANDERS |\n",
      "+-----+------------+------------+\n",
      "\n"
     ]
    }
   ],
   "source": [
    "upperUDF = F.udf(upper_udf, StringType())   \n",
    "\n",
    "df.withColumn(\"Curated Name\", upperUDF(\"Name\")) \\\n",
    "   .show(truncate=False)"
   ]
  },
  {
   "cell_type": "code",
   "execution_count": 51,
   "metadata": {
    "colab": {
     "base_uri": "https://localhost:8080/"
    },
    "id": "woo49o7fnGx3",
    "outputId": "6dcfeadc-f822-4b1e-ac2f-9496a0ea20e2",
    "tags": []
   },
   "outputs": [
    {
     "name": "stdout",
     "output_type": "stream",
     "text": [
      "+------------+------------+\n",
      "|        Name|Curated Name|\n",
      "+------------+------------+\n",
      "|  john jones|  JOHN JONES|\n",
      "|tracey smith|TRACEY SMITH|\n",
      "| amy sanders| AMY SANDERS|\n",
      "+------------+------------+\n",
      "\n"
     ]
    }
   ],
   "source": [
    "df.select(\"Name\", upperUDF(\"Name\").alias(\"Curated Name\")).show()"
   ]
  },
  {
   "cell_type": "code",
   "execution_count": 52,
   "metadata": {
    "id": "fDKCC_fqke0o",
    "tags": []
   },
   "outputs": [],
   "source": [
    "from pyspark.sql.functions import pandas_udf\n",
    "import pandas as pd\n",
    "\n",
    "# Define the UDF -> pandas udf로 만든 것들은 레코드들의 집합이 넘어오기 때문에 퍼포먼스가 좋다\n",
    "@pandas_udf(StringType())\n",
    "def upper_udf_f(s: pd.Series) -> pd.Series:\n",
    "    return s.str.upper()"
   ]
  },
  {
   "cell_type": "code",
   "execution_count": 53,
   "metadata": {
    "colab": {
     "base_uri": "https://localhost:8080/"
    },
    "id": "0wwmQhwCh48W",
    "outputId": "7dec5333-a083-48f4-f809-c3ca8d898bb3",
    "tags": []
   },
   "outputs": [
    {
     "name": "stdout",
     "output_type": "stream",
     "text": [
      "+---------------+\n",
      "|upper_udf(aBcD)|\n",
      "+---------------+\n",
      "|           ABCD|\n",
      "+---------------+\n",
      "\n"
     ]
    }
   ],
   "source": [
    "# 위에서 정의한 파이썬 upper 함수를 그대로 사용\n",
    "\n",
    "# spark sql에서 사용할 udf 등록\n",
    "upperUDF = spark.udf.register(\"upper_udf\", upper_udf_f)\n",
    "spark.sql(\"SELECT upper_udf('aBcD')\").show()"
   ]
  },
  {
   "cell_type": "code",
   "execution_count": 54,
   "metadata": {
    "colab": {
     "base_uri": "https://localhost:8080/"
    },
    "id": "xT1rZyRQAiiv",
    "outputId": "5a55648f-4359-4b6e-fb40-408fa9839326",
    "tags": []
   },
   "outputs": [
    {
     "name": "stdout",
     "output_type": "stream",
     "text": [
      "+------------+-----------------+\n",
      "|        name|upper_udf_f(name)|\n",
      "+------------+-----------------+\n",
      "|  john jones|       JOHN JONES|\n",
      "|tracey smith|     TRACEY SMITH|\n",
      "| amy sanders|      AMY SANDERS|\n",
      "+------------+-----------------+\n",
      "\n"
     ]
    }
   ],
   "source": [
    "df.select(\"name\", upperUDF(\"name\")).show()"
   ]
  },
  {
   "cell_type": "code",
   "execution_count": 55,
   "metadata": {
    "colab": {
     "base_uri": "https://localhost:8080/"
    },
    "id": "DbWWdo5yiNeC",
    "outputId": "dffeb832-79c5-49ad-8b46-ecad7c3039a9",
    "tags": []
   },
   "outputs": [
    {
     "name": "stdout",
     "output_type": "stream",
     "text": [
      "+------------+------------+\n",
      "|        name|Curated Name|\n",
      "+------------+------------+\n",
      "|  john jones|  JOHN JONES|\n",
      "|tracey smith|TRACEY SMITH|\n",
      "| amy sanders| AMY SANDERS|\n",
      "+------------+------------+\n",
      "\n"
     ]
    }
   ],
   "source": [
    "df.createOrReplaceTempView(\"test\")\n",
    "spark.sql(\"\"\"\n",
    "    SELECT name, upper_udf(name) `Curated Name` FROM test\n",
    "\"\"\").show()"
   ]
  },
  {
   "cell_type": "markdown",
   "metadata": {
    "id": "8QpdtxF-b71e"
   },
   "source": [
    "### Dataframe/SQL에 UDF 사용해보기 #2"
   ]
  },
  {
   "cell_type": "code",
   "execution_count": 56,
   "metadata": {
    "colab": {
     "base_uri": "https://localhost:8080/"
    },
    "id": "13paKmIvb94G",
    "outputId": "92810fb0-a644-4672-bbfb-e7a005111e6d",
    "tags": []
   },
   "outputs": [
    {
     "name": "stdout",
     "output_type": "stream",
     "text": [
      "+---+---+---+\n",
      "|  a|  b|  c|\n",
      "+---+---+---+\n",
      "|  1|  2|  3|\n",
      "|  5|  5| 10|\n",
      "+---+---+---+\n",
      "\n"
     ]
    }
   ],
   "source": [
    "data = [\n",
    "    {\"a\": 1, \"b\": 2},\n",
    "    {\"a\": 5, \"b\": 5}\n",
    "]\n",
    "\n",
    "df = spark.createDataFrame(data)\n",
    "df.withColumn(\"c\", F.udf(lambda x, y: x + y)(\"a\", \"b\")).show()"
   ]
  },
  {
   "cell_type": "code",
   "execution_count": 57,
   "metadata": {
    "colab": {
     "base_uri": "https://localhost:8080/"
    },
    "id": "9woeBW-KdM-r",
    "outputId": "8d82cd1e-e2f0-4bfc-d440-a9c459a5491f",
    "tags": []
   },
   "outputs": [
    {
     "name": "stdout",
     "output_type": "stream",
     "text": [
      "+---+\n",
      "|sum|\n",
      "+---+\n",
      "|  3|\n",
      "+---+\n",
      "\n"
     ]
    }
   ],
   "source": [
    "def plus(x, y):\n",
    "    return x + y\n",
    "\n",
    "plusUDF = spark.udf.register(\"plus\", plus)\n",
    "spark.sql(\"SELECT plus(1, 2) sum\").show()"
   ]
  },
  {
   "cell_type": "code",
   "execution_count": 58,
   "metadata": {
    "colab": {
     "base_uri": "https://localhost:8080/"
    },
    "id": "DdmVRqUcjwmi",
    "outputId": "e3cb3482-9368-4e12-ab0c-41b83e435a53",
    "tags": []
   },
   "outputs": [
    {
     "name": "stdout",
     "output_type": "stream",
     "text": [
      "+---+---+---+\n",
      "|  a|  b|  p|\n",
      "+---+---+---+\n",
      "|  1|  2|  3|\n",
      "|  5|  5| 10|\n",
      "+---+---+---+\n",
      "\n"
     ]
    }
   ],
   "source": [
    "df.withColumn(\"p\", plusUDF(\"a\", \"b\")).show()"
   ]
  },
  {
   "cell_type": "code",
   "execution_count": 59,
   "metadata": {
    "colab": {
     "base_uri": "https://localhost:8080/"
    },
    "id": "w_j1RJQihulF",
    "outputId": "06db0985-6330-4691-8cba-362807abd315",
    "tags": []
   },
   "outputs": [
    {
     "name": "stdout",
     "output_type": "stream",
     "text": [
      "+---+---+---+\n",
      "|  a|  b|  p|\n",
      "+---+---+---+\n",
      "|  1|  2|  3|\n",
      "|  5|  5| 10|\n",
      "+---+---+---+\n",
      "\n"
     ]
    }
   ],
   "source": [
    "df.createOrReplaceTempView(\"test\")\n",
    "spark.sql(\"SELECT a, b, plus(a, b) p FROM test\").show()"
   ]
  },
  {
   "cell_type": "markdown",
   "metadata": {
    "id": "AD5LoMHATNWp"
   },
   "source": [
    "### Dataframe에 UDAF 사용해보기"
   ]
  },
  {
   "cell_type": "code",
   "execution_count": 60,
   "metadata": {
    "colab": {
     "base_uri": "https://localhost:8080/"
    },
    "id": "R3_fbjsGp65Q",
    "outputId": "25851feb-b727-4cea-91ba-97224ca0291c",
    "tags": []
   },
   "outputs": [
    {
     "name": "stdout",
     "output_type": "stream",
     "text": [
      "+--------------+\n",
      "|average_udf(a)|\n",
      "+--------------+\n",
      "|           3.0|\n",
      "+--------------+\n",
      "\n"
     ]
    }
   ],
   "source": [
    "from pyspark.sql.functions import pandas_udf\n",
    "import pandas as pd\n",
    "\n",
    "# Define the UDF\n",
    "@pandas_udf(FloatType())\n",
    "def average_udf_f(v: pd.Series) -> float:\n",
    "    return v.mean()\n",
    "\n",
    "averageUDF = spark.udf.register('average_udf', average_udf_f)\n",
    "spark.sql('SELECT average_udf(a) FROM test').show()"
   ]
  },
  {
   "cell_type": "code",
   "execution_count": 61,
   "metadata": {
    "colab": {
     "base_uri": "https://localhost:8080/"
    },
    "id": "Lhcp9zJVTshw",
    "outputId": "bfb8b5fe-ac0d-4116-8750-4c7d71e38e32",
    "tags": []
   },
   "outputs": [
    {
     "name": "stdout",
     "output_type": "stream",
     "text": [
      "+-----+\n",
      "|count|\n",
      "+-----+\n",
      "|  3.5|\n",
      "+-----+\n",
      "\n"
     ]
    }
   ],
   "source": [
    "df.agg(averageUDF(\"b\").alias(\"count\")).show()"
   ]
  },
  {
   "cell_type": "markdown",
   "metadata": {
    "id": "YV16sPAT04lt"
   },
   "source": [
    "### DataFrame에 explode 사용해보기"
   ]
  },
  {
   "cell_type": "code",
   "execution_count": 62,
   "metadata": {
    "colab": {
     "base_uri": "https://localhost:8080/"
    },
    "id": "LS9KwY0rwDlS",
    "outputId": "6b770647-7b5a-44ae-e023-4043f67d6963",
    "tags": []
   },
   "outputs": [
    {
     "name": "stdout",
     "output_type": "stream",
     "text": [
      "+----------+-------------------+--------------------+\n",
      "|      name|     knownLanguages|          properties|\n",
      "+----------+-------------------+--------------------+\n",
      "|     James|      [Java, Scala]|{eye -> brown, ha...|\n",
      "|   Michael|[Spark, Java, null]|{eye -> null, hai...|\n",
      "|    Robert|         [CSharp, ]|{eye -> , hair ->...|\n",
      "|Washington|               null|                null|\n",
      "| Jefferson|             [1, 2]|                  {}|\n",
      "+----------+-------------------+--------------------+\n",
      "\n"
     ]
    }
   ],
   "source": [
    "arrayData = [\n",
    "        ('James',['Java','Scala'],{'hair':'black','eye':'brown'}),\n",
    "        ('Michael',['Spark','Java',None],{'hair':'brown','eye':None}),\n",
    "        ('Robert',['CSharp',''],{'hair':'red','eye':''}),\n",
    "        ('Washington',None,None),\n",
    "        ('Jefferson',['1','2'],{})]\n",
    "\n",
    "df = spark.createDataFrame(data=arrayData, schema = ['name','knownLanguages','properties'])\n",
    "df.show()"
   ]
  },
  {
   "cell_type": "code",
   "execution_count": 63,
   "metadata": {
    "colab": {
     "base_uri": "https://localhost:8080/"
    },
    "id": "k4XVv0SdzQmV",
    "outputId": "924865d0-39db-410a-b1bd-39f1946153fc",
    "tags": []
   },
   "outputs": [
    {
     "name": "stdout",
     "output_type": "stream",
     "text": [
      "root\n",
      " |-- name: string (nullable = true)\n",
      " |-- col: string (nullable = true)\n",
      "\n",
      "+---------+------+\n",
      "|     name|   col|\n",
      "+---------+------+\n",
      "|    James|  Java|\n",
      "|    James| Scala|\n",
      "|  Michael| Spark|\n",
      "|  Michael|  Java|\n",
      "|  Michael|  null|\n",
      "|   Robert|CSharp|\n",
      "|   Robert|      |\n",
      "|Jefferson|     1|\n",
      "|Jefferson|     2|\n",
      "+---------+------+\n",
      "\n"
     ]
    }
   ],
   "source": [
    "# knownLanguages 필드를 언어별로 짤라서 새로운 레코드로 생성\n",
    "from pyspark.sql.functions import explode\n",
    "\n",
    "df2 = df.select(df.name,explode(df.knownLanguages))\n",
    "df2.printSchema()\n",
    "df2.show()"
   ]
  },
  {
   "cell_type": "markdown",
   "metadata": {
    "id": "izkEXdR-npYL"
   },
   "source": [
    "### 하나의 레코드에서 다수의 레코드를 만들어내는 예제 (Order to 1+ Items)"
   ]
  },
  {
   "cell_type": "code",
   "execution_count": 64,
   "metadata": {
    "colab": {
     "base_uri": "https://localhost:8080/"
    },
    "id": "19eOUOSAnsBx",
    "outputId": "17a5e829-c147-4b80-9c2c-10930f25cb58",
    "tags": []
   },
   "outputs": [
    {
     "name": "stdout",
     "output_type": "stream",
     "text": [
      "--2023-07-05 12:43:32--  https://s3-geospatial.s3.us-west-2.amazonaws.com/orders.csv\n",
      "Resolving s3-geospatial.s3.us-west-2.amazonaws.com (s3-geospatial.s3.us-west-2.amazonaws.com)... 52.218.217.113, 52.92.153.58, 3.5.87.149, ...\n",
      "Connecting to s3-geospatial.s3.us-west-2.amazonaws.com (s3-geospatial.s3.us-west-2.amazonaws.com)|52.218.217.113|:443... connected.\n",
      "HTTP request sent, awaiting response... 200 OK\n",
      "Length: 89951 (88K) [text/csv]\n",
      "Saving to: ‘orders.csv.1’\n",
      "\n",
      "orders.csv.1        100%[===================>]  87.84K   282KB/s    in 0.3s    \n",
      "\n",
      "2023-07-05 12:43:33 (282 KB/s) - ‘orders.csv.1’ saved [89951/89951]\n",
      "\n"
     ]
    }
   ],
   "source": [
    "!wget https://s3-geospatial.s3.us-west-2.amazonaws.com/orders.csv"
   ]
  },
  {
   "cell_type": "code",
   "execution_count": 65,
   "metadata": {
    "colab": {
     "base_uri": "https://localhost:8080/"
    },
    "id": "WaeUILJkVV-o",
    "outputId": "8731e650-9177-4484-d0ae-0f243d05b37e",
    "tags": []
   },
   "outputs": [
    {
     "name": "stdout",
     "output_type": "stream",
     "text": [
      "order_id\titems\n",
      "860196503764\t[{\"name\": \"DAILY SPF\", \"quantity\": 1, \"id\": 1883727790094}]\n",
      "860292645076\t[{\"name\": \"DAILY SPF \\u2014 Bundle Set\", \"quantity\": 1, \"id\": 1883875377166}]\n",
      "860320956628\t[{\"name\": \"DAILY SPF\", \"quantity\": 1, \"id\": 1883919974414}]\n",
      "860321513684\t[{\"name\": \"DAILY SPF\", \"quantity\": 1, \"id\": 1883920793614}]\n"
     ]
    }
   ],
   "source": [
    "!head -5 orders.csv"
   ]
  },
  {
   "cell_type": "markdown",
   "metadata": {
    "id": "uBXdq3jqPwur"
   },
   "source": [
    "### Spark으로 해보기"
   ]
  },
  {
   "cell_type": "code",
   "execution_count": 66,
   "metadata": {
    "id": "noGe8odRnuxd",
    "tags": []
   },
   "outputs": [],
   "source": [
    "from pyspark.sql.functions import *\n",
    "from pyspark.sql.types import StructType, StructField, StringType, ArrayType, LongType\n",
    "\n",
    "order = spark.read.options(delimiter='\\t').option(\"header\",\"true\").csv(\"orders.csv\")"
   ]
  },
  {
   "cell_type": "code",
   "execution_count": 67,
   "metadata": {
    "colab": {
     "base_uri": "https://localhost:8080/"
    },
    "id": "KHYN-yq6oAXS",
    "outputId": "0e00c767-df8d-45d7-da89-e4ee95ae5938",
    "tags": []
   },
   "outputs": [
    {
     "name": "stdout",
     "output_type": "stream",
     "text": [
      "+------------+--------------------+\n",
      "|    order_id|               items|\n",
      "+------------+--------------------+\n",
      "|860196503764|[{\"name\": \"DAILY ...|\n",
      "|860292645076|[{\"name\": \"DAILY ...|\n",
      "|860320956628|[{\"name\": \"DAILY ...|\n",
      "|860321513684|[{\"name\": \"DAILY ...|\n",
      "|862930665684|[{\"name\": \"DAILY ...|\n",
      "|862975819988|[{\"name\": \"DAILY ...|\n",
      "|862985191636|[{\"name\": \"DAILY ...|\n",
      "|870939295956|[{\"name\": \"DAILY ...|\n",
      "|880188063956|[{\"name\": \"DAILY ...|\n",
      "|933014601940|[{\"name\": \"DAILY ...|\n",
      "|934065930452|[{\"name\": \"DAILY ...|\n",
      "|938210722004|[{\"name\": \"DAILY ...|\n",
      "|944748331220|[{\"name\": \"DAILY ...|\n",
      "|862843896020|[{\"name\": \"DAILY ...|\n",
      "|862959763668|[{\"name\": \"DAILY ...|\n",
      "|870966558932|[{\"name\": \"DAILY ...|\n",
      "|887936647380|[{\"name\": \"DAILY ...|\n",
      "|908426477780|[{\"name\": \"DAILY ...|\n",
      "|921300107476|[{\"name\": \"DAILY ...|\n",
      "|932229710036|[{\"name\": \"DAILY ...|\n",
      "+------------+--------------------+\n",
      "only showing top 20 rows\n",
      "\n"
     ]
    }
   ],
   "source": [
    "order.show()"
   ]
  },
  {
   "cell_type": "code",
   "execution_count": 68,
   "metadata": {
    "colab": {
     "base_uri": "https://localhost:8080/"
    },
    "id": "7uJgS3zQWy4k",
    "outputId": "baebcf6f-d6d9-4a7b-e142-b0c6fe9f9591",
    "tags": []
   },
   "outputs": [
    {
     "name": "stdout",
     "output_type": "stream",
     "text": [
      "root\n",
      " |-- order_id: string (nullable = true)\n",
      " |-- items: string (nullable = true)\n",
      "\n"
     ]
    }
   ],
   "source": [
    "order.printSchema()"
   ]
  },
  {
   "cell_type": "code",
   "execution_count": 69,
   "metadata": {
    "id": "MzIUYg-xrdnL",
    "tags": []
   },
   "outputs": [],
   "source": [
    "# 데이터프레임을 이용해서 해보기\n",
    "struct = ArrayType(\n",
    "    StructType([\n",
    "        StructField(\"name\", StringType()),\n",
    "        StructField(\"id\", StringType()),\n",
    "        StructField(\"quantity\", LongType())\n",
    "    ])\n",
    ")"
   ]
  },
  {
   "cell_type": "code",
   "execution_count": 70,
   "metadata": {
    "colab": {
     "base_uri": "https://localhost:8080/"
    },
    "id": "dhfm4QaEY1-K",
    "outputId": "e1e187a7-d93a-47f8-9c1e-0c8ff9625abe",
    "tags": []
   },
   "outputs": [
    {
     "name": "stdout",
     "output_type": "stream",
     "text": [
      "+------------+-----------------------------------------------------------------------------+------------------------------------------+\n",
      "|order_id    |items                                                                        |item                                      |\n",
      "+------------+-----------------------------------------------------------------------------+------------------------------------------+\n",
      "|860196503764|[{\"name\": \"DAILY SPF\", \"quantity\": 1, \"id\": 1883727790094}]                  |{DAILY SPF, 1883727790094, 1}             |\n",
      "|860292645076|[{\"name\": \"DAILY SPF \\u2014 Bundle Set\", \"quantity\": 1, \"id\": 1883875377166}]|{DAILY SPF — Bundle Set, 1883875377166, 1}|\n",
      "|860320956628|[{\"name\": \"DAILY SPF\", \"quantity\": 1, \"id\": 1883919974414}]                  |{DAILY SPF, 1883919974414, 1}             |\n",
      "|860321513684|[{\"name\": \"DAILY SPF\", \"quantity\": 1, \"id\": 1883920793614}]                  |{DAILY SPF, 1883920793614, 1}             |\n",
      "|862930665684|[{\"name\": \"DAILY SPF\", \"quantity\": 1, \"id\": 1887913672718}]                  |{DAILY SPF, 1887913672718, 1}             |\n",
      "|862975819988|[{\"name\": \"DAILY SPF\", \"quantity\": 1, \"id\": 1887985827854}]                  |{DAILY SPF, 1887985827854, 1}             |\n",
      "|862985191636|[{\"name\": \"DAILY SPF \\u2014 Bundle Set\", \"quantity\": 1, \"id\": 1887999164430}]|{DAILY SPF — Bundle Set, 1887999164430, 1}|\n",
      "|870939295956|[{\"name\": \"DAILY SPF\", \"quantity\": 1, \"id\": 1900142264334}]                  |{DAILY SPF, 1900142264334, 1}             |\n",
      "|880188063956|[{\"name\": \"DAILY SPF\", \"quantity\": 1, \"id\": 1914170572814}]                  |{DAILY SPF, 1914170572814, 1}             |\n",
      "|933014601940|[{\"name\": \"DAILY SPF\", \"quantity\": 1, \"id\": 1995572117518}]                  |{DAILY SPF, 1995572117518, 1}             |\n",
      "|934065930452|[{\"name\": \"DAILY SPF\", \"quantity\": 1, \"id\": 1997094813710}]                  |{DAILY SPF, 1997094813710, 1}             |\n",
      "|938210722004|[{\"name\": \"DAILY SPF\", \"quantity\": 1, \"id\": 2003241992206}]                  |{DAILY SPF, 2003241992206, 1}             |\n",
      "|944748331220|[{\"name\": \"DAILY SPF\", \"quantity\": 1, \"id\": 2013027794958}]                  |{DAILY SPF, 2013027794958, 1}             |\n",
      "|862843896020|[{\"name\": \"DAILY SPF \\u2014 Bundle Set\", \"quantity\": 1, \"id\": 1887779946510}]|{DAILY SPF — Bundle Set, 1887779946510, 1}|\n",
      "|862959763668|[{\"name\": \"DAILY SPF\", \"quantity\": 1, \"id\": 1887960727566}]                  |{DAILY SPF, 1887960727566, 1}             |\n",
      "|870966558932|[{\"name\": \"DAILY SPF\", \"quantity\": 1, \"id\": 1900184338446}]                  |{DAILY SPF, 1900184338446, 1}             |\n",
      "|887936647380|[{\"name\": \"DAILY SPF\", \"quantity\": 1, \"id\": 1926287851534}]                  |{DAILY SPF, 1926287851534, 1}             |\n",
      "|908426477780|[{\"name\": \"DAILY SPF\", \"quantity\": 1, \"id\": 1960246870030}]                  |{DAILY SPF, 1960246870030, 1}             |\n",
      "|921300107476|[{\"name\": \"DAILY SPF\", \"quantity\": 1, \"id\": 1979032993806}]                  |{DAILY SPF, 1979032993806, 1}             |\n",
      "|932229710036|[{\"name\": \"DAILY SPF\", \"quantity\": 1, \"id\": 1994496901134}]                  |{DAILY SPF, 1994496901134, 1}             |\n",
      "+------------+-----------------------------------------------------------------------------+------------------------------------------+\n",
      "only showing top 20 rows\n",
      "\n"
     ]
    }
   ],
   "source": [
    "# schema를 위의 strct로 맞추고 items라는 칼럼을 explode한다\n",
    "order.withColumn(\"item\", explode(from_json(\"items\", struct))).show(truncate=False)"
   ]
  },
  {
   "cell_type": "code",
   "execution_count": 71,
   "metadata": {
    "id": "ZhBVvmMKYyfQ",
    "tags": []
   },
   "outputs": [],
   "source": [
    "order_items = order.withColumn(\"item\", explode(from_json(\"items\", struct))).drop(\"items\")"
   ]
  },
  {
   "cell_type": "code",
   "execution_count": 72,
   "metadata": {
    "colab": {
     "base_uri": "https://localhost:8080/"
    },
    "id": "iE4F7-EH2nqb",
    "outputId": "63442b1d-752b-42d8-da31-05def400a6c4",
    "tags": []
   },
   "outputs": [
    {
     "name": "stdout",
     "output_type": "stream",
     "text": [
      "+------------+--------------------+\n",
      "|    order_id|                item|\n",
      "+------------+--------------------+\n",
      "|860196503764|{DAILY SPF, 18837...|\n",
      "|860292645076|{DAILY SPF — Bund...|\n",
      "|860320956628|{DAILY SPF, 18839...|\n",
      "|860321513684|{DAILY SPF, 18839...|\n",
      "|862930665684|{DAILY SPF, 18879...|\n",
      "+------------+--------------------+\n",
      "only showing top 5 rows\n",
      "\n"
     ]
    }
   ],
   "source": [
    "order_items.show(5)"
   ]
  },
  {
   "cell_type": "code",
   "execution_count": 73,
   "metadata": {
    "colab": {
     "base_uri": "https://localhost:8080/"
    },
    "id": "nzHUswiPjZv0",
    "outputId": "9dfdb591-2988-4e7b-ef8c-a7fca5f4a6a5",
    "tags": []
   },
   "outputs": [
    {
     "name": "stdout",
     "output_type": "stream",
     "text": [
      "root\n",
      " |-- order_id: string (nullable = true)\n",
      " |-- item: struct (nullable = true)\n",
      " |    |-- name: string (nullable = true)\n",
      " |    |-- id: string (nullable = true)\n",
      " |    |-- quantity: long (nullable = true)\n",
      "\n"
     ]
    }
   ],
   "source": [
    "order_items.printSchema()"
   ]
  },
  {
   "cell_type": "code",
   "execution_count": 74,
   "metadata": {
    "id": "ZicsGY6d2yui",
    "tags": []
   },
   "outputs": [],
   "source": [
    "order_items.createOrReplaceTempView(\"order_items\")"
   ]
  },
  {
   "cell_type": "code",
   "execution_count": 75,
   "metadata": {
    "colab": {
     "base_uri": "https://localhost:8080/"
    },
    "id": "EkKpLPoj25kX",
    "outputId": "b6125d60-79ff-4e50-8146-ae0fcafac8aa",
    "tags": []
   },
   "outputs": [
    {
     "name": "stdout",
     "output_type": "stream",
     "text": [
      "+-------------+---------+\n",
      "|     order_id|avg_count|\n",
      "+-------------+---------+\n",
      "|1816674631892|      500|\n",
      "|1821860430036|      300|\n",
      "|2186043064532|      208|\n",
      "|2143034474708|      200|\n",
      "|2118824558804|      200|\n",
      "+-------------+---------+\n",
      "only showing top 5 rows\n",
      "\n"
     ]
    }
   ],
   "source": [
    "spark.sql(\"\"\"\n",
    "    SELECT order_id, CAST(average_udf(item.quantity) as decimal) avg_count\n",
    "    FROM order_items \n",
    "    GROUP BY 1 \n",
    "    ORDER BY 2 DESC\"\"\").show(5)"
   ]
  },
  {
   "cell_type": "code",
   "execution_count": 76,
   "metadata": {
    "colab": {
     "base_uri": "https://localhost:8080/"
    },
    "id": "v2ztg-puj10J",
    "outputId": "9dde421a-8dbf-4f55-aaf0-e7ce38fef091",
    "tags": []
   },
   "outputs": [
    {
     "name": "stdout",
     "output_type": "stream",
     "text": [
      "+--------+\n",
      "|quantity|\n",
      "+--------+\n",
      "|     500|\n",
      "+--------+\n",
      "\n"
     ]
    }
   ],
   "source": [
    "spark.sql(\"\"\"SELECT item.quantity FROM order_items WHERE order_id = '1816674631892'\"\"\").show()"
   ]
  },
  {
   "cell_type": "code",
   "execution_count": 77,
   "metadata": {
    "colab": {
     "base_uri": "https://localhost:8080/"
    },
    "id": "iGSo9VEAaDaL",
    "outputId": "22c426c2-a28a-427e-fd72-aa3ba695a122",
    "tags": []
   },
   "outputs": [
    {
     "data": {
      "text/plain": [
       "[Table(name='order_items', database=None, description=None, tableType='TEMPORARY', isTemporary=True),\n",
       " Table(name='test', database=None, description=None, tableType='TEMPORARY', isTemporary=True)]"
      ]
     },
     "execution_count": 77,
     "metadata": {},
     "output_type": "execute_result"
    }
   ],
   "source": [
    "spark.catalog.listTables()"
   ]
  },
  {
   "cell_type": "code",
   "execution_count": 79,
   "metadata": {
    "colab": {
     "base_uri": "https://localhost:8080/"
    },
    "id": "l-h5OW7Ymog8",
    "outputId": "6b6c53c1-d527-47ad-bac5-7c9fbff782c1",
    "tags": []
   },
   "outputs": [
    {
     "name": "stdout",
     "output_type": "stream",
     "text": [
      "upper_udf\n"
     ]
    }
   ],
   "source": [
    "for f in spark.catalog.listFunctions():\n",
    "    if f[0] =='upper_udf':\n",
    "        print(f[0])"
   ]
  },
  {
   "cell_type": "code",
   "execution_count": null,
   "metadata": {},
   "outputs": [],
   "source": []
  }
 ],
 "metadata": {
  "colab": {
   "collapsed_sections": [
    "LoCk7SgRrFuP",
    "QkvG7CGo1BgF",
    "YV16sPAT04lt",
    "cdANBnd70u-E",
    "ziIgaC_cXx8S",
    "1bbYGM8MX3zO",
    "9nO5mhnwPozH",
    "uBXdq3jqPwur"
   ],
   "provenance": []
  },
  "kernelspec": {
   "display_name": "Python 3 (ipykernel)",
   "language": "python",
   "name": "python3"
  },
  "language_info": {
   "codemirror_mode": {
    "name": "ipython",
    "version": 3
   },
   "file_extension": ".py",
   "mimetype": "text/x-python",
   "name": "python",
   "nbconvert_exporter": "python",
   "pygments_lexer": "ipython3",
   "version": "3.10.9"
  }
 },
 "nbformat": 4,
 "nbformat_minor": 4
}
