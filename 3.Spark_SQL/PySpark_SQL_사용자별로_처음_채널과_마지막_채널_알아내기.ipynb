{
  "nbformat": 4,
  "nbformat_minor": 0,
  "metadata": {
    "colab": {
      "provenance": []
    },
    "kernelspec": {
      "name": "python3",
      "display_name": "Python 3"
    }
  },
  "cells": [
    {
      "cell_type": "code",
      "metadata": {
        "colab": {
          "base_uri": "https://localhost:8080/"
        },
        "id": "NbT0rpGfVdiq",
        "outputId": "6f4995a2-7fe7-4277-abf7-39c7d5eea9ad"
      },
      "source": [
        "!pip install pyspark==3.3.1 py4j==0.10.9.5"
      ],
      "execution_count": 1,
      "outputs": [
        {
          "output_type": "stream",
          "name": "stdout",
          "text": [
            "Collecting pyspark==3.3.1\n",
            "  Downloading pyspark-3.3.1.tar.gz (281.4 MB)\n",
            "\u001b[2K     \u001b[90m━━━━━━━━━━━━━━━━━━━━━━━━━━━━━━━━━━━━━━━\u001b[0m \u001b[32m281.4/281.4 MB\u001b[0m \u001b[31m5.3 MB/s\u001b[0m eta \u001b[36m0:00:00\u001b[0m\n",
            "\u001b[?25h  Preparing metadata (setup.py) ... \u001b[?25l\u001b[?25hdone\n",
            "Collecting py4j==0.10.9.5\n",
            "  Downloading py4j-0.10.9.5-py2.py3-none-any.whl (199 kB)\n",
            "\u001b[2K     \u001b[90m━━━━━━━━━━━━━━━━━━━━━━━━━━━━━━━━━━━━━━\u001b[0m \u001b[32m199.7/199.7 kB\u001b[0m \u001b[31m21.7 MB/s\u001b[0m eta \u001b[36m0:00:00\u001b[0m\n",
            "\u001b[?25hBuilding wheels for collected packages: pyspark\n",
            "  Building wheel for pyspark (setup.py) ... \u001b[?25l\u001b[?25hdone\n",
            "  Created wheel for pyspark: filename=pyspark-3.3.1-py2.py3-none-any.whl size=281845500 sha256=ce3280910f0a5a76a0ab9d2c8dc90e600de470a4bad764fef77cb0034715836d\n",
            "  Stored in directory: /root/.cache/pip/wheels/0f/f0/3d/517368b8ce80486e84f89f214e0a022554e4ee64969f46279b\n",
            "Successfully built pyspark\n",
            "Installing collected packages: py4j, pyspark\n",
            "  Attempting uninstall: py4j\n",
            "    Found existing installation: py4j 0.10.9.7\n",
            "    Uninstalling py4j-0.10.9.7:\n",
            "      Successfully uninstalled py4j-0.10.9.7\n",
            "Successfully installed py4j-0.10.9.5 pyspark-3.3.1\n"
          ]
        }
      ]
    },
    {
      "cell_type": "code",
      "metadata": {
        "colab": {
          "base_uri": "https://localhost:8080/"
        },
        "id": "OdTTZZqVA0Xa",
        "outputId": "0c01e1d9-9e52-40d4-c571-bca6362348c9"
      },
      "source": [
        "!cd /usr/local/lib/python3.10/dist-packages/pyspark/jars && sudo wget https://s3.amazonaws.com/redshift-downloads/drivers/jdbc/2.1.0.14/redshift-jdbc42-2.1.0.14.jar"
      ],
      "execution_count": 2,
      "outputs": [
        {
          "output_type": "stream",
          "name": "stdout",
          "text": [
            "--2023-07-06 05:02:46--  https://s3.amazonaws.com/redshift-downloads/drivers/jdbc/2.1.0.14/redshift-jdbc42-2.1.0.14.jar\n",
            "Resolving s3.amazonaws.com (s3.amazonaws.com)... 52.216.60.104, 52.216.177.141, 52.217.236.216, ...\n",
            "Connecting to s3.amazonaws.com (s3.amazonaws.com)|52.216.60.104|:443... connected.\n",
            "HTTP request sent, awaiting response... 200 OK\n",
            "Length: 1048241 (1024K) [binary/octet-stream]\n",
            "Saving to: ‘redshift-jdbc42-2.1.0.14.jar’\n",
            "\n",
            "\r          redshift-   0%[                    ]       0  --.-KB/s               \rredshift-jdbc42-2.1 100%[===================>]   1024K  --.-KB/s    in 0.01s   \n",
            "\n",
            "2023-07-06 05:02:46 (82.6 MB/s) - ‘redshift-jdbc42-2.1.0.14.jar’ saved [1048241/1048241]\n",
            "\n"
          ]
        }
      ]
    },
    {
      "cell_type": "code",
      "metadata": {
        "id": "3vm6tgcPXdnR"
      },
      "source": [
        "from pyspark.sql import SparkSession\n",
        "\n",
        "spark = SparkSession \\\n",
        "    .builder \\\n",
        "    .appName(\"Python Spark SQL #1\") \\\n",
        "    .getOrCreate()"
      ],
      "execution_count": 3,
      "outputs": []
    },
    {
      "cell_type": "code",
      "source": [
        "rows_test = [\n",
        "    { 'value': 1, 'name': 'Luka' },\n",
        "    { 'value': 2, 'name': 'Luka' },\n",
        "    { 'value': 3, 'name': 'Dirk' },\n",
        "    { 'value': 4, 'name': 'Dirk' },\n",
        "    { 'value': 5, 'name': 'Luka' },\n",
        "]\n",
        "\n",
        "df = spark.createDataFrame(rows_test)"
      ],
      "metadata": {
        "id": "BX91cDdZj3AK"
      },
      "execution_count": 4,
      "outputs": []
    },
    {
      "cell_type": "code",
      "source": [
        "df.printSchema()"
      ],
      "metadata": {
        "colab": {
          "base_uri": "https://localhost:8080/"
        },
        "id": "_XRkbATLkfkt",
        "outputId": "fa8fcfc2-262b-4bb3-e77f-598e11414f2c"
      },
      "execution_count": 5,
      "outputs": [
        {
          "output_type": "stream",
          "name": "stdout",
          "text": [
            "root\n",
            " |-- name: string (nullable = true)\n",
            " |-- value: long (nullable = true)\n",
            "\n"
          ]
        }
      ]
    },
    {
      "cell_type": "code",
      "source": [
        "df.show()"
      ],
      "metadata": {
        "colab": {
          "base_uri": "https://localhost:8080/"
        },
        "id": "XMvZ11_71j9F",
        "outputId": "f14bc6ee-8252-4789-fd1e-6d55d57ba833"
      },
      "execution_count": 6,
      "outputs": [
        {
          "output_type": "stream",
          "name": "stdout",
          "text": [
            "+----+-----+\n",
            "|name|value|\n",
            "+----+-----+\n",
            "|Luka|    1|\n",
            "|Luka|    2|\n",
            "|Dirk|    3|\n",
            "|Dirk|    4|\n",
            "|Luka|    5|\n",
            "+----+-----+\n",
            "\n"
          ]
        }
      ]
    },
    {
      "cell_type": "code",
      "source": [
        "df.createOrReplaceTempView(\"rows_test\")"
      ],
      "metadata": {
        "id": "S0ZGpnfhk1kP"
      },
      "execution_count": 7,
      "outputs": []
    },
    {
      "cell_type": "code",
      "source": [
        "spark.sql(\"\"\"\n",
        "  SELECT\n",
        "    value,\n",
        "    SUM(value) OVER (\n",
        "        order by value\n",
        "        rows between 2 preceding and 2 following\n",
        "    ) AS rolling_sum\n",
        "  FROM rows_test\"\"\").show()"
      ],
      "metadata": {
        "colab": {
          "base_uri": "https://localhost:8080/"
        },
        "id": "6OGdFV7MlCZf",
        "outputId": "544d1bd0-1962-4900-d86c-086eb0bd0bcb"
      },
      "execution_count": 8,
      "outputs": [
        {
          "output_type": "stream",
          "name": "stdout",
          "text": [
            "+-----+-----------+\n",
            "|value|rolling_sum|\n",
            "+-----+-----------+\n",
            "|    1|          6|\n",
            "|    2|         10|\n",
            "|    3|         15|\n",
            "|    4|         14|\n",
            "|    5|         12|\n",
            "+-----+-----------+\n",
            "\n"
          ]
        }
      ]
    },
    {
      "cell_type": "code",
      "source": [
        "spark.sql(\"\"\"\n",
        "  SELECT\n",
        "    value,\n",
        "    SUM(value) OVER (\n",
        "        order by value\n",
        "        rows between unbounded preceding and 2 following\n",
        "    ) AS rolling_sum\n",
        "  FROM rows_test\"\"\").show()"
      ],
      "metadata": {
        "colab": {
          "base_uri": "https://localhost:8080/"
        },
        "id": "4Ffkge4xmrMr",
        "outputId": "5d87f0dc-4d2d-4e64-9b23-5b14804abc3b"
      },
      "execution_count": 9,
      "outputs": [
        {
          "output_type": "stream",
          "name": "stdout",
          "text": [
            "+-----+-----------+\n",
            "|value|rolling_sum|\n",
            "+-----+-----------+\n",
            "|    1|          6|\n",
            "|    2|         10|\n",
            "|    3|         15|\n",
            "|    4|         15|\n",
            "|    5|         15|\n",
            "+-----+-----------+\n",
            "\n"
          ]
        }
      ]
    },
    {
      "cell_type": "code",
      "source": [
        "spark.sql(\"\"\"\n",
        "  SELECT\n",
        "    *,\n",
        "    FIRST_VALUE(value) OVER (\n",
        "        partition by name\n",
        "        order by value\n",
        "        rows between unbounded preceding and unbounded following\n",
        "    ) AS min_value,\n",
        "    LAST_VALUE(value) OVER (\n",
        "        partition by name\n",
        "        order by value\n",
        "        rows between unbounded preceding and unbounded following\n",
        "    ) AS max_value\n",
        "  FROM rows_test\"\"\").show()"
      ],
      "metadata": {
        "colab": {
          "base_uri": "https://localhost:8080/"
        },
        "id": "NpmrVV4T107A",
        "outputId": "9950353e-d280-429d-d32a-26453ab8df66"
      },
      "execution_count": 10,
      "outputs": [
        {
          "output_type": "stream",
          "name": "stdout",
          "text": [
            "+----+-----+---------+---------+\n",
            "|name|value|min_value|max_value|\n",
            "+----+-----+---------+---------+\n",
            "|Dirk|    3|        3|        4|\n",
            "|Dirk|    4|        3|        4|\n",
            "|Luka|    1|        1|        5|\n",
            "|Luka|    2|        1|        5|\n",
            "|Luka|    5|        1|        5|\n",
            "+----+-----+---------+---------+\n",
            "\n"
          ]
        }
      ]
    },
    {
      "cell_type": "code",
      "source": [],
      "metadata": {
        "id": "ng_YWc1u2P3R"
      },
      "execution_count": null,
      "outputs": []
    },
    {
      "cell_type": "markdown",
      "source": [
        "## Redshift 상의 다음 테이블을 데이터프레임으로 로딩하기\n",
        "user_session_channel, session_timestamp, session_transaction"
      ],
      "metadata": {
        "id": "ElawwmWzcylW"
      }
    },
    {
      "cell_type": "code",
      "metadata": {
        "id": "EEaNuN3xKNXm"
      },
      "source": [
        "# Redshift와 연결해서 DataFrame으로 로딩하기\n",
        "url = \"jdbc:redshift://learnde.cduaw970ssvt.ap-northeast-2.redshift.amazonaws.com:5439/dev?user=guest&password=Guest1234\"\n",
        "\n",
        "df_user_session_channel = spark.read \\\n",
        "    .format(\"jdbc\") \\\n",
        "    .option(\"driver\", \"com.amazon.redshift.jdbc42.Driver\") \\\n",
        "    .option(\"url\", url) \\\n",
        "    .option(\"dbtable\", \"raw_data.user_session_channel\") \\\n",
        "    .load()\n",
        "\n",
        "df_session_timestamp = spark.read \\\n",
        "    .format(\"jdbc\") \\\n",
        "    .option(\"driver\", \"com.amazon.redshift.jdbc42.Driver\") \\\n",
        "    .option(\"url\", url) \\\n",
        "    .option(\"dbtable\", \"raw_data.session_timestamp\") \\\n",
        "    .load()\n",
        "\n",
        "df_session_transaction = spark.read \\\n",
        "    .format(\"jdbc\") \\\n",
        "    .option(\"driver\", \"com.amazon.redshift.jdbc42.Driver\") \\\n",
        "    .option(\"url\", url) \\\n",
        "    .option(\"dbtable\", \"raw_data.session_transaction\") \\\n",
        "    .load()"
      ],
      "execution_count": 11,
      "outputs": []
    },
    {
      "cell_type": "code",
      "source": [
        "df_user_session_channel.createOrReplaceTempView(\"user_session_channel\")\n",
        "df_session_timestamp.createOrReplaceTempView(\"session_timestamp\")\n",
        "df_session_transaction.createOrReplaceTempView(\"session_transaction\")"
      ],
      "metadata": {
        "id": "AjcT5LWi7_B5"
      },
      "execution_count": 12,
      "outputs": []
    },
    {
      "cell_type": "code",
      "source": [
        "df_user_session_channel.show(5)"
      ],
      "metadata": {
        "colab": {
          "base_uri": "https://localhost:8080/"
        },
        "id": "f3UxHdoLC5Bt",
        "outputId": "99f722ef-0122-432b-ab01-45e56cb3c98e"
      },
      "execution_count": 13,
      "outputs": [
        {
          "output_type": "stream",
          "name": "stdout",
          "text": [
            "+------+--------------------+---------+\n",
            "|userid|           sessionid|  channel|\n",
            "+------+--------------------+---------+\n",
            "|  1651|0004289ee1c7b8b08...|  Organic|\n",
            "|  1197|00053f5e11d1fe4e4...| Facebook|\n",
            "|  1401|00056c20eb5a02958...| Facebook|\n",
            "|  1399|00063cb5da1826feb...| Facebook|\n",
            "|  1667|000958fdaefe0dd06...|Instagram|\n",
            "+------+--------------------+---------+\n",
            "only showing top 5 rows\n",
            "\n"
          ]
        }
      ]
    },
    {
      "cell_type": "code",
      "source": [
        "df_session_timestamp.show(5)"
      ],
      "metadata": {
        "colab": {
          "base_uri": "https://localhost:8080/"
        },
        "id": "T9lIcukADIgk",
        "outputId": "af7c76fb-4edb-49ef-f478-a50eeacfa17c"
      },
      "execution_count": 14,
      "outputs": [
        {
          "output_type": "stream",
          "name": "stdout",
          "text": [
            "+--------------------+--------------------+\n",
            "|           sessionid|                  ts|\n",
            "+--------------------+--------------------+\n",
            "|0002ac0d783338cfe...|2019-07-29 12:39:...|\n",
            "|00053f5e11d1fe4e4...|2019-06-24 13:04:...|\n",
            "|00056c20eb5a02958...| 2019-09-26 14:50:17|\n",
            "|00063cb5da1826feb...|2019-10-16 14:04:...|\n",
            "|0007cda84fafdcf42...|2019-05-22 08:02:...|\n",
            "+--------------------+--------------------+\n",
            "only showing top 5 rows\n",
            "\n"
          ]
        }
      ]
    },
    {
      "cell_type": "code",
      "source": [
        "df_session_transaction.show(5)"
      ],
      "metadata": {
        "colab": {
          "base_uri": "https://localhost:8080/"
        },
        "id": "vwiwGeXRDNk2",
        "outputId": "91a80b51-1165-48c9-c4a2-a0c17d15996b"
      },
      "execution_count": 15,
      "outputs": [
        {
          "output_type": "stream",
          "name": "stdout",
          "text": [
            "+--------------------+--------+------+\n",
            "|           sessionid|refunded|amount|\n",
            "+--------------------+--------+------+\n",
            "|00029153d12ae1c9a...|   false|    85|\n",
            "|008909bd27b680698...|   false|    13|\n",
            "|0107acb41ef20db22...|   false|    16|\n",
            "|018544a2c48077d2c...|   false|    39|\n",
            "|020c38173caff0203...|   false|    61|\n",
            "+--------------------+--------+------+\n",
            "only showing top 5 rows\n",
            "\n"
          ]
        }
      ]
    },
    {
      "cell_type": "markdown",
      "source": [
        "## 위의 테이블들을 이용해서 사용자별로 처음 채널과 마지막 채널 알아내기"
      ],
      "metadata": {
        "id": "mpjU9yXVJAph"
      }
    },
    {
      "cell_type": "code",
      "source": [
        "first_last_channel_df = spark.sql(\"\"\"\n",
        "WITH RECORD AS (\n",
        "  SELECT /*사용자의 유입에 따른, 채널 순서 매기는 쿼리*/\n",
        "      userid,\n",
        "      channel,\n",
        "      ROW_NUMBER() OVER (PARTITION BY userid ORDER BY ts ASC) AS seq_first,\n",
        "      ROW_NUMBER() OVER (PARTITION BY userid ORDER BY ts DESC) AS seq_last\n",
        "  FROM user_session_channel u\n",
        "  LEFT JOIN session_timestamp t\n",
        "    ON u.sessionid = t.sessionid\n",
        ")\n",
        "SELECT /*유저의 첫번째 유입채널, 마지막 유입 채널 구하기*/\n",
        "      f.userid,\n",
        "      f.channel first_channel,\n",
        "      l.channel last_channel\n",
        "FROM RECORD f\n",
        "INNER JOIN RECORD l ON f.userid = l.userid\n",
        "WHERE f.seq_first = 1 and l.seq_last = 1\n",
        "ORDER BY userid\n",
        "\"\"\")"
      ],
      "metadata": {
        "id": "F8DVGlKRQkrD"
      },
      "execution_count": 16,
      "outputs": []
    },
    {
      "cell_type": "code",
      "source": [
        "first_last_channel_df.show(10)"
      ],
      "metadata": {
        "colab": {
          "base_uri": "https://localhost:8080/"
        },
        "id": "X4qr9Qw4RaJ8",
        "outputId": "97fa8fb6-da19-4667-b40b-5acbe334e7dd"
      },
      "execution_count": null,
      "outputs": [
        {
          "output_type": "stream",
          "name": "stdout",
          "text": [
            "+------+-------------+------------+\n",
            "|userid|first_channel|last_channel|\n",
            "+------+-------------+------------+\n",
            "|    27|      Youtube|   Instagram|\n",
            "|    29|        Naver|       Naver|\n",
            "|    33|       Google|     Youtube|\n",
            "|    34|      Youtube|       Naver|\n",
            "|    36|        Naver|     Youtube|\n",
            "|    40|      Youtube|      Google|\n",
            "|    41|     Facebook|     Youtube|\n",
            "|    44|        Naver|   Instagram|\n",
            "|    45|      Youtube|   Instagram|\n",
            "|    59|    Instagram|   Instagram|\n",
            "+------+-------------+------------+\n",
            "only showing top 10 rows\n",
            "\n"
          ]
        }
      ]
    },
    {
      "cell_type": "code",
      "source": [
        "first_last_channel_df2 = spark.sql(\"\"\"\n",
        "SELECT DISTINCT A.userid,\n",
        "    FIRST_VALUE(A.channel) over(partition by A.userid order by B.ts\n",
        "rows between unbounded preceding and unbounded following) AS First_Channel,\n",
        "    LAST_VALUE(A.channel) over(partition by A.userid order by B.ts\n",
        "rows between unbounded preceding and unbounded following) AS Last_Channel\n",
        "FROM user_session_channel A\n",
        "LEFT JOIN session_timestamp B\n",
        "ON A.sessionid = B.sessionid\"\"\")"
      ],
      "metadata": {
        "id": "rvBR0KhAc5J1"
      },
      "execution_count": null,
      "outputs": []
    },
    {
      "cell_type": "code",
      "source": [
        "first_last_channel_df2.show()"
      ],
      "metadata": {
        "colab": {
          "base_uri": "https://localhost:8080/"
        },
        "id": "bWvT_Sbp2dNY",
        "outputId": "67eafa90-448c-4b13-f490-78473f5935f2"
      },
      "execution_count": null,
      "outputs": [
        {
          "output_type": "stream",
          "name": "stdout",
          "text": [
            "+------+-------------+------------+\n",
            "|userid|First_Channel|Last_Channel|\n",
            "+------+-------------+------------+\n",
            "|    27|      Youtube|   Instagram|\n",
            "|    29|        Naver|       Naver|\n",
            "|    33|       Google|     Youtube|\n",
            "|    34|      Youtube|       Naver|\n",
            "|    36|        Naver|     Youtube|\n",
            "|    40|      Youtube|      Google|\n",
            "|    41|     Facebook|     Youtube|\n",
            "|    44|        Naver|   Instagram|\n",
            "|    45|      Youtube|   Instagram|\n",
            "|    59|    Instagram|   Instagram|\n",
            "|    64|      Youtube|     Youtube|\n",
            "|    65|      Youtube|     Organic|\n",
            "|    68|      Youtube|     Organic|\n",
            "|    69|     Facebook|   Instagram|\n",
            "|    80|      Organic|       Naver|\n",
            "|    84|       Google|     Youtube|\n",
            "|    87|      Youtube|      Google|\n",
            "|    97|      Organic|     Organic|\n",
            "|   112|     Facebook|     Youtube|\n",
            "|   113|      Organic|     Organic|\n",
            "+------+-------------+------------+\n",
            "only showing top 20 rows\n",
            "\n"
          ]
        }
      ]
    },
    {
      "cell_type": "code",
      "source": [],
      "metadata": {
        "id": "W362oY1b2eNs"
      },
      "execution_count": null,
      "outputs": []
    }
  ]
}