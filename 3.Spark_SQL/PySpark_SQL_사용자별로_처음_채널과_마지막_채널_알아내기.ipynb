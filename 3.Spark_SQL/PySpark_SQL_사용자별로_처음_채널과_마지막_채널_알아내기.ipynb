{
  "nbformat": 4,
  "nbformat_minor": 0,
  "metadata": {
    "colab": {
      "provenance": []
    },
    "kernelspec": {
      "name": "python3",
      "display_name": "Python 3"
    }
  },
  "cells": [
    {
      "cell_type": "code",
      "metadata": {
        "colab": {
          "base_uri": "https://localhost:8080/"
        },
        "id": "NbT0rpGfVdiq",
        "outputId": "b9509ff1-271c-4487-aee1-048eceb771d6"
      },
      "source": [
        "!pip install pyspark==3.3.1 py4j==0.10.9.5 "
      ],
      "execution_count": 1,
      "outputs": [
        {
          "output_type": "stream",
          "name": "stdout",
          "text": [
            "Looking in indexes: https://pypi.org/simple, https://us-python.pkg.dev/colab-wheels/public/simple/\n",
            "Requirement already satisfied: pyspark==3.3.1 in /usr/local/lib/python3.8/dist-packages (3.3.1)\n",
            "Requirement already satisfied: py4j==0.10.9.5 in /usr/local/lib/python3.8/dist-packages (0.10.9.5)\n"
          ]
        }
      ]
    },
    {
      "cell_type": "code",
      "metadata": {
        "colab": {
          "base_uri": "https://localhost:8080/"
        },
        "id": "OdTTZZqVA0Xa",
        "outputId": "ffb3d1c5-4535-48f8-d9ab-2ec70a468414"
      },
      "source": [
        "!cd /usr/local/lib/python3.8/dist-packages/pyspark/jars && wget https://s3.amazonaws.com/redshift-downloads/drivers/jdbc/1.2.20.1043/RedshiftJDBC42-no-awssdk-1.2.20.1043.jar"
      ],
      "execution_count": 2,
      "outputs": [
        {
          "output_type": "stream",
          "name": "stdout",
          "text": [
            "--2023-01-23 23:03:42--  https://s3.amazonaws.com/redshift-downloads/drivers/jdbc/1.2.20.1043/RedshiftJDBC42-no-awssdk-1.2.20.1043.jar\n",
            "Resolving s3.amazonaws.com (s3.amazonaws.com)... 52.217.1.46, 52.216.92.229, 54.231.164.168, ...\n",
            "Connecting to s3.amazonaws.com (s3.amazonaws.com)|52.217.1.46|:443... connected.\n",
            "HTTP request sent, awaiting response... 200 OK\n",
            "Length: 2413910 (2.3M) [application/java-archive]\n",
            "Saving to: ‘RedshiftJDBC42-no-awssdk-1.2.20.1043.jar.1’\n",
            "\n",
            "RedshiftJDBC42-no-a 100%[===================>]   2.30M  11.5MB/s    in 0.2s    \n",
            "\n",
            "2023-01-23 23:03:42 (11.5 MB/s) - ‘RedshiftJDBC42-no-awssdk-1.2.20.1043.jar.1’ saved [2413910/2413910]\n",
            "\n"
          ]
        }
      ]
    },
    {
      "cell_type": "code",
      "metadata": {
        "id": "3vm6tgcPXdnR"
      },
      "source": [
        "from pyspark.sql import SparkSession\n",
        "\n",
        "spark = SparkSession \\\n",
        "    .builder \\\n",
        "    .appName(\"Python Spark SQL #1\") \\\n",
        "    .getOrCreate()"
      ],
      "execution_count": 3,
      "outputs": []
    },
    {
      "cell_type": "code",
      "source": [
        "rows_test = [\n",
        "    { 'value': 1, 'name': 'Luka' },\n",
        "    { 'value': 2, 'name': 'Luka'},\n",
        "    { 'value': 3, 'name': 'Dirk' },\n",
        "    { 'value': 4, 'name': 'Dirk' },\n",
        "    { 'value': 5, 'name': 'Luka' },\n",
        "]\n",
        "\n",
        "df = spark.createDataFrame(rows_test)"
      ],
      "metadata": {
        "id": "BX91cDdZj3AK"
      },
      "execution_count": 4,
      "outputs": []
    },
    {
      "cell_type": "code",
      "source": [
        "df.printSchema()"
      ],
      "metadata": {
        "colab": {
          "base_uri": "https://localhost:8080/"
        },
        "id": "_XRkbATLkfkt",
        "outputId": "01a6741e-3ee6-4e54-bb98-33491b1f87d6"
      },
      "execution_count": 5,
      "outputs": [
        {
          "output_type": "stream",
          "name": "stdout",
          "text": [
            "root\n",
            " |-- name: string (nullable = true)\n",
            " |-- value: long (nullable = true)\n",
            "\n"
          ]
        }
      ]
    },
    {
      "cell_type": "code",
      "source": [
        "df.show()"
      ],
      "metadata": {
        "colab": {
          "base_uri": "https://localhost:8080/"
        },
        "id": "XMvZ11_71j9F",
        "outputId": "735f1c17-619b-4d2f-de41-0f569f6eccb3"
      },
      "execution_count": 6,
      "outputs": [
        {
          "output_type": "stream",
          "name": "stdout",
          "text": [
            "+----+-----+\n",
            "|name|value|\n",
            "+----+-----+\n",
            "|Luka|    1|\n",
            "|Luka|    2|\n",
            "|Dirk|    3|\n",
            "|Dirk|    4|\n",
            "|Luka|    5|\n",
            "+----+-----+\n",
            "\n"
          ]
        }
      ]
    },
    {
      "cell_type": "code",
      "source": [
        "df.createOrReplaceTempView(\"rows_test\")"
      ],
      "metadata": {
        "id": "S0ZGpnfhk1kP"
      },
      "execution_count": 7,
      "outputs": []
    },
    {
      "cell_type": "code",
      "source": [
        "spark.sql(\"\"\"\n",
        "  SELECT \n",
        "    value,\n",
        "    SUM(value) OVER (\n",
        "        order by value \n",
        "        rows between 2 preceding and 2 following\n",
        "    ) AS rolling_sum\n",
        "  FROM rows_test\"\"\").show()"
      ],
      "metadata": {
        "colab": {
          "base_uri": "https://localhost:8080/"
        },
        "id": "6OGdFV7MlCZf",
        "outputId": "baaa208d-7c5a-4005-d2f2-946bb6654fa6"
      },
      "execution_count": 8,
      "outputs": [
        {
          "output_type": "stream",
          "name": "stdout",
          "text": [
            "+-----+-----------+\n",
            "|value|rolling_sum|\n",
            "+-----+-----------+\n",
            "|    1|          6|\n",
            "|    2|         10|\n",
            "|    3|         15|\n",
            "|    4|         14|\n",
            "|    5|         12|\n",
            "+-----+-----------+\n",
            "\n"
          ]
        }
      ]
    },
    {
      "cell_type": "code",
      "source": [
        "spark.sql(\"\"\"\n",
        "  SELECT \n",
        "    value,\n",
        "    SUM(value) OVER (\n",
        "        order by value \n",
        "        rows between unbounded preceding and 2 following\n",
        "    ) AS rolling_sum\n",
        "  FROM rows_test\"\"\").show()"
      ],
      "metadata": {
        "colab": {
          "base_uri": "https://localhost:8080/"
        },
        "id": "4Ffkge4xmrMr",
        "outputId": "13360eff-d1dd-4b02-9ec8-6ac0bb51536f"
      },
      "execution_count": 9,
      "outputs": [
        {
          "output_type": "stream",
          "name": "stdout",
          "text": [
            "+-----+-----------+\n",
            "|value|rolling_sum|\n",
            "+-----+-----------+\n",
            "|    1|          6|\n",
            "|    2|         10|\n",
            "|    3|         15|\n",
            "|    4|         15|\n",
            "|    5|         15|\n",
            "+-----+-----------+\n",
            "\n"
          ]
        }
      ]
    },
    {
      "cell_type": "code",
      "source": [
        "spark.sql(\"\"\"\n",
        "  SELECT \n",
        "    *,\n",
        "    FIRST_VALUE(value) OVER (\n",
        "        partition by name\n",
        "        order by value \n",
        "        rows between unbounded preceding and unbounded following\n",
        "    ) AS min_value,\n",
        "    LAST_VALUE(value) OVER (\n",
        "        partition by name\n",
        "        order by value \n",
        "        rows between unbounded preceding and unbounded following\n",
        "    ) AS max_value    \n",
        "  FROM rows_test\"\"\").show()"
      ],
      "metadata": {
        "colab": {
          "base_uri": "https://localhost:8080/"
        },
        "id": "NpmrVV4T107A",
        "outputId": "56266aec-e46d-47c7-b938-71e7e171aefb"
      },
      "execution_count": 10,
      "outputs": [
        {
          "output_type": "stream",
          "name": "stdout",
          "text": [
            "+----+-----+---------+---------+\n",
            "|name|value|min_value|max_value|\n",
            "+----+-----+---------+---------+\n",
            "|Dirk|    3|        3|        4|\n",
            "|Dirk|    4|        3|        4|\n",
            "|Luka|    1|        1|        5|\n",
            "|Luka|    2|        1|        5|\n",
            "|Luka|    5|        1|        5|\n",
            "+----+-----+---------+---------+\n",
            "\n"
          ]
        }
      ]
    },
    {
      "cell_type": "code",
      "source": [],
      "metadata": {
        "id": "ng_YWc1u2P3R"
      },
      "execution_count": null,
      "outputs": []
    },
    {
      "cell_type": "markdown",
      "source": [
        "## Redshift 상의 다음 테이블을 데이터프레임으로 로딩하기\n",
        "user_session_channel, session_timestamp, session_transaction"
      ],
      "metadata": {
        "id": "ElawwmWzcylW"
      }
    },
    {
      "cell_type": "code",
      "metadata": {
        "id": "EEaNuN3xKNXm"
      },
      "source": [
        "# Redshift와 연결해서 DataFrame으로 로딩하기\n",
        "url = \"jdbc:redshift://learnde.cduaw970ssvt.ap-northeast-2.redshift.amazonaws.com:5439/dev?user=guest&password=Guest1234\"\n",
        "\n",
        "df_user_session_channel = spark.read \\\n",
        "    .format(\"jdbc\") \\\n",
        "    .option(\"driver\", \"com.amazon.redshift.jdbc42.Driver\") \\\n",
        "    .option(\"url\", url) \\\n",
        "    .option(\"dbtable\", \"raw_data.user_session_channel\") \\\n",
        "    .load()\n",
        "\n",
        "df_session_timestamp = spark.read \\\n",
        "    .format(\"jdbc\") \\\n",
        "    .option(\"driver\", \"com.amazon.redshift.jdbc42.Driver\") \\\n",
        "    .option(\"url\", url) \\\n",
        "    .option(\"dbtable\", \"raw_data.session_timestamp\") \\\n",
        "    .load()\n",
        "\n",
        "df_session_transaction = spark.read \\\n",
        "    .format(\"jdbc\") \\\n",
        "    .option(\"driver\", \"com.amazon.redshift.jdbc42.Driver\") \\\n",
        "    .option(\"url\", url) \\\n",
        "    .option(\"dbtable\", \"raw_data.session_transaction\") \\\n",
        "    .load()"
      ],
      "execution_count": 11,
      "outputs": []
    },
    {
      "cell_type": "code",
      "source": [
        "df_user_session_channel.createOrReplaceTempView(\"user_session_channel\")\n",
        "df_session_timestamp.createOrReplaceTempView(\"session_timestamp\")\n",
        "df_session_transaction.createOrReplaceTempView(\"session_transaction\")"
      ],
      "metadata": {
        "id": "AjcT5LWi7_B5"
      },
      "execution_count": 12,
      "outputs": []
    },
    {
      "cell_type": "code",
      "source": [
        "df_user_session_channel.show(5)"
      ],
      "metadata": {
        "colab": {
          "base_uri": "https://localhost:8080/"
        },
        "id": "f3UxHdoLC5Bt",
        "outputId": "85e24cdb-fee6-4889-9056-4347a2776d09"
      },
      "execution_count": 13,
      "outputs": [
        {
          "output_type": "stream",
          "name": "stdout",
          "text": [
            "+------+--------------------+-------+\n",
            "|userid|           sessionid|channel|\n",
            "+------+--------------------+-------+\n",
            "|  1491|00029153d12ae1c9a...|Organic|\n",
            "|    59|0002ac0d783338cfe...|  Naver|\n",
            "|   117|0006246bee639c7a7...|Youtube|\n",
            "|   572|0006dd05ea1e999dd...|Organic|\n",
            "|   935|0007cda84fafdcf42...| Google|\n",
            "+------+--------------------+-------+\n",
            "only showing top 5 rows\n",
            "\n"
          ]
        }
      ]
    },
    {
      "cell_type": "code",
      "source": [
        "df_session_timestamp.show(5)"
      ],
      "metadata": {
        "colab": {
          "base_uri": "https://localhost:8080/"
        },
        "id": "T9lIcukADIgk",
        "outputId": "de7a4728-32f5-412a-a053-4dd702642b31"
      },
      "execution_count": 14,
      "outputs": [
        {
          "output_type": "stream",
          "name": "stdout",
          "text": [
            "+--------------------+--------------------+\n",
            "|           sessionid|                  ts|\n",
            "+--------------------+--------------------+\n",
            "|00029153d12ae1c9a...|2019-10-18 14:14:...|\n",
            "|0004289ee1c7b8b08...|2019-11-16 21:20:...|\n",
            "|0006246bee639c7a7...|2019-08-10 16:33:...|\n",
            "|0006dd05ea1e999dd...|2019-07-06 19:54:...|\n",
            "|000958fdaefe0dd06...|2019-11-02 14:52:...|\n",
            "+--------------------+--------------------+\n",
            "only showing top 5 rows\n",
            "\n"
          ]
        }
      ]
    },
    {
      "cell_type": "code",
      "source": [
        "df_session_transaction.show(5)"
      ],
      "metadata": {
        "colab": {
          "base_uri": "https://localhost:8080/"
        },
        "id": "vwiwGeXRDNk2",
        "outputId": "af76c473-4949-4f1f-98fe-412b5f35177a"
      },
      "execution_count": 15,
      "outputs": [
        {
          "output_type": "stream",
          "name": "stdout",
          "text": [
            "+--------------------+--------+------+\n",
            "|           sessionid|refunded|amount|\n",
            "+--------------------+--------+------+\n",
            "|00029153d12ae1c9a...|   false|    85|\n",
            "|008909bd27b680698...|   false|    13|\n",
            "|0107acb41ef20db22...|   false|    16|\n",
            "|018544a2c48077d2c...|   false|    39|\n",
            "|020c38173caff0203...|   false|    61|\n",
            "+--------------------+--------+------+\n",
            "only showing top 5 rows\n",
            "\n"
          ]
        }
      ]
    },
    {
      "cell_type": "markdown",
      "source": [
        "## 위의 테이블들을 이용해서 사용자별로 처음 채널과 마지막 채널 알아내기"
      ],
      "metadata": {
        "id": "mpjU9yXVJAph"
      }
    },
    {
      "cell_type": "code",
      "source": [
        "first_last_channel_df = spark.sql(\"\"\"\n",
        "WITH RECORD AS (\n",
        "  SELECT /*사용자의 유입에 따른, 채널 순서 매기는 쿼리*/\n",
        "      userid,\n",
        "      channel, \n",
        "      ROW_NUMBER() OVER (PARTITION BY userid ORDER BY ts ASC) AS seq_first,\n",
        "      ROW_NUMBER() OVER (PARTITION BY userid ORDER BY ts DESC) AS seq_last\n",
        "  FROM user_session_channel u\n",
        "  LEFT JOIN session_timestamp t\n",
        "    ON u.sessionid = t.sessionid\n",
        ")\n",
        "SELECT /*유저의 첫번째 유입채널, 마지막 유입 채널 구하기*/\n",
        "      f.userid,\n",
        "      f.channel first_channel,\n",
        "      l.channel last_channel\n",
        "FROM RECORD f\n",
        "INNER JOIN RECORD l ON f.userid = l.userid\n",
        "WHERE f.seq_first = 1 and l.seq_last = 1\n",
        "ORDER BY userid\n",
        "\"\"\")"
      ],
      "metadata": {
        "id": "F8DVGlKRQkrD"
      },
      "execution_count": 18,
      "outputs": []
    },
    {
      "cell_type": "code",
      "source": [
        "first_last_channel_df.show(10)"
      ],
      "metadata": {
        "colab": {
          "base_uri": "https://localhost:8080/"
        },
        "id": "X4qr9Qw4RaJ8",
        "outputId": "97fa8fb6-da19-4667-b40b-5acbe334e7dd"
      },
      "execution_count": 19,
      "outputs": [
        {
          "output_type": "stream",
          "name": "stdout",
          "text": [
            "+------+-------------+------------+\n",
            "|userid|first_channel|last_channel|\n",
            "+------+-------------+------------+\n",
            "|    27|      Youtube|   Instagram|\n",
            "|    29|        Naver|       Naver|\n",
            "|    33|       Google|     Youtube|\n",
            "|    34|      Youtube|       Naver|\n",
            "|    36|        Naver|     Youtube|\n",
            "|    40|      Youtube|      Google|\n",
            "|    41|     Facebook|     Youtube|\n",
            "|    44|        Naver|   Instagram|\n",
            "|    45|      Youtube|   Instagram|\n",
            "|    59|    Instagram|   Instagram|\n",
            "+------+-------------+------------+\n",
            "only showing top 10 rows\n",
            "\n"
          ]
        }
      ]
    },
    {
      "cell_type": "code",
      "source": [
        "first_last_channel_df2 = spark.sql(\"\"\"\n",
        "SELECT DISTINCT A.userid,\n",
        "    FIRST_VALUE(A.channel) over(partition by A.userid order by B.ts\n",
        "rows between unbounded preceding and unbounded following) AS First_Channel,\n",
        "    LAST_VALUE(A.channel) over(partition by A.userid order by B.ts\n",
        "rows between unbounded preceding and unbounded following) AS Last_Channel\n",
        "FROM user_session_channel A\n",
        "LEFT JOIN session_timestamp B\n",
        "ON A.sessionid = B.sessionid\"\"\")"
      ],
      "metadata": {
        "id": "rvBR0KhAc5J1"
      },
      "execution_count": 20,
      "outputs": []
    },
    {
      "cell_type": "code",
      "source": [
        "first_last_channel_df2.show()"
      ],
      "metadata": {
        "colab": {
          "base_uri": "https://localhost:8080/"
        },
        "id": "bWvT_Sbp2dNY",
        "outputId": "67eafa90-448c-4b13-f490-78473f5935f2"
      },
      "execution_count": 21,
      "outputs": [
        {
          "output_type": "stream",
          "name": "stdout",
          "text": [
            "+------+-------------+------------+\n",
            "|userid|First_Channel|Last_Channel|\n",
            "+------+-------------+------------+\n",
            "|    27|      Youtube|   Instagram|\n",
            "|    29|        Naver|       Naver|\n",
            "|    33|       Google|     Youtube|\n",
            "|    34|      Youtube|       Naver|\n",
            "|    36|        Naver|     Youtube|\n",
            "|    40|      Youtube|      Google|\n",
            "|    41|     Facebook|     Youtube|\n",
            "|    44|        Naver|   Instagram|\n",
            "|    45|      Youtube|   Instagram|\n",
            "|    59|    Instagram|   Instagram|\n",
            "|    64|      Youtube|     Youtube|\n",
            "|    65|      Youtube|     Organic|\n",
            "|    68|      Youtube|     Organic|\n",
            "|    69|     Facebook|   Instagram|\n",
            "|    80|      Organic|       Naver|\n",
            "|    84|       Google|     Youtube|\n",
            "|    87|      Youtube|      Google|\n",
            "|    97|      Organic|     Organic|\n",
            "|   112|     Facebook|     Youtube|\n",
            "|   113|      Organic|     Organic|\n",
            "+------+-------------+------------+\n",
            "only showing top 20 rows\n",
            "\n"
          ]
        }
      ]
    },
    {
      "cell_type": "code",
      "source": [],
      "metadata": {
        "id": "W362oY1b2eNs"
      },
      "execution_count": null,
      "outputs": []
    }
  ]
}