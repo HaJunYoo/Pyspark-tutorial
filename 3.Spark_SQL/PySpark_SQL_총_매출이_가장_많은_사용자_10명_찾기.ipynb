{
  "nbformat": 4,
  "nbformat_minor": 0,
  "metadata": {
    "colab": {
      "provenance": []
    },
    "kernelspec": {
      "name": "python3",
      "display_name": "Python 3"
    }
  },
  "cells": [
    {
      "cell_type": "markdown",
      "source": [
        "## PySpark 설치"
      ],
      "metadata": {
        "id": "Efh-3P4StVBg"
      }
    },
    {
      "cell_type": "code",
      "metadata": {
        "colab": {
          "base_uri": "https://localhost:8080/"
        },
        "id": "NbT0rpGfVdiq",
        "outputId": "3158e7dc-841b-4da2-f5e7-5efce1cabf8e"
      },
      "source": [
        "!pip install pyspark==3.3.1 py4j==0.10.9.5"
      ],
      "execution_count": 1,
      "outputs": [
        {
          "output_type": "stream",
          "name": "stdout",
          "text": [
            "Requirement already satisfied: pyspark==3.3.1 in /usr/local/lib/python3.10/dist-packages (3.3.1)\n",
            "Requirement already satisfied: py4j==0.10.9.5 in /usr/local/lib/python3.10/dist-packages (0.10.9.5)\n"
          ]
        }
      ]
    },
    {
      "cell_type": "code",
      "metadata": {
        "colab": {
          "base_uri": "https://localhost:8080/"
        },
        "id": "OdTTZZqVA0Xa",
        "outputId": "2b832990-406c-4e66-ff20-ebfbac52a3e5"
      },
      "source": [
        "!cd /usr/local/lib/python3.10/dist-packages/pyspark/jars && sudo wget https://s3.amazonaws.com/redshift-downloads/drivers/jdbc/2.1.0.14/redshift-jdbc42-2.1.0.14.jar"
      ],
      "execution_count": 2,
      "outputs": [
        {
          "output_type": "stream",
          "name": "stdout",
          "text": [
            "--2023-07-05 15:01:44--  https://s3.amazonaws.com/redshift-downloads/drivers/jdbc/2.1.0.14/redshift-jdbc42-2.1.0.14.jar\n",
            "Resolving s3.amazonaws.com (s3.amazonaws.com)... 54.231.168.248, 52.217.133.104, 52.216.39.72, ...\n",
            "Connecting to s3.amazonaws.com (s3.amazonaws.com)|54.231.168.248|:443... connected.\n",
            "HTTP request sent, awaiting response... 200 OK\n",
            "Length: 1048241 (1024K) [binary/octet-stream]\n",
            "Saving to: ‘redshift-jdbc42-2.1.0.14.jar.1’\n",
            "\n",
            "redshift-jdbc42-2.1 100%[===================>]   1024K  3.21MB/s    in 0.3s    \n",
            "\n",
            "2023-07-05 15:01:45 (3.21 MB/s) - ‘redshift-jdbc42-2.1.0.14.jar.1’ saved [1048241/1048241]\n",
            "\n"
          ]
        }
      ]
    },
    {
      "cell_type": "code",
      "source": [
        "!ls /usr/local/lib/python3.10/dist-packages/pyspark/jars"
      ],
      "metadata": {
        "colab": {
          "base_uri": "https://localhost:8080/"
        },
        "id": "zR67cViLk_S_",
        "outputId": "04a5fcef-ea40-4045-e2fb-3f9f8a9b468b"
      },
      "execution_count": 6,
      "outputs": [
        {
          "output_type": "stream",
          "name": "stdout",
          "text": [
            "activation-1.1.1.jar\n",
            "aircompressor-0.21.jar\n",
            "algebra_2.12-2.0.1.jar\n",
            "annotations-17.0.0.jar\n",
            "antlr4-runtime-4.8.jar\n",
            "antlr-runtime-3.5.2.jar\n",
            "aopalliance-repackaged-2.6.1.jar\n",
            "arpack-2.2.1.jar\n",
            "arpack_combined_all-0.1.jar\n",
            "arrow-format-7.0.0.jar\n",
            "arrow-memory-core-7.0.0.jar\n",
            "arrow-memory-netty-7.0.0.jar\n",
            "arrow-vector-7.0.0.jar\n",
            "audience-annotations-0.5.0.jar\n",
            "automaton-1.11-8.jar\n",
            "avro-1.11.0.jar\n",
            "avro-ipc-1.11.0.jar\n",
            "avro-mapred-1.11.0.jar\n",
            "blas-2.2.1.jar\n",
            "bonecp-0.8.0.RELEASE.jar\n",
            "breeze_2.12-1.2.jar\n",
            "breeze-macros_2.12-1.2.jar\n",
            "cats-kernel_2.12-2.1.1.jar\n",
            "chill_2.12-0.10.0.jar\n",
            "chill-java-0.10.0.jar\n",
            "commons-cli-1.5.0.jar\n",
            "commons-codec-1.15.jar\n",
            "commons-collections-3.2.2.jar\n",
            "commons-collections4-4.4.jar\n",
            "commons-compiler-3.0.16.jar\n",
            "commons-compress-1.21.jar\n",
            "commons-crypto-1.1.0.jar\n",
            "commons-dbcp-1.4.jar\n",
            "commons-io-2.11.0.jar\n",
            "commons-lang-2.6.jar\n",
            "commons-lang3-3.12.0.jar\n",
            "commons-logging-1.1.3.jar\n",
            "commons-math3-3.6.1.jar\n",
            "commons-pool-1.5.4.jar\n",
            "commons-text-1.9.jar\n",
            "compress-lzf-1.1.jar\n",
            "core-1.1.2.jar\n",
            "curator-client-2.13.0.jar\n",
            "curator-framework-2.13.0.jar\n",
            "curator-recipes-2.13.0.jar\n",
            "datanucleus-api-jdo-4.2.4.jar\n",
            "datanucleus-core-4.1.17.jar\n",
            "datanucleus-rdbms-4.1.19.jar\n",
            "derby-10.14.2.0.jar\n",
            "dropwizard-metrics-hadoop-metrics2-reporter-0.1.2.jar\n",
            "flatbuffers-java-1.12.0.jar\n",
            "generex-1.0.2.jar\n",
            "gson-2.2.4.jar\n",
            "guava-14.0.1.jar\n",
            "hadoop-client-api-3.3.2.jar\n",
            "hadoop-client-runtime-3.3.2.jar\n",
            "hadoop-shaded-guava-1.1.1.jar\n",
            "hadoop-yarn-server-web-proxy-3.3.2.jar\n",
            "HikariCP-2.5.1.jar\n",
            "hive-beeline-2.3.9.jar\n",
            "hive-cli-2.3.9.jar\n",
            "hive-common-2.3.9.jar\n",
            "hive-exec-2.3.9-core.jar\n",
            "hive-jdbc-2.3.9.jar\n",
            "hive-llap-common-2.3.9.jar\n",
            "hive-metastore-2.3.9.jar\n",
            "hive-serde-2.3.9.jar\n",
            "hive-service-rpc-3.1.2.jar\n",
            "hive-shims-0.23-2.3.9.jar\n",
            "hive-shims-2.3.9.jar\n",
            "hive-shims-common-2.3.9.jar\n",
            "hive-shims-scheduler-2.3.9.jar\n",
            "hive-storage-api-2.7.2.jar\n",
            "hive-vector-code-gen-2.3.9.jar\n",
            "hk2-api-2.6.1.jar\n",
            "hk2-locator-2.6.1.jar\n",
            "hk2-utils-2.6.1.jar\n",
            "httpclient-4.5.13.jar\n",
            "httpcore-4.4.14.jar\n",
            "istack-commons-runtime-3.0.8.jar\n",
            "ivy-2.5.0.jar\n",
            "jackson-annotations-2.13.4.jar\n",
            "jackson-core-2.13.4.jar\n",
            "jackson-core-asl-1.9.13.jar\n",
            "jackson-databind-2.13.4.1.jar\n",
            "jackson-dataformat-yaml-2.13.4.jar\n",
            "jackson-datatype-jsr310-2.13.4.jar\n",
            "jackson-mapper-asl-1.9.13.jar\n",
            "jackson-module-scala_2.12-2.13.4.jar\n",
            "jakarta.annotation-api-1.3.5.jar\n",
            "jakarta.inject-2.6.1.jar\n",
            "jakarta.servlet-api-4.0.3.jar\n",
            "jakarta.validation-api-2.0.2.jar\n",
            "jakarta.ws.rs-api-2.1.6.jar\n",
            "jakarta.xml.bind-api-2.3.2.jar\n",
            "janino-3.0.16.jar\n",
            "javassist-3.25.0-GA.jar\n",
            "javax.jdo-3.2.0-m3.jar\n",
            "javolution-5.5.1.jar\n",
            "jaxb-runtime-2.3.2.jar\n",
            "jcl-over-slf4j-1.7.32.jar\n",
            "jdo-api-3.0.1.jar\n",
            "jersey-client-2.36.jar\n",
            "jersey-common-2.36.jar\n",
            "jersey-container-servlet-2.36.jar\n",
            "jersey-container-servlet-core-2.36.jar\n",
            "jersey-hk2-2.36.jar\n",
            "jersey-server-2.36.jar\n",
            "JLargeArrays-1.5.jar\n",
            "jline-2.14.6.jar\n",
            "joda-time-2.10.13.jar\n",
            "jodd-core-3.5.2.jar\n",
            "jpam-1.1.jar\n",
            "json-1.8.jar\n",
            "json4s-ast_2.12-3.7.0-M11.jar\n",
            "json4s-core_2.12-3.7.0-M11.jar\n",
            "json4s-jackson_2.12-3.7.0-M11.jar\n",
            "json4s-scalap_2.12-3.7.0-M11.jar\n",
            "jsr305-3.0.0.jar\n",
            "jta-1.1.jar\n",
            "JTransforms-3.1.jar\n",
            "jul-to-slf4j-1.7.32.jar\n",
            "kryo-shaded-4.0.2.jar\n",
            "kubernetes-client-5.12.2.jar\n",
            "kubernetes-model-admissionregistration-5.12.2.jar\n",
            "kubernetes-model-apiextensions-5.12.2.jar\n",
            "kubernetes-model-apps-5.12.2.jar\n",
            "kubernetes-model-autoscaling-5.12.2.jar\n",
            "kubernetes-model-batch-5.12.2.jar\n",
            "kubernetes-model-certificates-5.12.2.jar\n",
            "kubernetes-model-common-5.12.2.jar\n",
            "kubernetes-model-coordination-5.12.2.jar\n",
            "kubernetes-model-core-5.12.2.jar\n",
            "kubernetes-model-discovery-5.12.2.jar\n",
            "kubernetes-model-events-5.12.2.jar\n",
            "kubernetes-model-extensions-5.12.2.jar\n",
            "kubernetes-model-flowcontrol-5.12.2.jar\n",
            "kubernetes-model-metrics-5.12.2.jar\n",
            "kubernetes-model-networking-5.12.2.jar\n",
            "kubernetes-model-node-5.12.2.jar\n",
            "kubernetes-model-policy-5.12.2.jar\n",
            "kubernetes-model-rbac-5.12.2.jar\n",
            "kubernetes-model-scheduling-5.12.2.jar\n",
            "kubernetes-model-storageclass-5.12.2.jar\n",
            "lapack-2.2.1.jar\n",
            "leveldbjni-all-1.8.jar\n",
            "libfb303-0.9.3.jar\n",
            "libthrift-0.12.0.jar\n",
            "log4j-1.2-api-2.17.2.jar\n",
            "log4j-api-2.17.2.jar\n",
            "log4j-core-2.17.2.jar\n",
            "log4j-slf4j-impl-2.17.2.jar\n",
            "logging-interceptor-3.12.12.jar\n",
            "lz4-java-1.8.0.jar\n",
            "mesos-1.4.3-shaded-protobuf.jar\n",
            "metrics-core-4.2.7.jar\n",
            "metrics-graphite-4.2.7.jar\n",
            "metrics-jmx-4.2.7.jar\n",
            "metrics-json-4.2.7.jar\n",
            "metrics-jvm-4.2.7.jar\n",
            "minlog-1.3.0.jar\n",
            "netty-all-4.1.74.Final.jar\n",
            "netty-buffer-4.1.74.Final.jar\n",
            "netty-codec-4.1.74.Final.jar\n",
            "netty-common-4.1.74.Final.jar\n",
            "netty-handler-4.1.74.Final.jar\n",
            "netty-resolver-4.1.74.Final.jar\n",
            "netty-tcnative-classes-2.0.48.Final.jar\n",
            "netty-transport-4.1.74.Final.jar\n",
            "netty-transport-classes-epoll-4.1.74.Final.jar\n",
            "netty-transport-classes-kqueue-4.1.74.Final.jar\n",
            "netty-transport-native-epoll-4.1.74.Final-linux-aarch_64.jar\n",
            "netty-transport-native-epoll-4.1.74.Final-linux-x86_64.jar\n",
            "netty-transport-native-kqueue-4.1.74.Final-osx-aarch_64.jar\n",
            "netty-transport-native-kqueue-4.1.74.Final-osx-x86_64.jar\n",
            "netty-transport-native-unix-common-4.1.74.Final.jar\n",
            "objenesis-3.2.jar\n",
            "okhttp-3.12.12.jar\n",
            "okio-1.14.0.jar\n",
            "opencsv-2.3.jar\n",
            "orc-core-1.7.6.jar\n",
            "orc-mapreduce-1.7.6.jar\n",
            "orc-shims-1.7.6.jar\n",
            "oro-2.0.8.jar\n",
            "osgi-resource-locator-1.0.3.jar\n",
            "paranamer-2.8.jar\n",
            "parquet-column-1.12.2.jar\n",
            "parquet-common-1.12.2.jar\n",
            "parquet-encoding-1.12.2.jar\n",
            "parquet-format-structures-1.12.2.jar\n",
            "parquet-hadoop-1.12.2.jar\n",
            "parquet-jackson-1.12.2.jar\n",
            "pickle-1.2.jar\n",
            "protobuf-java-2.5.0.jar\n",
            "py4j-0.10.9.5.jar\n",
            "redshift-jdbc42-2.1.0.14.jar\n",
            "redshift-jdbc42-2.1.0.14.jar.1\n",
            "RoaringBitmap-0.9.25.jar\n",
            "rocksdbjni-6.20.3.jar\n",
            "scala-collection-compat_2.12-2.1.1.jar\n",
            "scala-compiler-2.12.15.jar\n",
            "scala-library-2.12.15.jar\n",
            "scala-parser-combinators_2.12-1.1.2.jar\n",
            "scala-reflect-2.12.15.jar\n",
            "scala-xml_2.12-1.2.0.jar\n",
            "shapeless_2.12-2.3.7.jar\n",
            "shims-0.9.25.jar\n",
            "slf4j-api-1.7.32.jar\n",
            "snakeyaml-1.31.jar\n",
            "snappy-java-1.1.8.4.jar\n",
            "spark-catalyst_2.12-3.3.1.jar\n",
            "spark-core_2.12-3.3.1.jar\n",
            "spark-graphx_2.12-3.3.1.jar\n",
            "spark-hive_2.12-3.3.1.jar\n",
            "spark-hive-thriftserver_2.12-3.3.1.jar\n",
            "spark-kubernetes_2.12-3.3.1.jar\n",
            "spark-kvstore_2.12-3.3.1.jar\n",
            "spark-launcher_2.12-3.3.1.jar\n",
            "spark-mesos_2.12-3.3.1.jar\n",
            "spark-mllib_2.12-3.3.1.jar\n",
            "spark-mllib-local_2.12-3.3.1.jar\n",
            "spark-network-common_2.12-3.3.1.jar\n",
            "spark-network-shuffle_2.12-3.3.1.jar\n",
            "spark-repl_2.12-3.3.1.jar\n",
            "spark-sketch_2.12-3.3.1.jar\n",
            "spark-sql_2.12-3.3.1.jar\n",
            "spark-streaming_2.12-3.3.1.jar\n",
            "spark-tags_2.12-3.3.1.jar\n",
            "spark-tags_2.12-3.3.1-tests.jar\n",
            "spark-unsafe_2.12-3.3.1.jar\n",
            "spark-yarn_2.12-3.3.1.jar\n",
            "spire_2.12-0.17.0.jar\n",
            "spire-macros_2.12-0.17.0.jar\n",
            "spire-platform_2.12-0.17.0.jar\n",
            "spire-util_2.12-0.17.0.jar\n",
            "ST4-4.0.4.jar\n",
            "stax-api-1.0.1.jar\n",
            "stream-2.9.6.jar\n",
            "super-csv-2.2.0.jar\n",
            "threeten-extra-1.5.0.jar\n",
            "tink-1.6.1.jar\n",
            "transaction-api-1.1.jar\n",
            "univocity-parsers-2.9.1.jar\n",
            "velocity-1.5.jar\n",
            "xbean-asm9-shaded-4.20.jar\n",
            "xz-1.8.jar\n",
            "zjsonpatch-0.3.0.jar\n",
            "zookeeper-3.6.2.jar\n",
            "zookeeper-jute-3.6.2.jar\n",
            "zstd-jni-1.5.2-1.jar\n"
          ]
        }
      ]
    },
    {
      "cell_type": "code",
      "source": [
        "spark.stop()"
      ],
      "metadata": {
        "id": "aPMWuCmFkW55"
      },
      "execution_count": null,
      "outputs": []
    },
    {
      "cell_type": "code",
      "source": [
        "from pyspark.sql import SparkSession\n",
        "\n",
        "spark = SparkSession \\\n",
        "    .builder \\\n",
        "    .appName(\"Python Spark SQL #1\") \\\n",
        "    .getOrCreate()"
      ],
      "metadata": {
        "id": "Y4Q-4h-tk0C0"
      },
      "execution_count": 4,
      "outputs": []
    },
    {
      "cell_type": "code",
      "metadata": {
        "id": "3vm6tgcPXdnR"
      },
      "source": [
        "from pyspark.sql import SparkSession\n",
        "\n",
        "spark = SparkSession \\\n",
        "    .builder \\\n",
        "    .appName(\"Python Spark SQL #1\") \\\n",
        "    .config(\"spark.jars\", \"/usr/local/lib/python3.10/dist-packages/pyspark/jars/redshift-jdbc42-2.1.0.14.jar\") \\\n",
        "    .getOrCreate()"
      ],
      "execution_count": 9,
      "outputs": []
    },
    {
      "cell_type": "markdown",
      "source": [
        "## Redshift 상의 다음 테이블을 이용하여 월별 채널별 매출과 방문자 정보 계산하기\n",
        "user_session_channel, session_timestamp, session_transaction"
      ],
      "metadata": {
        "id": "ElawwmWzcylW"
      }
    },
    {
      "cell_type": "code",
      "metadata": {
        "id": "EEaNuN3xKNXm"
      },
      "source": [
        "# Redshift와 연결해서 DataFrame으로 로딩하기\n",
        "url = \"jdbc:redshift://learnde.cduaw970ssvt.ap-northeast-2.redshift.amazonaws.com:5439/dev?user=guest&password=Guest1234\"\n",
        "\n",
        "df_user_session_channel = spark.read \\\n",
        "    .format(\"jdbc\") \\\n",
        "    .option(\"driver\", \"com.amazon.redshift.jdbc42.Driver\") \\\n",
        "    .option(\"url\", url) \\\n",
        "    .option(\"dbtable\", \"raw_data.user_session_channel\") \\\n",
        "    .load()\n",
        "\n",
        "df_session_timestamp = spark.read \\\n",
        "    .format(\"jdbc\") \\\n",
        "    .option(\"driver\", \"com.amazon.redshift.jdbc42.Driver\") \\\n",
        "    .option(\"url\", url) \\\n",
        "    .option(\"dbtable\", \"raw_data.session_timestamp\") \\\n",
        "    .load()\n",
        "\n",
        "df_session_transaction = spark.read \\\n",
        "    .format(\"jdbc\") \\\n",
        "    .option(\"driver\", \"com.amazon.redshift.jdbc42.Driver\") \\\n",
        "    .option(\"url\", url) \\\n",
        "    .option(\"dbtable\", \"raw_data.session_transaction\") \\\n",
        "    .load()"
      ],
      "execution_count": 5,
      "outputs": []
    },
    {
      "cell_type": "code",
      "source": [
        "df_user_session_channel.createOrReplaceTempView(\"user_session_channel\")\n",
        "df_session_timestamp.createOrReplaceTempView(\"session_timestamp\")\n",
        "df_session_transaction.createOrReplaceTempView(\"session_transaction\")"
      ],
      "metadata": {
        "id": "AjcT5LWi7_B5"
      },
      "execution_count": 7,
      "outputs": []
    },
    {
      "cell_type": "code",
      "source": [
        "df_user_session_channel.show(5)"
      ],
      "metadata": {
        "colab": {
          "base_uri": "https://localhost:8080/"
        },
        "id": "f3UxHdoLC5Bt",
        "outputId": "7c2dabea-ca49-4d26-dcc9-9b96718c39ad"
      },
      "execution_count": 8,
      "outputs": [
        {
          "output_type": "stream",
          "name": "stdout",
          "text": [
            "+------+--------------------+-------+\n",
            "|userid|           sessionid|channel|\n",
            "+------+--------------------+-------+\n",
            "|  1491|00029153d12ae1c9a...|Organic|\n",
            "|    59|0002ac0d783338cfe...|  Naver|\n",
            "|   117|0006246bee639c7a7...|Youtube|\n",
            "|   572|0006dd05ea1e999dd...|Organic|\n",
            "|   935|0007cda84fafdcf42...| Google|\n",
            "+------+--------------------+-------+\n",
            "only showing top 5 rows\n",
            "\n"
          ]
        }
      ]
    },
    {
      "cell_type": "code",
      "source": [
        "df_session_timestamp.show(5)"
      ],
      "metadata": {
        "colab": {
          "base_uri": "https://localhost:8080/"
        },
        "id": "T9lIcukADIgk",
        "outputId": "2be43571-21a1-49ad-c68d-b4042cdfde36"
      },
      "execution_count": 9,
      "outputs": [
        {
          "output_type": "stream",
          "name": "stdout",
          "text": [
            "+--------------------+--------------------+\n",
            "|           sessionid|                  ts|\n",
            "+--------------------+--------------------+\n",
            "|00029153d12ae1c9a...|2019-10-18 14:14:...|\n",
            "|0004289ee1c7b8b08...|2019-11-16 21:20:...|\n",
            "|0006246bee639c7a7...|2019-08-10 16:33:...|\n",
            "|0006dd05ea1e999dd...|2019-07-06 19:54:...|\n",
            "|000958fdaefe0dd06...|2019-11-02 14:52:...|\n",
            "+--------------------+--------------------+\n",
            "only showing top 5 rows\n",
            "\n"
          ]
        }
      ]
    },
    {
      "cell_type": "code",
      "source": [
        "df_session_transaction.show(5)"
      ],
      "metadata": {
        "colab": {
          "base_uri": "https://localhost:8080/"
        },
        "id": "vwiwGeXRDNk2",
        "outputId": "6f567f27-1dfc-43a0-9a29-4e0627278b96"
      },
      "execution_count": 10,
      "outputs": [
        {
          "output_type": "stream",
          "name": "stdout",
          "text": [
            "+--------------------+--------+------+\n",
            "|           sessionid|refunded|amount|\n",
            "+--------------------+--------+------+\n",
            "|00029153d12ae1c9a...|   false|    85|\n",
            "|008909bd27b680698...|   false|    13|\n",
            "|0107acb41ef20db22...|   false|    16|\n",
            "|018544a2c48077d2c...|   false|    39|\n",
            "|020c38173caff0203...|   false|    61|\n",
            "+--------------------+--------+------+\n",
            "only showing top 5 rows\n",
            "\n"
          ]
        }
      ]
    },
    {
      "cell_type": "markdown",
      "source": [
        "## 총 매출이 가장 많은 사용자 10명 찾기"
      ],
      "metadata": {
        "id": "J2tg1Myi8Q5I"
      }
    },
    {
      "cell_type": "code",
      "metadata": {
        "id": "GdiSxs1030G0"
      },
      "source": [
        "# inner, left, right 조인 다 관계없이 똑같은 결과를 반환\n",
        "top_rev_user_df = spark.sql(\n",
        "    \"\"\"\n",
        "    SELECT userid,\n",
        "        SUM(str.amount) revenue,\n",
        "        SUM(CASE WHEN str.refunded = False THEN str.amount END) net_revenue\n",
        "    FROM user_session_channel usc\n",
        "    JOIN session_transaction str ON usc.sessionid = str.sessionid\n",
        "    GROUP BY 1\n",
        "    ORDER BY 2 DESC\n",
        "    LIMIT 10\n",
        "    \"\"\")"
      ],
      "execution_count": 11,
      "outputs": []
    },
    {
      "cell_type": "code",
      "metadata": {
        "colab": {
          "base_uri": "https://localhost:8080/"
        },
        "id": "whIte26D63hG",
        "outputId": "ae538e05-a811-40a0-f61e-e9503d8d7a48"
      },
      "source": [
        "top_rev_user_df.show()"
      ],
      "execution_count": 12,
      "outputs": [
        {
          "output_type": "stream",
          "name": "stdout",
          "text": [
            "+------+-------+-----------+\n",
            "|userid|revenue|net_revenue|\n",
            "+------+-------+-----------+\n",
            "|   989|    743|        743|\n",
            "|   772|    556|        556|\n",
            "|  1615|    506|        506|\n",
            "|   654|    488|        488|\n",
            "|  1651|    463|        463|\n",
            "|   973|    438|        438|\n",
            "|   262|    422|        422|\n",
            "|  1099|    421|        343|\n",
            "|  2682|    414|        414|\n",
            "|   891|    412|        412|\n",
            "+------+-------+-----------+\n",
            "\n"
          ]
        }
      ]
    },
    {
      "cell_type": "code",
      "source": [
        "top_rev_user_df2 = spark.sql(\n",
        "\"\"\"\n",
        "SELECT\n",
        "  userid,\n",
        "  SUM(amount) total_amount,\n",
        " \tRANK() OVER (ORDER BY SUM(amount) DESC) rank\n",
        "FROM session_transaction st\n",
        "JOIN user_session_channel usc ON st.sessionid = usc.sessionid\n",
        "GROUP\tBY userid\n",
        "ORDER BY rank\n",
        "LIMIT 10\n",
        "\"\"\")"
      ],
      "metadata": {
        "id": "W7JRcaAnbCHu"
      },
      "execution_count": 13,
      "outputs": []
    },
    {
      "cell_type": "code",
      "source": [
        "top_rev_user_df2.show()"
      ],
      "metadata": {
        "colab": {
          "base_uri": "https://localhost:8080/"
        },
        "id": "C50aAfvibpao",
        "outputId": "f9d44094-52d0-4851-8f66-cf3e9808c021"
      },
      "execution_count": 14,
      "outputs": [
        {
          "output_type": "stream",
          "name": "stdout",
          "text": [
            "+------+------------+----+\n",
            "|userid|total_amount|rank|\n",
            "+------+------------+----+\n",
            "|   989|         743|   1|\n",
            "|   772|         556|   2|\n",
            "|  1615|         506|   3|\n",
            "|   654|         488|   4|\n",
            "|  1651|         463|   5|\n",
            "|   973|         438|   6|\n",
            "|   262|         422|   7|\n",
            "|  1099|         421|   8|\n",
            "|  2682|         414|   9|\n",
            "|   891|         412|  10|\n",
            "+------+------------+----+\n",
            "\n"
          ]
        }
      ]
    },
    {
      "cell_type": "code",
      "source": [],
      "metadata": {
        "id": "R3tiGmw4brfe"
      },
      "execution_count": null,
      "outputs": []
    }
  ]
}