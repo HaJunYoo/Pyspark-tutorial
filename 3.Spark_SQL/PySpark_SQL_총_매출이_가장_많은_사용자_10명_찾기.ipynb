{
  "nbformat": 4,
  "nbformat_minor": 0,
  "metadata": {
    "colab": {
      "provenance": []
    },
    "kernelspec": {
      "name": "python3",
      "display_name": "Python 3"
    }
  },
  "cells": [
    {
      "cell_type": "markdown",
      "source": [
        "## PySpark 설치"
      ],
      "metadata": {
        "id": "Efh-3P4StVBg"
      }
    },
    {
      "cell_type": "code",
      "metadata": {
        "colab": {
          "base_uri": "https://localhost:8080/"
        },
        "id": "NbT0rpGfVdiq",
        "outputId": "5392f7cb-aa47-4c40-bca1-de29e9381be0"
      },
      "source": [
        "!pip install pyspark==3.3.1 py4j==0.10.9.5 "
      ],
      "execution_count": 1,
      "outputs": [
        {
          "output_type": "stream",
          "name": "stdout",
          "text": [
            "Looking in indexes: https://pypi.org/simple, https://us-python.pkg.dev/colab-wheels/public/simple/\n",
            "Collecting pyspark==3.3.1\n",
            "  Downloading pyspark-3.3.1.tar.gz (281.4 MB)\n",
            "\u001b[2K     \u001b[90m━━━━━━━━━━━━━━━━━━━━━━━━━━━━━━━━━━━━━━━\u001b[0m \u001b[32m281.4/281.4 MB\u001b[0m \u001b[31m4.5 MB/s\u001b[0m eta \u001b[36m0:00:00\u001b[0m\n",
            "\u001b[?25h  Preparing metadata (setup.py) ... \u001b[?25l\u001b[?25hdone\n",
            "Collecting py4j==0.10.9.5\n",
            "  Downloading py4j-0.10.9.5-py2.py3-none-any.whl (199 kB)\n",
            "\u001b[2K     \u001b[90m━━━━━━━━━━━━━━━━━━━━━━━━━━━━━━━━━━━━━━━\u001b[0m \u001b[32m199.7/199.7 KB\u001b[0m \u001b[31m2.8 MB/s\u001b[0m eta \u001b[36m0:00:00\u001b[0m\n",
            "\u001b[?25hBuilding wheels for collected packages: pyspark\n",
            "  Building wheel for pyspark (setup.py) ... \u001b[?25l\u001b[?25hdone\n",
            "  Created wheel for pyspark: filename=pyspark-3.3.1-py2.py3-none-any.whl size=281845512 sha256=55433cd68f4cd4838fce5969d3ddd9d3e62b0fd4be8be1891ea137c275dc2019\n",
            "  Stored in directory: /root/.cache/pip/wheels/43/dc/11/ec201cd671da62fa9c5cc77078235e40722170ceba231d7598\n",
            "Successfully built pyspark\n",
            "Installing collected packages: py4j, pyspark\n",
            "Successfully installed py4j-0.10.9.5 pyspark-3.3.1\n"
          ]
        }
      ]
    },
    {
      "cell_type": "code",
      "metadata": {
        "colab": {
          "base_uri": "https://localhost:8080/"
        },
        "id": "OdTTZZqVA0Xa",
        "outputId": "894b3260-74dc-4ec1-a5ed-dd9f57e83ce0"
      },
      "source": [
        "!cd /usr/local/lib/python3.8/dist-packages/pyspark/jars && wget https://s3.amazonaws.com/redshift-downloads/drivers/jdbc/1.2.20.1043/RedshiftJDBC42-no-awssdk-1.2.20.1043.jar"
      ],
      "execution_count": 2,
      "outputs": [
        {
          "output_type": "stream",
          "name": "stdout",
          "text": [
            "--2023-01-23 18:16:07--  https://s3.amazonaws.com/redshift-downloads/drivers/jdbc/1.2.20.1043/RedshiftJDBC42-no-awssdk-1.2.20.1043.jar\n",
            "Resolving s3.amazonaws.com (s3.amazonaws.com)... 52.216.49.80, 52.216.146.133, 54.231.236.112, ...\n",
            "Connecting to s3.amazonaws.com (s3.amazonaws.com)|52.216.49.80|:443... connected.\n",
            "HTTP request sent, awaiting response... 200 OK\n",
            "Length: 2413910 (2.3M) [application/java-archive]\n",
            "Saving to: ‘RedshiftJDBC42-no-awssdk-1.2.20.1043.jar’\n",
            "\n",
            "RedshiftJDBC42-no-a 100%[===================>]   2.30M  12.5MB/s    in 0.2s    \n",
            "\n",
            "2023-01-23 18:16:07 (12.5 MB/s) - ‘RedshiftJDBC42-no-awssdk-1.2.20.1043.jar’ saved [2413910/2413910]\n",
            "\n"
          ]
        }
      ]
    },
    {
      "cell_type": "code",
      "metadata": {
        "id": "3vm6tgcPXdnR"
      },
      "source": [
        "from pyspark.sql import SparkSession\n",
        "\n",
        "spark = SparkSession \\\n",
        "    .builder \\\n",
        "    .appName(\"Python Spark SQL #1\") \\\n",
        "    .getOrCreate()"
      ],
      "execution_count": 3,
      "outputs": []
    },
    {
      "cell_type": "markdown",
      "source": [
        "## Redshift 상의 다음 테이블을 이용하여 월별 채널별 매출과 방문자 정보 계산하기\n",
        "user_session_channel, session_timestamp, session_transaction"
      ],
      "metadata": {
        "id": "ElawwmWzcylW"
      }
    },
    {
      "cell_type": "code",
      "metadata": {
        "id": "EEaNuN3xKNXm"
      },
      "source": [
        "# Redshift와 연결해서 DataFrame으로 로딩하기\n",
        "url = \"jdbc:redshift://learnde.cduaw970ssvt.ap-northeast-2.redshift.amazonaws.com:5439/dev?user=guest&password=Guest1234\"\n",
        "\n",
        "df_user_session_channel = spark.read \\\n",
        "    .format(\"jdbc\") \\\n",
        "    .option(\"driver\", \"com.amazon.redshift.jdbc42.Driver\") \\\n",
        "    .option(\"url\", url) \\\n",
        "    .option(\"dbtable\", \"raw_data.user_session_channel\") \\\n",
        "    .load()\n",
        "\n",
        "df_session_timestamp = spark.read \\\n",
        "    .format(\"jdbc\") \\\n",
        "    .option(\"driver\", \"com.amazon.redshift.jdbc42.Driver\") \\\n",
        "    .option(\"url\", url) \\\n",
        "    .option(\"dbtable\", \"raw_data.session_timestamp\") \\\n",
        "    .load()\n",
        "\n",
        "df_session_transaction = spark.read \\\n",
        "    .format(\"jdbc\") \\\n",
        "    .option(\"driver\", \"com.amazon.redshift.jdbc42.Driver\") \\\n",
        "    .option(\"url\", url) \\\n",
        "    .option(\"dbtable\", \"raw_data.session_transaction\") \\\n",
        "    .load()"
      ],
      "execution_count": 4,
      "outputs": []
    },
    {
      "cell_type": "code",
      "source": [
        "df_user_session_channel.createOrReplaceTempView(\"user_session_channel\")\n",
        "df_session_timestamp.createOrReplaceTempView(\"session_timestamp\")\n",
        "df_session_transaction.createOrReplaceTempView(\"session_transaction\")"
      ],
      "metadata": {
        "id": "AjcT5LWi7_B5"
      },
      "execution_count": 5,
      "outputs": []
    },
    {
      "cell_type": "code",
      "source": [
        "df_user_session_channel.show(5)"
      ],
      "metadata": {
        "colab": {
          "base_uri": "https://localhost:8080/"
        },
        "id": "f3UxHdoLC5Bt",
        "outputId": "a3547556-3f92-43fa-d7e6-f6086a6ddc13"
      },
      "execution_count": 6,
      "outputs": [
        {
          "output_type": "stream",
          "name": "stdout",
          "text": [
            "+------+--------------------+---------+\n",
            "|userid|           sessionid|  channel|\n",
            "+------+--------------------+---------+\n",
            "|  1651|0004289ee1c7b8b08...|  Organic|\n",
            "|  1197|00053f5e11d1fe4e4...| Facebook|\n",
            "|  1401|00056c20eb5a02958...| Facebook|\n",
            "|  1399|00063cb5da1826feb...| Facebook|\n",
            "|  1667|000958fdaefe0dd06...|Instagram|\n",
            "+------+--------------------+---------+\n",
            "only showing top 5 rows\n",
            "\n"
          ]
        }
      ]
    },
    {
      "cell_type": "code",
      "source": [
        "df_session_timestamp.show(5)"
      ],
      "metadata": {
        "colab": {
          "base_uri": "https://localhost:8080/"
        },
        "id": "T9lIcukADIgk",
        "outputId": "13e8be2a-dc49-4231-e864-dd5c4cf617fa"
      },
      "execution_count": 7,
      "outputs": [
        {
          "output_type": "stream",
          "name": "stdout",
          "text": [
            "+--------------------+--------------------+\n",
            "|           sessionid|                  ts|\n",
            "+--------------------+--------------------+\n",
            "|00029153d12ae1c9a...|2019-10-18 14:14:...|\n",
            "|0004289ee1c7b8b08...|2019-11-16 21:20:...|\n",
            "|0006246bee639c7a7...|2019-08-10 16:33:...|\n",
            "|0006dd05ea1e999dd...|2019-07-06 19:54:...|\n",
            "|000958fdaefe0dd06...|2019-11-02 14:52:...|\n",
            "+--------------------+--------------------+\n",
            "only showing top 5 rows\n",
            "\n"
          ]
        }
      ]
    },
    {
      "cell_type": "code",
      "source": [
        "df_session_transaction.show(5)"
      ],
      "metadata": {
        "colab": {
          "base_uri": "https://localhost:8080/"
        },
        "id": "vwiwGeXRDNk2",
        "outputId": "5b479434-d711-44ff-b926-28b1d7f503de"
      },
      "execution_count": 8,
      "outputs": [
        {
          "output_type": "stream",
          "name": "stdout",
          "text": [
            "+--------------------+--------+------+\n",
            "|           sessionid|refunded|amount|\n",
            "+--------------------+--------+------+\n",
            "|00029153d12ae1c9a...|   false|    85|\n",
            "|008909bd27b680698...|   false|    13|\n",
            "|0107acb41ef20db22...|   false|    16|\n",
            "|018544a2c48077d2c...|   false|    39|\n",
            "|020c38173caff0203...|   false|    61|\n",
            "+--------------------+--------+------+\n",
            "only showing top 5 rows\n",
            "\n"
          ]
        }
      ]
    },
    {
      "cell_type": "markdown",
      "source": [
        "## 총 매출이 가장 많은 사용자 10명 찾기"
      ],
      "metadata": {
        "id": "J2tg1Myi8Q5I"
      }
    },
    {
      "cell_type": "code",
      "metadata": {
        "id": "GdiSxs1030G0"
      },
      "source": [
        "top_rev_user_df = spark.sql(\"\"\"\n",
        "    SELECT userid,\n",
        "        SUM(str.amount) revenue,\n",
        "        SUM(CASE WHEN str.refunded = False THEN str.amount END) net_revenue\n",
        "    FROM user_session_channel usc\n",
        "    JOIN session_transaction str ON usc.sessionid = str.sessionid\n",
        "    GROUP BY 1\n",
        "    ORDER BY 2 DESC\n",
        "    LIMIT 10\"\"\")"
      ],
      "execution_count": 13,
      "outputs": []
    },
    {
      "cell_type": "code",
      "metadata": {
        "colab": {
          "base_uri": "https://localhost:8080/"
        },
        "id": "whIte26D63hG",
        "outputId": "37c3590c-2a8e-4268-911b-06f43d1f8d79"
      },
      "source": [
        "top_rev_user_df.show()"
      ],
      "execution_count": 14,
      "outputs": [
        {
          "output_type": "stream",
          "name": "stdout",
          "text": [
            "+------+-------+-----------+\n",
            "|userid|revenue|net_revenue|\n",
            "+------+-------+-----------+\n",
            "|   989|    743|        743|\n",
            "|   772|    556|        556|\n",
            "|  1615|    506|        506|\n",
            "|   654|    488|        488|\n",
            "|  1651|    463|        463|\n",
            "|   973|    438|        438|\n",
            "|   262|    422|        422|\n",
            "|  1099|    421|        343|\n",
            "|  2682|    414|        414|\n",
            "|   891|    412|        412|\n",
            "+------+-------+-----------+\n",
            "\n"
          ]
        }
      ]
    },
    {
      "cell_type": "code",
      "source": [
        "top_rev_user_df2 = spark.sql(\"\"\"\n",
        "SELECT\n",
        "  userid,\n",
        "  SUM(amount) total_amount, \n",
        " \tRANK() OVER (ORDER BY SUM(amount) DESC) rank\n",
        "FROM session_transaction st\n",
        "JOIN user_session_channel usc ON st.sessionid = usc.sessionid\n",
        "GROUP\tBY userid\n",
        "ORDER BY rank\n",
        "LIMIT 10\"\"\")"
      ],
      "metadata": {
        "id": "W7JRcaAnbCHu"
      },
      "execution_count": 15,
      "outputs": []
    },
    {
      "cell_type": "code",
      "source": [
        "top_rev_user_df2.show()"
      ],
      "metadata": {
        "colab": {
          "base_uri": "https://localhost:8080/"
        },
        "id": "C50aAfvibpao",
        "outputId": "d734a220-2dd8-40dc-fb6c-2ba7ea7c10fd"
      },
      "execution_count": 16,
      "outputs": [
        {
          "output_type": "stream",
          "name": "stdout",
          "text": [
            "+------+------------+----+\n",
            "|userid|total_amount|rank|\n",
            "+------+------------+----+\n",
            "|   989|         743|   1|\n",
            "|   772|         556|   2|\n",
            "|  1615|         506|   3|\n",
            "|   654|         488|   4|\n",
            "|  1651|         463|   5|\n",
            "|   973|         438|   6|\n",
            "|   262|         422|   7|\n",
            "|  1099|         421|   8|\n",
            "|  2682|         414|   9|\n",
            "|   891|         412|  10|\n",
            "+------+------------+----+\n",
            "\n"
          ]
        }
      ]
    },
    {
      "cell_type": "code",
      "source": [],
      "metadata": {
        "id": "R3tiGmw4brfe"
      },
      "execution_count": null,
      "outputs": []
    }
  ]
}