{
  "nbformat": 4,
  "nbformat_minor": 0,
  "metadata": {
    "colab": {
      "provenance": []
    },
    "kernelspec": {
      "name": "python3",
      "display_name": "Python 3"
    },
    "language_info": {
      "name": "python"
    }
  },
  "cells": [
    {
      "cell_type": "code",
      "source": [
        "!pip install pyspark==3.3.1 py4j==0.10.9.5"
      ],
      "metadata": {
        "colab": {
          "base_uri": "https://localhost:8080/"
        },
        "id": "Q_Wyv6ahKs8R",
        "outputId": "7e123d41-152b-4903-fbc5-0599012ce675"
      },
      "execution_count": null,
      "outputs": [
        {
          "output_type": "stream",
          "name": "stdout",
          "text": [
            "Looking in indexes: https://pypi.org/simple, https://us-python.pkg.dev/colab-wheels/public/simple/\n",
            "Requirement already satisfied: pyspark==3.0.1 in /usr/local/lib/python3.8/dist-packages (3.0.1)\n",
            "Requirement already satisfied: py4j==0.10.9 in /usr/local/lib/python3.8/dist-packages (0.10.9)\n"
          ]
        }
      ]
    },
    {
      "cell_type": "code",
      "source": [
        "from pyspark.sql import SparkSession\n",
        "\n",
        "spark = SparkSession.builder\\\n",
        "        .master(\"local[*]\")\\\n",
        "        .appName('PySpark DataFrame #2')\\\n",
        "        .getOrCreate()"
      ],
      "metadata": {
        "id": "zS9lNDeRKygm"
      },
      "execution_count": null,
      "outputs": []
    },
    {
      "cell_type": "code",
      "source": [
        "!wget https://s3-geospatial.s3-us-west-2.amazonaws.com/customer-orders.csv"
      ],
      "metadata": {
        "colab": {
          "base_uri": "https://localhost:8080/"
        },
        "id": "Sg6lKFCVK5uw",
        "outputId": "877aa225-79a4-4e38-b0fd-75bd781ae4c9"
      },
      "execution_count": null,
      "outputs": [
        {
          "output_type": "stream",
          "name": "stdout",
          "text": [
            "--2023-01-15 20:45:38--  https://s3-geospatial.s3-us-west-2.amazonaws.com/customer-orders.csv\n",
            "Resolving s3-geospatial.s3-us-west-2.amazonaws.com (s3-geospatial.s3-us-west-2.amazonaws.com)... 52.92.241.154, 52.218.229.249, 52.92.197.42, ...\n",
            "Connecting to s3-geospatial.s3-us-west-2.amazonaws.com (s3-geospatial.s3-us-west-2.amazonaws.com)|52.92.241.154|:443... connected.\n",
            "HTTP request sent, awaiting response... 200 OK\n",
            "Length: 146855 (143K) [text/csv]\n",
            "Saving to: ‘customer-orders.csv.1’\n",
            "\n",
            "customer-orders.csv 100%[===================>] 143.41K   581KB/s    in 0.2s    \n",
            "\n",
            "2023-01-15 20:45:38 (581 KB/s) - ‘customer-orders.csv.1’ saved [146855/146855]\n",
            "\n"
          ]
        }
      ]
    },
    {
      "cell_type": "code",
      "source": [
        "!ls -tl"
      ],
      "metadata": {
        "colab": {
          "base_uri": "https://localhost:8080/"
        },
        "id": "bu8GWTxe00mU",
        "outputId": "f7742f70-8f66-4599-ee91-1c979530bd98"
      },
      "execution_count": null,
      "outputs": [
        {
          "output_type": "stream",
          "name": "stdout",
          "text": [
            "total 296\n",
            "drwxr-xr-x 2 root root   4096 Jan 15 20:43 spark-warehouse\n",
            "drwxr-xr-x 1 root root   4096 Jan  9 14:36 sample_data\n",
            "-rw-r--r-- 1 root root 146855 Apr 10  2022 customer-orders.csv\n",
            "-rw-r--r-- 1 root root 146855 Apr 10  2022 customer-orders.csv.1\n"
          ]
        }
      ]
    },
    {
      "cell_type": "code",
      "source": [
        "!head -5 customer-orders.csv"
      ],
      "metadata": {
        "colab": {
          "base_uri": "https://localhost:8080/"
        },
        "id": "5YvtHiOye2uV",
        "outputId": "cb3df0ea-a3b9-496d-c4b4-9aa749b59dd5"
      },
      "execution_count": null,
      "outputs": [
        {
          "output_type": "stream",
          "name": "stdout",
          "text": [
            "44,8602,37.19\r\n",
            "35,5368,65.89\r\n",
            "2,3391,40.64\r\n",
            "47,6694,14.98\r\n",
            "29,680,13.08\r\n"
          ]
        }
      ]
    },
    {
      "cell_type": "code",
      "source": [
        "from pyspark.sql import SparkSession\n",
        "from pyspark.sql import functions as func\n",
        "from pyspark.sql.types import StructType, StructField, StringType, FloatType\n",
        "\n",
        "schema = StructType([ \\\n",
        "                     StructField(\"cust_id\", StringType(), True), \\\n",
        "                     StructField(\"item_id\", StringType(), True), \\\n",
        "                     StructField(\"amount_spent\", FloatType(), True)])"
      ],
      "metadata": {
        "id": "uUE5_pgHMBZi"
      },
      "execution_count": null,
      "outputs": []
    },
    {
      "cell_type": "code",
      "source": [
        "df = spark.read.schema(schema).csv(\"customer-orders.csv\")\n",
        "df.printSchema()"
      ],
      "metadata": {
        "colab": {
          "base_uri": "https://localhost:8080/"
        },
        "id": "AjRdJ_JZMTx7",
        "outputId": "f64a502c-7e71-45b3-9d0c-4a95ec33fafd"
      },
      "execution_count": null,
      "outputs": [
        {
          "output_type": "stream",
          "name": "stdout",
          "text": [
            "root\n",
            " |-- cust_id: string (nullable = true)\n",
            " |-- item_id: string (nullable = true)\n",
            " |-- amount_spent: float (nullable = true)\n",
            "\n"
          ]
        }
      ]
    },
    {
      "cell_type": "code",
      "source": [
        "df_ca = df.groupBy(\"cust_id\").sum(\"amount_spent\")"
      ],
      "metadata": {
        "id": "izFlYOHIMcTX"
      },
      "execution_count": null,
      "outputs": []
    },
    {
      "cell_type": "code",
      "source": [
        "df_ca.show()"
      ],
      "metadata": {
        "colab": {
          "base_uri": "https://localhost:8080/"
        },
        "id": "PFMq54O2MjJp",
        "outputId": "c0fdf70d-a055-4cdf-a26b-3f87a250c871"
      },
      "execution_count": null,
      "outputs": [
        {
          "output_type": "stream",
          "name": "stdout",
          "text": [
            "+-------+------------------+\n",
            "|cust_id| sum(amount_spent)|\n",
            "+-------+------------------+\n",
            "|     51| 4975.219970226288|\n",
            "|      7| 4755.070008277893|\n",
            "|     15| 5413.510010659695|\n",
            "|     54| 6065.390002984554|\n",
            "|     11| 5152.289969373494|\n",
            "|     29|5032.5300433933735|\n",
            "|     69| 5123.010002791882|\n",
            "|     42| 5696.840004444122|\n",
            "|     73| 6206.199985742569|\n",
            "|     87| 5206.400022745132|\n",
            "|     64| 5288.690012812614|\n",
            "|      3| 4659.629958629608|\n",
            "|     30| 4990.720004022121|\n",
            "|     34|5330.8000039458275|\n",
            "|     59| 5642.890004396439|\n",
            "|      8|5517.2399980425835|\n",
            "|     22| 5019.449993014336|\n",
            "|     28|  5000.71000123024|\n",
            "|     85|  5503.42998456955|\n",
            "|     35|  5155.41999566555|\n",
            "+-------+------------------+\n",
            "only showing top 20 rows\n",
            "\n"
          ]
        }
      ]
    },
    {
      "cell_type": "code",
      "source": [
        "df_ca = df.groupBy(\"cust_id\").sum(\"amount_spent\").withColumnRenamed(\"sum(amount_spent)\", \"sum\")"
      ],
      "metadata": {
        "id": "Crvi5WNGegYH"
      },
      "execution_count": null,
      "outputs": []
    },
    {
      "cell_type": "code",
      "source": [
        "df_ca.show(10)"
      ],
      "metadata": {
        "colab": {
          "base_uri": "https://localhost:8080/"
        },
        "id": "80yf2KbDeqMG",
        "outputId": "3cf73d33-81a7-449b-fc68-ce085c61b641"
      },
      "execution_count": null,
      "outputs": [
        {
          "output_type": "stream",
          "name": "stdout",
          "text": [
            "+-------+------------------+\n",
            "|cust_id|               sum|\n",
            "+-------+------------------+\n",
            "|     51| 4975.219970226288|\n",
            "|      7| 4755.070008277893|\n",
            "|     15| 5413.510010659695|\n",
            "|     54| 6065.390002984554|\n",
            "|     11| 5152.289969373494|\n",
            "|     29|5032.5300433933735|\n",
            "|     69| 5123.010002791882|\n",
            "|     42| 5696.840004444122|\n",
            "|     73| 6206.199985742569|\n",
            "|     87| 5206.400022745132|\n",
            "+-------+------------------+\n",
            "only showing top 10 rows\n",
            "\n"
          ]
        }
      ]
    },
    {
      "cell_type": "code",
      "source": [
        "import pyspark.sql.functions as f\n",
        "\n",
        "df_ca = df.groupBy(\"cust_id\") \\\n",
        "   .agg(f.sum('amount_spent').alias('sum'))"
      ],
      "metadata": {
        "id": "iV0-FcRod4L4"
      },
      "execution_count": null,
      "outputs": []
    },
    {
      "cell_type": "code",
      "source": [
        "df_ca.show(5)"
      ],
      "metadata": {
        "colab": {
          "base_uri": "https://localhost:8080/"
        },
        "id": "-SZeZlahfaKN",
        "outputId": "2374a59d-f0a6-4f60-cb19-7dba892fe490"
      },
      "execution_count": null,
      "outputs": [
        {
          "output_type": "stream",
          "name": "stdout",
          "text": [
            "+-------+-----------------+\n",
            "|cust_id|              sum|\n",
            "+-------+-----------------+\n",
            "|     51|4975.219970226288|\n",
            "|      7|4755.070008277893|\n",
            "|     15|5413.510010659695|\n",
            "|     54|6065.390002984554|\n",
            "|     11|5152.289969373494|\n",
            "+-------+-----------------+\n",
            "only showing top 5 rows\n",
            "\n"
          ]
        }
      ]
    },
    {
      "cell_type": "markdown",
      "source": [
        "MAX와 AVG 값도 구하고 싶다면?"
      ],
      "metadata": {
        "id": "NnHBrnc_fwuY"
      }
    },
    {
      "cell_type": "code",
      "source": [
        "df.groupBy(\"cust_id\") \\\n",
        "   .agg(\n",
        "       f.sum('amount_spent').alias('sum'),\n",
        "       f.max('amount_spent').alias('max'),\n",
        "       f.avg('amount_spent').alias('avg')).collect()"
      ],
      "metadata": {
        "colab": {
          "base_uri": "https://localhost:8080/"
        },
        "id": "z-ShYvoJfbER",
        "outputId": "c19a2f6e-5ebd-4a9d-a59a-ec2a0185c9c7"
      },
      "execution_count": null,
      "outputs": [
        {
          "output_type": "execute_result",
          "data": {
            "text/plain": [
              "[Row(cust_id='51', sum=4975.219970226288, max=97.61000061035156, avg=48.77666637476753),\n",
              " Row(cust_id='7', sum=4755.070008277893, max=98.5999984741211, avg=50.58585115189248),\n",
              " Row(cust_id='15', sum=5413.510010659695, max=99.56999969482422, avg=52.05298087172783),\n",
              " Row(cust_id='54', sum=6065.390002984554, max=99.2300033569336, avg=49.31211384540288),\n",
              " Row(cust_id='11', sum=5152.289969373494, max=99.11000061035156, avg=47.70638860531013),\n",
              " Row(cust_id='29', sum=5032.5300433933735, max=99.87000274658203, avg=45.75027312175794),\n",
              " Row(cust_id='69', sum=5123.010002791882, max=98.91999816894531, avg=51.230100027918816),\n",
              " Row(cust_id='42', sum=5696.840004444122, max=99.05999755859375, avg=56.968400044441225),\n",
              " Row(cust_id='73', sum=6206.199985742569, max=99.98999786376953, avg=52.594915133411604),\n",
              " Row(cust_id='87', sum=5206.400022745132, max=99.97000122070312, avg=54.2333335702618),\n",
              " Row(cust_id='64', sum=5288.690012812614, max=99.55999755859375, avg=49.427009465538454),\n",
              " Row(cust_id='3', sum=4659.629958629608, max=99.83000183105469, avg=51.20472482010558),\n",
              " Row(cust_id='30', sum=4990.720004022121, max=98.76000213623047, avg=47.08226418888794),\n",
              " Row(cust_id='34', sum=5330.8000039458275, max=99.68000030517578, avg=50.769523847103116),\n",
              " Row(cust_id='59', sum=5642.890004396439, max=99.66000366210938, avg=51.29900003996762),\n",
              " Row(cust_id='8', sum=5517.2399980425835, max=98.70999908447266, avg=49.70486484723048),\n",
              " Row(cust_id='22', sum=5019.449993014336, max=99.06999969482422, avg=53.39840418100357),\n",
              " Row(cust_id='28', sum=5000.71000123024, max=99.68000030517578, avg=51.553711352889074),\n",
              " Row(cust_id='85', sum=5503.42998456955, max=98.68000030517578, avg=52.41361890066238),\n",
              " Row(cust_id='35', sum=5155.41999566555, max=99.2699966430664, avg=46.86745450605046),\n",
              " Row(cust_id='16', sum=4979.059988319874, max=99.94999694824219, avg=45.679449434127285),\n",
              " Row(cust_id='52', sum=5245.05999673903, max=99.4000015258789, avg=53.52102037488806),\n",
              " Row(cust_id='0', sum=5524.950008839369, max=99.44999694824219, avg=47.22179494734503),\n",
              " Row(cust_id='71', sum=5995.659991919994, max=98.25, avg=55.00605497174307),\n",
              " Row(cust_id='98', sum=4297.259994864464, max=98.6500015258789, avg=48.832499941641636),\n",
              " Row(cust_id='47', sum=4316.299998342991, max=99.73999786376953, avg=50.189534864453385),\n",
              " Row(cust_id='99', sum=4172.290024012327, max=99.73999786376953, avg=45.350978521873124),\n",
              " Row(cust_id='96', sum=3924.2299877405167, max=99.83999633789062, avg=43.602555419339076),\n",
              " Row(cust_id='43', sum=5368.830015063286, max=99.19999694824219, avg=51.623365529454674),\n",
              " Row(cust_id='5', sum=4561.0700044333935, max=99.94000244140625, avg=49.04376348853111),\n",
              " Row(cust_id='31', sum=4765.050008416176, max=98.58000183105469, avg=47.650500084161756),\n",
              " Row(cust_id='18', sum=4921.2700062170625, max=99.55000305175781, avg=47.77932044870934),\n",
              " Row(cust_id='70', sum=5368.249986544251, max=99.83999633789062, avg=49.706018393928254),\n",
              " Row(cust_id='61', sum=5497.479998707771, max=99.94999694824219, avg=53.89686273242913),\n",
              " Row(cust_id='27', sum=4915.890009522438, max=99.62999725341797, avg=47.26817316848498),\n",
              " Row(cust_id='75', sum=4178.499995291233, max=97.87999725341797, avg=46.42777772545814),\n",
              " Row(cust_id='17', sum=5032.680001735687, max=99.70999908447266, avg=52.97557896563881),\n",
              " Row(cust_id='26', sum=5250.399979650974, max=97.33999633789062, avg=46.05614017237697),\n",
              " Row(cust_id='46', sum=5963.110011339188, max=99.22000122070312, avg=51.85313053338424),\n",
              " Row(cust_id='78', sum=4524.510001778603, max=98.4000015258789, avg=51.41488638384776),\n",
              " Row(cust_id='77', sum=4327.730022907257, max=99.94000244140625, avg=55.483718242400734),\n",
              " Row(cust_id='89', sum=4851.480018436909, max=97.06999969482422, avg=48.0344556280882),\n",
              " Row(cust_id='6', sum=5397.880012750626, max=99.6500015258789, avg=51.408381073815484),\n",
              " Row(cust_id='60', sum=5040.710016489029, max=99.80999755859375, avg=53.06010543672662),\n",
              " Row(cust_id='90', sum=5290.410029888153, max=98.36000061035156, avg=51.36320417367139),\n",
              " Row(cust_id='68', sum=6375.450028181076, max=99.79000091552734, avg=55.43869589722675),\n",
              " Row(cust_id='19', sum=5059.429994106293, max=99.61000061035156, avg=51.626836674554006),\n",
              " Row(cust_id='23', sum=4042.650001913309, max=98.73999786376953, avg=48.1267857370632),\n",
              " Row(cust_id='41', sum=5637.619991332293, max=99.5999984741211, avg=53.185094257851816),\n",
              " Row(cust_id='55', sum=5298.090022087097, max=97.95999908447266, avg=50.458000210353305),\n",
              " Row(cust_id='95', sum=4876.840013846755, max=99.88999938964844, avg=50.276701173677885),\n",
              " Row(cust_id='93', sum=5265.7500213086605, max=98.66999816894531, avg=49.212617021576264),\n",
              " Row(cust_id='40', sum=5186.430004000664, max=99.30000305175781, avg=45.49500003509354),\n",
              " Row(cust_id='38', sum=4898.459992894903, max=99.94000244140625, avg=49.479393867625284),\n",
              " Row(cust_id='25', sum=5057.6099898815155, max=99.8499984741211, avg=51.60826520287261),\n",
              " Row(cust_id='44', sum=4756.890008449554, max=99.87999725341797, avg=51.7053261787995),\n",
              " Row(cust_id='82', sum=4812.490003585815, max=99.61000061035156, avg=49.107040852916484),\n",
              " Row(cust_id='53', sum=4945.300026416779, max=99.51000213623047, avg=52.609574749114664),\n",
              " Row(cust_id='92', sum=5379.280023932457, max=99.83000183105469, avg=54.8906124891067),\n",
              " Row(cust_id='86', sum=4908.810004234314, max=98.97000122070312, avg=48.125588276807),\n",
              " Row(cust_id='58', sum=5437.730004191399, max=99.4800033569336, avg=52.2858654249173),\n",
              " Row(cust_id='81', sum=5112.7100045681, max=99.08000183105469, avg=50.12460788792255),\n",
              " Row(cust_id='33', sum=5254.659994900227, max=99.97000122070312, avg=50.52557687404064),\n",
              " Row(cust_id='48', sum=4384.329996109009, max=99.62999725341797, avg=51.580352895400104),\n",
              " Row(cust_id='97', sum=5977.190007060766, max=99.5999984741211, avg=53.367767920185415),\n",
              " Row(cust_id='67', sum=4505.78999453038, max=99.12000274658203, avg=47.42936836347768),\n",
              " Row(cust_id='84', sum=4652.939991295338, max=99.16999816894531, avg=48.468124909326434),\n",
              " Row(cust_id='79', sum=3790.569982469082, max=99.81999969482422, avg=46.797160277396074),\n",
              " Row(cust_id='9', sum=5322.64999294281, max=98.97000122070312, avg=51.676213523716605),\n",
              " Row(cust_id='24', sum=5259.92001748085, max=98.62999725341797, avg=51.06718463573641),\n",
              " Row(cust_id='32', sum=5496.049998283386, max=98.94999694824219, avg=53.359708721197926),\n",
              " Row(cust_id='88', sum=4830.549984455109, max=99.66999816894531, avg=47.82722756886246),\n",
              " Row(cust_id='1', sum=4958.599974133074, max=96.80000305175781, avg=44.672071839036704),\n",
              " Row(cust_id='20', sum=4836.860020637512, max=98.9800033569336, avg=51.45595766635651),\n",
              " Row(cust_id='56', sum=4701.020000040531, max=99.27999877929688, avg=47.01020000040531),\n",
              " Row(cust_id='36', sum=4278.049998521805, max=96.45999908447266, avg=51.54277106652777),\n",
              " Row(cust_id='10', sum=4819.699996152893, max=99.43000030517578, avg=49.68762882631848),\n",
              " Row(cust_id='37', sum=4735.199992477894, max=99.83999633789062, avg=45.97281546095043),\n",
              " Row(cust_id='49', sum=4394.599998474121, max=99.8499984741211, avg=45.77708331743876),\n",
              " Row(cust_id='63', sum=5415.150004655123, max=99.44000244140625, avg=47.92168145712498),\n",
              " Row(cust_id='65', sum=5140.349995829165, max=98.52999877929688, avg=48.493867885180805),\n",
              " Row(cust_id='4', sum=4815.050017774105, max=96.23999786376953, avg=49.63969090488768),\n",
              " Row(cust_id='39', sum=6193.109993815422, max=99.7699966430664, avg=52.04294112449934),\n",
              " Row(cust_id='62', sum=5253.320019304752, max=99.87000274658203, avg=52.013069498066855),\n",
              " Row(cust_id='12', sum=4664.589988231659, max=98.73999786376953, avg=50.70206508947455),\n",
              " Row(cust_id='83', sum=4635.799997210503, max=99.23999786376953, avg=47.79175254856188),\n",
              " Row(cust_id='13', sum=4367.619992315769, max=98.13999938964844, avg=50.202528647307695),\n",
              " Row(cust_id='14', sum=4735.0300142765045, max=99.73999786376953, avg=47.35030014276504),\n",
              " Row(cust_id='21', sum=4707.409991621971, max=98.20999908447266, avg=50.07882969810608),\n",
              " Row(cust_id='66', sum=4681.919987842441, max=98.72000122070312, avg=50.343225675725165),\n",
              " Row(cust_id='91', sum=4642.259980916977, max=98.38999938964844, avg=51.0138459441426),\n",
              " Row(cust_id='94', sum=4475.569978475571, max=99.83999633789062, avg=45.66908141301603),\n",
              " Row(cust_id='72', sum=5337.439985603094, max=98.04000091552734, avg=53.37439985603094),\n",
              " Row(cust_id='74', sum=4647.129976034164, max=99.33999633789062, avg=49.43755293653366),\n",
              " Row(cust_id='76', sum=4904.210003614426, max=97.91000366210938, avg=53.30663047406984),\n",
              " Row(cust_id='2', sum=5994.589979887009, max=99.54000091552734, avg=50.80160999904245),\n",
              " Row(cust_id='80', sum=4727.860013484955, max=98.87000274658203, avg=54.97511643587157),\n",
              " Row(cust_id='50', sum=4517.269991545007, max=98.75, avg=45.628989813585925),\n",
              " Row(cust_id='57', sum=4628.399988114834, max=98.97000122070312, avg=50.86153833093224),\n",
              " Row(cust_id='45', sum=3309.3800055980682, max=92.20999908447266, avg=44.721351427000926)]"
            ]
          },
          "metadata": {},
          "execution_count": 14
        }
      ]
    },
    {
      "cell_type": "markdown",
      "source": [
        "## Spark SQL로 처리해보기"
      ],
      "metadata": {
        "id": "7OVkg9hsKNu1"
      }
    },
    {
      "cell_type": "code",
      "source": [
        "df.createOrReplaceTempView(\"customer_orders\")"
      ],
      "metadata": {
        "id": "OeXRImQCf_AJ"
      },
      "execution_count": null,
      "outputs": []
    },
    {
      "cell_type": "code",
      "source": [
        "spark.sql(\"\"\"SELECT cust_id, SUM(amount_spent) sum, MAX(amount_spent) max, AVG(amount_spent) avg\n",
        "FROM customer_orders\n",
        "GROUP BY 1\"\"\").head(5)"
      ],
      "metadata": {
        "colab": {
          "base_uri": "https://localhost:8080/"
        },
        "id": "VO97-fBHgOrt",
        "outputId": "1ae083fb-fdc8-4f08-8f17-a5d80c90915f"
      },
      "execution_count": null,
      "outputs": [
        {
          "output_type": "execute_result",
          "data": {
            "text/plain": [
              "[Row(cust_id='51', sum=4975.219970226288, max=97.61000061035156, avg=48.77666637476753),\n",
              " Row(cust_id='7', sum=4755.070008277893, max=98.5999984741211, avg=50.58585115189248),\n",
              " Row(cust_id='15', sum=5413.510010659695, max=99.56999969482422, avg=52.05298087172783),\n",
              " Row(cust_id='54', sum=6065.390002984554, max=99.2300033569336, avg=49.31211384540288),\n",
              " Row(cust_id='11', sum=5152.289969373494, max=99.11000061035156, avg=47.70638860531013)]"
            ]
          },
          "metadata": {},
          "execution_count": 17
        }
      ]
    },
    {
      "cell_type": "markdown",
      "source": [
        "Spark은 기본으로 in-memory 카탈로그를 사용. 스토리지 기반의 카탈로그를 쓰고 싶다면 SparkSession 설정할 때 enableHiveSupport()를 호출 (Hive metastore를 카탈로그로 사용하며 Hive UDF와 Hive 파일포맷 사용 가능)"
      ],
      "metadata": {
        "id": "0FGSDhLQKduI"
      }
    },
    {
      "cell_type": "code",
      "source": [
        "spark.catalog.listTables()"
      ],
      "metadata": {
        "colab": {
          "base_uri": "https://localhost:8080/"
        },
        "id": "_GETB7kagfKw",
        "outputId": "da36f6df-1679-4dec-c15e-696cc5985f50"
      },
      "execution_count": null,
      "outputs": [
        {
          "output_type": "execute_result",
          "data": {
            "text/plain": [
              "[Table(name='customer_orders', database=None, description=None, tableType='TEMPORARY', isTemporary=True)]"
            ]
          },
          "metadata": {},
          "execution_count": 18
        }
      ]
    }
  ]
}
