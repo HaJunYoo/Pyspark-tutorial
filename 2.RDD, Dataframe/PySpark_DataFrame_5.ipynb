{
 "cells": [
  {
   "attachments": {},
   "cell_type": "markdown",
   "metadata": {},
   "source": [
    "## 아래 실습은 Colab에서 하기를 권장\n",
    "- Docker 환경에서는 에러가 발생"
   ]
  },
  {
   "cell_type": "code",
   "execution_count": 1,
   "metadata": {
    "colab": {
     "base_uri": "https://localhost:8080/"
    },
    "id": "Q_Wyv6ahKs8R",
    "outputId": "5378bde3-c1a7-491d-c508-64fd7cf68042"
   },
   "outputs": [
    {
     "name": "stdout",
     "output_type": "stream",
     "text": [
      "Collecting pyspark==3.3.1\n",
      "  Downloading pyspark-3.3.1.tar.gz (281.4 MB)\n",
      "\u001b[2K     \u001b[90m━━━━━━━━━━━━━━━━━━━━━━━━━━━━━━━━━━━━━━━\u001b[0m \u001b[32m281.4/281.4 MB\u001b[0m \u001b[31m4.8 MB/s\u001b[0m eta \u001b[36m0:00:00\u001b[0m\n",
      "\u001b[?25h  Preparing metadata (setup.py) ... \u001b[?25l\u001b[?25hdone\n",
      "Collecting py4j==0.10.9.5\n",
      "  Downloading py4j-0.10.9.5-py2.py3-none-any.whl (199 kB)\n",
      "\u001b[2K     \u001b[90m━━━━━━━━━━━━━━━━━━━━━━━━━━━━━━━━━━━━━━\u001b[0m \u001b[32m199.7/199.7 kB\u001b[0m \u001b[31m23.0 MB/s\u001b[0m eta \u001b[36m0:00:00\u001b[0m\n",
      "\u001b[?25hBuilding wheels for collected packages: pyspark\n",
      "  Building wheel for pyspark (setup.py) ... \u001b[?25l\u001b[?25hdone\n",
      "  Created wheel for pyspark: filename=pyspark-3.3.1-py2.py3-none-any.whl size=281845500 sha256=d2f06199ead0955d3890af78f1c81e499648ab67a098d8af03f6decc45e3f952\n",
      "  Stored in directory: /root/.cache/pip/wheels/0f/f0/3d/517368b8ce80486e84f89f214e0a022554e4ee64969f46279b\n",
      "Successfully built pyspark\n",
      "Installing collected packages: py4j, pyspark\n",
      "  Attempting uninstall: py4j\n",
      "    Found existing installation: py4j 0.10.9.7\n",
      "    Uninstalling py4j-0.10.9.7:\n",
      "      Successfully uninstalled py4j-0.10.9.7\n",
      "Successfully installed py4j-0.10.9.5 pyspark-3.3.1\n"
     ]
    }
   ],
   "source": [
    "!pip install pyspark==3.3.1 py4j==0.10.9.5"
   ]
  },
  {
   "attachments": {},
   "cell_type": "markdown",
   "metadata": {
    "id": "f08RiGFT-d5s"
   },
   "source": [
    "## 실습 5. Redshift 연결해보기\n",
    "\n",
    "- MAU (Monthly Active User) 계산해보기\n",
    "-  두 개의 테이블을 Redshift에서 Spark으로 로드\n",
    "    -  JDBC 연결 실습\n",
    "-  DataFrame과 SparkSQL을 사용해서 조인\n",
    "-  DataFrame JOIN\n",
    "    -  left_DF.join(right_DF, join condition, join type)\n",
    "        -  join type: “inner”, “left”, “right”, “outer”, “semi”, “anti”"
   ]
  },
  {
   "cell_type": "code",
   "execution_count": 30,
   "metadata": {
    "id": "0oh0DIzL-d5t",
    "tags": []
   },
   "outputs": [],
   "source": [
    "# !sudo mkdir -p /usr/local/lib/python3.10/dist-packages/pyspark/jars/"
   ]
  },
  {
   "cell_type": "code",
   "execution_count": 2,
   "metadata": {
    "colab": {
     "base_uri": "https://localhost:8080/"
    },
    "id": "fs8ZOFnIIvgX",
    "outputId": "e8725d13-e53f-4cd5-8828-889fdadcdfc5",
    "tags": []
   },
   "outputs": [
    {
     "name": "stdout",
     "output_type": "stream",
     "text": [
      "--2023-07-04 17:37:21--  https://s3.amazonaws.com/redshift-downloads/drivers/jdbc/2.1.0.14/redshift-jdbc42-2.1.0.14.jar\n",
      "Resolving s3.amazonaws.com (s3.amazonaws.com)... 52.216.54.128, 52.217.170.200, 52.217.126.128, ...\n",
      "Connecting to s3.amazonaws.com (s3.amazonaws.com)|52.216.54.128|:443... connected.\n",
      "HTTP request sent, awaiting response... 200 OK\n",
      "Length: 1048241 (1024K) [binary/octet-stream]\n",
      "Saving to: ‘redshift-jdbc42-2.1.0.14.jar’\n",
      "\n",
      "redshift-jdbc42-2.1 100%[===================>]   1024K  2.33MB/s    in 0.4s    \n",
      "\n",
      "2023-07-04 17:37:22 (2.33 MB/s) - ‘redshift-jdbc42-2.1.0.14.jar’ saved [1048241/1048241]\n",
      "\n"
     ]
    }
   ],
   "source": [
    "!cd /usr/local/lib/python3.10/dist-packages/pyspark/jars && sudo wget https://s3.amazonaws.com/redshift-downloads/drivers/jdbc/2.1.0.14/redshift-jdbc42-2.1.0.14.jar"
   ]
  },
  {
   "cell_type": "code",
   "execution_count": null,
   "metadata": {
    "id": "ToZIBrIg-d5u",
    "tags": []
   },
   "outputs": [],
   "source": [
    "!ls /usr/local/lib/python3.10/dist-packages/pyspark/jars/"
   ]
  },
  {
   "cell_type": "code",
   "execution_count": 4,
   "metadata": {
    "id": "zS9lNDeRKygm",
    "tags": []
   },
   "outputs": [],
   "source": [
    "from pyspark.sql import SparkSession\n",
    "\n",
    "spark = SparkSession \\\n",
    "    .builder \\\n",
    "    .appName(\"PySpark DataFrame #5\") \\\n",
    "    .getOrCreate()"
   ]
  },
  {
   "cell_type": "code",
   "execution_count": 7,
   "metadata": {
    "id": "t27dpgTe-d5u",
    "tags": []
   },
   "outputs": [],
   "source": [
    "spark.stop()"
   ]
  },
  {
   "cell_type": "code",
   "execution_count": 8,
   "metadata": {
    "id": "Oro-98gb-d5v",
    "tags": []
   },
   "outputs": [],
   "source": [
    "from pyspark.sql import SparkSession\n",
    "\n",
    "spark = SparkSession \\\n",
    "    .builder \\\n",
    "    .appName(\"PySpark DataFrame #5\") \\\n",
    "    .config(\"spark.jars\", \"/usr/local/lib/python3.10/dist-packages/pyspark/jars/redshift-jdbc42-2.1.0.14.jar\") \\\n",
    "    .getOrCreate()"
   ]
  },
  {
   "cell_type": "code",
   "execution_count": 9,
   "metadata": {
    "colab": {
     "base_uri": "https://localhost:8080/",
     "height": 219
    },
    "id": "Jlm7qyaP-d5v",
    "outputId": "594d46b8-02e1-4ec4-f9eb-68d42ba617be",
    "tags": []
   },
   "outputs": [
    {
     "data": {
      "text/html": [
       "\n",
       "            <div>\n",
       "                <p><b>SparkSession - in-memory</b></p>\n",
       "                \n",
       "        <div>\n",
       "            <p><b>SparkContext</b></p>\n",
       "\n",
       "            <p><a href=\"http://1f2e7fe9099c:4040\">Spark UI</a></p>\n",
       "\n",
       "            <dl>\n",
       "              <dt>Version</dt>\n",
       "                <dd><code>v3.3.1</code></dd>\n",
       "              <dt>Master</dt>\n",
       "                <dd><code>local[*]</code></dd>\n",
       "              <dt>AppName</dt>\n",
       "                <dd><code>PySpark DataFrame #5</code></dd>\n",
       "            </dl>\n",
       "        </div>\n",
       "        \n",
       "            </div>\n",
       "        "
      ],
      "text/plain": [
       "<pyspark.sql.session.SparkSession at 0x7f09982dd0f0>"
      ]
     },
     "execution_count": 9,
     "metadata": {},
     "output_type": "execute_result"
    }
   ],
   "source": [
    "spark"
   ]
  },
  {
   "attachments": {},
   "cell_type": "markdown",
   "metadata": {
    "id": "_vqm-DsuH_hO"
   },
   "source": [
    "## Redshift와 연결해서 테이블들을 데이터프레임으로 로딩하기"
   ]
  },
  {
   "cell_type": "code",
   "execution_count": 10,
   "metadata": {
    "id": "EEaNuN3xKNXm",
    "tags": []
   },
   "outputs": [],
   "source": [
    "df_user_session_channel = spark.read \\\n",
    "    .format(\"jdbc\") \\\n",
    "    .option(\"driver\", \"com.amazon.redshift.jdbc42.Driver\") \\\n",
    "    .option(\"url\", \"jdbc:redshift://learnde.cduaw970ssvt.ap-northeast-2.redshift.amazonaws.com:5439/dev?user=guest&password=Guest1234\") \\\n",
    "    .option(\"dbtable\", \"raw_data.user_session_channel\") \\\n",
    "    .load()"
   ]
  },
  {
   "cell_type": "code",
   "execution_count": 11,
   "metadata": {
    "id": "IQlBPcO_INv9"
   },
   "outputs": [],
   "source": [
    "df_session_timestamp = spark.read \\\n",
    "    .format(\"jdbc\") \\\n",
    "    .option(\"driver\", \"com.amazon.redshift.jdbc42.Driver\") \\\n",
    "    .option(\"url\", \"jdbc:redshift://learnde.cduaw970ssvt.ap-northeast-2.redshift.amazonaws.com:5439/dev?user=guest&password=Guest1234\") \\\n",
    "    .option(\"dbtable\", \"raw_data.session_timestamp\") \\\n",
    "    .load()"
   ]
  },
  {
   "cell_type": "code",
   "execution_count": 12,
   "metadata": {
    "colab": {
     "base_uri": "https://localhost:8080/"
    },
    "id": "g0XNWXQ22CB4",
    "outputId": "5b107a85-f1b7-43c3-d506-e490e8d438d5"
   },
   "outputs": [
    {
     "name": "stdout",
     "output_type": "stream",
     "text": [
      "root\n",
      " |-- userid: integer (nullable = true)\n",
      " |-- sessionid: string (nullable = true)\n",
      " |-- channel: string (nullable = true)\n",
      "\n"
     ]
    }
   ],
   "source": [
    "df_user_session_channel.printSchema()"
   ]
  },
  {
   "cell_type": "code",
   "execution_count": 13,
   "metadata": {
    "colab": {
     "base_uri": "https://localhost:8080/"
    },
    "id": "ILp2JBiL2TyI",
    "outputId": "1812dab7-fcef-45e9-eb63-050c03506000"
   },
   "outputs": [
    {
     "data": {
      "text/plain": [
       "1"
      ]
     },
     "execution_count": 13,
     "metadata": {},
     "output_type": "execute_result"
    }
   ],
   "source": [
    "df_user_session_channel.rdd.getNumPartitions()"
   ]
  },
  {
   "cell_type": "code",
   "execution_count": 14,
   "metadata": {
    "colab": {
     "base_uri": "https://localhost:8080/"
    },
    "id": "28Jb0ZvB2E7f",
    "outputId": "8243618b-f9b4-470b-a2f9-069841dbc45f"
   },
   "outputs": [
    {
     "name": "stdout",
     "output_type": "stream",
     "text": [
      "root\n",
      " |-- sessionid: string (nullable = true)\n",
      " |-- ts: timestamp (nullable = true)\n",
      "\n"
     ]
    }
   ],
   "source": [
    "df_session_timestamp.printSchema()"
   ]
  },
  {
   "cell_type": "code",
   "execution_count": 15,
   "metadata": {
    "colab": {
     "base_uri": "https://localhost:8080/"
    },
    "id": "Xbu2KXxD2Y78",
    "outputId": "c1c8e56c-8f4b-4fa0-f4de-6349907c61e8"
   },
   "outputs": [
    {
     "data": {
      "text/plain": [
       "1"
      ]
     },
     "execution_count": 15,
     "metadata": {},
     "output_type": "execute_result"
    }
   ],
   "source": [
    "df_session_timestamp.rdd.getNumPartitions()"
   ]
  },
  {
   "attachments": {},
   "cell_type": "markdown",
   "metadata": {
    "id": "I0ejADf9IV7M"
   },
   "source": [
    "## DataFrame으로 처리하기"
   ]
  },
  {
   "cell_type": "code",
   "execution_count": 16,
   "metadata": {
    "id": "X2kYjwWDIZGk"
   },
   "outputs": [],
   "source": [
    "join_expr = df_user_session_channel.sessionid == df_session_timestamp.sessionid\n",
    "session_df = df_user_session_channel.join(df_session_timestamp, join_expr, \"inner\")"
   ]
  },
  {
   "cell_type": "code",
   "execution_count": 17,
   "metadata": {
    "colab": {
     "base_uri": "https://localhost:8080/"
    },
    "id": "jUOkGRw32kbp",
    "outputId": "e862f4b4-bb49-4a33-d31b-5907bb1071ab"
   },
   "outputs": [
    {
     "name": "stdout",
     "output_type": "stream",
     "text": [
      "root\n",
      " |-- userid: integer (nullable = true)\n",
      " |-- sessionid: string (nullable = true)\n",
      " |-- channel: string (nullable = true)\n",
      " |-- sessionid: string (nullable = true)\n",
      " |-- ts: timestamp (nullable = true)\n",
      "\n"
     ]
    }
   ],
   "source": [
    "session_df.printSchema()"
   ]
  },
  {
   "cell_type": "code",
   "execution_count": 18,
   "metadata": {
    "colab": {
     "base_uri": "https://localhost:8080/"
    },
    "id": "yxpfx65l3R1M",
    "outputId": "7d280cf1-3823-4ff5-d3a6-ce3c4fa17e4b"
   },
   "outputs": [
    {
     "name": "stdout",
     "output_type": "stream",
     "text": [
      "+------+--------------------+-------+--------------------+--------------------+\n",
      "|userid|           sessionid|channel|           sessionid|                  ts|\n",
      "+------+--------------------+-------+--------------------+--------------------+\n",
      "|   243|0226aa5193c66d990...| Google|0226aa5193c66d990...|2019-07-01 23:04:...|\n",
      "|   939|02b8d6c2775b756de...| Google|02b8d6c2775b756de...|2019-09-01 15:29:...|\n",
      "|   771|02f6364bf207d6837...|  Naver|02f6364bf207d6837...|2019-09-07 18:24:...|\n",
      "|  1961|0302915889fa38fe5...|Youtube|0302915889fa38fe5...| 2019-11-29 15:16:49|\n",
      "|  1953|0472919f6bb6a2f7c...|Organic|0472919f6bb6a2f7c...|2019-09-25 06:44:...|\n",
      "+------+--------------------+-------+--------------------+--------------------+\n",
      "only showing top 5 rows\n",
      "\n"
     ]
    }
   ],
   "source": [
    "session_df.show(5)"
   ]
  },
  {
   "cell_type": "code",
   "execution_count": 20,
   "metadata": {
    "id": "eDjLW6VE3II1"
   },
   "outputs": [],
   "source": [
    "session_df = df_user_session_channel.alias('a').join(\n",
    "    df_session_timestamp.alias('b'),\n",
    "    join_expr,\n",
    "    \"inner\"\n",
    ").select(\"a.userid\", \"a.sessionid\", \"a.channel\", \"b.ts\")\n",
    "\n",
    "# dataframe에 alias를 붙이거나 아래처럼 어느 테이블에서 나온건지 명시"
   ]
  },
  {
   "cell_type": "code",
   "execution_count": 21,
   "metadata": {
    "id": "quHfBJCd3Y6v"
   },
   "outputs": [],
   "source": [
    "# dataframe에 alias를 붙이거나 아래처럼 어느 테이블에서 나온건지 명시\n",
    "\n",
    "session_df = df_user_session_channel.join(df_session_timestamp, join_expr, \"inner\").select(\n",
    "    \"userid\", df_user_session_channel.sessionid, \"channel\", \"ts\"\n",
    ")"
   ]
  },
  {
   "cell_type": "code",
   "execution_count": 22,
   "metadata": {
    "id": "JXkFN_OO3iu9"
   },
   "outputs": [],
   "source": [
    "channel_count_df = session_df.groupby(\"channel\").count().orderBy(\"count\", ascending=False)"
   ]
  },
  {
   "cell_type": "code",
   "execution_count": 23,
   "metadata": {
    "colab": {
     "base_uri": "https://localhost:8080/"
    },
    "id": "EzMiG4493trM",
    "outputId": "9cd87442-0ee3-45cf-b08f-aca80f2aa543"
   },
   "outputs": [
    {
     "name": "stdout",
     "output_type": "stream",
     "text": [
      "+---------+-----+\n",
      "|  channel|count|\n",
      "+---------+-----+\n",
      "|  Youtube|17091|\n",
      "|   Google|16982|\n",
      "|    Naver|16921|\n",
      "|  Organic|16904|\n",
      "|Instagram|16831|\n",
      "| Facebook|16791|\n",
      "+---------+-----+\n",
      "\n"
     ]
    }
   ],
   "source": [
    "channel_count_df.show()"
   ]
  },
  {
   "cell_type": "code",
   "execution_count": 24,
   "metadata": {
    "colab": {
     "base_uri": "https://localhost:8080/"
    },
    "id": "DnVN-Jv530nA",
    "outputId": "1c4fb5bf-6ee9-4522-fc44-62a00bad1521"
   },
   "outputs": [
    {
     "name": "stdout",
     "output_type": "stream",
     "text": [
      "+-------+---+\n",
      "|  month|mau|\n",
      "+-------+---+\n",
      "|2019-05|281|\n",
      "|2019-06|459|\n",
      "|2019-07|623|\n",
      "|2019-08|662|\n",
      "|2019-09|639|\n",
      "|2019-10|763|\n",
      "|2019-11|721|\n",
      "+-------+---+\n",
      "\n"
     ]
    }
   ],
   "source": [
    "from pyspark.sql.functions import date_format, asc, countDistinct\n",
    "\n",
    "session_df.withColumn('month', date_format('ts', 'yyyy-MM')).groupby('month').\\\n",
    "    agg(countDistinct(\"userid\").alias(\"mau\")).sort(asc('month')).show()"
   ]
  },
  {
   "attachments": {},
   "cell_type": "markdown",
   "metadata": {
    "id": "BEuhmxeGIRkI"
   },
   "source": [
    "## Spark SQL로  처리하기"
   ]
  },
  {
   "cell_type": "code",
   "execution_count": 25,
   "metadata": {
    "id": "cb87SiYQ3lX8"
   },
   "outputs": [],
   "source": [
    "df_user_session_channel.createOrReplaceTempView(\"user_session_channel\")"
   ]
  },
  {
   "cell_type": "code",
   "execution_count": 26,
   "metadata": {
    "id": "LFMFrRpP3sP6"
   },
   "outputs": [],
   "source": [
    "df_session_timestamp.createOrReplaceTempView(\"session_timestamp\")"
   ]
  },
  {
   "cell_type": "code",
   "execution_count": 27,
   "metadata": {
    "id": "GdiSxs1030G0"
   },
   "outputs": [],
   "source": [
    "channel_count_df = spark.sql(\"\"\"\n",
    "    SELECT channel, count(distinct userId) uniqueUsers\n",
    "    FROM session_timestamp st\n",
    "    JOIN user_session_channel usc ON st.sessionID = usc.sessionID\n",
    "    GROUP BY 1\n",
    "    ORDER BY 1\n",
    "\"\"\")"
   ]
  },
  {
   "cell_type": "code",
   "execution_count": 28,
   "metadata": {
    "colab": {
     "base_uri": "https://localhost:8080/"
    },
    "id": "z1C5HKcd61_j",
    "outputId": "0c437331-139d-4b6e-b3e3-481c88cc4494"
   },
   "outputs": [
    {
     "data": {
      "text/plain": [
       "DataFrame[channel: string, uniqueUsers: bigint]"
      ]
     },
     "execution_count": 28,
     "metadata": {},
     "output_type": "execute_result"
    }
   ],
   "source": [
    "channel_count_df"
   ]
  },
  {
   "cell_type": "code",
   "execution_count": 29,
   "metadata": {
    "colab": {
     "base_uri": "https://localhost:8080/"
    },
    "id": "whIte26D63hG",
    "outputId": "adab7fd9-67b6-4f5c-d6d0-dd0aa138dca3"
   },
   "outputs": [
    {
     "name": "stdout",
     "output_type": "stream",
     "text": [
      "+---------+-----------+\n",
      "|  channel|uniqueUsers|\n",
      "+---------+-----------+\n",
      "| Facebook|        889|\n",
      "|   Google|        893|\n",
      "|Instagram|        895|\n",
      "|    Naver|        882|\n",
      "|  Organic|        895|\n",
      "|  Youtube|        889|\n",
      "+---------+-----------+\n",
      "\n"
     ]
    }
   ],
   "source": [
    "channel_count_df.show()"
   ]
  },
  {
   "cell_type": "code",
   "execution_count": 30,
   "metadata": {
    "id": "vE8iL4vy6705"
   },
   "outputs": [],
   "source": [
    "mau_df = spark.sql(\"\"\"\n",
    "SELECT\n",
    "  LEFT(A.ts, 7) AS month,\n",
    "  COUNT(DISTINCT B.userid) AS mau\n",
    "FROM session_timestamp A\n",
    "JOIN user_session_channel B ON A.sessionid = B.sessionid\n",
    "GROUP BY 1\n",
    "ORDER BY 1 DESC\"\"\")"
   ]
  },
  {
   "cell_type": "code",
   "execution_count": 31,
   "metadata": {
    "colab": {
     "base_uri": "https://localhost:8080/"
    },
    "id": "QU44opcvDE54",
    "outputId": "29888877-5645-4783-f6d4-a7c942f1ac75"
   },
   "outputs": [
    {
     "data": {
      "text/plain": [
       "[Row(month='2019-11', mau=721),\n",
       " Row(month='2019-10', mau=763),\n",
       " Row(month='2019-09', mau=639),\n",
       " Row(month='2019-08', mau=662),\n",
       " Row(month='2019-07', mau=623),\n",
       " Row(month='2019-06', mau=459),\n",
       " Row(month='2019-05', mau=281)]"
      ]
     },
     "execution_count": 31,
     "metadata": {},
     "output_type": "execute_result"
    }
   ],
   "source": [
    "mau_df.collect()"
   ]
  },
  {
   "cell_type": "code",
   "execution_count": null,
   "metadata": {
    "id": "U6Wlr-eEAmnQ"
   },
   "outputs": [],
   "source": []
  }
 ],
 "metadata": {
  "colab": {
   "provenance": []
  },
  "gpuClass": "standard",
  "kernelspec": {
   "display_name": "Python 3 (ipykernel)",
   "language": "python",
   "name": "python3"
  },
  "language_info": {
   "codemirror_mode": {
    "name": "ipython",
    "version": 3
   },
   "file_extension": ".py",
   "mimetype": "text/x-python",
   "name": "python",
   "nbconvert_exporter": "python",
   "pygments_lexer": "ipython3",
   "version": "3.10.9"
  }
 },
 "nbformat": 4,
 "nbformat_minor": 4
}
