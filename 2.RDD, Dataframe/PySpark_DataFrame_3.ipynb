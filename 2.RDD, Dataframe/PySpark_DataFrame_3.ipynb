{
  "nbformat": 4,
  "nbformat_minor": 0,
  "metadata": {
    "colab": {
      "provenance": []
    },
    "kernelspec": {
      "name": "python3",
      "display_name": "Python 3"
    },
    "language_info": {
      "name": "python"
    }
  },
  "cells": [
    {
      "cell_type": "code",
      "source": [
        "!pip install pyspark==3.3.1 py4j==0.10.9.5"
      ],
      "metadata": {
        "colab": {
          "base_uri": "https://localhost:8080/"
        },
        "id": "Q_Wyv6ahKs8R",
        "outputId": "4ed12ac6-4753-4983-9931-0526556250d0"
      },
      "execution_count": null,
      "outputs": [
        {
          "output_type": "stream",
          "name": "stdout",
          "text": [
            "Looking in indexes: https://pypi.org/simple, https://us-python.pkg.dev/colab-wheels/public/simple/\n",
            "Requirement already satisfied: pyspark==3.0.1 in /usr/local/lib/python3.8/dist-packages (3.0.1)\n",
            "Requirement already satisfied: py4j==0.10.9 in /usr/local/lib/python3.8/dist-packages (0.10.9)\n"
          ]
        }
      ]
    },
    {
      "cell_type": "code",
      "source": [
        "from pyspark.sql import SparkSession\n",
        "from pyspark import SparkConf\n",
        "\n",
        "conf = SparkConf()\n",
        "conf.set(\"spark.app.name\", \"PySpark DataFrame #3\")\n",
        "conf.set(\"spark.master\", \"local[*]\")\n",
        "\n",
        "spark = SparkSession.builder\\\n",
        "        .config(conf=conf)\\\n",
        "        .getOrCreate()"
      ],
      "metadata": {
        "id": "zS9lNDeRKygm"
      },
      "execution_count": null,
      "outputs": []
    },
    {
      "cell_type": "code",
      "source": [
        "!wget https://s3-geospatial.s3.us-west-2.amazonaws.com/transfer_cost.txt"
      ],
      "metadata": {
        "colab": {
          "base_uri": "https://localhost:8080/"
        },
        "id": "Sg6lKFCVK5uw",
        "outputId": "55e78a5e-9202-48b3-a6ce-2e656b3c46fa"
      },
      "execution_count": null,
      "outputs": [
        {
          "output_type": "stream",
          "name": "stdout",
          "text": [
            "--2023-01-15 21:47:46--  https://s3-geospatial.s3.us-west-2.amazonaws.com/transfer_cost.txt\n",
            "Resolving s3-geospatial.s3.us-west-2.amazonaws.com (s3-geospatial.s3.us-west-2.amazonaws.com)... 52.92.145.138, 52.92.178.250, 52.92.249.234, ...\n",
            "Connecting to s3-geospatial.s3.us-west-2.amazonaws.com (s3-geospatial.s3.us-west-2.amazonaws.com)|52.92.145.138|:443... connected.\n",
            "HTTP request sent, awaiting response... 200 OK\n",
            "Length: 286779 (280K) [text/plain]\n",
            "Saving to: ‘transfer_cost.txt’\n",
            "\n",
            "transfer_cost.txt   100%[===================>] 280.06K   824KB/s    in 0.3s    \n",
            "\n",
            "2023-01-15 21:47:47 (824 KB/s) - ‘transfer_cost.txt’ saved [286779/286779]\n",
            "\n"
          ]
        }
      ]
    },
    {
      "cell_type": "code",
      "source": [
        "!ls -tl"
      ],
      "metadata": {
        "colab": {
          "base_uri": "https://localhost:8080/"
        },
        "id": "bu8GWTxe00mU",
        "outputId": "aa5e8967-449b-4a23-f7f8-dfac7dad0320"
      },
      "execution_count": null,
      "outputs": [
        {
          "output_type": "stream",
          "name": "stdout",
          "text": [
            "total 288\n",
            "drwxr-xr-x 1 root root   4096 Jan  9 14:36 sample_data\n",
            "-rw-r--r-- 1 root root 286779 Apr 24  2022 transfer_cost.txt\n"
          ]
        }
      ]
    },
    {
      "cell_type": "code",
      "source": [
        "!head -5 transfer_cost.txt"
      ],
      "metadata": {
        "id": "uVYjxP2yA3D7",
        "colab": {
          "base_uri": "https://localhost:8080/"
        },
        "outputId": "1bb99492-7643-4c8b-8be1-dfb509be168d"
      },
      "execution_count": null,
      "outputs": [
        {
          "output_type": "stream",
          "name": "stdout",
          "text": [
            "On 2021-01-04 the cost per ton from 85001 to 85002 is $28.32 at ABC Hauling\n",
            "On 2021-01-04 the cost per ton from 85001 to 85004 is $25.68 at ABC Hauling\n",
            "On 2021-01-04 the cost per ton from 85001 to 85007 is 19.86 at ABC Hauling\n",
            "On 2021-01-04 the cost per ton from 85001 to 85007 is 20.52 at Haul Today\n",
            "On 2021-01-04 the cost per ton from 85001 to 85010 is 20.72 at Haul Today\n"
          ]
        }
      ]
    },
    {
      "cell_type": "code",
      "source": [
        "import pyspark.sql.functions as F\n",
        "from pyspark.sql.types import *\n",
        "\n",
        "schema = StructType([ StructField(\"text\", StringType(), True)])\n",
        "transfer_cost_df = spark.read.schema(schema).text(\"transfer_cost.txt\")"
      ],
      "metadata": {
        "id": "kbbB3xcPapVl"
      },
      "execution_count": null,
      "outputs": []
    },
    {
      "cell_type": "code",
      "source": [
        "transfer_cost_df.show(truncate=False)"
      ],
      "metadata": {
        "colab": {
          "base_uri": "https://localhost:8080/"
        },
        "id": "hZiZwF-gbOrV",
        "outputId": "1badfa1b-3710-4e3f-a012-d971df00eca8"
      },
      "execution_count": null,
      "outputs": [
        {
          "output_type": "stream",
          "name": "stdout",
          "text": [
            "+---------------------------------------------------------------------------+\n",
            "|text                                                                       |\n",
            "+---------------------------------------------------------------------------+\n",
            "|On 2021-01-04 the cost per ton from 85001 to 85002 is $28.32 at ABC Hauling|\n",
            "|On 2021-01-04 the cost per ton from 85001 to 85004 is $25.68 at ABC Hauling|\n",
            "|On 2021-01-04 the cost per ton from 85001 to 85007 is 19.86 at ABC Hauling |\n",
            "|On 2021-01-04 the cost per ton from 85001 to 85007 is 20.52 at Haul Today  |\n",
            "|On 2021-01-04 the cost per ton from 85001 to 85010 is 20.72 at Haul Today  |\n",
            "|On 2021-01-04 the cost per ton from 85001 to 85012 is $18.98 at ABC Hauling|\n",
            "|On 2021-01-04 the cost per ton from 85001 to 85013 is 26.64 at Haul Today  |\n",
            "|On 2021-01-04 the cost per ton from 85001 to 85020 is 26.34 at ABC Hauling |\n",
            "|On 2021-01-04 the cost per ton from 85001 to 85021 is $20.15 at ABC Hauling|\n",
            "|On 2021-01-04 the cost per ton from 85002 to 85001 is 21.57 at Haul Today  |\n",
            "|On 2021-01-04 the cost per ton from 85002 to 85004 is 21.40 at Haul Today  |\n",
            "|On 2021-01-04 the cost per ton from 85002 to 85007 is 25.93 at Haul Today  |\n",
            "|On 2021-01-04 the cost per ton from 85002 to 85010 is 19.80 at Haul Today  |\n",
            "|On 2021-01-04 the cost per ton from 85002 to 85012 is 21.66 at Haul Today  |\n",
            "|On 2021-01-04 the cost per ton from 85002 to 85013 is $25.90 at Haul Today |\n",
            "|On 2021-01-04 the cost per ton from 85002 to 85020 is 19.15 at ABC Hauling |\n",
            "|On 2021-01-04 the cost per ton from 85002 to 85021 is $27.13 at Haul Today |\n",
            "|On 2021-01-04 the cost per ton from 85004 to 85001 is 23.88 at Haul Today  |\n",
            "|On 2021-01-04 the cost per ton from 85004 to 85002 is 26.40 at ABC Hauling |\n",
            "|On 2021-01-04 the cost per ton from 85004 to 85007 is 26.03 at ABC Hauling |\n",
            "+---------------------------------------------------------------------------+\n",
            "only showing top 20 rows\n",
            "\n"
          ]
        }
      ]
    },
    {
      "cell_type": "code",
      "source": [
        "from pyspark.sql.functions import *\n",
        "regex_str = r'On (\\S+) the cost per ton from (\\d+) to (\\d+) is (\\S+) at (.*)'\n",
        "\n",
        "df_with_new_columns = transfer_cost_df\\\n",
        "    .withColumn('week', regexp_extract('text', regex_str, 1))\\\n",
        "    .withColumn('departure_zipcode', regexp_extract(column('text'), regex_str, 2))\\\n",
        "    .withColumn('arrival_zipcode', regexp_extract(transfer_cost_df.text, regex_str, 3))\\\n",
        "    .withColumn('cost', regexp_extract(col('text'), regex_str, 4))\\\n",
        "    .withColumn('vendor', regexp_extract(col('text'), regex_str, 5))"
      ],
      "metadata": {
        "id": "n2EYklWrbSK5"
      },
      "execution_count": null,
      "outputs": []
    },
    {
      "cell_type": "code",
      "source": [
        "df_with_new_columns.printSchema()"
      ],
      "metadata": {
        "colab": {
          "base_uri": "https://localhost:8080/"
        },
        "id": "6PdecGV1XMIi",
        "outputId": "0402b8c2-d16f-4f44-b006-c50fd9831854"
      },
      "execution_count": null,
      "outputs": [
        {
          "output_type": "stream",
          "name": "stdout",
          "text": [
            "root\n",
            " |-- text: string (nullable = true)\n",
            " |-- week: string (nullable = true)\n",
            " |-- departure_zipcode: string (nullable = true)\n",
            " |-- arrival_zipcode: string (nullable = true)\n",
            " |-- cost: string (nullable = true)\n",
            " |-- vendor: string (nullable = true)\n",
            "\n"
          ]
        }
      ]
    },
    {
      "cell_type": "code",
      "source": [
        "final_df = df_with_new_columns.drop(\"text\")"
      ],
      "metadata": {
        "id": "tiBRD9MUXOIP"
      },
      "execution_count": null,
      "outputs": []
    },
    {
      "cell_type": "code",
      "source": [
        "final_df.write.csv(\"extracted.csv\")"
      ],
      "metadata": {
        "id": "oefVVlGfXZJt"
      },
      "execution_count": null,
      "outputs": []
    },
    {
      "cell_type": "code",
      "source": [
        "!ls -tl"
      ],
      "metadata": {
        "colab": {
          "base_uri": "https://localhost:8080/"
        },
        "id": "hHqUsiQjXjJ9",
        "outputId": "c25239c3-342e-469d-aa05-6b48b8a5b976"
      },
      "execution_count": null,
      "outputs": [
        {
          "output_type": "stream",
          "name": "stdout",
          "text": [
            "total 292\n",
            "drwxr-xr-x 2 root root   4096 Jan 15 21:55 extracted.csv\n",
            "drwxr-xr-x 1 root root   4096 Jan  9 14:36 sample_data\n",
            "-rw-r--r-- 1 root root 286779 Apr 24  2022 transfer_cost.txt\n"
          ]
        }
      ]
    },
    {
      "cell_type": "code",
      "source": [
        "!ls -tl extracted.csv/"
      ],
      "metadata": {
        "colab": {
          "base_uri": "https://localhost:8080/"
        },
        "id": "TGUG9GqwX5a6",
        "outputId": "a475f9a7-3d6f-4cbf-ccc8-b99dc789861d"
      },
      "execution_count": null,
      "outputs": [
        {
          "output_type": "stream",
          "name": "stdout",
          "text": [
            "total 156\n",
            "-rw-r--r-- 1 root root      0 Jan 15 21:55 _SUCCESS\n",
            "-rw-r--r-- 1 root root 156423 Jan 15 21:55 part-00000-a909db0a-d743-4a0c-96fc-60c1a8eef076-c000.csv\n"
          ]
        }
      ]
    },
    {
      "cell_type": "code",
      "source": [
        "!head -5 extracted.csv/part-00000-a909db0a-d743-4a0c-96fc-60c1a8eef076-c000.csv"
      ],
      "metadata": {
        "colab": {
          "base_uri": "https://localhost:8080/"
        },
        "id": "80dsZkBhX-a6",
        "outputId": "dd7ad669-4d61-4f25-9ef1-7e374d072976"
      },
      "execution_count": null,
      "outputs": [
        {
          "output_type": "stream",
          "name": "stdout",
          "text": [
            "2021-01-04,85001,85002,$28.32,ABC Hauling\n",
            "2021-01-04,85001,85004,$25.68,ABC Hauling\n",
            "2021-01-04,85001,85007,19.86,ABC Hauling\n",
            "2021-01-04,85001,85007,20.52,Haul Today\n",
            "2021-01-04,85001,85010,20.72,Haul Today\n"
          ]
        }
      ]
    },
    {
      "cell_type": "code",
      "source": [
        "final_df.write.format(\"json\").save(\"extracted.json\")"
      ],
      "metadata": {
        "id": "c6qT4c_LYMj4"
      },
      "execution_count": null,
      "outputs": []
    },
    {
      "cell_type": "code",
      "source": [
        "!ls -tl extracted.json/"
      ],
      "metadata": {
        "colab": {
          "base_uri": "https://localhost:8080/"
        },
        "id": "Y8K6JprsYSwF",
        "outputId": "f0481e89-7eef-4e9b-96fa-14c4c132bbb8"
      },
      "execution_count": null,
      "outputs": [
        {
          "output_type": "stream",
          "name": "stdout",
          "text": [
            "total 428\n",
            "-rw-r--r-- 1 root root      0 Jan 15 22:00 _SUCCESS\n",
            "-rw-r--r-- 1 root root 436305 Jan 15 22:00 part-00000-104f95b9-f2c6-4f77-a170-583c78106e11-c000.json\n"
          ]
        }
      ]
    },
    {
      "cell_type": "code",
      "source": [
        "!head -1 extracted.json/part-00000-104f95b9-f2c6-4f77-a170-583c78106e11-c000.json"
      ],
      "metadata": {
        "colab": {
          "base_uri": "https://localhost:8080/"
        },
        "id": "C-j9yCXzYVvA",
        "outputId": "4617ecc2-5141-424e-f987-1fd0fc66dff6"
      },
      "execution_count": null,
      "outputs": [
        {
          "output_type": "stream",
          "name": "stdout",
          "text": [
            "{\"week\":\"2021-01-04\",\"departure_zipcode\":\"85001\",\"arrival_zipcode\":\"85002\",\"cost\":\"$28.32\",\"vendor\":\"ABC Hauling\"}\n"
          ]
        }
      ]
    },
    {
      "cell_type": "code",
      "source": [],
      "metadata": {
        "id": "Jayac13VYUF8"
      },
      "execution_count": null,
      "outputs": []
    }
  ]
}
