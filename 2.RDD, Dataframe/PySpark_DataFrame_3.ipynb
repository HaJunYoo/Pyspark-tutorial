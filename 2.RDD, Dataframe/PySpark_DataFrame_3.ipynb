{
 "cells": [
  {
   "cell_type": "code",
   "execution_count": null,
   "metadata": {
    "colab": {
     "base_uri": "https://localhost:8080/"
    },
    "id": "Q_Wyv6ahKs8R",
    "outputId": "4ed12ac6-4753-4983-9931-0526556250d0"
   },
   "outputs": [
    {
     "name": "stdout",
     "output_type": "stream",
     "text": [
      "Looking in indexes: https://pypi.org/simple, https://us-python.pkg.dev/colab-wheels/public/simple/\n",
      "Requirement already satisfied: pyspark==3.0.1 in /usr/local/lib/python3.8/dist-packages (3.0.1)\n",
      "Requirement already satisfied: py4j==0.10.9 in /usr/local/lib/python3.8/dist-packages (0.10.9)\n"
     ]
    }
   ],
   "source": [
    "!pip install pyspark==3.3.1 py4j==0.10.9.5"
   ]
  },
  {
   "cell_type": "markdown",
   "metadata": {},
   "source": [
    "### Regex를 이용해서 아래와 같이 변환해보는 것이 목표\n",
    "\n",
    "- 입력: “On 2021-01-04 the cost per ton from 85001 to 85002 is $28.32 at ABC Hauling”\n",
    "    - regex 패턴: “On (\\S+) the cost per ton from (\\d+) to (\\d+) is (\\S+) at (.*)”\n",
    "        -  \\S (non-whitespace character), \\d (numeric character)\n",
    "- 출력: \n",
    "\n",
    "    | week | departure_zipcode | arrival_zipcode | cost | vendor |\n",
    "    |---|---|---|---|---|\n",
    "    | 2021-01-04 | 85001 | 85002 | $28.32 | ABC Hauling |"
   ]
  },
  {
   "cell_type": "code",
   "execution_count": 1,
   "metadata": {
    "id": "zS9lNDeRKygm",
    "tags": []
   },
   "outputs": [],
   "source": [
    "from pyspark.sql import SparkSession\n",
    "from pyspark import SparkConf\n",
    "\n",
    "conf = SparkConf()\n",
    "conf.set(\"spark.app.name\", \"PySpark DataFrame #3\")\n",
    "conf.set(\"spark.master\", \"local[*]\")\n",
    "\n",
    "spark = SparkSession.builder\\\n",
    "        .config(conf=conf)\\\n",
    "        .getOrCreate()"
   ]
  },
  {
   "cell_type": "code",
   "execution_count": 2,
   "metadata": {
    "colab": {
     "base_uri": "https://localhost:8080/"
    },
    "id": "Sg6lKFCVK5uw",
    "outputId": "55e78a5e-9202-48b3-a6ce-2e656b3c46fa",
    "tags": []
   },
   "outputs": [
    {
     "name": "stdout",
     "output_type": "stream",
     "text": [
      "--2023-07-04 15:57:54--  https://s3-geospatial.s3.us-west-2.amazonaws.com/transfer_cost.txt\n",
      "Resolving s3-geospatial.s3.us-west-2.amazonaws.com (s3-geospatial.s3.us-west-2.amazonaws.com)... 52.218.224.1, 3.5.79.188, 3.5.77.186, ...\n",
      "Connecting to s3-geospatial.s3.us-west-2.amazonaws.com (s3-geospatial.s3.us-west-2.amazonaws.com)|52.218.224.1|:443... connected.\n",
      "HTTP request sent, awaiting response... 200 OK\n",
      "Length: 286779 (280K) [text/plain]\n",
      "Saving to: ‘transfer_cost.txt’\n",
      "\n",
      "transfer_cost.txt   100%[===================>] 280.06K   297KB/s    in 0.9s    \n",
      "\n",
      "2023-07-04 15:57:56 (297 KB/s) - ‘transfer_cost.txt’ saved [286779/286779]\n",
      "\n"
     ]
    }
   ],
   "source": [
    "!wget https://s3-geospatial.s3.us-west-2.amazonaws.com/transfer_cost.txt"
   ]
  },
  {
   "cell_type": "code",
   "execution_count": 3,
   "metadata": {
    "colab": {
     "base_uri": "https://localhost:8080/"
    },
    "id": "bu8GWTxe00mU",
    "outputId": "aa5e8967-449b-4a23-f7f8-dfac7dad0320",
    "tags": []
   },
   "outputs": [
    {
     "name": "stdout",
     "output_type": "stream",
     "text": [
      "total 788\n",
      "-rw-r--r-- 1 jovyan users  13214 Jul  4 15:53 PySpark_DataFrame_3.ipynb\n",
      "-rw-r--r-- 1 jovyan users  24246 Jul  4 15:23 PySpark_DataFrame_2.ipynb\n",
      "-rw-r--r-- 1 jovyan users  30849 Jul  4 14:58 PySpark_DataFrame_1.ipynb\n",
      "-rw-r--r-- 1 jovyan users  22881 Jul  4 14:30 PySpark_설치_및_테스트.ipynb\n",
      "-rw-r--r-- 1 jovyan users  22056 Jul  4 12:19 PySpark_DataFrame_5.ipynb\n",
      "-rw-r--r-- 1 jovyan users  32483 Jul  4 12:19 PySpark_DataFrame_4.ipynb\n",
      "-rw-r--r-- 1 jovyan users  64553 Jul  4 12:19 1800.csv\n",
      "-rw-r--r-- 1 jovyan users 286779 Apr 24  2022 transfer_cost.txt\n",
      "-rw-r--r-- 1 jovyan users 146855 Apr 10  2022 customer-orders.csv\n",
      "-rw-r--r-- 1 jovyan users 146855 Apr 10  2022 customer-orders.csv.1\n"
     ]
    }
   ],
   "source": [
    "!ls -tl"
   ]
  },
  {
   "cell_type": "code",
   "execution_count": 4,
   "metadata": {
    "colab": {
     "base_uri": "https://localhost:8080/"
    },
    "id": "uVYjxP2yA3D7",
    "outputId": "1bb99492-7643-4c8b-8be1-dfb509be168d",
    "tags": []
   },
   "outputs": [
    {
     "name": "stdout",
     "output_type": "stream",
     "text": [
      "On 2021-01-04 the cost per ton from 85001 to 85002 is $28.32 at ABC Hauling\n",
      "On 2021-01-04 the cost per ton from 85001 to 85004 is $25.68 at ABC Hauling\n",
      "On 2021-01-04 the cost per ton from 85001 to 85007 is 19.86 at ABC Hauling\n",
      "On 2021-01-04 the cost per ton from 85001 to 85007 is 20.52 at Haul Today\n",
      "On 2021-01-04 the cost per ton from 85001 to 85010 is 20.72 at Haul Today\n"
     ]
    }
   ],
   "source": [
    "!head -5 transfer_cost.txt"
   ]
  },
  {
   "cell_type": "code",
   "execution_count": 5,
   "metadata": {
    "id": "kbbB3xcPapVl",
    "tags": []
   },
   "outputs": [],
   "source": [
    "import pyspark.sql.functions as F\n",
    "from pyspark.sql.types import *\n",
    "\n",
    "# Schema 잡기 -> text 파일 읽기\n",
    "schema = StructType([ StructField(\"text\", StringType(), True)])\n",
    "transfer_cost_df = spark.read.schema(schema).text(\"transfer_cost.txt\")"
   ]
  },
  {
   "cell_type": "code",
   "execution_count": 10,
   "metadata": {
    "colab": {
     "base_uri": "https://localhost:8080/"
    },
    "id": "hZiZwF-gbOrV",
    "outputId": "1badfa1b-3710-4e3f-a012-d971df00eca8",
    "tags": []
   },
   "outputs": [
    {
     "name": "stdout",
     "output_type": "stream",
     "text": [
      "+---------------------------------------------------------------------------+\n",
      "|text                                                                       |\n",
      "+---------------------------------------------------------------------------+\n",
      "|On 2021-01-04 the cost per ton from 85001 to 85002 is $28.32 at ABC Hauling|\n",
      "|On 2021-01-04 the cost per ton from 85001 to 85004 is $25.68 at ABC Hauling|\n",
      "|On 2021-01-04 the cost per ton from 85001 to 85007 is 19.86 at ABC Hauling |\n",
      "|On 2021-01-04 the cost per ton from 85001 to 85007 is 20.52 at Haul Today  |\n",
      "|On 2021-01-04 the cost per ton from 85001 to 85010 is 20.72 at Haul Today  |\n",
      "|On 2021-01-04 the cost per ton from 85001 to 85012 is $18.98 at ABC Hauling|\n",
      "|On 2021-01-04 the cost per ton from 85001 to 85013 is 26.64 at Haul Today  |\n",
      "|On 2021-01-04 the cost per ton from 85001 to 85020 is 26.34 at ABC Hauling |\n",
      "|On 2021-01-04 the cost per ton from 85001 to 85021 is $20.15 at ABC Hauling|\n",
      "|On 2021-01-04 the cost per ton from 85002 to 85001 is 21.57 at Haul Today  |\n",
      "|On 2021-01-04 the cost per ton from 85002 to 85004 is 21.40 at Haul Today  |\n",
      "|On 2021-01-04 the cost per ton from 85002 to 85007 is 25.93 at Haul Today  |\n",
      "|On 2021-01-04 the cost per ton from 85002 to 85010 is 19.80 at Haul Today  |\n",
      "|On 2021-01-04 the cost per ton from 85002 to 85012 is 21.66 at Haul Today  |\n",
      "|On 2021-01-04 the cost per ton from 85002 to 85013 is $25.90 at Haul Today |\n",
      "|On 2021-01-04 the cost per ton from 85002 to 85020 is 19.15 at ABC Hauling |\n",
      "|On 2021-01-04 the cost per ton from 85002 to 85021 is $27.13 at Haul Today |\n",
      "|On 2021-01-04 the cost per ton from 85004 to 85001 is 23.88 at Haul Today  |\n",
      "|On 2021-01-04 the cost per ton from 85004 to 85002 is 26.40 at ABC Hauling |\n",
      "|On 2021-01-04 the cost per ton from 85004 to 85007 is 26.03 at ABC Hauling |\n",
      "+---------------------------------------------------------------------------+\n",
      "only showing top 20 rows\n",
      "\n"
     ]
    }
   ],
   "source": [
    "transfer_cost_df.show(truncate=False)"
   ]
  },
  {
   "cell_type": "code",
   "execution_count": 11,
   "metadata": {
    "id": "n2EYklWrbSK5",
    "tags": []
   },
   "outputs": [],
   "source": [
    "from pyspark.sql.functions import *\n",
    "regex_str = r'On (\\S+) the cost per ton from (\\d+) to (\\d+) is (\\S+) at (.*)'\n",
    "\n",
    "# 두번째 파라미터 : regexp_extract 와 같은 것이 UDF \n",
    "df_with_new_columns = transfer_cost_df\\\n",
    "    .withColumn('week', regexp_extract('text', regex_str, 1))\\\n",
    "    .withColumn('departure_zipcode', regexp_extract(column('text'), regex_str, 2))\\\n",
    "    .withColumn('arrival_zipcode', regexp_extract(transfer_cost_df.text, regex_str, 3))\\\n",
    "    .withColumn('cost', regexp_extract(col('text'), regex_str, 4))\\\n",
    "    .withColumn('vendor', regexp_extract(col('text'), regex_str, 5))"
   ]
  },
  {
   "cell_type": "code",
   "execution_count": 12,
   "metadata": {
    "colab": {
     "base_uri": "https://localhost:8080/"
    },
    "id": "6PdecGV1XMIi",
    "outputId": "0402b8c2-d16f-4f44-b006-c50fd9831854",
    "tags": []
   },
   "outputs": [
    {
     "name": "stdout",
     "output_type": "stream",
     "text": [
      "root\n",
      " |-- text: string (nullable = true)\n",
      " |-- week: string (nullable = true)\n",
      " |-- departure_zipcode: string (nullable = true)\n",
      " |-- arrival_zipcode: string (nullable = true)\n",
      " |-- cost: string (nullable = true)\n",
      " |-- vendor: string (nullable = true)\n",
      "\n"
     ]
    }
   ],
   "source": [
    "df_with_new_columns.printSchema()"
   ]
  },
  {
   "cell_type": "code",
   "execution_count": 13,
   "metadata": {
    "id": "tiBRD9MUXOIP",
    "tags": []
   },
   "outputs": [],
   "source": [
    "final_df = df_with_new_columns.drop(\"text\")"
   ]
  },
  {
   "cell_type": "code",
   "execution_count": 20,
   "metadata": {
    "id": "oefVVlGfXZJt",
    "tags": []
   },
   "outputs": [],
   "source": [
    "# refine된 df를 csv로 저장\n",
    "final_df.write.csv(\"extracted_transfer_cost.csv\")"
   ]
  },
  {
   "cell_type": "code",
   "execution_count": 21,
   "metadata": {
    "colab": {
     "base_uri": "https://localhost:8080/"
    },
    "id": "hHqUsiQjXjJ9",
    "outputId": "c25239c3-342e-469d-aa05-6b48b8a5b976",
    "tags": []
   },
   "outputs": [
    {
     "name": "stdout",
     "output_type": "stream",
     "text": [
      "total 648\n",
      "drwxr-xr-x 6 jovyan users    192 Jul  4 16:08 extracted_transfer_cost.csv\n",
      "-rw-r--r-- 1 jovyan users  19506 Jul  4 16:07 PySpark_DataFrame_3.ipynb\n",
      "drwxr-xr-x 5 jovyan users    160 Jul  4 16:06 extracted.csv\n",
      "-rw-r--r-- 1 jovyan users  24246 Jul  4 15:23 PySpark_DataFrame_2.ipynb\n",
      "-rw-r--r-- 1 jovyan users  30849 Jul  4 14:58 PySpark_DataFrame_1.ipynb\n",
      "-rw-r--r-- 1 jovyan users  22881 Jul  4 14:30 PySpark_설치_및_테스트.ipynb\n",
      "-rw-r--r-- 1 jovyan users  22056 Jul  4 12:19 PySpark_DataFrame_5.ipynb\n",
      "-rw-r--r-- 1 jovyan users  32483 Jul  4 12:19 PySpark_DataFrame_4.ipynb\n",
      "-rw-r--r-- 1 jovyan users  64553 Jul  4 12:19 1800.csv\n",
      "-rw-r--r-- 1 jovyan users 286779 Apr 24  2022 transfer_cost.txt\n",
      "-rw-r--r-- 1 jovyan users 146855 Apr 10  2022 customer-orders.csv\n"
     ]
    }
   ],
   "source": [
    "!ls -tl"
   ]
  },
  {
   "cell_type": "code",
   "execution_count": 23,
   "metadata": {
    "colab": {
     "base_uri": "https://localhost:8080/"
    },
    "id": "TGUG9GqwX5a6",
    "outputId": "a475f9a7-3d6f-4cbf-ccc8-b99dc789861d",
    "tags": []
   },
   "outputs": [
    {
     "name": "stdout",
     "output_type": "stream",
     "text": [
      "total 156\n",
      "-rw-r--r-- 1 jovyan users      0 Jul  4 16:08 _SUCCESS\n",
      "-rw-r--r-- 1 jovyan users 156423 Jul  4 16:08 part-00000-5b782253-00d3-4493-9c09-2f9b58baa464-c000.csv\n"
     ]
    }
   ],
   "source": [
    "# 큰 데이터 프레임을 저장하려고 하면 hdfs에 저장을 하려고 할 때, 블록 단위로 나뉘어서 저장이 된다.\n",
    "# 그래서 파일이 아닌 디렉토리로 저장이 되고, 데이터 프레임이 여러개 파일로 나뉘어져서 저장이 될 수 있다.\n",
    "# 이 경우는 파일이 작아서 디렉토리 내부에 하나로 저장\n",
    "# part로 시작하는 부분 파일이 1번째 데이터 블록이 되는 것\n",
    "!ls -tl extracted_transfer_cost.csv/"
   ]
  },
  {
   "cell_type": "code",
   "execution_count": 24,
   "metadata": {
    "colab": {
     "base_uri": "https://localhost:8080/"
    },
    "id": "80dsZkBhX-a6",
    "outputId": "dd7ad669-4d61-4f25-9ef1-7e374d072976",
    "tags": []
   },
   "outputs": [
    {
     "name": "stdout",
     "output_type": "stream",
     "text": [
      "2021-01-04,85001,85002,$28.32,ABC Hauling\n",
      "2021-01-04,85001,85004,$25.68,ABC Hauling\n",
      "2021-01-04,85001,85007,19.86,ABC Hauling\n",
      "2021-01-04,85001,85007,20.52,Haul Today\n",
      "2021-01-04,85001,85010,20.72,Haul Today\n"
     ]
    }
   ],
   "source": [
    "# 처음 레코드 5개 읽기\n",
    "!head -5 extracted_transfer_cost.csv/part-00000-5b782253-00d3-4493-9c09-2f9b58baa464-c000.csv"
   ]
  },
  {
   "cell_type": "code",
   "execution_count": 25,
   "metadata": {
    "id": "c6qT4c_LYMj4",
    "tags": []
   },
   "outputs": [],
   "source": [
    "final_df.write.format(\"json\").save(\"extracted.json\")"
   ]
  },
  {
   "cell_type": "code",
   "execution_count": 26,
   "metadata": {
    "colab": {
     "base_uri": "https://localhost:8080/"
    },
    "id": "Y8K6JprsYSwF",
    "outputId": "f0481e89-7eef-4e9b-96fa-14c4c132bbb8",
    "tags": []
   },
   "outputs": [
    {
     "name": "stdout",
     "output_type": "stream",
     "text": [
      "total 428\n",
      "-rw-r--r-- 1 jovyan users      0 Jul  4 16:11 _SUCCESS\n",
      "-rw-r--r-- 1 jovyan users 436305 Jul  4 16:11 part-00000-2be98280-167e-4bce-b077-6a32c9382762-c000.json\n"
     ]
    }
   ],
   "source": [
    "!ls -tl extracted.json/"
   ]
  },
  {
   "cell_type": "code",
   "execution_count": 27,
   "metadata": {
    "colab": {
     "base_uri": "https://localhost:8080/"
    },
    "id": "C-j9yCXzYVvA",
    "outputId": "4617ecc2-5141-424e-f987-1fd0fc66dff6",
    "tags": []
   },
   "outputs": [
    {
     "name": "stdout",
     "output_type": "stream",
     "text": [
      "{\"week\":\"2021-01-04\",\"departure_zipcode\":\"85001\",\"arrival_zipcode\":\"85002\",\"cost\":\"$28.32\",\"vendor\":\"ABC Hauling\"}\n"
     ]
    }
   ],
   "source": [
    "# 처음 레코드 하나만 읽기\n",
    "!head -1 extracted.json/part-00000-2be98280-167e-4bce-b077-6a32c9382762-c000.json"
   ]
  },
  {
   "cell_type": "code",
   "execution_count": null,
   "metadata": {
    "id": "Jayac13VYUF8"
   },
   "outputs": [],
   "source": []
  }
 ],
 "metadata": {
  "colab": {
   "provenance": []
  },
  "kernelspec": {
   "display_name": "Python 3 (ipykernel)",
   "language": "python",
   "name": "python3"
  },
  "language_info": {
   "codemirror_mode": {
    "name": "ipython",
    "version": 3
   },
   "file_extension": ".py",
   "mimetype": "text/x-python",
   "name": "python",
   "nbconvert_exporter": "python",
   "pygments_lexer": "ipython3",
   "version": "3.10.9"
  }
 },
 "nbformat": 4,
 "nbformat_minor": 4
}
