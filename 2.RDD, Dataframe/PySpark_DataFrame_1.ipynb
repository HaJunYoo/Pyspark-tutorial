{
 "cells": [
  {
   "cell_type": "markdown",
   "metadata": {
    "id": "h0Vh7tlM_VK9"
   },
   "source": [
    "## PySpark 설치"
   ]
  },
  {
   "cell_type": "code",
   "execution_count": null,
   "metadata": {
    "colab": {
     "base_uri": "https://localhost:8080/"
    },
    "id": "NbT0rpGfVdiq",
    "outputId": "6f3a33db-439f-42dc-cd98-1b49b234921d"
   },
   "outputs": [
    {
     "name": "stdout",
     "output_type": "stream",
     "text": [
      "Looking in indexes: https://pypi.org/simple, https://us-python.pkg.dev/colab-wheels/public/simple/\n",
      "Requirement already satisfied: pyspark==3.3.1 in /usr/local/lib/python3.8/dist-packages (3.3.1)\n",
      "Requirement already satisfied: py4j==0.10.9.5 in /usr/local/lib/python3.8/dist-packages (0.10.9.5)\n"
     ]
    }
   ],
   "source": [
    "!pip install pyspark==3.3.1 py4j==0.10.9.5 "
   ]
  },
  {
   "cell_type": "markdown",
   "metadata": {
    "id": "z0TH_BVevW0-"
   },
   "source": [
    "## 처리할 데이터 파일을 먼저 다운로드 받아온다"
   ]
  },
  {
   "cell_type": "code",
   "execution_count": 1,
   "metadata": {
    "colab": {
     "base_uri": "https://localhost:8080/"
    },
    "id": "_Aifsf6QVzQR",
    "outputId": "4e10e394-ad86-4b27-c112-456dcf4ce32a"
   },
   "outputs": [
    {
     "name": "stdout",
     "output_type": "stream",
     "text": [
      "--2023-07-04 12:11:41--  https://s3-geospatial.s3-us-west-2.amazonaws.com/1800.csv\n",
      "Resolving s3-geospatial.s3-us-west-2.amazonaws.com (s3-geospatial.s3-us-west-2.amazonaws.com)... 3.5.83.169, 3.5.84.174, 3.5.81.19, ...\n",
      "Connecting to s3-geospatial.s3-us-west-2.amazonaws.com (s3-geospatial.s3-us-west-2.amazonaws.com)|3.5.83.169|:443... connected.\n",
      "HTTP request sent, awaiting response... 200 OK\n",
      "Length: 62728 (61K) [text/csv]\n",
      "Saving to: ‘1800.csv’\n",
      "\n",
      "1800.csv            100%[===================>]  61.26K   388KB/s    in 0.2s    \n",
      "\n",
      "2023-07-04 12:11:41 (388 KB/s) - ‘1800.csv’ saved [62728/62728]\n",
      "\n"
     ]
    }
   ],
   "source": [
    "!wget https://s3-geospatial.s3-us-west-2.amazonaws.com/1800.csv"
   ]
  },
  {
   "cell_type": "code",
   "execution_count": 1,
   "metadata": {
    "colab": {
     "base_uri": "https://localhost:8080/"
    },
    "id": "StSlAPnSVbTF",
    "outputId": "e88bc9b7-7bdc-4d0b-8296-78d1996df164",
    "tags": []
   },
   "outputs": [
    {
     "name": "stdout",
     "output_type": "stream",
     "text": [
      "total 216\n",
      "-rw-r--r-- 1 jovyan users 22881 Jul  4 12:34 PySpark_설치_및_테스트.ipynb\n",
      "-rw-r--r-- 1 jovyan users 25991 Jul  4 12:29 PySpark_DataFrame_1.ipynb\n",
      "-rw-r--r-- 1 jovyan users 22056 Jul  4 12:19 PySpark_DataFrame_5.ipynb\n",
      "-rw-r--r-- 1 jovyan users 32483 Jul  4 12:19 PySpark_DataFrame_4.ipynb\n",
      "-rw-r--r-- 1 jovyan users 14392 Jul  4 12:19 PySpark_DataFrame_3.ipynb\n",
      "-rw-r--r-- 1 jovyan users 25291 Jul  4 12:19 PySpark_DataFrame_2.ipynb\n",
      "-rw-r--r-- 1 jovyan users 64553 Jul  4 12:19 1800.csv\n"
     ]
    }
   ],
   "source": [
    "!ls -tl"
   ]
  },
  {
   "cell_type": "code",
   "execution_count": 2,
   "metadata": {
    "colab": {
     "base_uri": "https://localhost:8080/"
    },
    "id": "2J9N4uO9cp3Z",
    "outputId": "e004e345-b4ef-45fe-9b37-e638630b61ce",
    "tags": []
   },
   "outputs": [
    {
     "name": "stdout",
     "output_type": "stream",
     "text": [
      "ITE00100554,18000101,TMAX,-75,,,E,\n",
      "ITE00100554,18000101,TMIN,-148,,,E,\n",
      "GM000010962,18000101,PRCP,0,,,E,\n",
      "EZE00100082,18000101,TMAX,-86,,,E,\n",
      "EZE00100082,18000101,TMIN,-135,,,E,\n"
     ]
    }
   ],
   "source": [
    "!head -5 1800.csv"
   ]
  },
  {
   "cell_type": "markdown",
   "metadata": {
    "id": "vt-2qxmCvjlJ"
   },
   "source": [
    "## 판다스 데이터프레임으로 처리해본다"
   ]
  },
  {
   "cell_type": "code",
   "execution_count": 3,
   "metadata": {
    "id": "XATYmi-hbvql",
    "tags": []
   },
   "outputs": [],
   "source": [
    "import pandas as pd \n",
    "\n",
    "pd_df = pd.read_csv(\n",
    "    \"1800.csv\",\n",
    "    names=[\"stationID\", \"date\", \"measure_type\", \"temperature\"],\n",
    "    usecols=[0, 1, 2, 3]\n",
    ")"
   ]
  },
  {
   "cell_type": "code",
   "execution_count": 4,
   "metadata": {
    "colab": {
     "base_uri": "https://localhost:8080/",
     "height": 206
    },
    "id": "YFWb55eQb10I",
    "outputId": "7fa7b34e-0544-4882-a17b-5d70631a1e77",
    "tags": []
   },
   "outputs": [
    {
     "data": {
      "text/html": [
       "<div>\n",
       "<style scoped>\n",
       "    .dataframe tbody tr th:only-of-type {\n",
       "        vertical-align: middle;\n",
       "    }\n",
       "\n",
       "    .dataframe tbody tr th {\n",
       "        vertical-align: top;\n",
       "    }\n",
       "\n",
       "    .dataframe thead th {\n",
       "        text-align: right;\n",
       "    }\n",
       "</style>\n",
       "<table border=\"1\" class=\"dataframe\">\n",
       "  <thead>\n",
       "    <tr style=\"text-align: right;\">\n",
       "      <th></th>\n",
       "      <th>stationID</th>\n",
       "      <th>date</th>\n",
       "      <th>measure_type</th>\n",
       "      <th>temperature</th>\n",
       "    </tr>\n",
       "  </thead>\n",
       "  <tbody>\n",
       "    <tr>\n",
       "      <th>0</th>\n",
       "      <td>ITE00100554</td>\n",
       "      <td>18000101</td>\n",
       "      <td>TMAX</td>\n",
       "      <td>-75</td>\n",
       "    </tr>\n",
       "    <tr>\n",
       "      <th>1</th>\n",
       "      <td>ITE00100554</td>\n",
       "      <td>18000101</td>\n",
       "      <td>TMIN</td>\n",
       "      <td>-148</td>\n",
       "    </tr>\n",
       "    <tr>\n",
       "      <th>2</th>\n",
       "      <td>GM000010962</td>\n",
       "      <td>18000101</td>\n",
       "      <td>PRCP</td>\n",
       "      <td>0</td>\n",
       "    </tr>\n",
       "    <tr>\n",
       "      <th>3</th>\n",
       "      <td>EZE00100082</td>\n",
       "      <td>18000101</td>\n",
       "      <td>TMAX</td>\n",
       "      <td>-86</td>\n",
       "    </tr>\n",
       "    <tr>\n",
       "      <th>4</th>\n",
       "      <td>EZE00100082</td>\n",
       "      <td>18000101</td>\n",
       "      <td>TMIN</td>\n",
       "      <td>-135</td>\n",
       "    </tr>\n",
       "  </tbody>\n",
       "</table>\n",
       "</div>"
      ],
      "text/plain": [
       "     stationID      date measure_type  temperature\n",
       "0  ITE00100554  18000101         TMAX          -75\n",
       "1  ITE00100554  18000101         TMIN         -148\n",
       "2  GM000010962  18000101         PRCP            0\n",
       "3  EZE00100082  18000101         TMAX          -86\n",
       "4  EZE00100082  18000101         TMIN         -135"
      ]
     },
     "execution_count": 4,
     "metadata": {},
     "output_type": "execute_result"
    }
   ],
   "source": [
    "pd_df.head()"
   ]
  },
  {
   "cell_type": "code",
   "execution_count": 5,
   "metadata": {
    "id": "KBVRC1X4b366",
    "tags": []
   },
   "outputs": [],
   "source": [
    "# Filter out all but TMIN entries\n",
    "pd_minTemps = pd_df[pd_df['measure_type'] == \"TMIN\"]"
   ]
  },
  {
   "cell_type": "code",
   "execution_count": 6,
   "metadata": {
    "id": "V15rCgqJhvdw",
    "tags": []
   },
   "outputs": [
    {
     "data": {
      "text/html": [
       "<div>\n",
       "<style scoped>\n",
       "    .dataframe tbody tr th:only-of-type {\n",
       "        vertical-align: middle;\n",
       "    }\n",
       "\n",
       "    .dataframe tbody tr th {\n",
       "        vertical-align: top;\n",
       "    }\n",
       "\n",
       "    .dataframe thead th {\n",
       "        text-align: right;\n",
       "    }\n",
       "</style>\n",
       "<table border=\"1\" class=\"dataframe\">\n",
       "  <thead>\n",
       "    <tr style=\"text-align: right;\">\n",
       "      <th></th>\n",
       "      <th>stationID</th>\n",
       "      <th>date</th>\n",
       "      <th>measure_type</th>\n",
       "      <th>temperature</th>\n",
       "    </tr>\n",
       "  </thead>\n",
       "  <tbody>\n",
       "    <tr>\n",
       "      <th>1</th>\n",
       "      <td>ITE00100554</td>\n",
       "      <td>18000101</td>\n",
       "      <td>TMIN</td>\n",
       "      <td>-148</td>\n",
       "    </tr>\n",
       "    <tr>\n",
       "      <th>4</th>\n",
       "      <td>EZE00100082</td>\n",
       "      <td>18000101</td>\n",
       "      <td>TMIN</td>\n",
       "      <td>-135</td>\n",
       "    </tr>\n",
       "    <tr>\n",
       "      <th>6</th>\n",
       "      <td>ITE00100554</td>\n",
       "      <td>18000102</td>\n",
       "      <td>TMIN</td>\n",
       "      <td>-125</td>\n",
       "    </tr>\n",
       "    <tr>\n",
       "      <th>9</th>\n",
       "      <td>EZE00100082</td>\n",
       "      <td>18000102</td>\n",
       "      <td>TMIN</td>\n",
       "      <td>-130</td>\n",
       "    </tr>\n",
       "    <tr>\n",
       "      <th>11</th>\n",
       "      <td>ITE00100554</td>\n",
       "      <td>18000103</td>\n",
       "      <td>TMIN</td>\n",
       "      <td>-46</td>\n",
       "    </tr>\n",
       "  </tbody>\n",
       "</table>\n",
       "</div>"
      ],
      "text/plain": [
       "      stationID      date measure_type  temperature\n",
       "1   ITE00100554  18000101         TMIN         -148\n",
       "4   EZE00100082  18000101         TMIN         -135\n",
       "6   ITE00100554  18000102         TMIN         -125\n",
       "9   EZE00100082  18000102         TMIN         -130\n",
       "11  ITE00100554  18000103         TMIN          -46"
      ]
     },
     "execution_count": 6,
     "metadata": {},
     "output_type": "execute_result"
    }
   ],
   "source": [
    "pd_minTemps.head()"
   ]
  },
  {
   "cell_type": "code",
   "execution_count": 7,
   "metadata": {
    "id": "Z262lblfdbBQ",
    "tags": []
   },
   "outputs": [],
   "source": [
    "# Select only stationID and temperature\n",
    "pd_stationTemps = pd_minTemps[[\"stationID\", \"temperature\"]]"
   ]
  },
  {
   "cell_type": "code",
   "execution_count": 8,
   "metadata": {
    "colab": {
     "base_uri": "https://localhost:8080/",
     "height": 143
    },
    "id": "h7ChW77jd4PI",
    "outputId": "b9abaf1a-3cf1-4f20-f0d3-4cbbbb497779",
    "tags": []
   },
   "outputs": [
    {
     "data": {
      "text/html": [
       "<div>\n",
       "<style scoped>\n",
       "    .dataframe tbody tr th:only-of-type {\n",
       "        vertical-align: middle;\n",
       "    }\n",
       "\n",
       "    .dataframe tbody tr th {\n",
       "        vertical-align: top;\n",
       "    }\n",
       "\n",
       "    .dataframe thead th {\n",
       "        text-align: right;\n",
       "    }\n",
       "</style>\n",
       "<table border=\"1\" class=\"dataframe\">\n",
       "  <thead>\n",
       "    <tr style=\"text-align: right;\">\n",
       "      <th></th>\n",
       "      <th>temperature</th>\n",
       "    </tr>\n",
       "    <tr>\n",
       "      <th>stationID</th>\n",
       "      <th></th>\n",
       "    </tr>\n",
       "  </thead>\n",
       "  <tbody>\n",
       "    <tr>\n",
       "      <th>EZE00100082</th>\n",
       "      <td>-135</td>\n",
       "    </tr>\n",
       "    <tr>\n",
       "      <th>ITE00100554</th>\n",
       "      <td>-148</td>\n",
       "    </tr>\n",
       "  </tbody>\n",
       "</table>\n",
       "</div>"
      ],
      "text/plain": [
       "             temperature\n",
       "stationID               \n",
       "EZE00100082         -135\n",
       "ITE00100554         -148"
      ]
     },
     "execution_count": 8,
     "metadata": {},
     "output_type": "execute_result"
    }
   ],
   "source": [
    "# Aggregate to find minimum temperature for every station\n",
    "pd_minTempsByStation = pd_stationTemps.groupby([\"stationID\"]).min(\"temperature\")\n",
    "pd_minTempsByStation.head()"
   ]
  },
  {
   "cell_type": "markdown",
   "metadata": {
    "id": "xi536T8UdYxd"
   },
   "source": [
    "## Spark으로 처리해본다"
   ]
  },
  {
   "cell_type": "code",
   "execution_count": 12,
   "metadata": {
    "id": "3vm6tgcPXdnR",
    "tags": []
   },
   "outputs": [],
   "source": [
    "from pyspark.sql import SparkSession\n",
    "from pyspark import SparkConf\n",
    "\n",
    "conf = SparkConf()\n",
    "conf.set(\"spark.app.name\", \"PySpark DataFrame #1\")\n",
    "conf.set(\"spark.master\", \"local[*]\")\n",
    "\n",
    "spark = SparkSession.builder\\\n",
    "        .config(conf=conf)\\\n",
    "        .getOrCreate()"
   ]
  },
  {
   "cell_type": "code",
   "execution_count": 13,
   "metadata": {
    "id": "5CKcAjdTXLqn",
    "tags": []
   },
   "outputs": [],
   "source": [
    "df = spark.read.format(\"csv\").load(\"1800.csv\") # spark.read.csv(\"1800.csv\")"
   ]
  },
  {
   "cell_type": "code",
   "execution_count": 14,
   "metadata": {
    "colab": {
     "base_uri": "https://localhost:8080/"
    },
    "id": "nZzyTXi9YEZA",
    "outputId": "582ccf92-8943-48d6-bdba-bc00de6e5309",
    "tags": []
   },
   "outputs": [
    {
     "name": "stdout",
     "output_type": "stream",
     "text": [
      "root\n",
      " |-- _c0: string (nullable = true)\n",
      " |-- _c1: string (nullable = true)\n",
      " |-- _c2: string (nullable = true)\n",
      " |-- _c3: string (nullable = true)\n",
      " |-- _c4: string (nullable = true)\n",
      " |-- _c5: string (nullable = true)\n",
      " |-- _c6: string (nullable = true)\n",
      " |-- _c7: string (nullable = true)\n",
      "\n"
     ]
    }
   ],
   "source": [
    "df.printSchema()"
   ]
  },
  {
   "cell_type": "code",
   "execution_count": 15,
   "metadata": {
    "id": "CMux5mjgZQZP",
    "tags": []
   },
   "outputs": [],
   "source": [
    "df = spark.read.format(\"csv\")\\\n",
    "    .load(\"1800.csv\")\\\n",
    "    .toDF(\"stationID\", \"date\", \"measure_type\", \"temperature\", \"_c4\", \"_c5\", \"_c6\", \"_c7\")"
   ]
  },
  {
   "cell_type": "code",
   "execution_count": 16,
   "metadata": {
    "colab": {
     "base_uri": "https://localhost:8080/"
    },
    "id": "fKieBCDIZoKU",
    "outputId": "18e71acd-a958-464b-b92a-fb2bfc1d094c",
    "tags": []
   },
   "outputs": [
    {
     "name": "stdout",
     "output_type": "stream",
     "text": [
      "root\n",
      " |-- stationID: string (nullable = true)\n",
      " |-- date: string (nullable = true)\n",
      " |-- measure_type: string (nullable = true)\n",
      " |-- temperature: string (nullable = true)\n",
      " |-- _c4: string (nullable = true)\n",
      " |-- _c5: string (nullable = true)\n",
      " |-- _c6: string (nullable = true)\n",
      " |-- _c7: string (nullable = true)\n",
      "\n"
     ]
    }
   ],
   "source": [
    "df.printSchema()"
   ]
  },
  {
   "cell_type": "code",
   "execution_count": 17,
   "metadata": {
    "id": "nhbK7K44aCZn",
    "tags": []
   },
   "outputs": [],
   "source": [
    "df = spark.read.format(\"csv\")\\\n",
    "    .option(\"inferSchema\", \"true\")\\\n",
    "    .load(\"1800.csv\")\\\n",
    "    .toDF(\"stationID\", \"date\", \"measure_type\", \"temperature\", \"_c4\", \"_c5\", \"_c6\", \"_c7\")"
   ]
  },
  {
   "cell_type": "code",
   "execution_count": 18,
   "metadata": {
    "colab": {
     "base_uri": "https://localhost:8080/"
    },
    "id": "tizbmeycaGet",
    "outputId": "c179fe20-8ca2-4e50-b1f7-85c32150d540",
    "tags": []
   },
   "outputs": [
    {
     "name": "stdout",
     "output_type": "stream",
     "text": [
      "root\n",
      " |-- stationID: string (nullable = true)\n",
      " |-- date: integer (nullable = true)\n",
      " |-- measure_type: string (nullable = true)\n",
      " |-- temperature: integer (nullable = true)\n",
      " |-- _c4: string (nullable = true)\n",
      " |-- _c5: string (nullable = true)\n",
      " |-- _c6: string (nullable = true)\n",
      " |-- _c7: string (nullable = true)\n",
      "\n"
     ]
    }
   ],
   "source": [
    "df.printSchema()"
   ]
  },
  {
   "cell_type": "code",
   "execution_count": 19,
   "metadata": {
    "id": "8Gzsmgw_ZnFA",
    "tags": []
   },
   "outputs": [],
   "source": [
    "from pyspark.sql.types import StringType, IntegerType, FloatType\n",
    "from pyspark.sql.types import StructType, StructField\n",
    "\n",
    "schema = StructType([ \\\n",
    "                     StructField(\"stationID\", StringType(), True), \\\n",
    "                     StructField(\"date\", IntegerType(), True), \\\n",
    "                     StructField(\"measure_type\", StringType(), True), \\\n",
    "                     StructField(\"temperature\", FloatType(), True)])"
   ]
  },
  {
   "cell_type": "code",
   "execution_count": 20,
   "metadata": {
    "id": "kKndxIjBY8OF",
    "tags": []
   },
   "outputs": [],
   "source": [
    "# df = spark.read.schema(schema).format(\"csv\").load(\"1800.csv\")\n",
    "df = spark.read.schema(schema).csv(\"1800.csv\")"
   ]
  },
  {
   "cell_type": "code",
   "execution_count": 21,
   "metadata": {
    "colab": {
     "base_uri": "https://localhost:8080/"
    },
    "id": "tCackSeGaQyE",
    "outputId": "93401189-53d7-44ba-f1a7-53245c9843a7",
    "tags": []
   },
   "outputs": [
    {
     "name": "stdout",
     "output_type": "stream",
     "text": [
      "root\n",
      " |-- stationID: string (nullable = true)\n",
      " |-- date: integer (nullable = true)\n",
      " |-- measure_type: string (nullable = true)\n",
      " |-- temperature: float (nullable = true)\n",
      "\n"
     ]
    }
   ],
   "source": [
    "df.printSchema()"
   ]
  },
  {
   "cell_type": "code",
   "execution_count": 22,
   "metadata": {
    "id": "9zPeAv9FZAKQ",
    "tags": []
   },
   "outputs": [],
   "source": [
    "# Filter out all but TMIN entries\n",
    "minTemps = df.filter(df.measure_type == \"TMIN\")"
   ]
  },
  {
   "cell_type": "code",
   "execution_count": 23,
   "metadata": {
    "colab": {
     "base_uri": "https://localhost:8080/"
    },
    "id": "vW_O2zb2iQA3",
    "outputId": "c5fa991d-6f0e-4d2c-f679-e164902bb324",
    "tags": []
   },
   "outputs": [
    {
     "data": {
      "text/plain": [
       "730"
      ]
     },
     "execution_count": 23,
     "metadata": {},
     "output_type": "execute_result"
    }
   ],
   "source": [
    "minTemps.count()"
   ]
  },
  {
   "cell_type": "code",
   "execution_count": 24,
   "metadata": {
    "id": "mxwyAq5faUdA",
    "tags": []
   },
   "outputs": [],
   "source": [
    "# Column expression으로 필터링 적용\n",
    "minTemps = df.where(df.measure_type == \"TMIN\")"
   ]
  },
  {
   "cell_type": "code",
   "execution_count": 25,
   "metadata": {
    "colab": {
     "base_uri": "https://localhost:8080/"
    },
    "id": "L8ZMxPHfaZgZ",
    "outputId": "b1cbd0c2-f091-4004-de66-a494fbae6982",
    "tags": []
   },
   "outputs": [
    {
     "data": {
      "text/plain": [
       "730"
      ]
     },
     "execution_count": 25,
     "metadata": {},
     "output_type": "execute_result"
    }
   ],
   "source": [
    "minTemps.count()"
   ]
  },
  {
   "cell_type": "code",
   "execution_count": 26,
   "metadata": {
    "id": "STkEm64Wabut",
    "tags": []
   },
   "outputs": [],
   "source": [
    "# SQL expression으로 필터링 적용\n",
    "minTemps = df.where(\"measure_type = 'TMIN'\")"
   ]
  },
  {
   "cell_type": "code",
   "execution_count": 27,
   "metadata": {
    "colab": {
     "base_uri": "https://localhost:8080/"
    },
    "id": "pbYJxbOVagtd",
    "outputId": "b266df3b-37fe-4320-ced6-15d926af0d30",
    "tags": []
   },
   "outputs": [
    {
     "data": {
      "text/plain": [
       "730"
      ]
     },
     "execution_count": 27,
     "metadata": {},
     "output_type": "execute_result"
    }
   ],
   "source": [
    "minTemps.count()"
   ]
  },
  {
   "cell_type": "code",
   "execution_count": 28,
   "metadata": {
    "colab": {
     "base_uri": "https://localhost:8080/"
    },
    "id": "RKG1pjKHZFDK",
    "outputId": "480fed67-22d8-419c-a3ae-1be7647854ae",
    "tags": []
   },
   "outputs": [
    {
     "name": "stdout",
     "output_type": "stream",
     "text": [
      "+-----------+----------------+\n",
      "|  stationID|min(temperature)|\n",
      "+-----------+----------------+\n",
      "|ITE00100554|          -148.0|\n",
      "|EZE00100082|          -135.0|\n",
      "+-----------+----------------+\n",
      "\n"
     ]
    }
   ],
   "source": [
    "# Aggregate to find minimum temperature for every station\n",
    "minTempsByStation = minTemps.groupBy(\"stationID\").min(\"temperature\")\n",
    "minTempsByStation.show()"
   ]
  },
  {
   "cell_type": "code",
   "execution_count": 29,
   "metadata": {
    "id": "vIHVkov7ZCmH",
    "tags": []
   },
   "outputs": [],
   "source": [
    "# Select only stationID and temperature\n",
    "stationTemps = minTemps[[\"stationID\", \"temperature\"]]"
   ]
  },
  {
   "cell_type": "code",
   "execution_count": 30,
   "metadata": {
    "colab": {
     "base_uri": "https://localhost:8080/"
    },
    "id": "pduAqX2D35pR",
    "outputId": "57a35696-5f56-433e-8779-3c8a86ec33eb",
    "tags": []
   },
   "outputs": [
    {
     "name": "stdout",
     "output_type": "stream",
     "text": [
      "+-----------+-----------+\n",
      "|  stationID|temperature|\n",
      "+-----------+-----------+\n",
      "|ITE00100554|     -148.0|\n",
      "|EZE00100082|     -135.0|\n",
      "|ITE00100554|     -125.0|\n",
      "|EZE00100082|     -130.0|\n",
      "|ITE00100554|      -46.0|\n",
      "+-----------+-----------+\n",
      "only showing top 5 rows\n",
      "\n"
     ]
    }
   ],
   "source": [
    "stationTemps.show(5)"
   ]
  },
  {
   "cell_type": "code",
   "execution_count": 31,
   "metadata": {
    "id": "vieB4jGb4BGS",
    "tags": []
   },
   "outputs": [],
   "source": [
    "stationTemps = minTemps.select(\"stationID\", \"temperature\")"
   ]
  },
  {
   "cell_type": "code",
   "execution_count": 32,
   "metadata": {
    "colab": {
     "base_uri": "https://localhost:8080/"
    },
    "id": "dLROwpAS4GCU",
    "outputId": "da0a3265-871c-400d-ef5c-994c9a42a3c3",
    "tags": []
   },
   "outputs": [
    {
     "name": "stdout",
     "output_type": "stream",
     "text": [
      "+-----------+-----------+\n",
      "|  stationID|temperature|\n",
      "+-----------+-----------+\n",
      "|ITE00100554|     -148.0|\n",
      "|EZE00100082|     -135.0|\n",
      "|ITE00100554|     -125.0|\n",
      "|EZE00100082|     -130.0|\n",
      "|ITE00100554|      -46.0|\n",
      "+-----------+-----------+\n",
      "only showing top 5 rows\n",
      "\n"
     ]
    }
   ],
   "source": [
    "stationTemps.show(5)"
   ]
  },
  {
   "cell_type": "code",
   "execution_count": 33,
   "metadata": {
    "colab": {
     "base_uri": "https://localhost:8080/"
    },
    "id": "JRIvScPKELPb",
    "outputId": "257427d8-21c1-4f2d-947f-ba0bd75169d5",
    "tags": []
   },
   "outputs": [
    {
     "name": "stdout",
     "output_type": "stream",
     "text": [
      "+-----------+-----------+\n",
      "|  stationID|temperature|\n",
      "+-----------+-----------+\n",
      "|ITE00100554|     -148.0|\n",
      "|EZE00100082|     -135.0|\n",
      "|ITE00100554|     -125.0|\n",
      "|EZE00100082|     -130.0|\n",
      "|ITE00100554|      -46.0|\n",
      "+-----------+-----------+\n",
      "only showing top 5 rows\n",
      "\n"
     ]
    }
   ],
   "source": [
    "stationTemps.show(5)"
   ]
  },
  {
   "cell_type": "code",
   "execution_count": 34,
   "metadata": {
    "id": "CLRfmxTVbWFa",
    "tags": []
   },
   "outputs": [],
   "source": [
    "# Collect, format, and print the results\n",
    "results = minTempsByStation.collect()"
   ]
  },
  {
   "cell_type": "code",
   "execution_count": 35,
   "metadata": {
    "colab": {
     "base_uri": "https://localhost:8080/"
    },
    "id": "KcWp2OmVbazR",
    "outputId": "078ad444-988a-47d6-a59d-84d376a00549",
    "tags": []
   },
   "outputs": [
    {
     "name": "stdout",
     "output_type": "stream",
     "text": [
      "ITE00100554\t-148.00F\n",
      "EZE00100082\t-135.00F\n"
     ]
    }
   ],
   "source": [
    "for result in results:\n",
    "    print(result[0] + \"\\t{:.2f}F\".format(result[1]))"
   ]
  },
  {
   "cell_type": "markdown",
   "metadata": {
    "id": "NoXy6A_Yon2o"
   },
   "source": [
    "## Spark SQL로 처리해보기"
   ]
  },
  {
   "cell_type": "code",
   "execution_count": 36,
   "metadata": {
    "id": "KFnSYHaZbc3d",
    "tags": []
   },
   "outputs": [],
   "source": [
    "df.createOrReplaceTempView(\"station1800\")"
   ]
  },
  {
   "cell_type": "code",
   "execution_count": 37,
   "metadata": {
    "id": "GQqHvF0sbAYL",
    "tags": []
   },
   "outputs": [],
   "source": [
    "results = spark.sql(\"\"\"SELECT stationID, MIN(temperature)\n",
    "FROM station1800\n",
    "WHERE measure_type = 'TMIN'\n",
    "GROUP BY 1\"\"\").collect()"
   ]
  },
  {
   "cell_type": "code",
   "execution_count": 38,
   "metadata": {
    "colab": {
     "base_uri": "https://localhost:8080/"
    },
    "id": "2Nev-8f7bXOl",
    "outputId": "ff8bf30e-8e9f-418b-93b6-ef805d30ed51",
    "tags": []
   },
   "outputs": [
    {
     "name": "stdout",
     "output_type": "stream",
     "text": [
      "Row(stationID='ITE00100554', min(temperature)=-148.0)\n",
      "Row(stationID='EZE00100082', min(temperature)=-135.0)\n"
     ]
    }
   ],
   "source": [
    "# pyspark.sql.Row는 DataFrame의 레코드에 해당하며 필드별로 이름이 존재# \n",
    "for r in results:\n",
    "    print(r)"
   ]
  },
  {
   "cell_type": "code",
   "execution_count": null,
   "metadata": {},
   "outputs": [],
   "source": []
  }
 ],
 "metadata": {
  "colab": {
   "provenance": []
  },
  "kernelspec": {
   "display_name": "Python 3 (ipykernel)",
   "language": "python",
   "name": "python3"
  },
  "language_info": {
   "codemirror_mode": {
    "name": "ipython",
    "version": 3
   },
   "file_extension": ".py",
   "mimetype": "text/x-python",
   "name": "python",
   "nbconvert_exporter": "python",
   "pygments_lexer": "ipython3",
   "version": "3.10.9"
  }
 },
 "nbformat": 4,
 "nbformat_minor": 4
}
