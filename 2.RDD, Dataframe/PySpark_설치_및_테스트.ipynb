{
  "nbformat": 4,
  "nbformat_minor": 0,
  "metadata": {
    "colab": {
      "provenance": [],
      "collapsed_sections": [
        "h0Vh7tlM_VK9",
        "f8gMf2J1VLqn",
        "QybCPBTz_NT-"
      ],
      "authorship_tag": "ABX9TyMrUCYsOkJDSjNbvC+5/FFZ"
    },
    "kernelspec": {
      "name": "python3",
      "display_name": "Python 3"
    }
  },
  "cells": [
    {
      "cell_type": "markdown",
      "metadata": {
        "id": "xAqhTDfuWrcM"
      },
      "source": [
        "PySpark을 로컬머신에 설치하고 노트북을 사용하기 보다는 머신러닝 관련 다양한 라이브러리가 이미 설치되었고 좋은 하드웨어를 제공해주는 Google Colab을 통해 실습을 진행한다. 이를 위해 pyspark과 Py4J 패키지를 설치한다. Py4J 패키지는 파이썬 프로그램이 자바가상머신상의 오브젝트들을 접근할 수 있게 해준다. Local Standalone Spark을 사용한다."
      ]
    },
    {
      "cell_type": "markdown",
      "source": [
        "# PySpark 설치"
      ],
      "metadata": {
        "id": "h0Vh7tlM_VK9"
      }
    },
    {
      "cell_type": "code",
      "metadata": {
        "colab": {
          "base_uri": "https://localhost:8080/"
        },
        "id": "NbT0rpGfVdiq",
        "outputId": "3999d8bc-79cb-43f3-f694-a8661611a181"
      },
      "source": [
        "!pip install pyspark==3.3.1 py4j==0.10.9.5 "
      ],
      "execution_count": null,
      "outputs": [
        {
          "output_type": "stream",
          "name": "stdout",
          "text": [
            "Looking in indexes: https://pypi.org/simple, https://us-python.pkg.dev/colab-wheels/public/simple/\n",
            "Requirement already satisfied: pyspark==3.3.1 in /usr/local/lib/python3.8/dist-packages (3.3.1)\n",
            "Requirement already satisfied: py4j==0.10.9.5 in /usr/local/lib/python3.8/dist-packages (0.10.9.5)\n"
          ]
        }
      ]
    },
    {
      "cell_type": "markdown",
      "metadata": {
        "id": "Ew_eTGrvXlDw"
      },
      "source": [
        "**Spark Session:** SparkSession은 Spark 2.0부터 엔트리 포인트로 사용된다. SparkSession을 이용해 RDD, 데이터 프레임등을 만든다. SparkSession은 SparkSession.builder를 호출하여 생성하며 다양한 함수들을 통해 세부 설정이 가능하다\n",
        "\n",
        "* local[*] Spark이 하나의 JVM으로 동작하고 그 안에 컴퓨터의 코어 수 만큼의 스레드가 Executor로 동작한다\n"
      ]
    },
    {
      "cell_type": "code",
      "metadata": {
        "id": "3vm6tgcPXdnR"
      },
      "source": [
        "from pyspark.sql import SparkSession\n",
        "\n",
        "spark = SparkSession.builder\\\n",
        "        .master(\"local[*]\")\\\n",
        "        .appName('PySpark Tutorial')\\\n",
        "        .getOrCreate()"
      ],
      "execution_count": null,
      "outputs": []
    },
    {
      "cell_type": "code",
      "metadata": {
        "id": "LSs_1PYaYWxI",
        "colab": {
          "base_uri": "https://localhost:8080/",
          "height": 220
        },
        "outputId": "02c42762-9746-43e1-c5ba-87e8c2de3257"
      },
      "source": [
        "spark"
      ],
      "execution_count": null,
      "outputs": [
        {
          "output_type": "execute_result",
          "data": {
            "text/plain": [
              "<pyspark.sql.session.SparkSession at 0x7f3ac97b8d90>"
            ],
            "text/html": [
              "\n",
              "            <div>\n",
              "                <p><b>SparkSession - in-memory</b></p>\n",
              "                \n",
              "        <div>\n",
              "            <p><b>SparkContext</b></p>\n",
              "\n",
              "            <p><a href=\"http://4d154bf15250:4040\">Spark UI</a></p>\n",
              "\n",
              "            <dl>\n",
              "              <dt>Version</dt>\n",
              "                <dd><code>v3.3.1</code></dd>\n",
              "              <dt>Master</dt>\n",
              "                <dd><code>local[*]</code></dd>\n",
              "              <dt>AppName</dt>\n",
              "                <dd><code>PySpark Tutorial</code></dd>\n",
              "            </dl>\n",
              "        </div>\n",
              "        \n",
              "            </div>\n",
              "        "
            ]
          },
          "metadata": {},
          "execution_count": 3
        }
      ]
    },
    {
      "cell_type": "code",
      "source": [
        "!lscpu"
      ],
      "metadata": {
        "id": "oeEFwKoZSVaU",
        "colab": {
          "base_uri": "https://localhost:8080/"
        },
        "outputId": "ea377a1c-6de7-4789-deb8-9e6271ab0d7b"
      },
      "execution_count": null,
      "outputs": [
        {
          "output_type": "stream",
          "name": "stdout",
          "text": [
            "Architecture:        x86_64\n",
            "CPU op-mode(s):      32-bit, 64-bit\n",
            "Byte Order:          Little Endian\n",
            "CPU(s):              2\n",
            "On-line CPU(s) list: 0,1\n",
            "Thread(s) per core:  2\n",
            "Core(s) per socket:  1\n",
            "Socket(s):           1\n",
            "NUMA node(s):        1\n",
            "Vendor ID:           GenuineIntel\n",
            "CPU family:          6\n",
            "Model:               79\n",
            "Model name:          Intel(R) Xeon(R) CPU @ 2.20GHz\n",
            "Stepping:            0\n",
            "CPU MHz:             2199.998\n",
            "BogoMIPS:            4399.99\n",
            "Hypervisor vendor:   KVM\n",
            "Virtualization type: full\n",
            "L1d cache:           32K\n",
            "L1i cache:           32K\n",
            "L2 cache:            256K\n",
            "L3 cache:            56320K\n",
            "NUMA node0 CPU(s):   0,1\n",
            "Flags:               fpu vme de pse tsc msr pae mce cx8 apic sep mtrr pge mca cmov pat pse36 clflush mmx fxsr sse sse2 ss ht syscall nx pdpe1gb rdtscp lm constant_tsc rep_good nopl xtopology nonstop_tsc cpuid tsc_known_freq pni pclmulqdq ssse3 fma cx16 pcid sse4_1 sse4_2 x2apic movbe popcnt aes xsave avx f16c rdrand hypervisor lahf_lm abm 3dnowprefetch invpcid_single ssbd ibrs ibpb stibp fsgsbase tsc_adjust bmi1 hle avx2 smep bmi2 erms invpcid rtm rdseed adx smap xsaveopt arat md_clear arch_capabilities\n"
          ]
        }
      ]
    },
    {
      "cell_type": "code",
      "source": [
        "!grep MemTotal /proc/meminfo"
      ],
      "metadata": {
        "id": "eIF5oQkLSo4-",
        "colab": {
          "base_uri": "https://localhost:8080/"
        },
        "outputId": "a55dff52-9252-4c1f-861b-9187a996ed84"
      },
      "execution_count": null,
      "outputs": [
        {
          "output_type": "stream",
          "name": "stdout",
          "text": [
            "MemTotal:       13297200 kB\n"
          ]
        }
      ]
    },
    {
      "cell_type": "markdown",
      "source": [
        "# Python <> RDD <> DataFrame"
      ],
      "metadata": {
        "id": "f8gMf2J1VLqn"
      }
    },
    {
      "cell_type": "markdown",
      "metadata": {
        "id": "VNHAAJuCZCqE"
      },
      "source": [
        "**Python 객체를 RDD로 변환해보기**\n",
        "\n",
        "**1> Python 리스트 생성**"
      ]
    },
    {
      "cell_type": "code",
      "metadata": {
        "id": "HhijTd1UY1i9"
      },
      "source": [
        "name_list_json = [ '{\"name\": \"keeyong\"}', '{\"name\": \"benjamin\"}', '{\"name\": \"claire\"}' ]"
      ],
      "execution_count": null,
      "outputs": []
    },
    {
      "cell_type": "code",
      "metadata": {
        "id": "hXqf1lC_Zdxf",
        "colab": {
          "base_uri": "https://localhost:8080/"
        },
        "outputId": "44de91fb-b019-4a8e-fe1d-9128a2096dea"
      },
      "source": [
        "for n in name_list_json:\n",
        "  print(n)"
      ],
      "execution_count": null,
      "outputs": [
        {
          "output_type": "stream",
          "name": "stdout",
          "text": [
            "{\"name\": \"keeyong\"}\n",
            "{\"name\": \"benjamin\"}\n",
            "{\"name\": \"claire\"}\n"
          ]
        }
      ]
    },
    {
      "cell_type": "markdown",
      "metadata": {
        "id": "YKlanTznb75N"
      },
      "source": [
        "**2> 파이썬 리스트를 RDD로 변환**\n",
        "\n",
        " * RDD로 변환되는 순간 Spark 클러스터의 서버들에 데이터가 나눠 저장됨 (파티션)"
      ]
    },
    {
      "cell_type": "code",
      "metadata": {
        "id": "NvTOpLsrZ_I8"
      },
      "source": [
        "rdd = spark.sparkContext.parallelize(name_list_json)"
      ],
      "execution_count": null,
      "outputs": []
    },
    {
      "cell_type": "code",
      "metadata": {
        "id": "KIMTLkPdk4ul",
        "colab": {
          "base_uri": "https://localhost:8080/"
        },
        "outputId": "c9944613-eb28-4abc-ecbe-acada18fa621"
      },
      "source": [
        "rdd"
      ],
      "execution_count": null,
      "outputs": [
        {
          "output_type": "execute_result",
          "data": {
            "text/plain": [
              "ParallelCollectionRDD[0] at readRDDFromFile at PythonRDD.scala:274"
            ]
          },
          "metadata": {},
          "execution_count": 9
        }
      ]
    },
    {
      "cell_type": "code",
      "metadata": {
        "id": "KmszVYtzaL3Q",
        "colab": {
          "base_uri": "https://localhost:8080/"
        },
        "outputId": "d749d55c-89c4-4f22-f9ef-46062356a6fd"
      },
      "source": [
        "rdd.count()"
      ],
      "execution_count": null,
      "outputs": [
        {
          "output_type": "execute_result",
          "data": {
            "text/plain": [
              "3"
            ]
          },
          "metadata": {},
          "execution_count": 10
        }
      ]
    },
    {
      "cell_type": "code",
      "metadata": {
        "id": "gMLop2SQbMnZ"
      },
      "source": [
        "import json\n",
        "\n",
        "parsed_rdd = rdd.map(lambda el:json.loads(el))"
      ],
      "execution_count": null,
      "outputs": []
    },
    {
      "cell_type": "code",
      "metadata": {
        "id": "RAgNR7EWcl2t",
        "colab": {
          "base_uri": "https://localhost:8080/"
        },
        "outputId": "9774c0c0-cbf4-4e27-fe66-ef538b1f781c"
      },
      "source": [
        "parsed_rdd"
      ],
      "execution_count": null,
      "outputs": [
        {
          "output_type": "execute_result",
          "data": {
            "text/plain": [
              "PythonRDD[2] at RDD at PythonRDD.scala:53"
            ]
          },
          "metadata": {},
          "execution_count": 12
        }
      ]
    },
    {
      "cell_type": "code",
      "metadata": {
        "id": "qt5SMf4IcoIZ",
        "colab": {
          "base_uri": "https://localhost:8080/"
        },
        "outputId": "e25fe3f4-75de-4531-e2d6-6f5302a89e26"
      },
      "source": [
        "parsed_rdd.collect()"
      ],
      "execution_count": null,
      "outputs": [
        {
          "output_type": "execute_result",
          "data": {
            "text/plain": [
              "[{'name': 'keeyong'}, {'name': 'benjamin'}, {'name': 'claire'}]"
            ]
          },
          "metadata": {},
          "execution_count": 13
        }
      ]
    },
    {
      "cell_type": "code",
      "metadata": {
        "id": "T1Kmn_qycqQl"
      },
      "source": [
        "parsed_name_rdd = rdd.map(lambda el:json.loads(el)[\"name\"])"
      ],
      "execution_count": null,
      "outputs": []
    },
    {
      "cell_type": "code",
      "metadata": {
        "id": "4ZWxTKgJnDm8",
        "colab": {
          "base_uri": "https://localhost:8080/"
        },
        "outputId": "f46a2779-80e1-4f6a-b83c-821e5193c249"
      },
      "source": [
        "parsed_name_rdd.collect()"
      ],
      "execution_count": null,
      "outputs": [
        {
          "output_type": "execute_result",
          "data": {
            "text/plain": [
              "['keeyong', 'benjamin', 'claire']"
            ]
          },
          "metadata": {},
          "execution_count": 15
        }
      ]
    },
    {
      "cell_type": "markdown",
      "metadata": {
        "id": "McGKfLtWnsTB"
      },
      "source": [
        "**파이썬 리스트를 데이터프레임으로 변환하기**"
      ]
    },
    {
      "cell_type": "code",
      "metadata": {
        "id": "_WlhiRsKo7j7"
      },
      "source": [
        "from pyspark.sql.types import StringType\n",
        "\n",
        "df = spark.createDataFrame(name_list_json, StringType())"
      ],
      "execution_count": null,
      "outputs": []
    },
    {
      "cell_type": "code",
      "metadata": {
        "id": "S2-pyiKGpLZe",
        "colab": {
          "base_uri": "https://localhost:8080/"
        },
        "outputId": "f196ec4a-a55a-40dd-ca7d-b91228b2c88a"
      },
      "source": [
        "df.count()"
      ],
      "execution_count": null,
      "outputs": [
        {
          "output_type": "execute_result",
          "data": {
            "text/plain": [
              "3"
            ]
          },
          "metadata": {},
          "execution_count": 17
        }
      ]
    },
    {
      "cell_type": "code",
      "metadata": {
        "id": "9Sql4KPhppgr",
        "colab": {
          "base_uri": "https://localhost:8080/"
        },
        "outputId": "abdd3d85-762f-481e-8587-57ea85147ce8"
      },
      "source": [
        "df.printSchema()"
      ],
      "execution_count": null,
      "outputs": [
        {
          "output_type": "stream",
          "name": "stdout",
          "text": [
            "root\n",
            " |-- value: string (nullable = true)\n",
            "\n"
          ]
        }
      ]
    },
    {
      "cell_type": "code",
      "metadata": {
        "id": "U2XzTjdEpuZ4",
        "colab": {
          "base_uri": "https://localhost:8080/"
        },
        "outputId": "8fda5c84-a2aa-468c-e6e3-438495c5ec92"
      },
      "source": [
        "df.select('*').collect()"
      ],
      "execution_count": null,
      "outputs": [
        {
          "output_type": "execute_result",
          "data": {
            "text/plain": [
              "[Row(value='{\"name\": \"keeyong\"}'),\n",
              " Row(value='{\"name\": \"benjamin\"}'),\n",
              " Row(value='{\"name\": \"claire\"}')]"
            ]
          },
          "metadata": {},
          "execution_count": 19
        }
      ]
    },
    {
      "cell_type": "markdown",
      "source": [
        "RDD를 DataFrame으로 변환해보는 예제: 앞서 parsed_rdd를 DataFrame으로 변환해보자\n",
        "\n"
      ],
      "metadata": {
        "id": "NhmokDHwUBNm"
      }
    },
    {
      "cell_type": "code",
      "metadata": {
        "id": "93TLUFxgqLrm"
      },
      "source": [
        "df_parsed_rdd = parsed_rdd.toDF()"
      ],
      "execution_count": null,
      "outputs": []
    },
    {
      "cell_type": "code",
      "metadata": {
        "id": "LtFEYRG61-L8",
        "colab": {
          "base_uri": "https://localhost:8080/"
        },
        "outputId": "95dfdbfa-31f6-4c79-dc17-502124355850"
      },
      "source": [
        "df_parsed_rdd.printSchema()"
      ],
      "execution_count": null,
      "outputs": [
        {
          "output_type": "stream",
          "name": "stdout",
          "text": [
            "root\n",
            " |-- name: string (nullable = true)\n",
            "\n"
          ]
        }
      ]
    },
    {
      "cell_type": "code",
      "metadata": {
        "id": "MptOIByKsLeG",
        "colab": {
          "base_uri": "https://localhost:8080/"
        },
        "outputId": "63b25f3e-7327-4fea-f7d8-1e18c15f1ad2"
      },
      "source": [
        "df_parsed_rdd.select('name').collect()"
      ],
      "execution_count": null,
      "outputs": [
        {
          "output_type": "execute_result",
          "data": {
            "text/plain": [
              "[Row(name='keeyong'), Row(name='benjamin'), Row(name='claire')]"
            ]
          },
          "metadata": {},
          "execution_count": 22
        }
      ]
    },
    {
      "cell_type": "markdown",
      "source": [
        "## Spark 데이터프레임으로 로드해보기"
      ],
      "metadata": {
        "id": "PIDOQxK3Prz5"
      }
    },
    {
      "cell_type": "code",
      "source": [
        "!wget https://s3-geospatial.s3-us-west-2.amazonaws.com/name_gender.csv"
      ],
      "metadata": {
        "id": "PoIJAjvNPYfG",
        "colab": {
          "base_uri": "https://localhost:8080/"
        },
        "outputId": "9f6e4545-5f8c-4287-83aa-b7b383cae6a7"
      },
      "execution_count": null,
      "outputs": [
        {
          "output_type": "stream",
          "name": "stdout",
          "text": [
            "--2023-01-14 06:51:15--  https://s3-geospatial.s3-us-west-2.amazonaws.com/name_gender.csv\n",
            "Resolving s3-geospatial.s3-us-west-2.amazonaws.com (s3-geospatial.s3-us-west-2.amazonaws.com)... 3.5.80.138, 3.5.80.102, 3.5.84.16, ...\n",
            "Connecting to s3-geospatial.s3-us-west-2.amazonaws.com (s3-geospatial.s3-us-west-2.amazonaws.com)|3.5.80.138|:443... connected.\n",
            "HTTP request sent, awaiting response... 200 OK\n",
            "Length: 997 [text/csv]\n",
            "Saving to: ‘name_gender.csv’\n",
            "\n",
            "name_gender.csv     100%[===================>]     997  --.-KB/s    in 0s      \n",
            "\n",
            "2023-01-14 06:51:16 (13.8 MB/s) - ‘name_gender.csv’ saved [997/997]\n",
            "\n"
          ]
        }
      ]
    },
    {
      "cell_type": "code",
      "source": [
        "df = spark.read.csv(\"name_gender.csv\")\n",
        "df.printSchema()"
      ],
      "metadata": {
        "id": "fvTn2b_dPznk",
        "colab": {
          "base_uri": "https://localhost:8080/"
        },
        "outputId": "097f7c6d-270d-42c0-abdf-9ca41280f31f"
      },
      "execution_count": null,
      "outputs": [
        {
          "output_type": "stream",
          "name": "stdout",
          "text": [
            "root\n",
            " |-- _c0: string (nullable = true)\n",
            " |-- _c1: string (nullable = true)\n",
            "\n"
          ]
        }
      ]
    },
    {
      "cell_type": "code",
      "source": [
        "df = spark.read.option(\"header\", True).csv(\"name_gender.csv\")\n",
        "df.printSchema()"
      ],
      "metadata": {
        "id": "2GXxjQQTTzyp",
        "colab": {
          "base_uri": "https://localhost:8080/"
        },
        "outputId": "70a062be-168c-4fc9-f714-aed0fa404257"
      },
      "execution_count": null,
      "outputs": [
        {
          "output_type": "stream",
          "name": "stdout",
          "text": [
            "root\n",
            " |-- name: string (nullable = true)\n",
            " |-- gender: string (nullable = true)\n",
            "\n"
          ]
        }
      ]
    },
    {
      "cell_type": "code",
      "source": [
        "df.show()"
      ],
      "metadata": {
        "id": "eyyxGbD1QF9G",
        "colab": {
          "base_uri": "https://localhost:8080/"
        },
        "outputId": "b6968954-393e-4532-b1d7-b80acce8e103"
      },
      "execution_count": null,
      "outputs": [
        {
          "output_type": "stream",
          "name": "stdout",
          "text": [
            "+----------+------+\n",
            "|      name|gender|\n",
            "+----------+------+\n",
            "|  Adaleigh|     F|\n",
            "|     Amryn|Unisex|\n",
            "|    Apurva|Unisex|\n",
            "|    Aryion|     M|\n",
            "|    Alixia|     F|\n",
            "|Alyssarose|     F|\n",
            "|    Arvell|     M|\n",
            "|     Aibel|     M|\n",
            "|   Atiyyah|     F|\n",
            "|     Adlie|     F|\n",
            "|    Anyely|     F|\n",
            "|    Aamoni|     F|\n",
            "|     Ahman|     M|\n",
            "|    Arlane|     F|\n",
            "|   Armoney|     F|\n",
            "|   Atzhiry|     F|\n",
            "| Antonette|     F|\n",
            "|   Akeelah|     F|\n",
            "| Abdikadir|     M|\n",
            "|    Arinze|     M|\n",
            "+----------+------+\n",
            "only showing top 20 rows\n",
            "\n"
          ]
        }
      ]
    },
    {
      "cell_type": "code",
      "source": [
        "df.head(5)"
      ],
      "metadata": {
        "id": "B16yILDkSGbv",
        "colab": {
          "base_uri": "https://localhost:8080/"
        },
        "outputId": "245b9bc6-586c-4f4f-8a3c-a882a3ce2135"
      },
      "execution_count": null,
      "outputs": [
        {
          "output_type": "execute_result",
          "data": {
            "text/plain": [
              "[Row(name='Adaleigh', gender='F'),\n",
              " Row(name='Amryn', gender='Unisex'),\n",
              " Row(name='Apurva', gender='Unisex'),\n",
              " Row(name='Aryion', gender='M'),\n",
              " Row(name='Alixia', gender='F')]"
            ]
          },
          "metadata": {},
          "execution_count": 27
        }
      ]
    },
    {
      "cell_type": "code",
      "source": [
        "df.groupby([\"gender\"]).count().collect()"
      ],
      "metadata": {
        "id": "C60i-1oGSC8u",
        "colab": {
          "base_uri": "https://localhost:8080/"
        },
        "outputId": "a4a65fd1-18ab-4d5b-c298-2ed465e09b7f"
      },
      "execution_count": null,
      "outputs": [
        {
          "output_type": "execute_result",
          "data": {
            "text/plain": [
              "[Row(gender='F', count=65),\n",
              " Row(gender='M', count=28),\n",
              " Row(gender='Unisex', count=7)]"
            ]
          },
          "metadata": {},
          "execution_count": 29
        }
      ]
    },
    {
      "cell_type": "code",
      "source": [
        "df.rdd.getNumPartitions()"
      ],
      "metadata": {
        "id": "x98icREPokNC",
        "colab": {
          "base_uri": "https://localhost:8080/"
        },
        "outputId": "068a3ef8-2548-4888-fbfc-b52816e5f8db"
      },
      "execution_count": null,
      "outputs": [
        {
          "output_type": "execute_result",
          "data": {
            "text/plain": [
              "1"
            ]
          },
          "metadata": {},
          "execution_count": 30
        }
      ]
    },
    {
      "cell_type": "markdown",
      "source": [
        "데이터프레임을 테이블뷰로 만들어서 SparkSQL로 처리해보기"
      ],
      "metadata": {
        "id": "__lQAuE6WQp4"
      }
    },
    {
      "cell_type": "code",
      "source": [
        "df.createOrReplaceTempView(\"namegender\")"
      ],
      "metadata": {
        "id": "CzaHf3jaWQJM"
      },
      "execution_count": null,
      "outputs": []
    },
    {
      "cell_type": "code",
      "source": [
        "namegender_group_df = spark.sql(\"SELECT gender, count(1) FROM namegender GROUP BY 1\")"
      ],
      "metadata": {
        "id": "_XZTQIUWWVdU"
      },
      "execution_count": null,
      "outputs": []
    },
    {
      "cell_type": "code",
      "source": [
        "namegender_group_df.collect()"
      ],
      "metadata": {
        "id": "ungWbu_zWXfq",
        "colab": {
          "base_uri": "https://localhost:8080/"
        },
        "outputId": "9a715400-8d83-49ef-b641-1481dbccc352"
      },
      "execution_count": null,
      "outputs": [
        {
          "output_type": "execute_result",
          "data": {
            "text/plain": [
              "[Row(gender='F', count(1)=65),\n",
              " Row(gender='M', count(1)=28),\n",
              " Row(gender='Unisex', count(1)=7)]"
            ]
          },
          "metadata": {},
          "execution_count": 33
        }
      ]
    },
    {
      "cell_type": "code",
      "source": [
        "spark.catalog.listTables()"
      ],
      "metadata": {
        "id": "UV3BwA7sJLmu",
        "colab": {
          "base_uri": "https://localhost:8080/"
        },
        "outputId": "f3eef8d5-3f20-4ab9-adee-3086fe38dac5"
      },
      "execution_count": null,
      "outputs": [
        {
          "output_type": "execute_result",
          "data": {
            "text/plain": [
              "[Table(name='namegender', database=None, description=None, tableType='TEMPORARY', isTemporary=True)]"
            ]
          },
          "metadata": {},
          "execution_count": 34
        }
      ]
    },
    {
      "cell_type": "markdown",
      "source": [
        "Partition의 수 계산해보기"
      ],
      "metadata": {
        "id": "nsBKrZthq6s9"
      }
    },
    {
      "cell_type": "code",
      "source": [
        "namegender_group_df.rdd.getNumPartitions()"
      ],
      "metadata": {
        "id": "ROHFCGikpBQM",
        "colab": {
          "base_uri": "https://localhost:8080/"
        },
        "outputId": "f8bfffcf-8f4b-4860-fbbc-1289cc385c1e"
      },
      "execution_count": null,
      "outputs": [
        {
          "output_type": "execute_result",
          "data": {
            "text/plain": [
              "1"
            ]
          },
          "metadata": {},
          "execution_count": 35
        }
      ]
    },
    {
      "cell_type": "code",
      "source": [
        "two_namegender_group_df = namegender_group_df.repartition(2)"
      ],
      "metadata": {
        "id": "LGyv_owLtTHD"
      },
      "execution_count": null,
      "outputs": []
    },
    {
      "cell_type": "code",
      "source": [
        "two_namegender_group_df.rdd.getNumPartitions()"
      ],
      "metadata": {
        "id": "9n6okNwvtaic",
        "colab": {
          "base_uri": "https://localhost:8080/"
        },
        "outputId": "c8ee7bd9-c6ea-4efe-8aad-eb565be35f45"
      },
      "execution_count": null,
      "outputs": [
        {
          "output_type": "execute_result",
          "data": {
            "text/plain": [
              "2"
            ]
          },
          "metadata": {},
          "execution_count": 37
        }
      ]
    }
  ]
}
