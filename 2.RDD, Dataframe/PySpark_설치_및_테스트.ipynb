{
 "cells": [
  {
   "cell_type": "markdown",
   "metadata": {
    "id": "xAqhTDfuWrcM"
   },
   "source": [
    "PySpark을 로컬머신에 설치하고 노트북을 사용하기 보다는 머신러닝 관련 다양한 라이브러리가 이미 설치되었고 좋은 하드웨어를 제공해주는 Google Colab을 통해 실습을 진행한다. 이를 위해 pyspark과 Py4J 패키지를 설치한다. Py4J 패키지는 파이썬 프로그램이 자바가상머신상의 오브젝트들을 접근할 수 있게 해준다. Local Standalone Spark을 사용한다."
   ]
  },
  {
   "cell_type": "markdown",
   "metadata": {
    "id": "h0Vh7tlM_VK9"
   },
   "source": [
    "# PySpark 설치"
   ]
  },
  {
   "cell_type": "code",
   "execution_count": null,
   "metadata": {
    "colab": {
     "base_uri": "https://localhost:8080/"
    },
    "id": "NbT0rpGfVdiq",
    "outputId": "3999d8bc-79cb-43f3-f694-a8661611a181"
   },
   "outputs": [
    {
     "name": "stdout",
     "output_type": "stream",
     "text": [
      "Looking in indexes: https://pypi.org/simple, https://us-python.pkg.dev/colab-wheels/public/simple/\n",
      "Requirement already satisfied: pyspark==3.3.1 in /usr/local/lib/python3.8/dist-packages (3.3.1)\n",
      "Requirement already satisfied: py4j==0.10.9.5 in /usr/local/lib/python3.8/dist-packages (0.10.9.5)\n"
     ]
    }
   ],
   "source": [
    "!pip install pyspark==3.3.1 py4j==0.10.9.5 "
   ]
  },
  {
   "cell_type": "markdown",
   "metadata": {
    "id": "Ew_eTGrvXlDw"
   },
   "source": [
    "**Spark Session:** SparkSession은 Spark 2.0부터 엔트리 포인트로 사용된다. SparkSession을 이용해 RDD, 데이터 프레임등을 만든다. SparkSession은 SparkSession.builder를 호출하여 생성하며 다양한 함수들을 통해 세부 설정이 가능하다\n",
    "\n",
    "* local[*] Spark이 하나의 JVM으로 동작하고 그 안에 컴퓨터의 코어 수 만큼의 스레드가 Executor로 동작한다\n"
   ]
  },
  {
   "cell_type": "code",
   "execution_count": null,
   "metadata": {
    "id": "3vm6tgcPXdnR"
   },
   "outputs": [],
   "source": [
    "from pyspark.sql import SparkSession\n",
    "\n",
    "spark = SparkSession.builder\\\n",
    "        .master(\"local[*]\")\\\n",
    "        .appName('PySpark Tutorial')\\\n",
    "        .getOrCreate()"
   ]
  },
  {
   "cell_type": "code",
   "execution_count": null,
   "metadata": {
    "colab": {
     "base_uri": "https://localhost:8080/",
     "height": 220
    },
    "id": "LSs_1PYaYWxI",
    "outputId": "02c42762-9746-43e1-c5ba-87e8c2de3257"
   },
   "outputs": [
    {
     "data": {
      "text/html": [
       "\n",
       "            <div>\n",
       "                <p><b>SparkSession - in-memory</b></p>\n",
       "                \n",
       "        <div>\n",
       "            <p><b>SparkContext</b></p>\n",
       "\n",
       "            <p><a href=\"http://4d154bf15250:4040\">Spark UI</a></p>\n",
       "\n",
       "            <dl>\n",
       "              <dt>Version</dt>\n",
       "                <dd><code>v3.3.1</code></dd>\n",
       "              <dt>Master</dt>\n",
       "                <dd><code>local[*]</code></dd>\n",
       "              <dt>AppName</dt>\n",
       "                <dd><code>PySpark Tutorial</code></dd>\n",
       "            </dl>\n",
       "        </div>\n",
       "        \n",
       "            </div>\n",
       "        "
      ],
      "text/plain": [
       "<pyspark.sql.session.SparkSession at 0x7f3ac97b8d90>"
      ]
     },
     "execution_count": 3,
     "metadata": {},
     "output_type": "execute_result"
    }
   ],
   "source": [
    "spark"
   ]
  },
  {
   "cell_type": "code",
   "execution_count": null,
   "metadata": {
    "colab": {
     "base_uri": "https://localhost:8080/"
    },
    "id": "oeEFwKoZSVaU",
    "outputId": "ea377a1c-6de7-4789-deb8-9e6271ab0d7b"
   },
   "outputs": [
    {
     "name": "stdout",
     "output_type": "stream",
     "text": [
      "Architecture:        x86_64\n",
      "CPU op-mode(s):      32-bit, 64-bit\n",
      "Byte Order:          Little Endian\n",
      "CPU(s):              2\n",
      "On-line CPU(s) list: 0,1\n",
      "Thread(s) per core:  2\n",
      "Core(s) per socket:  1\n",
      "Socket(s):           1\n",
      "NUMA node(s):        1\n",
      "Vendor ID:           GenuineIntel\n",
      "CPU family:          6\n",
      "Model:               79\n",
      "Model name:          Intel(R) Xeon(R) CPU @ 2.20GHz\n",
      "Stepping:            0\n",
      "CPU MHz:             2199.998\n",
      "BogoMIPS:            4399.99\n",
      "Hypervisor vendor:   KVM\n",
      "Virtualization type: full\n",
      "L1d cache:           32K\n",
      "L1i cache:           32K\n",
      "L2 cache:            256K\n",
      "L3 cache:            56320K\n",
      "NUMA node0 CPU(s):   0,1\n",
      "Flags:               fpu vme de pse tsc msr pae mce cx8 apic sep mtrr pge mca cmov pat pse36 clflush mmx fxsr sse sse2 ss ht syscall nx pdpe1gb rdtscp lm constant_tsc rep_good nopl xtopology nonstop_tsc cpuid tsc_known_freq pni pclmulqdq ssse3 fma cx16 pcid sse4_1 sse4_2 x2apic movbe popcnt aes xsave avx f16c rdrand hypervisor lahf_lm abm 3dnowprefetch invpcid_single ssbd ibrs ibpb stibp fsgsbase tsc_adjust bmi1 hle avx2 smep bmi2 erms invpcid rtm rdseed adx smap xsaveopt arat md_clear arch_capabilities\n"
     ]
    }
   ],
   "source": [
    "!lscpu"
   ]
  },
  {
   "cell_type": "code",
   "execution_count": null,
   "metadata": {
    "colab": {
     "base_uri": "https://localhost:8080/"
    },
    "id": "eIF5oQkLSo4-",
    "outputId": "a55dff52-9252-4c1f-861b-9187a996ed84"
   },
   "outputs": [
    {
     "name": "stdout",
     "output_type": "stream",
     "text": [
      "MemTotal:       13297200 kB\n"
     ]
    }
   ],
   "source": [
    "!grep MemTotal /proc/meminfo"
   ]
  },
  {
   "cell_type": "markdown",
   "metadata": {
    "id": "f8gMf2J1VLqn"
   },
   "source": [
    "# Python <> RDD <> DataFrame"
   ]
  },
  {
   "cell_type": "markdown",
   "metadata": {
    "id": "VNHAAJuCZCqE"
   },
   "source": [
    "**Python 객체를 RDD로 변환해보기**\n",
    "\n",
    "**1> Python 리스트 생성**"
   ]
  },
  {
   "cell_type": "code",
   "execution_count": null,
   "metadata": {
    "id": "HhijTd1UY1i9"
   },
   "outputs": [],
   "source": [
    "name_list_json = [ '{\"name\": \"keeyong\"}', '{\"name\": \"benjamin\"}', '{\"name\": \"claire\"}' ]"
   ]
  },
  {
   "cell_type": "code",
   "execution_count": null,
   "metadata": {
    "colab": {
     "base_uri": "https://localhost:8080/"
    },
    "id": "hXqf1lC_Zdxf",
    "outputId": "44de91fb-b019-4a8e-fe1d-9128a2096dea"
   },
   "outputs": [
    {
     "name": "stdout",
     "output_type": "stream",
     "text": [
      "{\"name\": \"keeyong\"}\n",
      "{\"name\": \"benjamin\"}\n",
      "{\"name\": \"claire\"}\n"
     ]
    }
   ],
   "source": [
    "for n in name_list_json:\n",
    "  print(n)"
   ]
  },
  {
   "cell_type": "markdown",
   "metadata": {
    "id": "YKlanTznb75N"
   },
   "source": [
    "**2> 파이썬 리스트를 RDD로 변환**\n",
    "\n",
    " * RDD로 변환되는 순간 Spark 클러스터의 서버들에 데이터가 나눠 저장됨 (파티션)"
   ]
  },
  {
   "cell_type": "code",
   "execution_count": null,
   "metadata": {
    "id": "NvTOpLsrZ_I8"
   },
   "outputs": [],
   "source": [
    "rdd = spark.sparkContext.parallelize(name_list_json)"
   ]
  },
  {
   "cell_type": "code",
   "execution_count": null,
   "metadata": {
    "colab": {
     "base_uri": "https://localhost:8080/"
    },
    "id": "KIMTLkPdk4ul",
    "outputId": "c9944613-eb28-4abc-ecbe-acada18fa621"
   },
   "outputs": [
    {
     "data": {
      "text/plain": [
       "ParallelCollectionRDD[0] at readRDDFromFile at PythonRDD.scala:274"
      ]
     },
     "execution_count": 9,
     "metadata": {},
     "output_type": "execute_result"
    }
   ],
   "source": [
    "rdd"
   ]
  },
  {
   "cell_type": "code",
   "execution_count": null,
   "metadata": {
    "colab": {
     "base_uri": "https://localhost:8080/"
    },
    "id": "KmszVYtzaL3Q",
    "outputId": "d749d55c-89c4-4f22-f9ef-46062356a6fd"
   },
   "outputs": [
    {
     "data": {
      "text/plain": [
       "3"
      ]
     },
     "execution_count": 10,
     "metadata": {},
     "output_type": "execute_result"
    }
   ],
   "source": [
    "rdd.count()"
   ]
  },
  {
   "cell_type": "code",
   "execution_count": null,
   "metadata": {
    "id": "gMLop2SQbMnZ"
   },
   "outputs": [],
   "source": [
    "import json\n",
    "\n",
    "parsed_rdd = rdd.map(lambda el:json.loads(el))"
   ]
  },
  {
   "cell_type": "code",
   "execution_count": null,
   "metadata": {
    "colab": {
     "base_uri": "https://localhost:8080/"
    },
    "id": "RAgNR7EWcl2t",
    "outputId": "9774c0c0-cbf4-4e27-fe66-ef538b1f781c"
   },
   "outputs": [
    {
     "data": {
      "text/plain": [
       "PythonRDD[2] at RDD at PythonRDD.scala:53"
      ]
     },
     "execution_count": 12,
     "metadata": {},
     "output_type": "execute_result"
    }
   ],
   "source": [
    "parsed_rdd"
   ]
  },
  {
   "cell_type": "code",
   "execution_count": null,
   "metadata": {
    "colab": {
     "base_uri": "https://localhost:8080/"
    },
    "id": "qt5SMf4IcoIZ",
    "outputId": "e25fe3f4-75de-4531-e2d6-6f5302a89e26"
   },
   "outputs": [
    {
     "data": {
      "text/plain": [
       "[{'name': 'keeyong'}, {'name': 'benjamin'}, {'name': 'claire'}]"
      ]
     },
     "execution_count": 13,
     "metadata": {},
     "output_type": "execute_result"
    }
   ],
   "source": [
    "parsed_rdd.collect()"
   ]
  },
  {
   "cell_type": "code",
   "execution_count": null,
   "metadata": {
    "id": "T1Kmn_qycqQl"
   },
   "outputs": [],
   "source": [
    "parsed_name_rdd = rdd.map(lambda el:json.loads(el)[\"name\"])"
   ]
  },
  {
   "cell_type": "code",
   "execution_count": null,
   "metadata": {
    "colab": {
     "base_uri": "https://localhost:8080/"
    },
    "id": "4ZWxTKgJnDm8",
    "outputId": "f46a2779-80e1-4f6a-b83c-821e5193c249"
   },
   "outputs": [
    {
     "data": {
      "text/plain": [
       "['keeyong', 'benjamin', 'claire']"
      ]
     },
     "execution_count": 15,
     "metadata": {},
     "output_type": "execute_result"
    }
   ],
   "source": [
    "parsed_name_rdd.collect()"
   ]
  },
  {
   "cell_type": "markdown",
   "metadata": {
    "id": "McGKfLtWnsTB"
   },
   "source": [
    "**파이썬 리스트를 데이터프레임으로 변환하기**"
   ]
  },
  {
   "cell_type": "code",
   "execution_count": null,
   "metadata": {
    "id": "_WlhiRsKo7j7"
   },
   "outputs": [],
   "source": [
    "from pyspark.sql.types import StringType\n",
    "\n",
    "df = spark.createDataFrame(name_list_json, StringType())"
   ]
  },
  {
   "cell_type": "code",
   "execution_count": null,
   "metadata": {
    "colab": {
     "base_uri": "https://localhost:8080/"
    },
    "id": "S2-pyiKGpLZe",
    "outputId": "f196ec4a-a55a-40dd-ca7d-b91228b2c88a"
   },
   "outputs": [
    {
     "data": {
      "text/plain": [
       "3"
      ]
     },
     "execution_count": 17,
     "metadata": {},
     "output_type": "execute_result"
    }
   ],
   "source": [
    "df.count()"
   ]
  },
  {
   "cell_type": "code",
   "execution_count": null,
   "metadata": {
    "colab": {
     "base_uri": "https://localhost:8080/"
    },
    "id": "9Sql4KPhppgr",
    "outputId": "abdd3d85-762f-481e-8587-57ea85147ce8"
   },
   "outputs": [
    {
     "name": "stdout",
     "output_type": "stream",
     "text": [
      "root\n",
      " |-- value: string (nullable = true)\n",
      "\n"
     ]
    }
   ],
   "source": [
    "df.printSchema()"
   ]
  },
  {
   "cell_type": "code",
   "execution_count": null,
   "metadata": {
    "colab": {
     "base_uri": "https://localhost:8080/"
    },
    "id": "U2XzTjdEpuZ4",
    "outputId": "8fda5c84-a2aa-468c-e6e3-438495c5ec92"
   },
   "outputs": [
    {
     "data": {
      "text/plain": [
       "[Row(value='{\"name\": \"keeyong\"}'),\n",
       " Row(value='{\"name\": \"benjamin\"}'),\n",
       " Row(value='{\"name\": \"claire\"}')]"
      ]
     },
     "execution_count": 19,
     "metadata": {},
     "output_type": "execute_result"
    }
   ],
   "source": [
    "df.select('*').collect()"
   ]
  },
  {
   "cell_type": "markdown",
   "metadata": {
    "id": "NhmokDHwUBNm"
   },
   "source": [
    "RDD를 DataFrame으로 변환해보는 예제: 앞서 parsed_rdd를 DataFrame으로 변환해보자\n",
    "\n"
   ]
  },
  {
   "cell_type": "code",
   "execution_count": null,
   "metadata": {
    "id": "93TLUFxgqLrm"
   },
   "outputs": [],
   "source": [
    "df_parsed_rdd = parsed_rdd.toDF()"
   ]
  },
  {
   "cell_type": "code",
   "execution_count": null,
   "metadata": {
    "colab": {
     "base_uri": "https://localhost:8080/"
    },
    "id": "LtFEYRG61-L8",
    "outputId": "95dfdbfa-31f6-4c79-dc17-502124355850"
   },
   "outputs": [
    {
     "name": "stdout",
     "output_type": "stream",
     "text": [
      "root\n",
      " |-- name: string (nullable = true)\n",
      "\n"
     ]
    }
   ],
   "source": [
    "df_parsed_rdd.printSchema()"
   ]
  },
  {
   "cell_type": "code",
   "execution_count": null,
   "metadata": {
    "colab": {
     "base_uri": "https://localhost:8080/"
    },
    "id": "MptOIByKsLeG",
    "outputId": "63b25f3e-7327-4fea-f7d8-1e18c15f1ad2"
   },
   "outputs": [
    {
     "data": {
      "text/plain": [
       "[Row(name='keeyong'), Row(name='benjamin'), Row(name='claire')]"
      ]
     },
     "execution_count": 22,
     "metadata": {},
     "output_type": "execute_result"
    }
   ],
   "source": [
    "df_parsed_rdd.select('name').collect()"
   ]
  },
  {
   "cell_type": "markdown",
   "metadata": {
    "id": "PIDOQxK3Prz5"
   },
   "source": [
    "## Spark 데이터프레임으로 로드해보기"
   ]
  },
  {
   "cell_type": "code",
   "execution_count": null,
   "metadata": {
    "colab": {
     "base_uri": "https://localhost:8080/"
    },
    "id": "PoIJAjvNPYfG",
    "outputId": "9f6e4545-5f8c-4287-83aa-b7b383cae6a7"
   },
   "outputs": [
    {
     "name": "stdout",
     "output_type": "stream",
     "text": [
      "--2023-01-14 06:51:15--  https://s3-geospatial.s3-us-west-2.amazonaws.com/name_gender.csv\n",
      "Resolving s3-geospatial.s3-us-west-2.amazonaws.com (s3-geospatial.s3-us-west-2.amazonaws.com)... 3.5.80.138, 3.5.80.102, 3.5.84.16, ...\n",
      "Connecting to s3-geospatial.s3-us-west-2.amazonaws.com (s3-geospatial.s3-us-west-2.amazonaws.com)|3.5.80.138|:443... connected.\n",
      "HTTP request sent, awaiting response... 200 OK\n",
      "Length: 997 [text/csv]\n",
      "Saving to: ‘name_gender.csv’\n",
      "\n",
      "name_gender.csv     100%[===================>]     997  --.-KB/s    in 0s      \n",
      "\n",
      "2023-01-14 06:51:16 (13.8 MB/s) - ‘name_gender.csv’ saved [997/997]\n",
      "\n"
     ]
    }
   ],
   "source": [
    "!wget https://s3-geospatial.s3-us-west-2.amazonaws.com/name_gender.csv"
   ]
  },
  {
   "cell_type": "code",
   "execution_count": null,
   "metadata": {
    "colab": {
     "base_uri": "https://localhost:8080/"
    },
    "id": "fvTn2b_dPznk",
    "outputId": "097f7c6d-270d-42c0-abdf-9ca41280f31f"
   },
   "outputs": [
    {
     "name": "stdout",
     "output_type": "stream",
     "text": [
      "root\n",
      " |-- _c0: string (nullable = true)\n",
      " |-- _c1: string (nullable = true)\n",
      "\n"
     ]
    }
   ],
   "source": [
    "df = spark.read.csv(\"name_gender.csv\")\n",
    "df.printSchema()"
   ]
  },
  {
   "cell_type": "code",
   "execution_count": null,
   "metadata": {
    "colab": {
     "base_uri": "https://localhost:8080/"
    },
    "id": "2GXxjQQTTzyp",
    "outputId": "70a062be-168c-4fc9-f714-aed0fa404257"
   },
   "outputs": [
    {
     "name": "stdout",
     "output_type": "stream",
     "text": [
      "root\n",
      " |-- name: string (nullable = true)\n",
      " |-- gender: string (nullable = true)\n",
      "\n"
     ]
    }
   ],
   "source": [
    "df = spark.read.option(\"header\", True).csv(\"name_gender.csv\")\n",
    "df.printSchema()"
   ]
  },
  {
   "cell_type": "code",
   "execution_count": null,
   "metadata": {
    "colab": {
     "base_uri": "https://localhost:8080/"
    },
    "id": "eyyxGbD1QF9G",
    "outputId": "b6968954-393e-4532-b1d7-b80acce8e103"
   },
   "outputs": [
    {
     "name": "stdout",
     "output_type": "stream",
     "text": [
      "+----------+------+\n",
      "|      name|gender|\n",
      "+----------+------+\n",
      "|  Adaleigh|     F|\n",
      "|     Amryn|Unisex|\n",
      "|    Apurva|Unisex|\n",
      "|    Aryion|     M|\n",
      "|    Alixia|     F|\n",
      "|Alyssarose|     F|\n",
      "|    Arvell|     M|\n",
      "|     Aibel|     M|\n",
      "|   Atiyyah|     F|\n",
      "|     Adlie|     F|\n",
      "|    Anyely|     F|\n",
      "|    Aamoni|     F|\n",
      "|     Ahman|     M|\n",
      "|    Arlane|     F|\n",
      "|   Armoney|     F|\n",
      "|   Atzhiry|     F|\n",
      "| Antonette|     F|\n",
      "|   Akeelah|     F|\n",
      "| Abdikadir|     M|\n",
      "|    Arinze|     M|\n",
      "+----------+------+\n",
      "only showing top 20 rows\n",
      "\n"
     ]
    }
   ],
   "source": [
    "df.show()"
   ]
  },
  {
   "cell_type": "code",
   "execution_count": null,
   "metadata": {
    "colab": {
     "base_uri": "https://localhost:8080/"
    },
    "id": "B16yILDkSGbv",
    "outputId": "245b9bc6-586c-4f4f-8a3c-a882a3ce2135"
   },
   "outputs": [
    {
     "data": {
      "text/plain": [
       "[Row(name='Adaleigh', gender='F'),\n",
       " Row(name='Amryn', gender='Unisex'),\n",
       " Row(name='Apurva', gender='Unisex'),\n",
       " Row(name='Aryion', gender='M'),\n",
       " Row(name='Alixia', gender='F')]"
      ]
     },
     "execution_count": 27,
     "metadata": {},
     "output_type": "execute_result"
    }
   ],
   "source": [
    "df.head(5)"
   ]
  },
  {
   "cell_type": "code",
   "execution_count": null,
   "metadata": {
    "colab": {
     "base_uri": "https://localhost:8080/"
    },
    "id": "C60i-1oGSC8u",
    "outputId": "a4a65fd1-18ab-4d5b-c298-2ed465e09b7f"
   },
   "outputs": [
    {
     "data": {
      "text/plain": [
       "[Row(gender='F', count=65),\n",
       " Row(gender='M', count=28),\n",
       " Row(gender='Unisex', count=7)]"
      ]
     },
     "execution_count": 29,
     "metadata": {},
     "output_type": "execute_result"
    }
   ],
   "source": [
    "df.groupby([\"gender\"]).count().collect()"
   ]
  },
  {
   "cell_type": "code",
   "execution_count": null,
   "metadata": {
    "colab": {
     "base_uri": "https://localhost:8080/"
    },
    "id": "x98icREPokNC",
    "outputId": "068a3ef8-2548-4888-fbfc-b52816e5f8db"
   },
   "outputs": [
    {
     "data": {
      "text/plain": [
       "1"
      ]
     },
     "execution_count": 30,
     "metadata": {},
     "output_type": "execute_result"
    }
   ],
   "source": [
    "df.rdd.getNumPartitions()"
   ]
  },
  {
   "cell_type": "markdown",
   "metadata": {
    "id": "__lQAuE6WQp4"
   },
   "source": [
    "데이터프레임을 테이블뷰로 만들어서 SparkSQL로 처리해보기"
   ]
  },
  {
   "cell_type": "code",
   "execution_count": null,
   "metadata": {
    "id": "CzaHf3jaWQJM"
   },
   "outputs": [],
   "source": [
    "df.createOrReplaceTempView(\"namegender\")"
   ]
  },
  {
   "cell_type": "code",
   "execution_count": null,
   "metadata": {
    "id": "_XZTQIUWWVdU"
   },
   "outputs": [],
   "source": [
    "namegender_group_df = spark.sql(\"SELECT gender, count(1) FROM namegender GROUP BY 1\")"
   ]
  },
  {
   "cell_type": "code",
   "execution_count": null,
   "metadata": {
    "colab": {
     "base_uri": "https://localhost:8080/"
    },
    "id": "ungWbu_zWXfq",
    "outputId": "9a715400-8d83-49ef-b641-1481dbccc352"
   },
   "outputs": [
    {
     "data": {
      "text/plain": [
       "[Row(gender='F', count(1)=65),\n",
       " Row(gender='M', count(1)=28),\n",
       " Row(gender='Unisex', count(1)=7)]"
      ]
     },
     "execution_count": 33,
     "metadata": {},
     "output_type": "execute_result"
    }
   ],
   "source": [
    "namegender_group_df.collect()"
   ]
  },
  {
   "cell_type": "code",
   "execution_count": null,
   "metadata": {
    "colab": {
     "base_uri": "https://localhost:8080/"
    },
    "id": "UV3BwA7sJLmu",
    "outputId": "f3eef8d5-3f20-4ab9-adee-3086fe38dac5"
   },
   "outputs": [
    {
     "data": {
      "text/plain": [
       "[Table(name='namegender', database=None, description=None, tableType='TEMPORARY', isTemporary=True)]"
      ]
     },
     "execution_count": 34,
     "metadata": {},
     "output_type": "execute_result"
    }
   ],
   "source": [
    "spark.catalog.listTables()"
   ]
  },
  {
   "cell_type": "markdown",
   "metadata": {
    "id": "nsBKrZthq6s9"
   },
   "source": [
    "Partition의 수 계산해보기"
   ]
  },
  {
   "cell_type": "code",
   "execution_count": null,
   "metadata": {
    "colab": {
     "base_uri": "https://localhost:8080/"
    },
    "id": "ROHFCGikpBQM",
    "outputId": "f8bfffcf-8f4b-4860-fbbc-1289cc385c1e"
   },
   "outputs": [
    {
     "data": {
      "text/plain": [
       "1"
      ]
     },
     "execution_count": 35,
     "metadata": {},
     "output_type": "execute_result"
    }
   ],
   "source": [
    "namegender_group_df.rdd.getNumPartitions()"
   ]
  },
  {
   "cell_type": "code",
   "execution_count": null,
   "metadata": {
    "id": "LGyv_owLtTHD"
   },
   "outputs": [],
   "source": [
    "two_namegender_group_df = namegender_group_df.repartition(2)"
   ]
  },
  {
   "cell_type": "code",
   "execution_count": null,
   "metadata": {
    "colab": {
     "base_uri": "https://localhost:8080/"
    },
    "id": "9n6okNwvtaic",
    "outputId": "c8ee7bd9-c6ea-4efe-8aad-eb565be35f45"
   },
   "outputs": [
    {
     "data": {
      "text/plain": [
       "2"
      ]
     },
     "execution_count": 37,
     "metadata": {},
     "output_type": "execute_result"
    }
   ],
   "source": [
    "two_namegender_group_df.rdd.getNumPartitions()"
   ]
  }
 ],
 "metadata": {
  "colab": {
   "authorship_tag": "ABX9TyMrUCYsOkJDSjNbvC+5/FFZ",
   "collapsed_sections": [
    "h0Vh7tlM_VK9",
    "f8gMf2J1VLqn",
    "QybCPBTz_NT-"
   ],
   "provenance": []
  },
  "kernelspec": {
   "display_name": "Python 3 (ipykernel)",
   "language": "python",
   "name": "python3"
  },
  "language_info": {
   "codemirror_mode": {
    "name": "ipython",
    "version": 3
   },
   "file_extension": ".py",
   "mimetype": "text/x-python",
   "name": "python",
   "nbconvert_exporter": "python",
   "pygments_lexer": "ipython3",
   "version": "3.10.9"
  }
 },
 "nbformat": 4,
 "nbformat_minor": 4
}
