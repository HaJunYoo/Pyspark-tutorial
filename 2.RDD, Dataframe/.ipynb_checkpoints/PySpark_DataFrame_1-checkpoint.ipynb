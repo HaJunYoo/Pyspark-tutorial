{
  "nbformat": 4,
  "nbformat_minor": 0,
  "metadata": {
    "colab": {
      "provenance": []
    },
    "kernelspec": {
      "name": "python3",
      "display_name": "Python 3"
    }
  },
  "cells": [
    {
      "cell_type": "markdown",
      "source": [
        "## PySpark 설치"
      ],
      "metadata": {
        "id": "h0Vh7tlM_VK9"
      }
    },
    {
      "cell_type": "code",
      "metadata": {
        "colab": {
          "base_uri": "https://localhost:8080/"
        },
        "id": "NbT0rpGfVdiq",
        "outputId": "6f3a33db-439f-42dc-cd98-1b49b234921d"
      },
      "source": [
        "!pip install pyspark==3.3.1 py4j==0.10.9.5 "
      ],
      "execution_count": null,
      "outputs": [
        {
          "output_type": "stream",
          "name": "stdout",
          "text": [
            "Looking in indexes: https://pypi.org/simple, https://us-python.pkg.dev/colab-wheels/public/simple/\n",
            "Requirement already satisfied: pyspark==3.3.1 in /usr/local/lib/python3.8/dist-packages (3.3.1)\n",
            "Requirement already satisfied: py4j==0.10.9.5 in /usr/local/lib/python3.8/dist-packages (0.10.9.5)\n"
          ]
        }
      ]
    },
    {
      "cell_type": "markdown",
      "source": [
        "## 처리할 데이터 파일을 먼저 다운로드 받아온다"
      ],
      "metadata": {
        "id": "z0TH_BVevW0-"
      }
    },
    {
      "cell_type": "code",
      "source": [
        "!wget https://s3-geospatial.s3-us-west-2.amazonaws.com/1800.csv"
      ],
      "metadata": {
        "colab": {
          "base_uri": "https://localhost:8080/"
        },
        "id": "_Aifsf6QVzQR",
        "outputId": "4e10e394-ad86-4b27-c112-456dcf4ce32a"
      },
      "execution_count": null,
      "outputs": [
        {
          "output_type": "stream",
          "name": "stdout",
          "text": [
            "--2023-01-15 19:51:45--  https://s3-geospatial.s3-us-west-2.amazonaws.com/1800.csv\n",
            "Resolving s3-geospatial.s3-us-west-2.amazonaws.com (s3-geospatial.s3-us-west-2.amazonaws.com)... 52.92.209.50, 52.92.196.226, 52.92.241.74, ...\n",
            "Connecting to s3-geospatial.s3-us-west-2.amazonaws.com (s3-geospatial.s3-us-west-2.amazonaws.com)|52.92.209.50|:443... connected.\n",
            "HTTP request sent, awaiting response... 200 OK\n",
            "Length: 62728 (61K) [text/csv]\n",
            "Saving to: ‘1800.csv.5’\n",
            "\n",
            "1800.csv.5          100%[===================>]  61.26K  --.-KB/s    in 0.08s   \n",
            "\n",
            "2023-01-15 19:51:45 (754 KB/s) - ‘1800.csv.5’ saved [62728/62728]\n",
            "\n"
          ]
        }
      ]
    },
    {
      "cell_type": "code",
      "source": [
        "!ls -tl"
      ],
      "metadata": {
        "colab": {
          "base_uri": "https://localhost:8080/"
        },
        "id": "StSlAPnSVbTF",
        "outputId": "e88bc9b7-7bdc-4d0b-8296-78d1996df164"
      },
      "execution_count": null,
      "outputs": [
        {
          "output_type": "stream",
          "name": "stdout",
          "text": [
            "total 392\n",
            "drwxr-xr-x 2 root root  4096 Jan 15 19:31 spark-warehouse\n",
            "drwxr-xr-x 1 root root  4096 Jan  9 14:36 sample_data\n",
            "-rw-r--r-- 1 root root 62728 Apr 10  2022 1800.csv\n",
            "-rw-r--r-- 1 root root 62728 Apr 10  2022 1800.csv.1\n",
            "-rw-r--r-- 1 root root 62728 Apr 10  2022 1800.csv.2\n",
            "-rw-r--r-- 1 root root 62728 Apr 10  2022 1800.csv.3\n",
            "-rw-r--r-- 1 root root 62728 Apr 10  2022 1800.csv.4\n",
            "-rw-r--r-- 1 root root 62728 Apr 10  2022 1800.csv.5\n"
          ]
        }
      ]
    },
    {
      "cell_type": "code",
      "source": [
        "!head -5 1800.csv"
      ],
      "metadata": {
        "colab": {
          "base_uri": "https://localhost:8080/"
        },
        "id": "2J9N4uO9cp3Z",
        "outputId": "e004e345-b4ef-45fe-9b37-e638630b61ce"
      },
      "execution_count": null,
      "outputs": [
        {
          "output_type": "stream",
          "name": "stdout",
          "text": [
            "ITE00100554,18000101,TMAX,-75,,,E,\n",
            "ITE00100554,18000101,TMIN,-148,,,E,\n",
            "GM000010962,18000101,PRCP,0,,,E,\n",
            "EZE00100082,18000101,TMAX,-86,,,E,\n",
            "EZE00100082,18000101,TMIN,-135,,,E,\n"
          ]
        }
      ]
    },
    {
      "cell_type": "markdown",
      "source": [
        "## 판다스 데이터프레임으로 처리해본다"
      ],
      "metadata": {
        "id": "vt-2qxmCvjlJ"
      }
    },
    {
      "cell_type": "code",
      "source": [
        "import pandas as pd \n",
        "\n",
        "pd_df = pd.read_csv(\n",
        "    \"1800.csv\",\n",
        "    names=[\"stationID\", \"date\", \"measure_type\", \"temperature\"],\n",
        "    usecols=[0, 1, 2, 3]\n",
        ")"
      ],
      "metadata": {
        "id": "XATYmi-hbvql"
      },
      "execution_count": null,
      "outputs": []
    },
    {
      "cell_type": "code",
      "source": [
        "pd_df.head()"
      ],
      "metadata": {
        "colab": {
          "base_uri": "https://localhost:8080/",
          "height": 206
        },
        "id": "YFWb55eQb10I",
        "outputId": "7fa7b34e-0544-4882-a17b-5d70631a1e77"
      },
      "execution_count": null,
      "outputs": [
        {
          "output_type": "execute_result",
          "data": {
            "text/plain": [
              "     stationID      date measure_type  temperature\n",
              "0  ITE00100554  18000101         TMAX          -75\n",
              "1  ITE00100554  18000101         TMIN         -148\n",
              "2  GM000010962  18000101         PRCP            0\n",
              "3  EZE00100082  18000101         TMAX          -86\n",
              "4  EZE00100082  18000101         TMIN         -135"
            ],
            "text/html": [
              "\n",
              "  <div id=\"df-f7baa52b-2622-4dff-82ca-86fb868fa825\">\n",
              "    <div class=\"colab-df-container\">\n",
              "      <div>\n",
              "<style scoped>\n",
              "    .dataframe tbody tr th:only-of-type {\n",
              "        vertical-align: middle;\n",
              "    }\n",
              "\n",
              "    .dataframe tbody tr th {\n",
              "        vertical-align: top;\n",
              "    }\n",
              "\n",
              "    .dataframe thead th {\n",
              "        text-align: right;\n",
              "    }\n",
              "</style>\n",
              "<table border=\"1\" class=\"dataframe\">\n",
              "  <thead>\n",
              "    <tr style=\"text-align: right;\">\n",
              "      <th></th>\n",
              "      <th>stationID</th>\n",
              "      <th>date</th>\n",
              "      <th>measure_type</th>\n",
              "      <th>temperature</th>\n",
              "    </tr>\n",
              "  </thead>\n",
              "  <tbody>\n",
              "    <tr>\n",
              "      <th>0</th>\n",
              "      <td>ITE00100554</td>\n",
              "      <td>18000101</td>\n",
              "      <td>TMAX</td>\n",
              "      <td>-75</td>\n",
              "    </tr>\n",
              "    <tr>\n",
              "      <th>1</th>\n",
              "      <td>ITE00100554</td>\n",
              "      <td>18000101</td>\n",
              "      <td>TMIN</td>\n",
              "      <td>-148</td>\n",
              "    </tr>\n",
              "    <tr>\n",
              "      <th>2</th>\n",
              "      <td>GM000010962</td>\n",
              "      <td>18000101</td>\n",
              "      <td>PRCP</td>\n",
              "      <td>0</td>\n",
              "    </tr>\n",
              "    <tr>\n",
              "      <th>3</th>\n",
              "      <td>EZE00100082</td>\n",
              "      <td>18000101</td>\n",
              "      <td>TMAX</td>\n",
              "      <td>-86</td>\n",
              "    </tr>\n",
              "    <tr>\n",
              "      <th>4</th>\n",
              "      <td>EZE00100082</td>\n",
              "      <td>18000101</td>\n",
              "      <td>TMIN</td>\n",
              "      <td>-135</td>\n",
              "    </tr>\n",
              "  </tbody>\n",
              "</table>\n",
              "</div>\n",
              "      <button class=\"colab-df-convert\" onclick=\"convertToInteractive('df-f7baa52b-2622-4dff-82ca-86fb868fa825')\"\n",
              "              title=\"Convert this dataframe to an interactive table.\"\n",
              "              style=\"display:none;\">\n",
              "        \n",
              "  <svg xmlns=\"http://www.w3.org/2000/svg\" height=\"24px\"viewBox=\"0 0 24 24\"\n",
              "       width=\"24px\">\n",
              "    <path d=\"M0 0h24v24H0V0z\" fill=\"none\"/>\n",
              "    <path d=\"M18.56 5.44l.94 2.06.94-2.06 2.06-.94-2.06-.94-.94-2.06-.94 2.06-2.06.94zm-11 1L8.5 8.5l.94-2.06 2.06-.94-2.06-.94L8.5 2.5l-.94 2.06-2.06.94zm10 10l.94 2.06.94-2.06 2.06-.94-2.06-.94-.94-2.06-.94 2.06-2.06.94z\"/><path d=\"M17.41 7.96l-1.37-1.37c-.4-.4-.92-.59-1.43-.59-.52 0-1.04.2-1.43.59L10.3 9.45l-7.72 7.72c-.78.78-.78 2.05 0 2.83L4 21.41c.39.39.9.59 1.41.59.51 0 1.02-.2 1.41-.59l7.78-7.78 2.81-2.81c.8-.78.8-2.07 0-2.86zM5.41 20L4 18.59l7.72-7.72 1.47 1.35L5.41 20z\"/>\n",
              "  </svg>\n",
              "      </button>\n",
              "      \n",
              "  <style>\n",
              "    .colab-df-container {\n",
              "      display:flex;\n",
              "      flex-wrap:wrap;\n",
              "      gap: 12px;\n",
              "    }\n",
              "\n",
              "    .colab-df-convert {\n",
              "      background-color: #E8F0FE;\n",
              "      border: none;\n",
              "      border-radius: 50%;\n",
              "      cursor: pointer;\n",
              "      display: none;\n",
              "      fill: #1967D2;\n",
              "      height: 32px;\n",
              "      padding: 0 0 0 0;\n",
              "      width: 32px;\n",
              "    }\n",
              "\n",
              "    .colab-df-convert:hover {\n",
              "      background-color: #E2EBFA;\n",
              "      box-shadow: 0px 1px 2px rgba(60, 64, 67, 0.3), 0px 1px 3px 1px rgba(60, 64, 67, 0.15);\n",
              "      fill: #174EA6;\n",
              "    }\n",
              "\n",
              "    [theme=dark] .colab-df-convert {\n",
              "      background-color: #3B4455;\n",
              "      fill: #D2E3FC;\n",
              "    }\n",
              "\n",
              "    [theme=dark] .colab-df-convert:hover {\n",
              "      background-color: #434B5C;\n",
              "      box-shadow: 0px 1px 3px 1px rgba(0, 0, 0, 0.15);\n",
              "      filter: drop-shadow(0px 1px 2px rgba(0, 0, 0, 0.3));\n",
              "      fill: #FFFFFF;\n",
              "    }\n",
              "  </style>\n",
              "\n",
              "      <script>\n",
              "        const buttonEl =\n",
              "          document.querySelector('#df-f7baa52b-2622-4dff-82ca-86fb868fa825 button.colab-df-convert');\n",
              "        buttonEl.style.display =\n",
              "          google.colab.kernel.accessAllowed ? 'block' : 'none';\n",
              "\n",
              "        async function convertToInteractive(key) {\n",
              "          const element = document.querySelector('#df-f7baa52b-2622-4dff-82ca-86fb868fa825');\n",
              "          const dataTable =\n",
              "            await google.colab.kernel.invokeFunction('convertToInteractive',\n",
              "                                                     [key], {});\n",
              "          if (!dataTable) return;\n",
              "\n",
              "          const docLinkHtml = 'Like what you see? Visit the ' +\n",
              "            '<a target=\"_blank\" href=https://colab.research.google.com/notebooks/data_table.ipynb>data table notebook</a>'\n",
              "            + ' to learn more about interactive tables.';\n",
              "          element.innerHTML = '';\n",
              "          dataTable['output_type'] = 'display_data';\n",
              "          await google.colab.output.renderOutput(dataTable, element);\n",
              "          const docLink = document.createElement('div');\n",
              "          docLink.innerHTML = docLinkHtml;\n",
              "          element.appendChild(docLink);\n",
              "        }\n",
              "      </script>\n",
              "    </div>\n",
              "  </div>\n",
              "  "
            ]
          },
          "metadata": {},
          "execution_count": 6
        }
      ]
    },
    {
      "cell_type": "code",
      "source": [
        "# Filter out all but TMIN entries\n",
        "pd_minTemps = pd_df[pd_df['measure_type'] == \"TMIN\"]"
      ],
      "metadata": {
        "id": "KBVRC1X4b366"
      },
      "execution_count": null,
      "outputs": []
    },
    {
      "cell_type": "code",
      "source": [
        "pd_minTemps.head()"
      ],
      "metadata": {
        "id": "V15rCgqJhvdw"
      },
      "execution_count": null,
      "outputs": []
    },
    {
      "cell_type": "code",
      "source": [
        "# Select only stationID and temperature\n",
        "pd_stationTemps = pd_minTemps[[\"stationID\", \"temperature\"]]"
      ],
      "metadata": {
        "id": "Z262lblfdbBQ"
      },
      "execution_count": null,
      "outputs": []
    },
    {
      "cell_type": "code",
      "source": [
        "# Aggregate to find minimum temperature for every station\n",
        "pd_minTempsByStation = pd_stationTemps.groupby([\"stationID\"]).min(\"temperature\")\n",
        "pd_minTempsByStation.head()"
      ],
      "metadata": {
        "colab": {
          "base_uri": "https://localhost:8080/",
          "height": 143
        },
        "id": "h7ChW77jd4PI",
        "outputId": "b9abaf1a-3cf1-4f20-f0d3-4cbbbb497779"
      },
      "execution_count": null,
      "outputs": [
        {
          "output_type": "execute_result",
          "data": {
            "text/plain": [
              "             temperature\n",
              "stationID               \n",
              "EZE00100082         -135\n",
              "ITE00100554         -148"
            ],
            "text/html": [
              "\n",
              "  <div id=\"df-2a3bd443-dfbb-4d75-bb8c-e082fdb82c24\">\n",
              "    <div class=\"colab-df-container\">\n",
              "      <div>\n",
              "<style scoped>\n",
              "    .dataframe tbody tr th:only-of-type {\n",
              "        vertical-align: middle;\n",
              "    }\n",
              "\n",
              "    .dataframe tbody tr th {\n",
              "        vertical-align: top;\n",
              "    }\n",
              "\n",
              "    .dataframe thead th {\n",
              "        text-align: right;\n",
              "    }\n",
              "</style>\n",
              "<table border=\"1\" class=\"dataframe\">\n",
              "  <thead>\n",
              "    <tr style=\"text-align: right;\">\n",
              "      <th></th>\n",
              "      <th>temperature</th>\n",
              "    </tr>\n",
              "    <tr>\n",
              "      <th>stationID</th>\n",
              "      <th></th>\n",
              "    </tr>\n",
              "  </thead>\n",
              "  <tbody>\n",
              "    <tr>\n",
              "      <th>EZE00100082</th>\n",
              "      <td>-135</td>\n",
              "    </tr>\n",
              "    <tr>\n",
              "      <th>ITE00100554</th>\n",
              "      <td>-148</td>\n",
              "    </tr>\n",
              "  </tbody>\n",
              "</table>\n",
              "</div>\n",
              "      <button class=\"colab-df-convert\" onclick=\"convertToInteractive('df-2a3bd443-dfbb-4d75-bb8c-e082fdb82c24')\"\n",
              "              title=\"Convert this dataframe to an interactive table.\"\n",
              "              style=\"display:none;\">\n",
              "        \n",
              "  <svg xmlns=\"http://www.w3.org/2000/svg\" height=\"24px\"viewBox=\"0 0 24 24\"\n",
              "       width=\"24px\">\n",
              "    <path d=\"M0 0h24v24H0V0z\" fill=\"none\"/>\n",
              "    <path d=\"M18.56 5.44l.94 2.06.94-2.06 2.06-.94-2.06-.94-.94-2.06-.94 2.06-2.06.94zm-11 1L8.5 8.5l.94-2.06 2.06-.94-2.06-.94L8.5 2.5l-.94 2.06-2.06.94zm10 10l.94 2.06.94-2.06 2.06-.94-2.06-.94-.94-2.06-.94 2.06-2.06.94z\"/><path d=\"M17.41 7.96l-1.37-1.37c-.4-.4-.92-.59-1.43-.59-.52 0-1.04.2-1.43.59L10.3 9.45l-7.72 7.72c-.78.78-.78 2.05 0 2.83L4 21.41c.39.39.9.59 1.41.59.51 0 1.02-.2 1.41-.59l7.78-7.78 2.81-2.81c.8-.78.8-2.07 0-2.86zM5.41 20L4 18.59l7.72-7.72 1.47 1.35L5.41 20z\"/>\n",
              "  </svg>\n",
              "      </button>\n",
              "      \n",
              "  <style>\n",
              "    .colab-df-container {\n",
              "      display:flex;\n",
              "      flex-wrap:wrap;\n",
              "      gap: 12px;\n",
              "    }\n",
              "\n",
              "    .colab-df-convert {\n",
              "      background-color: #E8F0FE;\n",
              "      border: none;\n",
              "      border-radius: 50%;\n",
              "      cursor: pointer;\n",
              "      display: none;\n",
              "      fill: #1967D2;\n",
              "      height: 32px;\n",
              "      padding: 0 0 0 0;\n",
              "      width: 32px;\n",
              "    }\n",
              "\n",
              "    .colab-df-convert:hover {\n",
              "      background-color: #E2EBFA;\n",
              "      box-shadow: 0px 1px 2px rgba(60, 64, 67, 0.3), 0px 1px 3px 1px rgba(60, 64, 67, 0.15);\n",
              "      fill: #174EA6;\n",
              "    }\n",
              "\n",
              "    [theme=dark] .colab-df-convert {\n",
              "      background-color: #3B4455;\n",
              "      fill: #D2E3FC;\n",
              "    }\n",
              "\n",
              "    [theme=dark] .colab-df-convert:hover {\n",
              "      background-color: #434B5C;\n",
              "      box-shadow: 0px 1px 3px 1px rgba(0, 0, 0, 0.15);\n",
              "      filter: drop-shadow(0px 1px 2px rgba(0, 0, 0, 0.3));\n",
              "      fill: #FFFFFF;\n",
              "    }\n",
              "  </style>\n",
              "\n",
              "      <script>\n",
              "        const buttonEl =\n",
              "          document.querySelector('#df-2a3bd443-dfbb-4d75-bb8c-e082fdb82c24 button.colab-df-convert');\n",
              "        buttonEl.style.display =\n",
              "          google.colab.kernel.accessAllowed ? 'block' : 'none';\n",
              "\n",
              "        async function convertToInteractive(key) {\n",
              "          const element = document.querySelector('#df-2a3bd443-dfbb-4d75-bb8c-e082fdb82c24');\n",
              "          const dataTable =\n",
              "            await google.colab.kernel.invokeFunction('convertToInteractive',\n",
              "                                                     [key], {});\n",
              "          if (!dataTable) return;\n",
              "\n",
              "          const docLinkHtml = 'Like what you see? Visit the ' +\n",
              "            '<a target=\"_blank\" href=https://colab.research.google.com/notebooks/data_table.ipynb>data table notebook</a>'\n",
              "            + ' to learn more about interactive tables.';\n",
              "          element.innerHTML = '';\n",
              "          dataTable['output_type'] = 'display_data';\n",
              "          await google.colab.output.renderOutput(dataTable, element);\n",
              "          const docLink = document.createElement('div');\n",
              "          docLink.innerHTML = docLinkHtml;\n",
              "          element.appendChild(docLink);\n",
              "        }\n",
              "      </script>\n",
              "    </div>\n",
              "  </div>\n",
              "  "
            ]
          },
          "metadata": {},
          "execution_count": 11
        }
      ]
    },
    {
      "cell_type": "markdown",
      "source": [
        "## Spark으로 처리해본다"
      ],
      "metadata": {
        "id": "xi536T8UdYxd"
      }
    },
    {
      "cell_type": "code",
      "metadata": {
        "id": "3vm6tgcPXdnR"
      },
      "source": [
        "from pyspark.sql import SparkSession\n",
        "from pyspark import SparkConf\n",
        "\n",
        "conf = SparkConf()\n",
        "conf.set(\"spark.app.name\", \"PySpark DataFrame #1\")\n",
        "conf.set(\"spark.master\", \"local[*]\")\n",
        "\n",
        "spark = SparkSession.builder\\\n",
        "        .config(conf=conf)\\\n",
        "        .getOrCreate()"
      ],
      "execution_count": null,
      "outputs": []
    },
    {
      "cell_type": "code",
      "source": [
        "df = spark.read.format(\"csv\").load(\"1800.csv\") # spark.read.csv(\"1800.csv\")"
      ],
      "metadata": {
        "id": "5CKcAjdTXLqn"
      },
      "execution_count": null,
      "outputs": []
    },
    {
      "cell_type": "code",
      "source": [
        "df.printSchema()"
      ],
      "metadata": {
        "colab": {
          "base_uri": "https://localhost:8080/"
        },
        "id": "nZzyTXi9YEZA",
        "outputId": "582ccf92-8943-48d6-bdba-bc00de6e5309"
      },
      "execution_count": null,
      "outputs": [
        {
          "output_type": "stream",
          "name": "stdout",
          "text": [
            "root\n",
            " |-- _c0: string (nullable = true)\n",
            " |-- _c1: string (nullable = true)\n",
            " |-- _c2: string (nullable = true)\n",
            " |-- _c3: string (nullable = true)\n",
            " |-- _c4: string (nullable = true)\n",
            " |-- _c5: string (nullable = true)\n",
            " |-- _c6: string (nullable = true)\n",
            " |-- _c7: string (nullable = true)\n",
            "\n"
          ]
        }
      ]
    },
    {
      "cell_type": "code",
      "source": [
        "df = spark.read.format(\"csv\")\\\n",
        "    .load(\"1800.csv\")\\\n",
        "    .toDF(\"stationID\", \"date\", \"measure_type\", \"temperature\", \"_c4\", \"_c5\", \"_c6\", \"_c7\")"
      ],
      "metadata": {
        "id": "CMux5mjgZQZP"
      },
      "execution_count": null,
      "outputs": []
    },
    {
      "cell_type": "code",
      "source": [
        "df.printSchema()"
      ],
      "metadata": {
        "colab": {
          "base_uri": "https://localhost:8080/"
        },
        "id": "fKieBCDIZoKU",
        "outputId": "18e71acd-a958-464b-b92a-fb2bfc1d094c"
      },
      "execution_count": null,
      "outputs": [
        {
          "output_type": "stream",
          "name": "stdout",
          "text": [
            "root\n",
            " |-- stationID: string (nullable = true)\n",
            " |-- date: string (nullable = true)\n",
            " |-- measure_type: string (nullable = true)\n",
            " |-- temperature: string (nullable = true)\n",
            " |-- _c4: string (nullable = true)\n",
            " |-- _c5: string (nullable = true)\n",
            " |-- _c6: string (nullable = true)\n",
            " |-- _c7: string (nullable = true)\n",
            "\n"
          ]
        }
      ]
    },
    {
      "cell_type": "code",
      "source": [
        "df = spark.read.format(\"csv\")\\\n",
        "    .option(\"inferSchema\", \"true\")\\\n",
        "    .load(\"1800.csv\")\\\n",
        "    .toDF(\"stationID\", \"date\", \"measure_type\", \"temperature\", \"_c4\", \"_c5\", \"_c6\", \"_c7\")"
      ],
      "metadata": {
        "id": "nhbK7K44aCZn"
      },
      "execution_count": null,
      "outputs": []
    },
    {
      "cell_type": "code",
      "source": [
        "df.printSchema()"
      ],
      "metadata": {
        "colab": {
          "base_uri": "https://localhost:8080/"
        },
        "id": "tizbmeycaGet",
        "outputId": "c179fe20-8ca2-4e50-b1f7-85c32150d540"
      },
      "execution_count": null,
      "outputs": [
        {
          "output_type": "stream",
          "name": "stdout",
          "text": [
            "root\n",
            " |-- stationID: string (nullable = true)\n",
            " |-- date: integer (nullable = true)\n",
            " |-- measure_type: string (nullable = true)\n",
            " |-- temperature: integer (nullable = true)\n",
            " |-- _c4: string (nullable = true)\n",
            " |-- _c5: string (nullable = true)\n",
            " |-- _c6: string (nullable = true)\n",
            " |-- _c7: string (nullable = true)\n",
            "\n"
          ]
        }
      ]
    },
    {
      "cell_type": "code",
      "source": [
        "from pyspark.sql.types import StringType, IntegerType, FloatType\n",
        "from pyspark.sql.types import StructType, StructField\n",
        "\n",
        "schema = StructType([ \\\n",
        "                     StructField(\"stationID\", StringType(), True), \\\n",
        "                     StructField(\"date\", IntegerType(), True), \\\n",
        "                     StructField(\"measure_type\", StringType(), True), \\\n",
        "                     StructField(\"temperature\", FloatType(), True)])"
      ],
      "metadata": {
        "id": "8Gzsmgw_ZnFA"
      },
      "execution_count": null,
      "outputs": []
    },
    {
      "cell_type": "code",
      "source": [
        "# df = spark.read.schema(schema).format(\"csv\").load(\"1800.csv\")\n",
        "df = spark.read.schema(schema).csv(\"1800.csv\")"
      ],
      "metadata": {
        "id": "kKndxIjBY8OF"
      },
      "execution_count": null,
      "outputs": []
    },
    {
      "cell_type": "code",
      "source": [
        "df.printSchema()"
      ],
      "metadata": {
        "colab": {
          "base_uri": "https://localhost:8080/"
        },
        "id": "tCackSeGaQyE",
        "outputId": "93401189-53d7-44ba-f1a7-53245c9843a7"
      },
      "execution_count": null,
      "outputs": [
        {
          "output_type": "stream",
          "name": "stdout",
          "text": [
            "root\n",
            " |-- stationID: string (nullable = true)\n",
            " |-- date: integer (nullable = true)\n",
            " |-- measure_type: string (nullable = true)\n",
            " |-- temperature: float (nullable = true)\n",
            "\n"
          ]
        }
      ]
    },
    {
      "cell_type": "code",
      "source": [
        "# Filter out all but TMIN entries\n",
        "minTemps = df.filter(df.measure_type == \"TMIN\")"
      ],
      "metadata": {
        "id": "9zPeAv9FZAKQ"
      },
      "execution_count": null,
      "outputs": []
    },
    {
      "cell_type": "code",
      "source": [
        "minTemps.count()"
      ],
      "metadata": {
        "colab": {
          "base_uri": "https://localhost:8080/"
        },
        "id": "vW_O2zb2iQA3",
        "outputId": "c5fa991d-6f0e-4d2c-f679-e164902bb324"
      },
      "execution_count": null,
      "outputs": [
        {
          "output_type": "execute_result",
          "data": {
            "text/plain": [
              "730"
            ]
          },
          "metadata": {},
          "execution_count": 23
        }
      ]
    },
    {
      "cell_type": "code",
      "source": [
        "# Column expression으로 필터링 적용\n",
        "minTemps = df.where(df.measure_type == \"TMIN\")"
      ],
      "metadata": {
        "id": "mxwyAq5faUdA"
      },
      "execution_count": null,
      "outputs": []
    },
    {
      "cell_type": "code",
      "source": [
        "minTemps.count()"
      ],
      "metadata": {
        "colab": {
          "base_uri": "https://localhost:8080/"
        },
        "id": "L8ZMxPHfaZgZ",
        "outputId": "b1cbd0c2-f091-4004-de66-a494fbae6982"
      },
      "execution_count": null,
      "outputs": [
        {
          "output_type": "execute_result",
          "data": {
            "text/plain": [
              "730"
            ]
          },
          "metadata": {},
          "execution_count": 25
        }
      ]
    },
    {
      "cell_type": "code",
      "source": [
        "# SQL expression으로 필터링 적용\n",
        "minTemps = df.where(\"measure_type = 'TMIN'\")"
      ],
      "metadata": {
        "id": "STkEm64Wabut"
      },
      "execution_count": null,
      "outputs": []
    },
    {
      "cell_type": "code",
      "source": [
        "minTemps.count()"
      ],
      "metadata": {
        "colab": {
          "base_uri": "https://localhost:8080/"
        },
        "id": "pbYJxbOVagtd",
        "outputId": "b266df3b-37fe-4320-ced6-15d926af0d30"
      },
      "execution_count": null,
      "outputs": [
        {
          "output_type": "execute_result",
          "data": {
            "text/plain": [
              "730"
            ]
          },
          "metadata": {},
          "execution_count": 27
        }
      ]
    },
    {
      "cell_type": "code",
      "source": [
        "# Aggregate to find minimum temperature for every station\n",
        "minTempsByStation = minTemps.groupBy(\"stationID\").min(\"temperature\")\n",
        "minTempsByStation.show()"
      ],
      "metadata": {
        "colab": {
          "base_uri": "https://localhost:8080/"
        },
        "id": "RKG1pjKHZFDK",
        "outputId": "480fed67-22d8-419c-a3ae-1be7647854ae"
      },
      "execution_count": null,
      "outputs": [
        {
          "output_type": "stream",
          "name": "stdout",
          "text": [
            "+-----------+----------------+\n",
            "|  stationID|min(temperature)|\n",
            "+-----------+----------------+\n",
            "|ITE00100554|          -148.0|\n",
            "|EZE00100082|          -135.0|\n",
            "+-----------+----------------+\n",
            "\n"
          ]
        }
      ]
    },
    {
      "cell_type": "code",
      "source": [
        "# Select only stationID and temperature\n",
        "stationTemps = minTemps[[\"stationID\", \"temperature\"]]"
      ],
      "metadata": {
        "id": "vIHVkov7ZCmH"
      },
      "execution_count": null,
      "outputs": []
    },
    {
      "cell_type": "code",
      "source": [
        "stationTemps.show(5)"
      ],
      "metadata": {
        "colab": {
          "base_uri": "https://localhost:8080/"
        },
        "id": "pduAqX2D35pR",
        "outputId": "57a35696-5f56-433e-8779-3c8a86ec33eb"
      },
      "execution_count": null,
      "outputs": [
        {
          "output_type": "stream",
          "name": "stdout",
          "text": [
            "+-----------+-----------+\n",
            "|  stationID|temperature|\n",
            "+-----------+-----------+\n",
            "|ITE00100554|     -148.0|\n",
            "|EZE00100082|     -135.0|\n",
            "|ITE00100554|     -125.0|\n",
            "|EZE00100082|     -130.0|\n",
            "|ITE00100554|      -46.0|\n",
            "+-----------+-----------+\n",
            "only showing top 5 rows\n",
            "\n"
          ]
        }
      ]
    },
    {
      "cell_type": "code",
      "source": [
        "stationTemps = minTemps.select(\"stationID\", \"temperature\")"
      ],
      "metadata": {
        "id": "vieB4jGb4BGS"
      },
      "execution_count": null,
      "outputs": []
    },
    {
      "cell_type": "code",
      "source": [
        "stationTemps.show(5)"
      ],
      "metadata": {
        "colab": {
          "base_uri": "https://localhost:8080/"
        },
        "id": "dLROwpAS4GCU",
        "outputId": "da0a3265-871c-400d-ef5c-994c9a42a3c3"
      },
      "execution_count": null,
      "outputs": [
        {
          "output_type": "stream",
          "name": "stdout",
          "text": [
            "+-----------+-----------+\n",
            "|  stationID|temperature|\n",
            "+-----------+-----------+\n",
            "|ITE00100554|     -148.0|\n",
            "|EZE00100082|     -135.0|\n",
            "|ITE00100554|     -125.0|\n",
            "|EZE00100082|     -130.0|\n",
            "|ITE00100554|      -46.0|\n",
            "+-----------+-----------+\n",
            "only showing top 5 rows\n",
            "\n"
          ]
        }
      ]
    },
    {
      "cell_type": "code",
      "source": [
        "stationTemps.show(5)"
      ],
      "metadata": {
        "colab": {
          "base_uri": "https://localhost:8080/"
        },
        "id": "JRIvScPKELPb",
        "outputId": "257427d8-21c1-4f2d-947f-ba0bd75169d5"
      },
      "execution_count": null,
      "outputs": [
        {
          "output_type": "stream",
          "name": "stdout",
          "text": [
            "+-----------+-----------+-----------+-----------+\n",
            "|  stationID|  stationID|  stationID|  stationID|\n",
            "+-----------+-----------+-----------+-----------+\n",
            "|ITE00100554|ITE00100554|ITE00100554|ITE00100554|\n",
            "|EZE00100082|EZE00100082|EZE00100082|EZE00100082|\n",
            "|ITE00100554|ITE00100554|ITE00100554|ITE00100554|\n",
            "|EZE00100082|EZE00100082|EZE00100082|EZE00100082|\n",
            "|ITE00100554|ITE00100554|ITE00100554|ITE00100554|\n",
            "+-----------+-----------+-----------+-----------+\n",
            "only showing top 5 rows\n",
            "\n"
          ]
        }
      ]
    },
    {
      "cell_type": "code",
      "source": [
        "# Collect, format, and print the results\n",
        "results = minTempsByStation.collect()"
      ],
      "metadata": {
        "id": "CLRfmxTVbWFa"
      },
      "execution_count": null,
      "outputs": []
    },
    {
      "cell_type": "code",
      "source": [
        "for result in results:\n",
        "    print(result[0] + \"\\t{:.2f}F\".format(result[1]))"
      ],
      "metadata": {
        "colab": {
          "base_uri": "https://localhost:8080/"
        },
        "id": "KcWp2OmVbazR",
        "outputId": "078ad444-988a-47d6-a59d-84d376a00549"
      },
      "execution_count": null,
      "outputs": [
        {
          "output_type": "stream",
          "name": "stdout",
          "text": [
            "ITE00100554\t-148.00F\n",
            "EZE00100082\t-135.00F\n"
          ]
        }
      ]
    },
    {
      "cell_type": "markdown",
      "source": [
        "## Spark SQL로 처리해보기"
      ],
      "metadata": {
        "id": "NoXy6A_Yon2o"
      }
    },
    {
      "cell_type": "code",
      "source": [
        "df.createOrReplaceTempView(\"station1800\")"
      ],
      "metadata": {
        "id": "KFnSYHaZbc3d"
      },
      "execution_count": null,
      "outputs": []
    },
    {
      "cell_type": "code",
      "source": [
        "results = spark.sql(\"\"\"SELECT stationID, MIN(temperature)\n",
        "FROM station1800\n",
        "WHERE measure_type = 'TMIN'\n",
        "GROUP BY 1\"\"\").collect()"
      ],
      "metadata": {
        "id": "GQqHvF0sbAYL"
      },
      "execution_count": null,
      "outputs": []
    },
    {
      "cell_type": "code",
      "source": [
        "# pyspark.sql.Row는 DataFrame의 레코드에 해당하며 필드별로 이름이 존재# \n",
        "for r in results:\n",
        "    print(r)"
      ],
      "metadata": {
        "colab": {
          "base_uri": "https://localhost:8080/"
        },
        "id": "2Nev-8f7bXOl",
        "outputId": "ff8bf30e-8e9f-418b-93b6-ef805d30ed51"
      },
      "execution_count": null,
      "outputs": [
        {
          "output_type": "stream",
          "name": "stdout",
          "text": [
            "Row(stationID='ITE00100554', min(temperature)=-148.0)\n",
            "Row(stationID='EZE00100082', min(temperature)=-135.0)\n"
          ]
        }
      ]
    }
  ]
}
