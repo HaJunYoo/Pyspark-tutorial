{
  "cells": [
    {
      "cell_type": "markdown",
      "metadata": {
        "id": "view-in-github",
        "colab_type": "text"
      },
      "source": [
        "<a href=\"https://colab.research.google.com/github/HaJunYoo/Pyspark-tutorial/blob/main/taxi_fare_prediction_hyper.ipynb\" target=\"_parent\"><img src=\"https://colab.research.google.com/assets/colab-badge.svg\" alt=\"Open In Colab\"/></a>"
      ]
    },
    {
      "cell_type": "code",
      "execution_count": null,
      "metadata": {
        "id": "HgxhVZqA0F8s"
      },
      "outputs": [],
      "source": [],
      "id": "HgxhVZqA0F8s"
    },
    {
      "cell_type": "code",
      "execution_count": null,
      "metadata": {
        "colab": {
          "base_uri": "https://localhost:8080/"
        },
        "id": "_tvdPEzP0Go7",
        "outputId": "638330c8-a606-4368-90cb-9b2cc10ac7a7"
      },
      "outputs": [
        {
          "name": "stdout",
          "output_type": "stream",
          "text": [
            "Mounted at /content/drive\n"
          ]
        }
      ],
      "source": [
        "from google.colab import drive\n",
        "drive.mount('/content/drive')"
      ],
      "id": "_tvdPEzP0Go7"
    },
    {
      "cell_type": "code",
      "execution_count": null,
      "metadata": {
        "colab": {
          "base_uri": "https://localhost:8080/"
        },
        "id": "bd6Dsy8gzlum",
        "outputId": "ef095e6e-0af5-4679-ef3f-561f4bc79484"
      },
      "outputs": [
        {
          "name": "stdout",
          "output_type": "stream",
          "text": [
            "Looking in indexes: https://pypi.org/simple, https://us-python.pkg.dev/colab-wheels/public/simple/\n",
            "Collecting pyspark==3.3.1\n",
            "  Downloading pyspark-3.3.1.tar.gz (281.4 MB)\n",
            "\u001b[2K     \u001b[90m━━━━━━━━━━━━━━━━━━━━━━━━━━━━━━━━━━━━━━━\u001b[0m \u001b[32m281.4/281.4 MB\u001b[0m \u001b[31m4.1 MB/s\u001b[0m eta \u001b[36m0:00:00\u001b[0m\n",
            "\u001b[?25h  Preparing metadata (setup.py) ... \u001b[?25l\u001b[?25hdone\n",
            "Collecting py4j==0.10.9.5\n",
            "  Downloading py4j-0.10.9.5-py2.py3-none-any.whl (199 kB)\n",
            "\u001b[2K     \u001b[90m━━━━━━━━━━━━━━━━━━━━━━━━━━━━━━━━━━━━━━\u001b[0m \u001b[32m199.7/199.7 KB\u001b[0m \u001b[31m22.6 MB/s\u001b[0m eta \u001b[36m0:00:00\u001b[0m\n",
            "\u001b[?25hBuilding wheels for collected packages: pyspark\n",
            "  Building wheel for pyspark (setup.py) ... \u001b[?25l\u001b[?25hdone\n",
            "  Created wheel for pyspark: filename=pyspark-3.3.1-py2.py3-none-any.whl size=281845512 sha256=a99da5513f728ad067ab3a55da9df342dcf476c16c665151fd7dd73a1fa0735f\n",
            "  Stored in directory: /root/.cache/pip/wheels/43/dc/11/ec201cd671da62fa9c5cc77078235e40722170ceba231d7598\n",
            "Successfully built pyspark\n",
            "Installing collected packages: py4j, pyspark\n",
            "Successfully installed py4j-0.10.9.5 pyspark-3.3.1\n"
          ]
        }
      ],
      "source": [
        "!pip install pyspark==3.3.1 py4j==0.10.9.5 \n",
        "!pip install -q findspark"
      ],
      "id": "bd6Dsy8gzlum"
    },
    {
      "cell_type": "code",
      "execution_count": null,
      "metadata": {
        "id": "YB3TYSjDzmJI"
      },
      "outputs": [],
      "source": [
        "import findspark\n",
        "findspark.init()"
      ],
      "id": "YB3TYSjDzmJI"
    },
    {
      "cell_type": "code",
      "execution_count": null,
      "metadata": {
        "id": "6c89f375"
      },
      "outputs": [],
      "source": [
        "from pyspark.sql import SparkSession"
      ],
      "id": "6c89f375"
    },
    {
      "cell_type": "code",
      "execution_count": null,
      "metadata": {
        "id": "14ef5549"
      },
      "outputs": [],
      "source": [
        "MAX_MEMORY=\"5g\"\n",
        "spark = SparkSession.builder.appName(\"taxi-fare-prediciton\")\\\n",
        "                .config(\"spark.executor.memory\", MAX_MEMORY)\\\n",
        "                .config(\"spark.driver.memory\", MAX_MEMORY)\\\n",
        "                .getOrCreate()"
      ],
      "id": "14ef5549"
    },
    {
      "cell_type": "code",
      "execution_count": null,
      "metadata": {
        "id": "1a308b57"
      },
      "outputs": [],
      "source": [
        "data_dir = \"/content/drive/MyDrive/Spark/01-spark/data\""
      ],
      "id": "1a308b57"
    },
    {
      "cell_type": "code",
      "execution_count": null,
      "metadata": {
        "id": "193f3160"
      },
      "outputs": [],
      "source": [
        "train_df = spark.read.parquet(f\"{data_dir}/train/\")\n",
        "test_df = spark.read.parquet(f\"{data_dir}/test/\")"
      ],
      "id": "193f3160"
    },
    {
      "cell_type": "code",
      "execution_count": null,
      "metadata": {
        "id": "f1f7037c"
      },
      "outputs": [],
      "source": [
        "toy_df = train_df.sample(False, 0.1, seed=1)"
      ],
      "id": "f1f7037c"
    },
    {
      "cell_type": "code",
      "execution_count": null,
      "metadata": {
        "colab": {
          "base_uri": "https://localhost:8080/"
        },
        "id": "7b1499b7",
        "outputId": "0b81dc4b-86a1-4913-8591-bb2b90025ebe"
      },
      "outputs": [
        {
          "name": "stdout",
          "output_type": "stream",
          "text": [
            "root\n",
            " |-- passenger_count: double (nullable = true)\n",
            " |-- pickup_location_id: integer (nullable = true)\n",
            " |-- dropoff_location_id: integer (nullable = true)\n",
            " |-- trip_distance: double (nullable = true)\n",
            " |-- pickup_time: integer (nullable = true)\n",
            " |-- day_of_week: string (nullable = true)\n",
            " |-- total_amount: double (nullable = true)\n",
            "\n"
          ]
        }
      ],
      "source": [
        "toy_df.printSchema()"
      ],
      "id": "7b1499b7"
    },
    {
      "cell_type": "code",
      "execution_count": null,
      "metadata": {
        "id": "b197ea72"
      },
      "outputs": [],
      "source": [
        "from pyspark.ml.feature import OneHotEncoder, StringIndexer\n",
        "\n",
        "cat_feats = [\n",
        "    \"pickup_location_id\",\n",
        "    \"dropoff_location_id\",\n",
        "    \"day_of_week\"\n",
        "]\n",
        "\n",
        "stages = []\n",
        "\n",
        "for c in cat_feats:\n",
        "    cat_indexer = StringIndexer(inputCol=c, outputCol= c + \"_idx\").setHandleInvalid(\"keep\")\n",
        "    onehot_encoder = OneHotEncoder(inputCols=[cat_indexer.getOutputCol()], outputCols=[c + \"_onehot\"])\n",
        "    stages += [cat_indexer, onehot_encoder]"
      ],
      "id": "b197ea72"
    },
    {
      "cell_type": "code",
      "execution_count": null,
      "metadata": {
        "id": "b3d1a552"
      },
      "outputs": [],
      "source": [
        "from pyspark.ml.feature import VectorAssembler, StandardScaler\n",
        "\n",
        "num_feats = [\n",
        "    \"passenger_count\",\n",
        "    \"trip_distance\",\n",
        "    \"pickup_time\"\n",
        "]\n",
        "\n",
        "for n in num_feats:\n",
        "    num_assembler = VectorAssembler(inputCols=[n], outputCol= n + \"_vecotr\")\n",
        "    num_scaler = StandardScaler(inputCol=num_assembler.getOutputCol(), outputCol= n + \"_scaled\")\n",
        "    stages += [num_assembler, num_scaler]"
      ],
      "id": "b3d1a552"
    },
    {
      "cell_type": "code",
      "execution_count": null,
      "metadata": {
        "id": "6c9e35cd"
      },
      "outputs": [],
      "source": [
        "assembler_inputs = [c + \"_onehot\" for c in cat_feats] + [n + \"_scaled\" for n in num_feats]\n",
        "assembler = VectorAssembler(inputCols=assembler_inputs, outputCol=\"feature_vector\")\n",
        "stages += [assembler]"
      ],
      "id": "6c9e35cd"
    },
    {
      "cell_type": "markdown",
      "metadata": {
        "id": "f144a456"
      },
      "source": [
        "## Hyperparameter Tuning"
      ],
      "id": "f144a456"
    },
    {
      "cell_type": "code",
      "execution_count": null,
      "metadata": {
        "id": "4abb1bfc"
      },
      "outputs": [],
      "source": [
        "from pyspark.ml import Pipeline\n",
        "from pyspark.ml.regression import LinearRegression\n",
        "from pyspark.ml.tuning import CrossValidator, ParamGridBuilder\n",
        "from pyspark.ml.evaluation import RegressionEvaluator\n",
        "\n",
        "lr = LinearRegression(\n",
        "    maxIter=30,\n",
        "    solver=\"normal\",\n",
        "    labelCol='total_amount',\n",
        "    featuresCol='feature_vector'\n",
        ")\n",
        "\n",
        "cv_stages = stages + [lr]"
      ],
      "id": "4abb1bfc"
    },
    {
      "cell_type": "code",
      "execution_count": null,
      "metadata": {
        "id": "9e243aaf"
      },
      "outputs": [],
      "source": [
        "cv_pipeline = Pipeline(stages=cv_stages)"
      ],
      "id": "9e243aaf"
    },
    {
      "cell_type": "code",
      "execution_count": null,
      "metadata": {
        "id": "4401c160"
      },
      "outputs": [],
      "source": [
        "# addGrid를 통해 사용할 파라미터를 여러가지 넣어주게 된다\n",
        "param_grid = ParamGridBuilder()\\\n",
        "                .addGrid(lr.elasticNetParam, [0.1, 0.2, 0.3, 0.4, 0.5])\\\n",
        "                .addGrid(lr.regParam, [0.01, 0.02, 0.03, 0.04, 0.05])\\\n",
        "                .build()"
      ],
      "id": "4401c160"
    },
    {
      "cell_type": "code",
      "execution_count": null,
      "metadata": {
        "id": "3575a425"
      },
      "outputs": [],
      "source": [
        "# cross validation을 할 인스턴스 생성\n",
        "# pipeline : stages 설정\n",
        "# param : param_gird를 통해 비교\n",
        "# evaluator : labelcol를 사용, RegressionEvaluator으로 평가 \n",
        "cross_val = CrossValidator(estimator=cv_pipeline,\n",
        "                           estimatorParamMaps=param_grid,\n",
        "                           evaluator=RegressionEvaluator(labelCol=\"total_amount\"),\n",
        "                           numFolds=3)"
      ],
      "id": "3575a425"
    },
    {
      "cell_type": "code",
      "execution_count": null,
      "metadata": {
        "colab": {
          "background_save": true
        },
        "id": "f68456da"
      },
      "outputs": [],
      "source": [
        "cv_model = cross_val.fit(toy_df)"
      ],
      "id": "f68456da"
    },
    {
      "cell_type": "code",
      "execution_count": null,
      "metadata": {
        "colab": {
          "background_save": true
        },
        "id": "493a7a7e"
      },
      "outputs": [],
      "source": [
        "# CV를 통해 산출된 파라미터 가져오기\n",
        "alpha = cv_model.bestModel.stages[-1]._java_obj.getElasticNetParam()\n",
        "reg_param = cv_model.bestModel.stages[-1]._java_obj.getRegParam()"
      ],
      "id": "493a7a7e"
    },
    {
      "cell_type": "markdown",
      "metadata": {
        "id": "118d509c"
      },
      "source": [
        "## Training"
      ],
      "id": "118d509c"
    },
    {
      "cell_type": "markdown",
      "metadata": {
        "id": "9wxpAmJP4ZNc"
      },
      "source": [
        "- 튜닝된 파라미터를 가지고 모델을 학습 시키는 과정"
      ],
      "id": "9wxpAmJP4ZNc"
    },
    {
      "cell_type": "code",
      "execution_count": null,
      "metadata": {
        "colab": {
          "background_save": true
        },
        "id": "39b44e01"
      },
      "outputs": [],
      "source": [
        "transform_stages = stages\n",
        "pipeline = Pipeline(stages=transform_stages)\n",
        "fitted_transformer = pipeline.fit(train_df)"
      ],
      "id": "39b44e01"
    },
    {
      "cell_type": "code",
      "execution_count": null,
      "metadata": {
        "colab": {
          "background_save": true
        },
        "id": "5d965a6d"
      },
      "outputs": [],
      "source": [
        "vtrain_df = fitted_transformer.transform(train_df)"
      ],
      "id": "5d965a6d"
    },
    {
      "cell_type": "code",
      "execution_count": null,
      "metadata": {
        "colab": {
          "background_save": true
        },
        "id": "450a8e37"
      },
      "outputs": [],
      "source": [
        "\n",
        "lr = LinearRegression(\n",
        "    maxIter=50,\n",
        "    solver=\"normal\",\n",
        "    labelCol=\"total_amount\",\n",
        "    featuresCol=\"feature_vector\",\n",
        "    elasticNetParam=alpha,\n",
        "    regParam=reg_param,\n",
        ")"
      ],
      "id": "450a8e37"
    },
    {
      "cell_type": "code",
      "execution_count": null,
      "metadata": {
        "colab": {
          "background_save": true
        },
        "id": "4265a9b3",
        "outputId": "51e1353a-2869-4bdd-a781-b2fa5c704348"
      },
      "outputs": [
        {
          "name": "stdout",
          "output_type": "stream",
          "text": [
            "root\n",
            " |-- passenger_count: double (nullable = true)\n",
            " |-- pickup_location_id: integer (nullable = true)\n",
            " |-- dropoff_location_id: integer (nullable = true)\n",
            " |-- trip_distance: double (nullable = true)\n",
            " |-- pickup_time: integer (nullable = true)\n",
            " |-- day_of_week: string (nullable = true)\n",
            " |-- total_amount: double (nullable = true)\n",
            " |-- pickup_location_id_idx: double (nullable = false)\n",
            " |-- pickup_location_id_onehot: vector (nullable = true)\n",
            " |-- dropoff_location_id_idx: double (nullable = false)\n",
            " |-- dropoff_location_id_onehot: vector (nullable = true)\n",
            " |-- day_of_week_idx: double (nullable = false)\n",
            " |-- day_of_week_onehot: vector (nullable = true)\n",
            " |-- passenger_count_vecotr: vector (nullable = true)\n",
            " |-- passenger_count_scaled: vector (nullable = true)\n",
            " |-- trip_distance_vecotr: vector (nullable = true)\n",
            " |-- trip_distance_scaled: vector (nullable = true)\n",
            " |-- pickup_time_vecotr: vector (nullable = true)\n",
            " |-- pickup_time_scaled: vector (nullable = true)\n",
            " |-- feature_vector: vector (nullable = true)\n",
            "\n"
          ]
        }
      ],
      "source": [
        "vtrain_df.printSchema()"
      ],
      "id": "4265a9b3"
    },
    {
      "cell_type": "code",
      "execution_count": null,
      "metadata": {
        "colab": {
          "background_save": true
        },
        "id": "f2d00f60"
      },
      "outputs": [],
      "source": [
        "model = lr.fit(vtrain_df)"
      ],
      "id": "f2d00f60"
    },
    {
      "cell_type": "code",
      "execution_count": null,
      "metadata": {
        "colab": {
          "background_save": true
        },
        "id": "9a95e8c3"
      },
      "outputs": [],
      "source": [
        "vtest_df = fitted_transformer.transform(test_df)"
      ],
      "id": "9a95e8c3"
    },
    {
      "cell_type": "code",
      "execution_count": null,
      "metadata": {
        "colab": {
          "background_save": true
        },
        "id": "05b3df31"
      },
      "outputs": [],
      "source": [
        "predictions = model.transform(vtest_df)"
      ],
      "id": "05b3df31"
    },
    {
      "cell_type": "code",
      "execution_count": null,
      "metadata": {
        "colab": {
          "background_save": true
        },
        "id": "61d0d5df",
        "outputId": "acd43a32-843e-4628-e5e5-0470dd535547"
      },
      "outputs": [
        {
          "data": {
            "text/plain": [
              "DataFrame[passenger_count: double, pickup_location_id: int, dropoff_location_id: int, trip_distance: double, pickup_time: int, day_of_week: string, total_amount: double, pickup_location_id_idx: double, pickup_location_id_onehot: vector, dropoff_location_id_idx: double, dropoff_location_id_onehot: vector, day_of_week_idx: double, day_of_week_onehot: vector, passenger_count_vecotr: vector, passenger_count_scaled: vector, trip_distance_vecotr: vector, trip_distance_scaled: vector, pickup_time_vecotr: vector, pickup_time_scaled: vector, feature_vector: vector, prediction: double]"
            ]
          },
          "execution_count": 41,
          "metadata": {},
          "output_type": "execute_result"
        }
      ],
      "source": [
        "predictions.cache()"
      ],
      "id": "61d0d5df"
    },
    {
      "cell_type": "code",
      "execution_count": null,
      "metadata": {
        "colab": {
          "background_save": true
        },
        "id": "2a7f4514",
        "outputId": "cc183348-a908-44ac-89b3-ed1ecafc8bda"
      },
      "outputs": [
        {
          "name": "stdout",
          "output_type": "stream",
          "text": [
            "+-------------+-----------+------------+------------------+\n",
            "|trip_distance|day_of_week|total_amount|        prediction|\n",
            "+-------------+-----------+------------+------------------+\n",
            "|          0.7|   Saturday|       12.35|12.352495714578337|\n",
            "|          3.1|    Tuesday|        18.0|17.698009569189573|\n",
            "|          2.1|   Saturday|       15.35|16.608050637618177|\n",
            "|          1.7|   Saturday|        13.3|14.227686037245991|\n",
            "|          4.1|     Friday|        21.3|20.809261469226264|\n",
            "|          1.4|     Friday|         8.3|12.254694453142172|\n",
            "|          7.3|    Tuesday|        29.3| 28.01378753451219|\n",
            "|          0.7|  Wednesday|         5.8|10.016018768939855|\n",
            "|          5.0|  Wednesday|        24.3|21.272086070995055|\n",
            "|          6.7|   Saturday|        29.8| 37.38361134037284|\n",
            "|         16.8|     Friday|       82.37| 70.79066882692665|\n",
            "|         29.3|     Monday|        80.8|102.72109114586766|\n",
            "|          4.1|     Friday|        20.8| 21.92871076870082|\n",
            "|          0.1|  Wednesday|        55.3|12.460525371257177|\n",
            "|          0.7|  Wednesday|        10.3|14.445643351712588|\n",
            "|          3.7|  Wednesday|        17.8|22.346103203398634|\n",
            "|          2.4|    Tuesday|        14.8|17.239565455542895|\n",
            "|          4.5|     Friday|       26.35| 22.74950578436283|\n",
            "|          3.4|  Wednesday|       21.95| 19.35177187259294|\n",
            "|          4.0|   Thursday|        20.8|21.284873438551756|\n",
            "+-------------+-----------+------------+------------------+\n",
            "only showing top 20 rows\n",
            "\n"
          ]
        }
      ],
      "source": [
        "predictions.select([\"trip_distance\", \"day_of_week\", \"total_amount\", \"prediction\"]).show()"
      ],
      "id": "2a7f4514"
    },
    {
      "cell_type": "code",
      "execution_count": null,
      "metadata": {
        "colab": {
          "background_save": true
        },
        "id": "02f653ec",
        "outputId": "69e2f570-7a73-443b-d4ad-42a62de397b4"
      },
      "outputs": [
        {
          "data": {
            "text/plain": [
              "5.849604047139853"
            ]
          },
          "execution_count": 43,
          "metadata": {},
          "output_type": "execute_result"
        }
      ],
      "source": [
        "model.summary.rootMeanSquaredError"
      ],
      "id": "02f653ec"
    },
    {
      "cell_type": "code",
      "execution_count": null,
      "metadata": {
        "colab": {
          "background_save": true
        },
        "id": "02803459",
        "outputId": "0e66a1dd-5b90-4393-d36c-8c076096195d"
      },
      "outputs": [
        {
          "data": {
            "text/plain": [
              "0.7969097205174259"
            ]
          },
          "execution_count": 44,
          "metadata": {},
          "output_type": "execute_result"
        }
      ],
      "source": [
        "model.summary.r2"
      ],
      "id": "02803459"
    },
    {
      "cell_type": "markdown",
      "metadata": {
        "id": "TfhIN3Ed4j8U"
      },
      "source": [
        "### Model Save and Loading"
      ],
      "id": "TfhIN3Ed4j8U"
    },
    {
      "cell_type": "code",
      "execution_count": null,
      "metadata": {
        "colab": {
          "background_save": true
        },
        "id": "dbfba244"
      },
      "outputs": [],
      "source": [
        "model_dir = \"/Users/keon/fastcampus/data-engineering/01-spark/data/model\"\n",
        "model.save(model_dir)"
      ],
      "id": "dbfba244"
    },
    {
      "cell_type": "code",
      "execution_count": null,
      "metadata": {
        "colab": {
          "background_save": true
        },
        "id": "f15e53ee"
      },
      "outputs": [],
      "source": [
        "from pyspark.ml.regression import LinearRegressionModel"
      ],
      "id": "f15e53ee"
    },
    {
      "cell_type": "code",
      "execution_count": null,
      "metadata": {
        "colab": {
          "background_save": true
        },
        "id": "8407cc86"
      },
      "outputs": [],
      "source": [
        "# linear regression 모델을 사용했기 때문에 라이브러리를 통해 호출\n",
        "lr_model = LinearRegressionModel().load(model_dir)"
      ],
      "id": "8407cc86"
    },
    {
      "cell_type": "code",
      "execution_count": null,
      "metadata": {
        "colab": {
          "background_save": true
        },
        "id": "d5a1de06"
      },
      "outputs": [],
      "source": [
        "# 변환된 df를 가지고 prediction 실행\n",
        "predictions = lr_model.transform(vtest_df)"
      ],
      "id": "d5a1de06"
    },
    {
      "cell_type": "code",
      "execution_count": null,
      "metadata": {
        "colab": {
          "background_save": true
        },
        "id": "84595076",
        "outputId": "1efba9f4-2a3c-4059-ca3a-847ced6786f4"
      },
      "outputs": [
        {
          "name": "stdout",
          "output_type": "stream",
          "text": [
            "+---------------+------------------+-------------------+-------------+-----------+-----------+------------+----------------------+-------------------------+-----------------------+--------------------------+---------------+------------------+----------------------+----------------------+--------------------+--------------------+------------------+--------------------+--------------------+------------------+\n",
            "|passenger_count|pickup_location_id|dropoff_location_id|trip_distance|pickup_time|day_of_week|total_amount|pickup_location_id_idx|pickup_location_id_onehot|dropoff_location_id_idx|dropoff_location_id_onehot|day_of_week_idx|day_of_week_onehot|passenger_count_vecotr|passenger_count_scaled|trip_distance_vecotr|trip_distance_scaled|pickup_time_vecotr|  pickup_time_scaled|      feature_vector|        prediction|\n",
            "+---------------+------------------+-------------------+-------------+-----------+-----------+------------+----------------------+-------------------------+-----------------------+--------------------------+---------------+------------------+----------------------+----------------------+--------------------+--------------------+------------------+--------------------+--------------------+------------------+\n",
            "|            0.0|                 4|                 79|          0.7|         23|   Saturday|       12.35|                  62.0|         (263,[62],[1.0])|                   17.0|          (261,[17],[1.0])|            4.0|     (7,[4],[1.0])|                 [0.0]|                 [0.0]|               [0.7]|[0.18336070949125...|            [23.0]| [4.493327688025952]|(534,[62,280,528,...|12.352495714578337|\n",
            "|            0.0|                 4|                141|          3.1|          9|    Tuesday|        18.0|                  62.0|         (263,[62],[1.0])|                    2.0|           (261,[2],[1.0])|            3.0|     (7,[3],[1.0])|                 [0.0]|                 [0.0]|               [3.1]|[0.8120259991755574]|             [9.0]|[1.7582586605318942]|(534,[62,265,527,...|17.698009569189573|\n",
            "|            0.0|                 4|                231|          2.1|         23|   Saturday|       15.35|                  62.0|         (263,[62],[1.0])|                   31.0|          (261,[31],[1.0])|            4.0|     (7,[4],[1.0])|                 [0.0]|                 [0.0]|               [2.1]|[0.5500821284737647]|            [23.0]| [4.493327688025952]|(534,[62,294,528,...|16.608050637618177|\n",
            "|            0.0|                 4|                234|          1.7|         18|   Saturday|        13.3|                  62.0|         (263,[62],[1.0])|                   12.0|          (261,[12],[1.0])|            4.0|     (7,[4],[1.0])|                 [0.0]|                 [0.0]|               [1.7]|[0.4453045801930476]|            [18.0]|[3.5165173210637883]|(534,[62,275,528,...|14.227686037245991|\n",
            "|            0.0|                 4|                236|          4.1|         15|     Friday|        21.3|                  62.0|         (263,[62],[1.0])|                    0.0|           (261,[0],[1.0])|            0.0|     (7,[0],[1.0])|                 [0.0]|                 [0.0]|               [4.1]|[1.0739698698773499]|            [15.0]|[2.9304311008864903]|(534,[62,263,524,...|20.809261469226264|\n",
            "|            0.0|                 7|                  7|          1.4|         14|     Friday|         8.3|                  63.0|         (263,[63],[1.0])|                   57.0|          (261,[57],[1.0])|            0.0|     (7,[0],[1.0])|                 [0.0]|                 [0.0]|               [1.4]|[0.36672141898250...|            [14.0]| [2.735069027494058]|(534,[63,320,524,...|12.254694453142172|\n",
            "|            0.0|                 7|                 65|          7.3|          7|    Tuesday|        29.3|                  63.0|         (263,[63],[1.0])|                   77.0|          (261,[77],[1.0])|            3.0|     (7,[3],[1.0])|                 [0.0]|                 [0.0]|               [7.3]|[1.9121902561230866]|             [7.0]| [1.367534513747029]|(534,[63,340,527,...| 28.01378753451219|\n",
            "|            0.0|                 7|                146|          0.7|         11|  Wednesday|         5.8|                  63.0|         (263,[63],[1.0])|                   86.0|          (261,[86],[1.0])|            2.0|     (7,[2],[1.0])|                 [0.0]|                 [0.0]|               [0.7]|[0.18336070949125...|            [11.0]|  [2.14898280731676]|(534,[63,349,526,...|10.016018768939855|\n",
            "|            0.0|                 7|                186|          5.0|          8|  Wednesday|        24.3|                  63.0|         (263,[63],[1.0])|                   16.0|          (261,[16],[1.0])|            2.0|     (7,[2],[1.0])|                 [0.0]|                 [0.0]|               [5.0]|[1.3097193535089635]|             [8.0]|[1.5628965871394616]|(534,[63,279,526,...|21.272086070995055|\n",
            "|            0.0|                10|                 10|          6.7|         22|   Saturday|        29.8|                  84.0|         (263,[84],[1.0])|                   99.0|          (261,[99],[1.0])|            4.0|     (7,[4],[1.0])|                 [0.0]|                 [0.0]|               [6.7]|[1.7550239337020113]|            [22.0]|  [4.29796561463352]|(534,[84,362,528,...| 37.38361134037284|\n",
            "|            0.0|                10|                140|         16.8|         18|     Friday|       82.37|                  84.0|         (263,[84],[1.0])|                   10.0|          (261,[10],[1.0])|            0.0|     (7,[0],[1.0])|                 [0.0]|                 [0.0]|              [16.8]| [4.400657027790118]|            [18.0]|[3.5165173210637883]|(534,[84,273,524,...| 70.79066882692665|\n",
            "|            0.0|                10|                241|         29.3|         11|     Monday|        80.8|                  84.0|         (263,[84],[1.0])|                  142.0|         (261,[142],[1.0])|            5.0|     (7,[5],[1.0])|                 [0.0]|                 [0.0]|              [29.3]| [7.674955411562526]|            [11.0]|  [2.14898280731676]|(534,[84,405,529,...|102.72109114586766|\n",
            "|            0.0|                12|                246|          4.1|         14|     Friday|        20.8|                  71.0|         (263,[71],[1.0])|                   24.0|          (261,[24],[1.0])|            0.0|     (7,[0],[1.0])|                 [0.0]|                 [0.0]|               [4.1]|[1.0739698698773499]|            [14.0]| [2.735069027494058]|(534,[71,287,524,...| 21.92871076870082|\n",
            "|            0.0|                13|                 13|          0.1|          7|  Wednesday|        55.3|                  47.0|         (263,[47],[1.0])|                   44.0|          (261,[44],[1.0])|            2.0|     (7,[2],[1.0])|                 [0.0]|                 [0.0]|               [0.1]|[0.02619438707017...|             [7.0]| [1.367534513747029]|(534,[47,307,526,...|12.460525371257177|\n",
            "|            0.0|                13|                 13|          0.7|         16|  Wednesday|        10.3|                  47.0|         (263,[47],[1.0])|                   44.0|          (261,[44],[1.0])|            2.0|     (7,[2],[1.0])|                 [0.0]|                 [0.0]|               [0.7]|[0.18336070949125...|            [16.0]| [3.125793174278923]|(534,[47,307,526,...|14.445643351712588|\n",
            "|            0.0|                13|                 33|          3.7|         13|  Wednesday|        17.8|                  47.0|         (263,[47],[1.0])|                   61.0|          (261,[61],[1.0])|            2.0|     (7,[2],[1.0])|                 [0.0]|                 [0.0]|               [3.7]| [0.969192321596633]|            [13.0]| [2.539706954101625]|(534,[47,324,526,...|22.346103203398634|\n",
            "|            0.0|                13|                 68|          2.4|         15|    Tuesday|        14.8|                  47.0|         (263,[47],[1.0])|                   14.0|          (261,[14],[1.0])|            3.0|     (7,[3],[1.0])|                 [0.0]|                 [0.0]|               [2.4]|[0.6286652896843025]|            [15.0]|[2.9304311008864903]|(534,[47,277,527,...|17.239565455542895|\n",
            "|            0.0|                13|                 79|          4.5|         10|     Friday|       26.35|                  47.0|         (263,[47],[1.0])|                   17.0|          (261,[17],[1.0])|            0.0|     (7,[0],[1.0])|                 [0.0]|                 [0.0]|               [4.5]|[1.1787474181580673]|            [10.0]| [1.953620733924327]|(534,[47,280,524,...| 22.74950578436283|\n",
            "|            0.0|                13|                 90|          3.4|          8|  Wednesday|       21.95|                  47.0|         (263,[47],[1.0])|                   28.0|          (261,[28],[1.0])|            2.0|     (7,[2],[1.0])|                 [0.0]|                 [0.0]|               [3.4]|[0.8906091603860952]|             [8.0]|[1.5628965871394616]|(534,[47,291,526,...| 19.35177187259294|\n",
            "|            0.0|                13|                100|          4.0|          8|   Thursday|        20.8|                  47.0|         (263,[47],[1.0])|                   30.0|          (261,[30],[1.0])|            1.0|     (7,[1],[1.0])|                 [0.0]|                 [0.0]|               [4.0]|[1.0477754828071708]|             [8.0]|[1.5628965871394616]|(534,[47,293,525,...|21.284873438551756|\n",
            "+---------------+------------------+-------------------+-------------+-----------+-----------+------------+----------------------+-------------------------+-----------------------+--------------------------+---------------+------------------+----------------------+----------------------+--------------------+--------------------+------------------+--------------------+--------------------+------------------+\n",
            "only showing top 20 rows\n",
            "\n"
          ]
        }
      ],
      "source": [
        "predictions.show()"
      ],
      "id": "84595076"
    },
    {
      "cell_type": "code",
      "execution_count": null,
      "metadata": {
        "id": "8f0f5e3c"
      },
      "outputs": [],
      "source": [],
      "id": "8f0f5e3c"
    }
  ],
  "metadata": {
    "colab": {
      "machine_shape": "hm",
      "provenance": [],
      "include_colab_link": true
    },
    "gpuClass": "standard",
    "kernelspec": {
      "display_name": "Python 3",
      "language": "python",
      "name": "python3"
    },
    "language_info": {
      "codemirror_mode": {
        "name": "ipython",
        "version": 3
      },
      "file_extension": ".py",
      "mimetype": "text/x-python",
      "name": "python",
      "nbconvert_exporter": "python",
      "pygments_lexer": "ipython3",
      "version": "3.8.8"
    }
  },
  "nbformat": 4,
  "nbformat_minor": 5
}