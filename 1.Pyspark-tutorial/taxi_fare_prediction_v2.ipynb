{
  "cells": [
    {
      "cell_type": "markdown",
      "metadata": {
        "id": "view-in-github",
        "colab_type": "text"
      },
      "source": [
        "<a href=\"https://colab.research.google.com/github/HaJunYoo/Pyspark-tutorial/blob/main/taxi_fare_prediction_v2.ipynb\" target=\"_parent\"><img src=\"https://colab.research.google.com/assets/colab-badge.svg\" alt=\"Open In Colab\"/></a>"
      ]
    },
    {
      "cell_type": "code",
      "source": [
        "!pip install pyspark==3.3.1 py4j==0.10.9.5 \n",
        "!pip install -q findspark"
      ],
      "metadata": {
        "colab": {
          "base_uri": "https://localhost:8080/"
        },
        "id": "Bt9HW70MTpGY",
        "outputId": "d1e788f0-f93b-44d5-c531-b9a6e17cde43"
      },
      "id": "Bt9HW70MTpGY",
      "execution_count": 1,
      "outputs": [
        {
          "output_type": "stream",
          "name": "stdout",
          "text": [
            "Looking in indexes: https://pypi.org/simple, https://us-python.pkg.dev/colab-wheels/public/simple/\n",
            "Collecting pyspark==3.3.1\n",
            "  Downloading pyspark-3.3.1.tar.gz (281.4 MB)\n",
            "\u001b[2K     \u001b[90m━━━━━━━━━━━━━━━━━━━━━━━━━━━━━━━━━━━━━━━\u001b[0m \u001b[32m281.4/281.4 MB\u001b[0m \u001b[31m3.5 MB/s\u001b[0m eta \u001b[36m0:00:00\u001b[0m\n",
            "\u001b[?25h  Preparing metadata (setup.py) ... \u001b[?25l\u001b[?25hdone\n",
            "Collecting py4j==0.10.9.5\n",
            "  Downloading py4j-0.10.9.5-py2.py3-none-any.whl (199 kB)\n",
            "\u001b[2K     \u001b[90m━━━━━━━━━━━━━━━━━━━━━━━━━━━━━━━━━━━━━━━\u001b[0m \u001b[32m199.7/199.7 KB\u001b[0m \u001b[31m7.4 MB/s\u001b[0m eta \u001b[36m0:00:00\u001b[0m\n",
            "\u001b[?25hBuilding wheels for collected packages: pyspark\n",
            "  Building wheel for pyspark (setup.py) ... \u001b[?25l\u001b[?25hdone\n",
            "  Created wheel for pyspark: filename=pyspark-3.3.1-py2.py3-none-any.whl size=281845512 sha256=520b30170fe382a5b7536bf556a1101820acc858fe81d41202917bb0fff2f2eb\n",
            "  Stored in directory: /root/.cache/pip/wheels/43/dc/11/ec201cd671da62fa9c5cc77078235e40722170ceba231d7598\n",
            "Successfully built pyspark\n",
            "Installing collected packages: py4j, pyspark\n",
            "Successfully installed py4j-0.10.9.5 pyspark-3.3.1\n"
          ]
        }
      ]
    },
    {
      "cell_type": "code",
      "source": [
        "from google.colab import drive\n",
        "drive.mount('/content/drive')"
      ],
      "metadata": {
        "colab": {
          "base_uri": "https://localhost:8080/"
        },
        "id": "YQPVHKwyTq0z",
        "outputId": "7c702501-fd33-4ab1-ee3d-dceff9004a11"
      },
      "id": "YQPVHKwyTq0z",
      "execution_count": 2,
      "outputs": [
        {
          "output_type": "stream",
          "name": "stdout",
          "text": [
            "Mounted at /content/drive\n"
          ]
        }
      ]
    },
    {
      "cell_type": "markdown",
      "source": [
        "### read data"
      ],
      "metadata": {
        "id": "qwN0cOt6W8B1"
      },
      "id": "qwN0cOt6W8B1"
    },
    {
      "cell_type": "code",
      "source": [
        "trip_files = \"/content/drive/MyDrive/Spark/01-spark/data/trips/*\""
      ],
      "metadata": {
        "id": "LfM7Hr_sTsmL"
      },
      "id": "LfM7Hr_sTsmL",
      "execution_count": 8,
      "outputs": []
    },
    {
      "cell_type": "code",
      "execution_count": 4,
      "id": "6c89f375",
      "metadata": {
        "id": "6c89f375"
      },
      "outputs": [],
      "source": [
        "from pyspark.sql import SparkSession"
      ]
    },
    {
      "cell_type": "code",
      "execution_count": 5,
      "id": "14ef5549",
      "metadata": {
        "id": "14ef5549"
      },
      "outputs": [],
      "source": [
        "MAX_MEMORY=\"8g\"\n",
        "spark = SparkSession.builder.appName(\"taxi-fare-prediciton\")\\\n",
        "                .config(\"spark.executor.memory\", MAX_MEMORY)\\\n",
        "                .config(\"spark.driver.memory\", MAX_MEMORY)\\\n",
        "                .getOrCreate()"
      ]
    },
    {
      "cell_type": "code",
      "execution_count": 9,
      "id": "2e0760d9",
      "metadata": {
        "id": "2e0760d9"
      },
      "outputs": [],
      "source": [
        "trips_df = spark.read.csv(trip_files, inferSchema=True, header=True)"
      ]
    },
    {
      "cell_type": "code",
      "execution_count": 10,
      "id": "2e1392e4",
      "metadata": {
        "colab": {
          "base_uri": "https://localhost:8080/"
        },
        "id": "2e1392e4",
        "outputId": "e44f0134-27bc-4d30-c590-25bbfc699ae7"
      },
      "outputs": [
        {
          "output_type": "stream",
          "name": "stdout",
          "text": [
            "root\n",
            " |-- _c0: integer (nullable = true)\n",
            " |-- VendorID: integer (nullable = true)\n",
            " |-- tpep_pickup_datetime: timestamp (nullable = true)\n",
            " |-- tpep_dropoff_datetime: timestamp (nullable = true)\n",
            " |-- passenger_count: double (nullable = true)\n",
            " |-- trip_distance: double (nullable = true)\n",
            " |-- RatecodeID: double (nullable = true)\n",
            " |-- store_and_fwd_flag: string (nullable = true)\n",
            " |-- PULocationID: integer (nullable = true)\n",
            " |-- DOLocationID: integer (nullable = true)\n",
            " |-- payment_type: integer (nullable = true)\n",
            " |-- fare_amount: double (nullable = true)\n",
            " |-- extra: double (nullable = true)\n",
            " |-- mta_tax: double (nullable = true)\n",
            " |-- tip_amount: double (nullable = true)\n",
            " |-- tolls_amount: double (nullable = true)\n",
            " |-- improvement_surcharge: double (nullable = true)\n",
            " |-- total_amount: double (nullable = true)\n",
            " |-- congestion_surcharge: double (nullable = true)\n",
            " |-- airport_fee: double (nullable = true)\n",
            "\n"
          ]
        }
      ],
      "source": [
        "trips_df.printSchema()"
      ]
    },
    {
      "cell_type": "code",
      "execution_count": 11,
      "id": "005be675",
      "metadata": {
        "id": "005be675"
      },
      "outputs": [],
      "source": [
        "trips_df.createOrReplaceTempView(\"trips\")"
      ]
    },
    {
      "cell_type": "code",
      "execution_count": 13,
      "id": "523bb34a",
      "metadata": {
        "id": "523bb34a"
      },
      "outputs": [],
      "source": [
        "# 더 많은 피쳐들을 가지고 와서 prediction 진행\n",
        "# DATE_FORMAT(TO_DATE(tpep_pickup_datetime), 'EEEE') => 날짜를 통해 요일 추출 \n",
        "query = \"\"\"\n",
        "SELECT \n",
        "    passenger_count,\n",
        "    PULocationID as pickup_location_id,\n",
        "    DOLocationID as dropoff_location_id,\n",
        "    trip_distance,\n",
        "    HOUR(tpep_pickup_datetime) as pickup_time,\n",
        "    DATE_FORMAT(TO_DATE(tpep_pickup_datetime), 'EEEE') AS day_of_week,\n",
        "    total_amount\n",
        "FROM\n",
        "    trips\n",
        "WHERE\n",
        "    total_amount < 5000\n",
        "    AND total_amount > 0\n",
        "    AND trip_distance > 0\n",
        "    AND trip_distance < 500\n",
        "    AND passenger_count < 4\n",
        "    AND TO_DATE(tpep_pickup_datetime) >= '2021-01-01'\n",
        "    AND TO_DATE(tpep_pickup_datetime) < '2021-08-01'\n",
        "\"\"\"\n",
        "data_df = spark.sql(query)\n",
        "data_df.createOrReplaceTempView(\"data\")"
      ]
    },
    {
      "cell_type": "code",
      "execution_count": 14,
      "id": "c099756d",
      "metadata": {
        "colab": {
          "base_uri": "https://localhost:8080/"
        },
        "id": "c099756d",
        "outputId": "459d3098-cce0-46db-e64b-56aaa435c186"
      },
      "outputs": [
        {
          "output_type": "stream",
          "name": "stdout",
          "text": [
            "+---------------+------------------+-------------------+-------------+-----------+-----------+------------+\n",
            "|passenger_count|pickup_location_id|dropoff_location_id|trip_distance|pickup_time|day_of_week|total_amount|\n",
            "+---------------+------------------+-------------------+-------------+-----------+-----------+------------+\n",
            "|            1.0|               142|                 43|          2.1|          0|     Friday|        11.8|\n",
            "|            1.0|               238|                151|          0.2|          0|     Friday|         4.3|\n",
            "|            1.0|               132|                165|         14.7|          0|     Friday|       51.95|\n",
            "|            0.0|               138|                132|         10.6|          0|     Friday|       36.35|\n",
            "|            1.0|                68|                 33|         4.94|          0|     Friday|       24.36|\n",
            "|            1.0|               224|                 68|          1.6|          0|     Friday|       14.15|\n",
            "|            1.0|                95|                157|          4.1|          0|     Friday|        17.3|\n",
            "|            1.0|                90|                 40|          5.7|          0|     Friday|        21.8|\n",
            "|            1.0|                97|                129|          9.1|          0|     Friday|        28.8|\n",
            "|            2.0|               263|                142|          2.7|          0|     Friday|       18.95|\n",
            "|            3.0|               164|                255|         6.11|          0|     Friday|        24.3|\n",
            "|            2.0|               255|                 80|         1.21|          0|     Friday|       10.79|\n",
            "|            2.0|               138|                166|          7.4|          0|     Friday|       33.92|\n",
            "|            1.0|               236|                237|         1.01|          0|     Friday|        10.3|\n",
            "|            1.0|               142|                239|         0.73|          0|     Friday|       12.09|\n",
            "|            1.0|               238|                166|         1.17|          0|     Friday|       12.36|\n",
            "|            1.0|               239|                238|         0.78|          0|     Friday|        9.96|\n",
            "|            2.0|               151|                142|         1.66|          0|     Friday|        12.3|\n",
            "|            3.0|               239|                142|         0.93|          0|     Friday|         9.3|\n",
            "|            2.0|               238|                142|         1.16|          0|     Friday|       11.84|\n",
            "+---------------+------------------+-------------------+-------------+-----------+-----------+------------+\n",
            "only showing top 20 rows\n",
            "\n"
          ]
        }
      ],
      "source": [
        "data_df.show()"
      ]
    },
    {
      "cell_type": "code",
      "execution_count": null,
      "id": "2df30f50",
      "metadata": {
        "id": "2df30f50",
        "outputId": "28b5f390-9781-4b3e-8c41-5ef43f361e9e"
      },
      "outputs": [
        {
          "name": "stdout",
          "output_type": "stream",
          "text": [
            "root\n",
            " |-- passenger_count: integer (nullable = true)\n",
            " |-- pickup_location_id: integer (nullable = true)\n",
            " |-- dropoff_location_id: integer (nullable = true)\n",
            " |-- trip_distance: double (nullable = true)\n",
            " |-- pickup_time: integer (nullable = true)\n",
            " |-- day_of_week: string (nullable = true)\n",
            " |-- total_amount: double (nullable = true)\n",
            "\n"
          ]
        }
      ],
      "source": [
        "data_df.printSchema()"
      ]
    },
    {
      "cell_type": "code",
      "execution_count": 15,
      "id": "b604f847",
      "metadata": {
        "id": "b604f847"
      },
      "outputs": [],
      "source": [
        "train_df, test_df = data_df.randomSplit([0.8, 0.2], seed=1)"
      ]
    },
    {
      "cell_type": "code",
      "execution_count": 16,
      "id": "1a308b57",
      "metadata": {
        "id": "1a308b57"
      },
      "outputs": [],
      "source": [
        "data_dir = \"/content/drive/MyDrive/Spark/01-spark/data\""
      ]
    },
    {
      "cell_type": "code",
      "execution_count": 17,
      "id": "c6fa0168",
      "metadata": {
        "id": "c6fa0168"
      },
      "outputs": [],
      "source": [
        "# 조금 더 빠른 로딩을 위해 디렉토리에 저장\n",
        "train_df.write.format(\"parquet\").save(f\"{data_dir}/train/\")\n",
        "test_df.write.format(\"parquet\").save(f\"{data_dir}/test/\")"
      ]
    },
    {
      "cell_type": "code",
      "execution_count": 18,
      "id": "193f3160",
      "metadata": {
        "id": "193f3160"
      },
      "outputs": [],
      "source": [
        "# parquet ==> 압축률이 좋고 disk io가 적은 장점 존재\n",
        "train_df = spark.read.parquet(f\"{data_dir}/train/\")\n",
        "test_df = spark.read.parquet(f\"{data_dir}/test/\")"
      ]
    },
    {
      "cell_type": "code",
      "execution_count": 19,
      "id": "7b1499b7",
      "metadata": {
        "colab": {
          "base_uri": "https://localhost:8080/"
        },
        "id": "7b1499b7",
        "outputId": "736d0a61-4d12-4e5a-8b3e-d027e6bec852"
      },
      "outputs": [
        {
          "output_type": "stream",
          "name": "stdout",
          "text": [
            "root\n",
            " |-- passenger_count: double (nullable = true)\n",
            " |-- pickup_location_id: integer (nullable = true)\n",
            " |-- dropoff_location_id: integer (nullable = true)\n",
            " |-- trip_distance: double (nullable = true)\n",
            " |-- pickup_time: integer (nullable = true)\n",
            " |-- day_of_week: string (nullable = true)\n",
            " |-- total_amount: double (nullable = true)\n",
            "\n"
          ]
        }
      ],
      "source": [
        "train_df.printSchema()"
      ]
    },
    {
      "cell_type": "markdown",
      "source": [
        "### preprocessing"
      ],
      "metadata": {
        "id": "UKnvxILNW4zH"
      },
      "id": "UKnvxILNW4zH"
    },
    {
      "cell_type": "markdown",
      "source": [
        "- Stage 구성\n",
        "  - OneHotEncoder, StringIndexer\n",
        "  - VectorAssembler, StandardScaler\n",
        "  - Assembler : one hot과 numerical scaled 피쳐를 합침 -> VectorAssembler 사용"
      ],
      "metadata": {
        "id": "olNAKOdPd7Z1"
      },
      "id": "olNAKOdPd7Z1"
    },
    {
      "cell_type": "code",
      "execution_count": 31,
      "id": "b197ea72",
      "metadata": {
        "id": "b197ea72"
      },
      "outputs": [],
      "source": [
        "## categorical data preprocessing\n",
        "\n",
        "from pyspark.ml.feature import OneHotEncoder, StringIndexer\n",
        "\n",
        "cat_feats = [\n",
        "    \"pickup_location_id\",\n",
        "    \"dropoff_location_id\",\n",
        "    \"day_of_week\"\n",
        "]\n",
        "\n",
        "stages = []\n",
        "\n",
        "# string indexer -> onehot encoder\n",
        "for c in cat_feats:\n",
        "    cat_indexer = StringIndexer(inputCol=c, outputCol= c + \"_idx\").setHandleInvalid(\"keep\")\n",
        "    onehot_encoder = OneHotEncoder(inputCols=[cat_indexer.getOutputCol()], outputCols=[c + \"_onehot\"])\n",
        "    stages += [cat_indexer, onehot_encoder]"
      ]
    },
    {
      "cell_type": "code",
      "source": [
        "stages"
      ],
      "metadata": {
        "colab": {
          "base_uri": "https://localhost:8080/"
        },
        "id": "nf6vor4FZ6ij",
        "outputId": "e88be559-9411-4cdf-f9f8-83638b2ffa14"
      },
      "id": "nf6vor4FZ6ij",
      "execution_count": 32,
      "outputs": [
        {
          "output_type": "execute_result",
          "data": {
            "text/plain": [
              "[StringIndexer_22646e6da988,\n",
              " OneHotEncoder_4a7a8bc23483,\n",
              " StringIndexer_bdb08158c9df,\n",
              " OneHotEncoder_d29098fb986c,\n",
              " StringIndexer_aeb6af8e8146,\n",
              " OneHotEncoder_eafb8ce21829]"
            ]
          },
          "metadata": {},
          "execution_count": 32
        }
      ]
    },
    {
      "cell_type": "code",
      "execution_count": 33,
      "id": "b3d1a552",
      "metadata": {
        "id": "b3d1a552"
      },
      "outputs": [],
      "source": [
        "from pyspark.ml.feature import VectorAssembler, StandardScaler\n",
        "\n",
        "num_feats = [\n",
        "    \"passenger_count\",\n",
        "    \"trip_distance\",\n",
        "    \"pickup_time\"\n",
        "]\n",
        "\n",
        "# vectorAssembler -> Standardscaler\n",
        "for n in num_feats:\n",
        "    num_assembler = VectorAssembler(inputCols=[n], outputCol= n + \"_vector\")\n",
        "    num_scaler = StandardScaler(inputCol=num_assembler.getOutputCol(), outputCol= n + \"_scaled\")\n",
        "    stages += [num_assembler, num_scaler]"
      ]
    },
    {
      "cell_type": "code",
      "execution_count": 34,
      "id": "6c9e35cd",
      "metadata": {
        "id": "6c9e35cd"
      },
      "outputs": [],
      "source": [
        "# one hot과 numerical scaled 피쳐를 합침 -> VectorAssembler 사용 -> 피쳐 생성\n",
        "assembler_inputs = [c + \"_onehot\" for c in cat_feats] + [n + \"_scaled\" for n in num_feats]\n",
        "assembler = VectorAssembler(inputCols=assembler_inputs, outputCol=\"feature_vector\")\n",
        "stages += [assembler]"
      ]
    },
    {
      "cell_type": "code",
      "execution_count": 35,
      "id": "39b44e01",
      "metadata": {
        "id": "39b44e01"
      },
      "outputs": [],
      "source": [
        "from pyspark.ml import Pipeline\n",
        "\n",
        "transform_stages = stages\n",
        "pipeline = Pipeline(stages=transform_stages)\n",
        "fitted_transformer = pipeline.fit(train_df)"
      ]
    },
    {
      "cell_type": "code",
      "execution_count": 36,
      "id": "5d965a6d",
      "metadata": {
        "id": "5d965a6d"
      },
      "outputs": [],
      "source": [
        "vtrain_df = fitted_transformer.transform(train_df)"
      ]
    },
    {
      "cell_type": "code",
      "execution_count": 37,
      "id": "450a8e37",
      "metadata": {
        "id": "450a8e37"
      },
      "outputs": [],
      "source": [
        "from pyspark.ml.regression import LinearRegression\n",
        "\n",
        "lr = LinearRegression(\n",
        "    maxIter=50,\n",
        "    solver=\"normal\",\n",
        "    labelCol=\"total_amount\",\n",
        "    featuresCol=\"feature_vector\"\n",
        ")"
      ]
    },
    {
      "cell_type": "code",
      "execution_count": 38,
      "id": "4265a9b3",
      "metadata": {
        "colab": {
          "base_uri": "https://localhost:8080/"
        },
        "id": "4265a9b3",
        "outputId": "50b5b8c2-fb88-483b-d6de-fa2b0e27657e"
      },
      "outputs": [
        {
          "output_type": "stream",
          "name": "stdout",
          "text": [
            "root\n",
            " |-- passenger_count: double (nullable = true)\n",
            " |-- pickup_location_id: integer (nullable = true)\n",
            " |-- dropoff_location_id: integer (nullable = true)\n",
            " |-- trip_distance: double (nullable = true)\n",
            " |-- pickup_time: integer (nullable = true)\n",
            " |-- day_of_week: string (nullable = true)\n",
            " |-- total_amount: double (nullable = true)\n",
            " |-- pickup_location_id_idx: double (nullable = false)\n",
            " |-- pickup_location_id_onehot: vector (nullable = true)\n",
            " |-- dropoff_location_id_idx: double (nullable = false)\n",
            " |-- dropoff_location_id_onehot: vector (nullable = true)\n",
            " |-- day_of_week_idx: double (nullable = false)\n",
            " |-- day_of_week_onehot: vector (nullable = true)\n",
            " |-- passenger_count_vector: vector (nullable = true)\n",
            " |-- passenger_count_scaled: vector (nullable = true)\n",
            " |-- trip_distance_vector: vector (nullable = true)\n",
            " |-- trip_distance_scaled: vector (nullable = true)\n",
            " |-- pickup_time_vector: vector (nullable = true)\n",
            " |-- pickup_time_scaled: vector (nullable = true)\n",
            " |-- feature_vector: vector (nullable = true)\n",
            "\n"
          ]
        }
      ],
      "source": [
        "vtrain_df.printSchema()"
      ]
    },
    {
      "cell_type": "code",
      "execution_count": 39,
      "id": "f2d00f60",
      "metadata": {
        "id": "f2d00f60"
      },
      "outputs": [],
      "source": [
        "model = lr.fit(vtrain_df)"
      ]
    },
    {
      "cell_type": "code",
      "execution_count": 40,
      "id": "9a95e8c3",
      "metadata": {
        "id": "9a95e8c3"
      },
      "outputs": [],
      "source": [
        "vtest_df = fitted_transformer.transform(test_df)"
      ]
    },
    {
      "cell_type": "code",
      "execution_count": 41,
      "id": "05b3df31",
      "metadata": {
        "id": "05b3df31"
      },
      "outputs": [],
      "source": [
        "predictions = model.transform(vtest_df)"
      ]
    },
    {
      "cell_type": "code",
      "execution_count": 42,
      "id": "61d0d5df",
      "metadata": {
        "colab": {
          "base_uri": "https://localhost:8080/"
        },
        "id": "61d0d5df",
        "outputId": "95a04f3d-df35-4156-f8bc-40d4adccacfb"
      },
      "outputs": [
        {
          "output_type": "execute_result",
          "data": {
            "text/plain": [
              "DataFrame[passenger_count: double, pickup_location_id: int, dropoff_location_id: int, trip_distance: double, pickup_time: int, day_of_week: string, total_amount: double, pickup_location_id_idx: double, pickup_location_id_onehot: vector, dropoff_location_id_idx: double, dropoff_location_id_onehot: vector, day_of_week_idx: double, day_of_week_onehot: vector, passenger_count_vector: vector, passenger_count_scaled: vector, trip_distance_vector: vector, trip_distance_scaled: vector, pickup_time_vector: vector, pickup_time_scaled: vector, feature_vector: vector, prediction: double]"
            ]
          },
          "metadata": {},
          "execution_count": 42
        }
      ],
      "source": [
        "predictions.cache()"
      ]
    },
    {
      "cell_type": "code",
      "execution_count": 43,
      "id": "2a7f4514",
      "metadata": {
        "colab": {
          "base_uri": "https://localhost:8080/"
        },
        "id": "2a7f4514",
        "outputId": "26b7f4c8-5bba-44b3-dbe8-2739f944f0ce"
      },
      "outputs": [
        {
          "output_type": "stream",
          "name": "stdout",
          "text": [
            "+-------------+-----------+------------+------------------+\n",
            "|trip_distance|day_of_week|total_amount|        prediction|\n",
            "+-------------+-----------+------------+------------------+\n",
            "|          0.7|   Saturday|       12.35|12.505664801918698|\n",
            "|          3.1|    Tuesday|        18.0|17.818332946356612|\n",
            "|          2.1|   Saturday|       15.35|16.768456645488012|\n",
            "|          1.7|   Saturday|        13.3|14.315974459478376|\n",
            "|          4.1|     Friday|        21.3|20.954315116906884|\n",
            "|          1.4|     Friday|         8.3|12.025221364848148|\n",
            "|          7.3|    Tuesday|        29.3|28.044553383935828|\n",
            "|          0.7|  Wednesday|         5.8| 9.704306924150398|\n",
            "|          5.0|  Wednesday|        24.3| 21.17150117069628|\n",
            "|          6.7|   Saturday|        29.8|37.502803118269156|\n",
            "|         16.8|     Friday|       82.37| 71.32483145001771|\n",
            "|         29.3|     Monday|        80.8|103.55970558581402|\n",
            "|          4.1|     Friday|        20.8|22.258510945068004|\n",
            "|          0.1|  Wednesday|        55.3|12.541763095836467|\n",
            "|          0.7|  Wednesday|        10.3|14.534664107774717|\n",
            "|          3.7|  Wednesday|        17.8|22.504536568378043|\n",
            "|          2.4|    Tuesday|        14.8|17.309858692144832|\n",
            "|          4.5|     Friday|       26.35| 22.83727529156843|\n",
            "|          3.4|  Wednesday|       21.95|19.358702299760473|\n",
            "|          4.0|   Thursday|        20.8|21.332890662064877|\n",
            "+-------------+-----------+------------+------------------+\n",
            "only showing top 20 rows\n",
            "\n"
          ]
        }
      ],
      "source": [
        "predictions.select([\"trip_distance\", \"day_of_week\", \"total_amount\", \"prediction\"]).show()"
      ]
    },
    {
      "cell_type": "code",
      "execution_count": 44,
      "id": "02f653ec",
      "metadata": {
        "colab": {
          "base_uri": "https://localhost:8080/"
        },
        "id": "02f653ec",
        "outputId": "2b1b826f-ddda-4a50-e083-27b058252f2a"
      },
      "outputs": [
        {
          "output_type": "execute_result",
          "data": {
            "text/plain": [
              "5.848484065033885"
            ]
          },
          "metadata": {},
          "execution_count": 44
        }
      ],
      "source": [
        "model.summary.rootMeanSquaredError"
      ]
    },
    {
      "cell_type": "code",
      "execution_count": 45,
      "id": "02803459",
      "metadata": {
        "colab": {
          "base_uri": "https://localhost:8080/"
        },
        "id": "02803459",
        "outputId": "ed7a505b-e307-4230-af6a-02634ee4bf30"
      },
      "outputs": [
        {
          "output_type": "execute_result",
          "data": {
            "text/plain": [
              "0.7969874815768958"
            ]
          },
          "metadata": {},
          "execution_count": 45
        }
      ],
      "source": [
        "model.summary.r2"
      ]
    },
    {
      "cell_type": "code",
      "execution_count": null,
      "id": "cb6b3fb3",
      "metadata": {
        "id": "cb6b3fb3"
      },
      "outputs": [],
      "source": []
    }
  ],
  "metadata": {
    "kernelspec": {
      "display_name": "Python 3",
      "language": "python",
      "name": "python3"
    },
    "language_info": {
      "codemirror_mode": {
        "name": "ipython",
        "version": 3
      },
      "file_extension": ".py",
      "mimetype": "text/x-python",
      "name": "python",
      "nbconvert_exporter": "python",
      "pygments_lexer": "ipython3",
      "version": "3.8.8"
    },
    "colab": {
      "provenance": [],
      "toc_visible": true,
      "include_colab_link": true
    }
  },
  "nbformat": 4,
  "nbformat_minor": 5
}