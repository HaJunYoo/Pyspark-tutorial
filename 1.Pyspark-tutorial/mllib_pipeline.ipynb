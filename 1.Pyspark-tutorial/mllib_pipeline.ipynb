{
  "cells": [
    {
      "cell_type": "markdown",
      "metadata": {
        "id": "view-in-github",
        "colab_type": "text"
      },
      "source": [
        "<a href=\"https://colab.research.google.com/github/HaJunYoo/Pyspark-tutorial/blob/main/mllib_pipeline.ipynb\" target=\"_parent\"><img src=\"https://colab.research.google.com/assets/colab-badge.svg\" alt=\"Open In Colab\"/></a>"
      ]
    },
    {
      "cell_type": "code",
      "source": [
        "!pip install pyspark==3.3.1 py4j==0.10.9.5 \n",
        "!pip install -q findspark\n",
        "\n",
        "import findspark\n",
        "findspark.init()\n",
        "\n",
        "from pyspark.sql import SparkSession\n",
        "from pyspark import SparkConf\n",
        "\n",
        "conf = SparkConf()\n",
        "conf.set(\"spark.app.name\", \"logistic-regression\")\n",
        "conf.set(\"spark.master\", \"local[*]\")\n",
        "\n",
        "# Singleton pattern\n",
        "spark = SparkSession.builder\\\n",
        "        .config(conf=conf)\\\n",
        "        .getOrCreate()"
      ],
      "metadata": {
        "colab": {
          "base_uri": "https://localhost:8080/"
        },
        "id": "GR2g04laJ4cc",
        "outputId": "3fac7a1e-1111-42c8-a825-d42388aa67ce"
      },
      "id": "GR2g04laJ4cc",
      "execution_count": 1,
      "outputs": [
        {
          "output_type": "stream",
          "name": "stdout",
          "text": [
            "Looking in indexes: https://pypi.org/simple, https://us-python.pkg.dev/colab-wheels/public/simple/\n",
            "Collecting pyspark==3.3.1\n",
            "  Downloading pyspark-3.3.1.tar.gz (281.4 MB)\n",
            "\u001b[2K     \u001b[90m━━━━━━━━━━━━━━━━━━━━━━━━━━━━━━━━━━━━━━━\u001b[0m \u001b[32m281.4/281.4 MB\u001b[0m \u001b[31m5.5 MB/s\u001b[0m eta \u001b[36m0:00:00\u001b[0m\n",
            "\u001b[?25h  Preparing metadata (setup.py) ... \u001b[?25l\u001b[?25hdone\n",
            "Collecting py4j==0.10.9.5\n",
            "  Downloading py4j-0.10.9.5-py2.py3-none-any.whl (199 kB)\n",
            "\u001b[2K     \u001b[90m━━━━━━━━━━━━━━━━━━━━━━━━━━━━━━━━━━━━━━\u001b[0m \u001b[32m199.7/199.7 KB\u001b[0m \u001b[31m21.0 MB/s\u001b[0m eta \u001b[36m0:00:00\u001b[0m\n",
            "\u001b[?25hBuilding wheels for collected packages: pyspark\n",
            "  Building wheel for pyspark (setup.py) ... \u001b[?25l\u001b[?25hdone\n",
            "  Created wheel for pyspark: filename=pyspark-3.3.1-py2.py3-none-any.whl size=281845512 sha256=bf7c25c8070f1d8ddb7c2df0b24321605dc60cecfecaf3d28869889e45165548\n",
            "  Stored in directory: /root/.cache/pip/wheels/43/dc/11/ec201cd671da62fa9c5cc77078235e40722170ceba231d7598\n",
            "Successfully built pyspark\n",
            "Installing collected packages: py4j, pyspark\n",
            "Successfully installed py4j-0.10.9.5 pyspark-3.3.1\n"
          ]
        }
      ]
    },
    {
      "cell_type": "markdown",
      "source": [
        "- 파이프라인은 데이터의 여러 가지 처리 단계를 거칠 때 유용하다\n",
        "- 예) nlp의 토큰나이제이션 -> 모델링"
      ],
      "metadata": {
        "id": "dOh9f7mOJ_ux"
      },
      "id": "dOh9f7mOJ_ux"
    },
    {
      "cell_type": "code",
      "execution_count": 3,
      "id": "11db5275",
      "metadata": {
        "id": "11db5275"
      },
      "outputs": [],
      "source": [
        "from pyspark.ml import Pipeline\n",
        "from pyspark.ml.linalg import Vectors\n",
        "from pyspark.ml.classification import LogisticRegression\n",
        "from pyspark.ml.feature import HashingTF, Tokenizer # termfrequency, tokenizer"
      ]
    },
    {
      "cell_type": "code",
      "execution_count": 4,
      "id": "e9c2b3b0",
      "metadata": {
        "id": "e9c2b3b0"
      },
      "outputs": [],
      "source": [
        "training = spark.createDataFrame([\n",
        "    (0, \"a b c d e spark\", 1.0),\n",
        "    (1, \"b d\", 0.0),\n",
        "    (2, \"spark f g h\", 1.0),\n",
        "    (3, \"hadoop mapreduce\", 0.0)\n",
        "], [\"id\", \"text\", \"label\"])"
      ]
    },
    {
      "cell_type": "code",
      "execution_count": 6,
      "id": "4974718e",
      "metadata": {
        "id": "4974718e"
      },
      "outputs": [],
      "source": [
        "# tokenizer 설정\n",
        "tokenizer = Tokenizer(inputCol=\"text\", outputCol=\"words\")\n",
        "# tokenizer에서 토큰화된 vocab의 term frequency 생성\n",
        "hashingTF = HashingTF(inputCol=tokenizer.getOutputCol(), outputCol=\"features\")"
      ]
    },
    {
      "cell_type": "code",
      "execution_count": 7,
      "id": "8138b510",
      "metadata": {
        "id": "8138b510"
      },
      "outputs": [],
      "source": [
        "lr = LogisticRegression(maxIter=30, regParam=0.001)"
      ]
    },
    {
      "cell_type": "code",
      "execution_count": 8,
      "id": "754acbac",
      "metadata": {
        "id": "754acbac"
      },
      "outputs": [],
      "source": [
        "# 파이프라인 단계를 설정\n",
        "pipeline = Pipeline(stages=[tokenizer, hashingTF, lr])"
      ]
    },
    {
      "cell_type": "code",
      "execution_count": 9,
      "id": "e3f76433",
      "metadata": {
        "id": "e3f76433"
      },
      "outputs": [],
      "source": [
        "model = pipeline.fit(training)"
      ]
    },
    {
      "cell_type": "code",
      "execution_count": 10,
      "id": "58495151",
      "metadata": {
        "id": "58495151"
      },
      "outputs": [],
      "source": [
        "test = spark.createDataFrame([\n",
        "    (4, \"spark i j k\"),\n",
        "    (5, \"l m n\"),\n",
        "    (6, \"spark hadoop spark\"),\n",
        "    (7, \"apache hadoop\")\n",
        "], [\"id\", \"text\"])"
      ]
    },
    {
      "cell_type": "code",
      "execution_count": 11,
      "id": "91658da4",
      "metadata": {
        "id": "91658da4"
      },
      "outputs": [],
      "source": [
        "prediction = model.transform(test)"
      ]
    },
    {
      "cell_type": "code",
      "execution_count": 12,
      "id": "aa6756da",
      "metadata": {
        "colab": {
          "base_uri": "https://localhost:8080/"
        },
        "id": "aa6756da",
        "outputId": "61724252-3fd1-4b09-a9b9-937e2ef391f7"
      },
      "outputs": [
        {
          "output_type": "stream",
          "name": "stdout",
          "text": [
            "+---+------------------+--------------------+----------+\n",
            "| id|              text|         probability|prediction|\n",
            "+---+------------------+--------------------+----------+\n",
            "|  4|       spark i j k|[0.63102699631690...|       0.0|\n",
            "|  5|             l m n|[0.98489377609773...|       0.0|\n",
            "|  6|spark hadoop spark|[0.13563147748817...|       1.0|\n",
            "|  7|     apache hadoop|[0.99563405823116...|       0.0|\n",
            "+---+------------------+--------------------+----------+\n",
            "\n"
          ]
        }
      ],
      "source": [
        "prediction.select([\"id\", \"text\", \"probability\", \"prediction\"]).show()"
      ]
    },
    {
      "cell_type": "code",
      "execution_count": null,
      "id": "7fc6d951",
      "metadata": {
        "id": "7fc6d951"
      },
      "outputs": [],
      "source": []
    }
  ],
  "metadata": {
    "kernelspec": {
      "display_name": "Python 3",
      "language": "python",
      "name": "python3"
    },
    "language_info": {
      "codemirror_mode": {
        "name": "ipython",
        "version": 3
      },
      "file_extension": ".py",
      "mimetype": "text/x-python",
      "name": "python",
      "nbconvert_exporter": "python",
      "pygments_lexer": "ipython3",
      "version": "3.8.8"
    },
    "colab": {
      "provenance": [],
      "include_colab_link": true
    }
  },
  "nbformat": 4,
  "nbformat_minor": 5
}