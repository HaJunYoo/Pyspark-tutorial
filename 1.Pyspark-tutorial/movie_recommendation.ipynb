{
  "cells": [
    {
      "cell_type": "markdown",
      "metadata": {
        "id": "view-in-github",
        "colab_type": "text"
      },
      "source": [
        "<a href=\"https://colab.research.google.com/github/HaJunYoo/Pyspark-tutorial/blob/main/movie_recommendation.ipynb\" target=\"_parent\"><img src=\"https://colab.research.google.com/assets/colab-badge.svg\" alt=\"Open In Colab\"/></a>"
      ]
    },
    {
      "cell_type": "markdown",
      "metadata": {
        "id": "_2KzCW2iQ0hF"
      },
      "source": [
        "### module install"
      ],
      "id": "_2KzCW2iQ0hF"
    },
    {
      "cell_type": "code",
      "execution_count": 8,
      "metadata": {
        "colab": {
          "base_uri": "https://localhost:8080/"
        },
        "id": "_bXqx4YfNvHq",
        "outputId": "7b32e6b2-60fc-4b9c-e644-a6cc869ad9be"
      },
      "outputs": [
        {
          "output_type": "stream",
          "name": "stdout",
          "text": [
            "Looking in indexes: https://pypi.org/simple, https://us-python.pkg.dev/colab-wheels/public/simple/\n",
            "Requirement already satisfied: pyspark==3.3.1 in /usr/local/lib/python3.8/dist-packages (3.3.1)\n",
            "Requirement already satisfied: py4j==0.10.9.5 in /usr/local/lib/python3.8/dist-packages (0.10.9.5)\n"
          ]
        }
      ],
      "source": [
        "!pip install pyspark==3.3.1 py4j==0.10.9.5 \n",
        "!pip install -q findspark\n",
        "\n",
        "import findspark\n",
        "findspark.init()"
      ],
      "id": "_bXqx4YfNvHq"
    },
    {
      "cell_type": "code",
      "execution_count": 10,
      "metadata": {
        "id": "hQ5tnhD1Ne69"
      },
      "outputs": [],
      "source": [
        "from pyspark.sql import SparkSession\n",
        "from pyspark import SparkConf\n",
        "\n",
        "MAX_MEMORY = \"6g\"\n",
        "\n",
        "conf = SparkConf()\n",
        "conf.set(\"spark.app.name\", \"movie-recommendation\")\n",
        "conf.set(\"spark.master\", \"local[*]\")\n",
        "conf.set(\"spark.executor.memory\", MAX_MEMORY)\n",
        "conf.set(\"spark.driver.memory\", MAX_MEMORY)\n",
        "\n",
        "# Singleton pattern\n",
        "spark = SparkSession.builder\\\n",
        "        .config(conf=conf)\\\n",
        "        .getOrCreate()"
      ],
      "id": "hQ5tnhD1Ne69"
    },
    {
      "cell_type": "markdown",
      "metadata": {
        "id": "cEAeYdGzQxan"
      },
      "source": [
        "### movie lens data get"
      ],
      "id": "cEAeYdGzQxan"
    },
    {
      "cell_type": "code",
      "execution_count": 11,
      "metadata": {
        "colab": {
          "base_uri": "https://localhost:8080/"
        },
        "id": "wAehE94ZOE6Y",
        "outputId": "bd7e2993-40cf-46e2-bae8-fd8896862902"
      },
      "outputs": [
        {
          "output_type": "stream",
          "name": "stdout",
          "text": [
            "--2023-03-01 15:38:13--  https://files.grouplens.org/datasets/movielens/ml-25m.zip\n",
            "Resolving files.grouplens.org (files.grouplens.org)... 128.101.65.152\n",
            "Connecting to files.grouplens.org (files.grouplens.org)|128.101.65.152|:443... connected.\n",
            "HTTP request sent, awaiting response... 200 OK\n",
            "Length: 261978986 (250M) [application/zip]\n",
            "Saving to: ‘ml-25m.zip.1’\n",
            "\n",
            "ml-25m.zip.1        100%[===================>] 249.84M  29.2MB/s    in 9.3s    \n",
            "\n",
            "2023-03-01 15:38:23 (26.8 MB/s) - ‘ml-25m.zip.1’ saved [261978986/261978986]\n",
            "\n"
          ]
        }
      ],
      "source": [
        "#importing the movie lens dataset directly to colab\n",
        "!wget --no-check-certificate https://files.grouplens.org/datasets/movielens/ml-25m.zip"
      ],
      "id": "wAehE94ZOE6Y"
    },
    {
      "cell_type": "code",
      "execution_count": 12,
      "metadata": {
        "colab": {
          "base_uri": "https://localhost:8080/"
        },
        "id": "lbJQBGvGOWWy",
        "outputId": "489e0e24-5b76-404a-c584-1911d13a32e8"
      },
      "outputs": [
        {
          "output_type": "stream",
          "name": "stdout",
          "text": [
            "total 511692\n",
            "drwxrwxr-x 2 root root      4096 Nov 21  2019 \u001b[0m\u001b[01;34mml-25m\u001b[0m/\n",
            "-rw-r--r-- 1 root root 261978986 Dec  3  2019 ml-25m.zip.1\n",
            "-rw-r--r-- 1 root root 261978986 Dec  3  2019 ml-25m.zip\n",
            "drwxr-xr-x 1 root root      4096 Feb 27 14:36 \u001b[01;34msample_data\u001b[0m/\n"
          ]
        }
      ],
      "source": [
        "ls -ltr"
      ],
      "id": "lbJQBGvGOWWy"
    },
    {
      "cell_type": "code",
      "execution_count": 13,
      "metadata": {
        "colab": {
          "base_uri": "https://localhost:8080/"
        },
        "id": "y6iStSbrOtIw",
        "outputId": "b062c138-3ff3-439a-fb3b-ec1109c46f45"
      },
      "outputs": [
        {
          "output_type": "stream",
          "name": "stdout",
          "text": [
            "Reading package lists... Done\n",
            "Building dependency tree       \n",
            "Reading state information... Done\n",
            "unzip is already the newest version (6.0-25ubuntu1.1).\n",
            "0 upgraded, 0 newly installed, 0 to remove and 19 not upgraded.\n"
          ]
        }
      ],
      "source": [
        "!apt-get install unzip"
      ],
      "id": "y6iStSbrOtIw"
    },
    {
      "cell_type": "code",
      "execution_count": 14,
      "metadata": {
        "colab": {
          "base_uri": "https://localhost:8080/"
        },
        "id": "FPaLnc3JOxB1",
        "outputId": "ee20f808-7eb4-4199-d93c-879d2457435a"
      },
      "outputs": [
        {
          "output_type": "stream",
          "name": "stdout",
          "text": [
            "Archive:  ml-25m.zip\n",
            "replace ml-25m/tags.csv? [y]es, [n]o, [A]ll, [N]one, [r]ename: y\n",
            "  inflating: ml-25m/tags.csv         \n",
            "replace ml-25m/links.csv? [y]es, [n]o, [A]ll, [N]one, [r]ename: y\n",
            "  inflating: ml-25m/links.csv        \n",
            "replace ml-25m/README.txt? [y]es, [n]o, [A]ll, [N]one, [r]ename: y\n",
            "  inflating: ml-25m/README.txt       \n",
            "replace ml-25m/ratings.csv? [y]es, [n]o, [A]ll, [N]one, [r]ename: y\n",
            "  inflating: ml-25m/ratings.csv      y\n",
            "y\n",
            "\n",
            "replace ml-25m/genome-tags.csv? [y]es, [n]o, [A]ll, [N]one, [r]ename:   inflating: ml-25m/genome-tags.csv  \n",
            "replace ml-25m/genome-scores.csv? [y]es, [n]o, [A]ll, [N]one, [r]ename:   inflating: ml-25m/genome-scores.csv  \n",
            "replace ml-25m/movies.csv? [y]es, [n]o, [A]ll, [N]one, [r]ename: y\n",
            "  inflating: ml-25m/movies.csv       \n"
          ]
        }
      ],
      "source": [
        "!unzip ml-25m.zip"
      ],
      "id": "FPaLnc3JOxB1"
    },
    {
      "cell_type": "code",
      "execution_count": 15,
      "metadata": {
        "colab": {
          "base_uri": "https://localhost:8080/"
        },
        "id": "TCew-da2O4g4",
        "outputId": "a6b6feb7-dff3-4311-de69-278f61b926f7"
      },
      "outputs": [
        {
          "output_type": "stream",
          "name": "stdout",
          "text": [
            "total 511692\n",
            "-rw-r--r-- 1 root root 261978986 Dec  3  2019 ml-25m.zip.1\n",
            "-rw-r--r-- 1 root root 261978986 Dec  3  2019 ml-25m.zip\n",
            "drwxr-xr-x 1 root root      4096 Feb 27 14:36 sample_data\n",
            "drwxrwxr-x 2 root root      4096 Mar  1 15:39 ml-25m\n"
          ]
        }
      ],
      "source": [
        "!ls -ltr"
      ],
      "id": "TCew-da2O4g4"
    },
    {
      "cell_type": "markdown",
      "metadata": {
        "id": "g_oeJ_bNQ6S9"
      },
      "source": [
        "### Start"
      ],
      "id": "g_oeJ_bNQ6S9"
    },
    {
      "cell_type": "code",
      "source": [
        "cd ml-25m"
      ],
      "metadata": {
        "colab": {
          "base_uri": "https://localhost:8080/"
        },
        "id": "sEPHaBPs0Bul",
        "outputId": "832d59d2-20f1-4d30-a379-5a5a503d27c4"
      },
      "id": "sEPHaBPs0Bul",
      "execution_count": 16,
      "outputs": [
        {
          "output_type": "stream",
          "name": "stdout",
          "text": [
            "/content/ml-25m\n"
          ]
        }
      ]
    },
    {
      "cell_type": "code",
      "source": [
        "pwd"
      ],
      "metadata": {
        "colab": {
          "base_uri": "https://localhost:8080/",
          "height": 36
        },
        "id": "kDh3oplJ0OxZ",
        "outputId": "944ae565-4a32-4107-9f22-eaa930a07267"
      },
      "id": "kDh3oplJ0OxZ",
      "execution_count": 17,
      "outputs": [
        {
          "output_type": "execute_result",
          "data": {
            "text/plain": [
              "'/content/ml-25m'"
            ],
            "application/vnd.google.colaboratory.intrinsic+json": {
              "type": "string"
            }
          },
          "metadata": {},
          "execution_count": 17
        }
      ]
    },
    {
      "cell_type": "code",
      "source": [
        "!ls -ltr"
      ],
      "metadata": {
        "colab": {
          "base_uri": "https://localhost:8080/"
        },
        "id": "240yGUfv0RRj",
        "outputId": "803b5230-7129-4583-e49f-3cf8ba836d2d"
      },
      "id": "240yGUfv0RRj",
      "execution_count": 18,
      "outputs": [
        {
          "output_type": "stream",
          "name": "stdout",
          "text": [
            "total 1129584\n",
            "-rw-rw-r-- 1 root root  38810332 Nov 21  2019 tags.csv\n",
            "-rw-rw-r-- 1 root root 678260987 Nov 21  2019 ratings.csv\n",
            "-rw-rw-r-- 1 root root   3038099 Nov 21  2019 movies.csv\n",
            "-rw-rw-r-- 1 root root     18103 Nov 21  2019 genome-tags.csv\n",
            "-rw-rw-r-- 1 root root 435164157 Nov 21  2019 genome-scores.csv\n",
            "-rw-rw-r-- 1 root root   1368578 Nov 21  2019 links.csv\n",
            "-rw-rw-r-- 1 root root     10460 Nov 21  2019 README.txt\n"
          ]
        }
      ]
    },
    {
      "cell_type": "code",
      "execution_count": 19,
      "metadata": {
        "id": "a6f15ffe"
      },
      "outputs": [],
      "source": [
        "from pyspark.sql import SparkSession"
      ],
      "id": "a6f15ffe"
    },
    {
      "cell_type": "code",
      "execution_count": 22,
      "metadata": {
        "id": "e5891199"
      },
      "outputs": [],
      "source": [
        "ratings_file = \"/content/ml-25m/ratings.csv\"\n",
        "ratings_df = spark.read.csv(ratings_file, inferSchema=True, header=True)"
      ],
      "id": "e5891199"
    },
    {
      "cell_type": "code",
      "execution_count": 23,
      "metadata": {
        "colab": {
          "base_uri": "https://localhost:8080/"
        },
        "id": "49bb909b",
        "outputId": "52768fa0-7dd7-4570-9c76-f5cc5e3072fc"
      },
      "outputs": [
        {
          "output_type": "stream",
          "name": "stdout",
          "text": [
            "+------+-------+------+----------+\n",
            "|userId|movieId|rating| timestamp|\n",
            "+------+-------+------+----------+\n",
            "|     1|    296|   5.0|1147880044|\n",
            "|     1|    306|   3.5|1147868817|\n",
            "|     1|    307|   5.0|1147868828|\n",
            "|     1|    665|   5.0|1147878820|\n",
            "|     1|    899|   3.5|1147868510|\n",
            "|     1|   1088|   4.0|1147868495|\n",
            "|     1|   1175|   3.5|1147868826|\n",
            "|     1|   1217|   3.5|1147878326|\n",
            "|     1|   1237|   5.0|1147868839|\n",
            "|     1|   1250|   4.0|1147868414|\n",
            "|     1|   1260|   3.5|1147877857|\n",
            "|     1|   1653|   4.0|1147868097|\n",
            "|     1|   2011|   2.5|1147868079|\n",
            "|     1|   2012|   2.5|1147868068|\n",
            "|     1|   2068|   2.5|1147869044|\n",
            "|     1|   2161|   3.5|1147868609|\n",
            "|     1|   2351|   4.5|1147877957|\n",
            "|     1|   2573|   4.0|1147878923|\n",
            "|     1|   2632|   5.0|1147878248|\n",
            "|     1|   2692|   5.0|1147869100|\n",
            "+------+-------+------+----------+\n",
            "only showing top 20 rows\n",
            "\n"
          ]
        }
      ],
      "source": [
        "ratings_df.show()"
      ],
      "id": "49bb909b"
    },
    {
      "cell_type": "code",
      "execution_count": 24,
      "metadata": {
        "id": "d905aec3"
      },
      "outputs": [],
      "source": [
        "# slicing\n",
        "ratings_df = ratings_df.select([\"userId\", \"movieId\", \"rating\"])"
      ],
      "id": "d905aec3"
    },
    {
      "cell_type": "code",
      "execution_count": 25,
      "metadata": {
        "colab": {
          "base_uri": "https://localhost:8080/"
        },
        "id": "13568d5a",
        "outputId": "c44ec640-f10c-44fd-bd23-3932251a4a8a"
      },
      "outputs": [
        {
          "output_type": "stream",
          "name": "stdout",
          "text": [
            "root\n",
            " |-- userId: integer (nullable = true)\n",
            " |-- movieId: integer (nullable = true)\n",
            " |-- rating: double (nullable = true)\n",
            "\n"
          ]
        }
      ],
      "source": [
        "ratings_df.printSchema()"
      ],
      "id": "13568d5a"
    },
    {
      "cell_type": "code",
      "execution_count": 26,
      "metadata": {
        "colab": {
          "base_uri": "https://localhost:8080/"
        },
        "id": "9c426807",
        "outputId": "dd9ef818-aa73-42fa-b489-b3043d72dd58"
      },
      "outputs": [
        {
          "output_type": "stream",
          "name": "stdout",
          "text": [
            "+-------+------------------+\n",
            "|summary|            rating|\n",
            "+-------+------------------+\n",
            "|  count|          25000095|\n",
            "|   mean| 3.533854451353085|\n",
            "| stddev|1.0607439611423535|\n",
            "|    min|               0.5|\n",
            "|    max|               5.0|\n",
            "+-------+------------------+\n",
            "\n"
          ]
        }
      ],
      "source": [
        "ratings_df.select(\"rating\").describe().show()"
      ],
      "id": "9c426807"
    },
    {
      "cell_type": "code",
      "execution_count": 27,
      "metadata": {
        "id": "e0eb4a8c"
      },
      "outputs": [],
      "source": [
        "train_df, test_df = ratings_df.randomSplit([0.8, 0.2])"
      ],
      "id": "e0eb4a8c"
    },
    {
      "cell_type": "code",
      "execution_count": 28,
      "metadata": {
        "id": "67ed0cd9"
      },
      "outputs": [],
      "source": [
        "from pyspark.ml.recommendation import ALS"
      ],
      "id": "67ed0cd9"
    },
    {
      "cell_type": "code",
      "execution_count": 29,
      "metadata": {
        "id": "991d9b51"
      },
      "outputs": [],
      "source": [
        "# als parameter configuration\n",
        "als = ALS(\n",
        "    maxIter=5, # iteration\n",
        "    regParam=0.1, # regularization\n",
        "    userCol=\"userId\",\n",
        "    itemCol=\"movieId\",\n",
        "    ratingCol=\"rating\",\n",
        "    coldStartStrategy=\"drop\" # cold start 발생 시 대처 방법 (nan or drop)\n",
        ")"
      ],
      "id": "991d9b51"
    },
    {
      "cell_type": "code",
      "execution_count": 30,
      "metadata": {
        "id": "fb149194"
      },
      "outputs": [],
      "source": [
        "model = als.fit(train_df)"
      ],
      "id": "fb149194"
    },
    {
      "cell_type": "code",
      "execution_count": 31,
      "metadata": {
        "id": "6512ffa6"
      },
      "outputs": [],
      "source": [
        "predictions = model.transform(test_df)"
      ],
      "id": "6512ffa6"
    },
    {
      "cell_type": "code",
      "execution_count": 32,
      "metadata": {
        "id": "a0818a45",
        "outputId": "ccf366eb-da93-406d-ad95-0ef2e2737dc7",
        "colab": {
          "base_uri": "https://localhost:8080/"
        }
      },
      "outputs": [
        {
          "output_type": "stream",
          "name": "stdout",
          "text": [
            "+------+-------+------+----------+\n",
            "|userId|movieId|rating|prediction|\n",
            "+------+-------+------+----------+\n",
            "|     1|    665|   5.0| 4.1612363|\n",
            "|     1|   1217|   3.5|   4.12036|\n",
            "|     1|   1260|   3.5|  4.130878|\n",
            "|     1|   1653|   4.0|  3.631819|\n",
            "|     1|   2012|   2.5|  2.678013|\n",
            "|     1|   2068|   2.5| 4.0510526|\n",
            "|     1|   2161|   3.5|  3.234428|\n",
            "|     1|   2351|   4.5|  4.119405|\n",
            "|     1|   5684|   2.0| 3.3134787|\n",
            "|     1|   5912|   3.0| 3.7506564|\n",
            "|     1|   5952|   4.0| 3.6341386|\n",
            "|     1|   6539|   3.5| 3.2658343|\n",
            "|     1|   7209|   4.0|  3.739603|\n",
            "|     1|   7323|   3.5| 3.9935312|\n",
            "|     1|   7820|   2.5| 3.9341695|\n",
            "|     1|   8327|   5.0| 3.9537928|\n",
            "|     1|   8360|   4.0| 3.2294827|\n",
            "|     1|   8405|   3.5| 3.7929044|\n",
            "|     1|  27721|   3.0| 3.8527431|\n",
            "|    12|     10|   3.0| 2.9809287|\n",
            "+------+-------+------+----------+\n",
            "only showing top 20 rows\n",
            "\n"
          ]
        }
      ],
      "source": [
        "predictions.show()"
      ],
      "id": "a0818a45"
    },
    {
      "cell_type": "code",
      "execution_count": 33,
      "metadata": {
        "id": "aff62bb7",
        "outputId": "759dbe16-1fa2-449d-dc93-0a2f89f43e9d",
        "colab": {
          "base_uri": "https://localhost:8080/"
        }
      },
      "outputs": [
        {
          "output_type": "stream",
          "name": "stdout",
          "text": [
            "+-------+------------------+------------------+\n",
            "|summary|            rating|        prediction|\n",
            "+-------+------------------+------------------+\n",
            "|  count|           4998474|           4998474|\n",
            "|   mean|3.5337971148794614|3.4241413981254314|\n",
            "| stddev|1.0605669324641536|0.6431671321158869|\n",
            "|    min|               0.5|        -0.8122263|\n",
            "|    max|               5.0|          6.968294|\n",
            "+-------+------------------+------------------+\n",
            "\n"
          ]
        }
      ],
      "source": [
        "predictions.select('rating', 'prediction').describe().show()\n",
        "# 실제값과 예측값 describe"
      ],
      "id": "aff62bb7"
    },
    {
      "cell_type": "code",
      "execution_count": 34,
      "metadata": {
        "id": "595399d0"
      },
      "outputs": [],
      "source": [
        "from pyspark.ml.evaluation import RegressionEvaluator\n",
        "\n",
        "# evaluator 객체 생성 \n",
        "evaluator = RegressionEvaluator(metricName=\"rmse\", labelCol='rating', predictionCol='prediction')"
      ],
      "id": "595399d0"
    },
    {
      "cell_type": "code",
      "execution_count": 35,
      "metadata": {
        "id": "0dc8c946"
      },
      "outputs": [],
      "source": [
        "rmse = evaluator.evaluate(predictions)"
      ],
      "id": "0dc8c946"
    },
    {
      "cell_type": "code",
      "execution_count": 36,
      "metadata": {
        "id": "ec5f0386",
        "outputId": "37a3118a-6962-487a-9dcd-6d6999ac104d",
        "colab": {
          "base_uri": "https://localhost:8080/"
        }
      },
      "outputs": [
        {
          "output_type": "stream",
          "name": "stdout",
          "text": [
            "0.8099413660670133\n"
          ]
        }
      ],
      "source": [
        "print(rmse)"
      ],
      "id": "ec5f0386"
    },
    {
      "cell_type": "code",
      "execution_count": 37,
      "metadata": {
        "id": "7fe2130a",
        "outputId": "d6ca6a86-b659-4b99-d9af-80e320631935",
        "colab": {
          "base_uri": "https://localhost:8080/"
        }
      },
      "outputs": [
        {
          "output_type": "stream",
          "name": "stdout",
          "text": [
            "+------+--------------------+\n",
            "|userId|     recommendations|\n",
            "+------+--------------------+\n",
            "|     1|[{200930, 5.66427...|\n",
            "|     6|[{200930, 6.07457...|\n",
            "|    12|[{200930, 5.57237...|\n",
            "|    13|[{151989, 6.13397...|\n",
            "|    16|[{151989, 6.22031...|\n",
            "|    22|[{149484, 6.33244...|\n",
            "|    26|[{203086, 5.61842...|\n",
            "|    27|[{203086, 5.92720...|\n",
            "|    28|[{201821, 6.98940...|\n",
            "|    31|[{200930, 3.86672...|\n",
            "|    34|[{151989, 6.09752...|\n",
            "|    44|[{151989, 7.08428...|\n",
            "|    47|[{203086, 5.03574...|\n",
            "|    52|[{203086, 6.01045...|\n",
            "|    53|[{194334, 6.86318...|\n",
            "|    65|[{199187, 6.15024...|\n",
            "|    76|[{200930, 5.89751...|\n",
            "|    78|[{200930, 7.02235...|\n",
            "|    81|[{159305, 4.32656...|\n",
            "|    85|[{181811, 5.54184...|\n",
            "+------+--------------------+\n",
            "only showing top 20 rows\n",
            "\n"
          ]
        }
      ],
      "source": [
        "# 추천 목록 3개까지 전부 보여준다\n",
        "model.recommendForAllUsers(3).show()"
      ],
      "id": "7fe2130a"
    },
    {
      "cell_type": "code",
      "execution_count": 38,
      "metadata": {
        "id": "c631d5c6",
        "outputId": "44947fa5-774d-4763-bb2c-5e05c3fb727f",
        "colab": {
          "base_uri": "https://localhost:8080/"
        }
      },
      "outputs": [
        {
          "output_type": "stream",
          "name": "stdout",
          "text": [
            "+-------+--------------------+\n",
            "|movieId|     recommendations|\n",
            "+-------+--------------------+\n",
            "|      1|[{3195, 5.5648766...|\n",
            "|     12|[{87426, 5.522016...|\n",
            "|     13|[{108346, 5.43779...|\n",
            "|     22|[{87426, 5.292430...|\n",
            "|     26|[{18230, 5.077716...|\n",
            "|     27|[{87426, 5.543174...|\n",
            "|     28|[{128167, 5.42273...|\n",
            "|     31|[{87426, 5.348231...|\n",
            "|     34|[{128562, 5.29205...|\n",
            "|     44|[{87426, 5.308718...|\n",
            "|     47|[{156252, 5.65714...|\n",
            "|     52|[{115651, 4.85182...|\n",
            "|     53|[{132629, 5.17100...|\n",
            "|     65|[{87426, 5.453223...|\n",
            "|     76|[{87426, 5.597873...|\n",
            "|     78|[{87426, 4.985826...|\n",
            "|     81|[{87426, 5.069320...|\n",
            "|     85|[{34485, 4.962591...|\n",
            "|     93|[{87426, 5.145534...|\n",
            "|    101|[{105801, 5.00953...|\n",
            "+-------+--------------------+\n",
            "only showing top 20 rows\n",
            "\n"
          ]
        }
      ],
      "source": [
        "model.recommendForAllItems(3).show()"
      ],
      "id": "c631d5c6"
    },
    {
      "cell_type": "code",
      "execution_count": 39,
      "metadata": {
        "id": "f972dfc7",
        "outputId": "3df1f40a-592e-487c-d3d2-476bfe863d4c",
        "colab": {
          "base_uri": "https://localhost:8080/"
        }
      },
      "outputs": [
        {
          "output_type": "stream",
          "name": "stdout",
          "text": [
            "+------+\n",
            "|userId|\n",
            "+------+\n",
            "|    65|\n",
            "|    78|\n",
            "|    81|\n",
            "+------+\n",
            "\n"
          ]
        }
      ],
      "source": [
        "from pyspark.sql.types import IntegerType\n",
        "\n",
        "user_list = [65, 78, 81]\n",
        "users_df = spark.createDataFrame(user_list, IntegerType()).toDF('userId')\n",
        "\n",
        "users_df.show()"
      ],
      "id": "f972dfc7"
    },
    {
      "cell_type": "code",
      "execution_count": 40,
      "metadata": {
        "id": "e0e91f96"
      },
      "outputs": [],
      "source": [
        "user_recs = model.recommendForUserSubset(users_df, 5)"
      ],
      "id": "e0e91f96"
    },
    {
      "cell_type": "code",
      "execution_count": 41,
      "metadata": {
        "id": "70360cbf"
      },
      "outputs": [],
      "source": [
        "movies_list = user_recs.collect()[0].recommendations"
      ],
      "id": "70360cbf"
    },
    {
      "cell_type": "code",
      "execution_count": 42,
      "metadata": {
        "id": "548632fc",
        "outputId": "3e472c8a-cc8e-49c8-8ed1-73c4d2eaacda",
        "colab": {
          "base_uri": "https://localhost:8080/"
        }
      },
      "outputs": [
        {
          "output_type": "stream",
          "name": "stdout",
          "text": [
            "+-------+-----------------+\n",
            "|movieId|           rating|\n",
            "+-------+-----------------+\n",
            "| 199187|6.150240421295166|\n",
            "| 126941| 6.09591817855835|\n",
            "| 151989|5.981280326843262|\n",
            "| 107252|5.929398059844971|\n",
            "| 205277|5.802688121795654|\n",
            "+-------+-----------------+\n",
            "\n"
          ]
        }
      ],
      "source": [
        "recs_df = spark.createDataFrame(movies_list)\n",
        "recs_df.show()"
      ],
      "id": "548632fc"
    },
    {
      "cell_type": "code",
      "execution_count": 44,
      "metadata": {
        "id": "dfbe7b20"
      },
      "outputs": [],
      "source": [
        "movies_file = \"/content/ml-25m/movies.csv\"\n",
        "movies_df = spark.read.csv(f\"file:///{movies_file}\", inferSchema=True, header=True)"
      ],
      "id": "dfbe7b20"
    },
    {
      "cell_type": "code",
      "execution_count": 45,
      "metadata": {
        "id": "b80a6765",
        "outputId": "e0e588d5-007c-49a2-dc6f-28a1dd10009a",
        "colab": {
          "base_uri": "https://localhost:8080/"
        }
      },
      "outputs": [
        {
          "output_type": "stream",
          "name": "stdout",
          "text": [
            "+-------+--------------------+--------------------+\n",
            "|movieId|               title|              genres|\n",
            "+-------+--------------------+--------------------+\n",
            "|      1|    Toy Story (1995)|Adventure|Animati...|\n",
            "|      2|      Jumanji (1995)|Adventure|Childre...|\n",
            "|      3|Grumpier Old Men ...|      Comedy|Romance|\n",
            "|      4|Waiting to Exhale...|Comedy|Drama|Romance|\n",
            "|      5|Father of the Bri...|              Comedy|\n",
            "|      6|         Heat (1995)|Action|Crime|Thri...|\n",
            "|      7|      Sabrina (1995)|      Comedy|Romance|\n",
            "|      8| Tom and Huck (1995)|  Adventure|Children|\n",
            "|      9| Sudden Death (1995)|              Action|\n",
            "|     10|    GoldenEye (1995)|Action|Adventure|...|\n",
            "|     11|American Presiden...|Comedy|Drama|Romance|\n",
            "|     12|Dracula: Dead and...|       Comedy|Horror|\n",
            "|     13|        Balto (1995)|Adventure|Animati...|\n",
            "|     14|        Nixon (1995)|               Drama|\n",
            "|     15|Cutthroat Island ...|Action|Adventure|...|\n",
            "|     16|       Casino (1995)|         Crime|Drama|\n",
            "|     17|Sense and Sensibi...|       Drama|Romance|\n",
            "|     18|   Four Rooms (1995)|              Comedy|\n",
            "|     19|Ace Ventura: When...|              Comedy|\n",
            "|     20|  Money Train (1995)|Action|Comedy|Cri...|\n",
            "+-------+--------------------+--------------------+\n",
            "only showing top 20 rows\n",
            "\n"
          ]
        }
      ],
      "source": [
        "movies_df.show()"
      ],
      "id": "b80a6765"
    },
    {
      "cell_type": "code",
      "execution_count": 46,
      "metadata": {
        "id": "48f54a35"
      },
      "outputs": [],
      "source": [
        "recs_df.createOrReplaceTempView(\"recommendations\") # SQL DB\n",
        "movies_df.createOrReplaceTempView(\"movies\") # SQL DB"
      ],
      "id": "48f54a35"
    },
    {
      "cell_type": "code",
      "execution_count": 47,
      "metadata": {
        "id": "572d3752",
        "outputId": "e8345eb2-0c52-4304-fe4d-f13040d8c8e4",
        "colab": {
          "base_uri": "https://localhost:8080/"
        }
      },
      "outputs": [
        {
          "output_type": "stream",
          "name": "stdout",
          "text": [
            "+-------+--------------------+--------------------+-------+-----------------+\n",
            "|movieId|               title|              genres|movieId|           rating|\n",
            "+-------+--------------------+--------------------+-------+-----------------+\n",
            "| 199187|       Hoaxed (2019)|  (no genres listed)| 199187|6.150240421295166|\n",
            "| 126941|Joni's Promise (2...|              Comedy| 126941| 6.09591817855835|\n",
            "| 151989|    The Thorn (1971)|              Comedy| 151989|5.981280326843262|\n",
            "| 107252|Island at War (2004)|           Drama|War| 107252|5.929398059844971|\n",
            "| 205277|   Inside Out (1991)|Comedy|Drama|Romance| 205277|5.802688121795654|\n",
            "+-------+--------------------+--------------------+-------+-----------------+\n",
            "\n"
          ]
        }
      ],
      "source": [
        "query = \"\"\"\n",
        "SELECT *\n",
        "FROM\n",
        "    movies JOIN recommendations\n",
        "    ON movies.movieId = recommendations.movieId\n",
        "ORDER BY\n",
        "    rating desc\n",
        "\"\"\"\n",
        "recommended_movies = spark.sql(query)\n",
        "recommended_movies.show()"
      ],
      "id": "572d3752"
    },
    {
      "cell_type": "code",
      "execution_count": 48,
      "metadata": {
        "id": "8597a8c7"
      },
      "outputs": [],
      "source": [
        "def get_recommendations(user_id, num_recs):\n",
        "    users_df = spark.createDataFrame([user_id], IntegerType()).toDF('userId') \n",
        "    user_recs_df = model.recommendForUserSubset(users_df, num_recs)\n",
        "    \n",
        "    recs_list = user_recs_df.collect()[0].recommendations\n",
        "    recs_df = spark.createDataFrame(recs_list)\n",
        "    recommended_movies = spark.sql(query)\n",
        "    return recommended_movies"
      ],
      "id": "8597a8c7"
    },
    {
      "cell_type": "code",
      "execution_count": 49,
      "metadata": {
        "id": "ae62aacf"
      },
      "outputs": [],
      "source": [
        "recs = get_recommendations(456, 10)"
      ],
      "id": "ae62aacf"
    },
    {
      "cell_type": "code",
      "execution_count": 50,
      "metadata": {
        "id": "cf8140ed",
        "outputId": "dc0a18bb-bcc2-448d-9506-845020d99e72",
        "colab": {
          "base_uri": "https://localhost:8080/",
          "height": 206
        }
      },
      "outputs": [
        {
          "output_type": "execute_result",
          "data": {
            "text/plain": [
              "   movieId                  title                genres  movieId    rating\n",
              "0   199187          Hoaxed (2019)    (no genres listed)   199187  6.150240\n",
              "1   126941  Joni's Promise (2005)                Comedy   126941  6.095918\n",
              "2   151989       The Thorn (1971)                Comedy   151989  5.981280\n",
              "3   107252   Island at War (2004)             Drama|War   107252  5.929398\n",
              "4   205277      Inside Out (1991)  Comedy|Drama|Romance   205277  5.802688"
            ],
            "text/html": [
              "\n",
              "  <div id=\"df-e9cbfc58-6507-4bf8-a49c-53195c43cf8b\">\n",
              "    <div class=\"colab-df-container\">\n",
              "      <div>\n",
              "<style scoped>\n",
              "    .dataframe tbody tr th:only-of-type {\n",
              "        vertical-align: middle;\n",
              "    }\n",
              "\n",
              "    .dataframe tbody tr th {\n",
              "        vertical-align: top;\n",
              "    }\n",
              "\n",
              "    .dataframe thead th {\n",
              "        text-align: right;\n",
              "    }\n",
              "</style>\n",
              "<table border=\"1\" class=\"dataframe\">\n",
              "  <thead>\n",
              "    <tr style=\"text-align: right;\">\n",
              "      <th></th>\n",
              "      <th>movieId</th>\n",
              "      <th>title</th>\n",
              "      <th>genres</th>\n",
              "      <th>movieId</th>\n",
              "      <th>rating</th>\n",
              "    </tr>\n",
              "  </thead>\n",
              "  <tbody>\n",
              "    <tr>\n",
              "      <th>0</th>\n",
              "      <td>199187</td>\n",
              "      <td>Hoaxed (2019)</td>\n",
              "      <td>(no genres listed)</td>\n",
              "      <td>199187</td>\n",
              "      <td>6.150240</td>\n",
              "    </tr>\n",
              "    <tr>\n",
              "      <th>1</th>\n",
              "      <td>126941</td>\n",
              "      <td>Joni's Promise (2005)</td>\n",
              "      <td>Comedy</td>\n",
              "      <td>126941</td>\n",
              "      <td>6.095918</td>\n",
              "    </tr>\n",
              "    <tr>\n",
              "      <th>2</th>\n",
              "      <td>151989</td>\n",
              "      <td>The Thorn (1971)</td>\n",
              "      <td>Comedy</td>\n",
              "      <td>151989</td>\n",
              "      <td>5.981280</td>\n",
              "    </tr>\n",
              "    <tr>\n",
              "      <th>3</th>\n",
              "      <td>107252</td>\n",
              "      <td>Island at War (2004)</td>\n",
              "      <td>Drama|War</td>\n",
              "      <td>107252</td>\n",
              "      <td>5.929398</td>\n",
              "    </tr>\n",
              "    <tr>\n",
              "      <th>4</th>\n",
              "      <td>205277</td>\n",
              "      <td>Inside Out (1991)</td>\n",
              "      <td>Comedy|Drama|Romance</td>\n",
              "      <td>205277</td>\n",
              "      <td>5.802688</td>\n",
              "    </tr>\n",
              "  </tbody>\n",
              "</table>\n",
              "</div>\n",
              "      <button class=\"colab-df-convert\" onclick=\"convertToInteractive('df-e9cbfc58-6507-4bf8-a49c-53195c43cf8b')\"\n",
              "              title=\"Convert this dataframe to an interactive table.\"\n",
              "              style=\"display:none;\">\n",
              "        \n",
              "  <svg xmlns=\"http://www.w3.org/2000/svg\" height=\"24px\"viewBox=\"0 0 24 24\"\n",
              "       width=\"24px\">\n",
              "    <path d=\"M0 0h24v24H0V0z\" fill=\"none\"/>\n",
              "    <path d=\"M18.56 5.44l.94 2.06.94-2.06 2.06-.94-2.06-.94-.94-2.06-.94 2.06-2.06.94zm-11 1L8.5 8.5l.94-2.06 2.06-.94-2.06-.94L8.5 2.5l-.94 2.06-2.06.94zm10 10l.94 2.06.94-2.06 2.06-.94-2.06-.94-.94-2.06-.94 2.06-2.06.94z\"/><path d=\"M17.41 7.96l-1.37-1.37c-.4-.4-.92-.59-1.43-.59-.52 0-1.04.2-1.43.59L10.3 9.45l-7.72 7.72c-.78.78-.78 2.05 0 2.83L4 21.41c.39.39.9.59 1.41.59.51 0 1.02-.2 1.41-.59l7.78-7.78 2.81-2.81c.8-.78.8-2.07 0-2.86zM5.41 20L4 18.59l7.72-7.72 1.47 1.35L5.41 20z\"/>\n",
              "  </svg>\n",
              "      </button>\n",
              "      \n",
              "  <style>\n",
              "    .colab-df-container {\n",
              "      display:flex;\n",
              "      flex-wrap:wrap;\n",
              "      gap: 12px;\n",
              "    }\n",
              "\n",
              "    .colab-df-convert {\n",
              "      background-color: #E8F0FE;\n",
              "      border: none;\n",
              "      border-radius: 50%;\n",
              "      cursor: pointer;\n",
              "      display: none;\n",
              "      fill: #1967D2;\n",
              "      height: 32px;\n",
              "      padding: 0 0 0 0;\n",
              "      width: 32px;\n",
              "    }\n",
              "\n",
              "    .colab-df-convert:hover {\n",
              "      background-color: #E2EBFA;\n",
              "      box-shadow: 0px 1px 2px rgba(60, 64, 67, 0.3), 0px 1px 3px 1px rgba(60, 64, 67, 0.15);\n",
              "      fill: #174EA6;\n",
              "    }\n",
              "\n",
              "    [theme=dark] .colab-df-convert {\n",
              "      background-color: #3B4455;\n",
              "      fill: #D2E3FC;\n",
              "    }\n",
              "\n",
              "    [theme=dark] .colab-df-convert:hover {\n",
              "      background-color: #434B5C;\n",
              "      box-shadow: 0px 1px 3px 1px rgba(0, 0, 0, 0.15);\n",
              "      filter: drop-shadow(0px 1px 2px rgba(0, 0, 0, 0.3));\n",
              "      fill: #FFFFFF;\n",
              "    }\n",
              "  </style>\n",
              "\n",
              "      <script>\n",
              "        const buttonEl =\n",
              "          document.querySelector('#df-e9cbfc58-6507-4bf8-a49c-53195c43cf8b button.colab-df-convert');\n",
              "        buttonEl.style.display =\n",
              "          google.colab.kernel.accessAllowed ? 'block' : 'none';\n",
              "\n",
              "        async function convertToInteractive(key) {\n",
              "          const element = document.querySelector('#df-e9cbfc58-6507-4bf8-a49c-53195c43cf8b');\n",
              "          const dataTable =\n",
              "            await google.colab.kernel.invokeFunction('convertToInteractive',\n",
              "                                                     [key], {});\n",
              "          if (!dataTable) return;\n",
              "\n",
              "          const docLinkHtml = 'Like what you see? Visit the ' +\n",
              "            '<a target=\"_blank\" href=https://colab.research.google.com/notebooks/data_table.ipynb>data table notebook</a>'\n",
              "            + ' to learn more about interactive tables.';\n",
              "          element.innerHTML = '';\n",
              "          dataTable['output_type'] = 'display_data';\n",
              "          await google.colab.output.renderOutput(dataTable, element);\n",
              "          const docLink = document.createElement('div');\n",
              "          docLink.innerHTML = docLinkHtml;\n",
              "          element.appendChild(docLink);\n",
              "        }\n",
              "      </script>\n",
              "    </div>\n",
              "  </div>\n",
              "  "
            ]
          },
          "metadata": {},
          "execution_count": 50
        }
      ],
      "source": [
        "recs.toPandas()"
      ],
      "id": "cf8140ed"
    },
    {
      "cell_type": "code",
      "execution_count": 51,
      "metadata": {
        "id": "c6d6c990"
      },
      "outputs": [],
      "source": [
        "spark.stop()"
      ],
      "id": "c6d6c990"
    },
    {
      "cell_type": "code",
      "execution_count": null,
      "metadata": {
        "id": "ddcb186a"
      },
      "outputs": [],
      "source": [],
      "id": "ddcb186a"
    }
  ],
  "metadata": {
    "colab": {
      "provenance": [],
      "machine_shape": "hm",
      "include_colab_link": true
    },
    "kernelspec": {
      "display_name": "Python 3",
      "language": "python",
      "name": "python3"
    },
    "language_info": {
      "codemirror_mode": {
        "name": "ipython",
        "version": 3
      },
      "file_extension": ".py",
      "mimetype": "text/x-python",
      "name": "python",
      "nbconvert_exporter": "python",
      "pygments_lexer": "ipython3",
      "version": "3.8.8"
    },
    "gpuClass": "standard"
  },
  "nbformat": 4,
  "nbformat_minor": 5
}