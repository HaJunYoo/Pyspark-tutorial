{
  "cells": [
    {
      "cell_type": "markdown",
      "metadata": {
        "id": "view-in-github",
        "colab_type": "text"
      },
      "source": [
        "<a href=\"https://colab.research.google.com/github/HaJunYoo/Pyspark-tutorial/blob/main/taxi_fare_prediction.ipynb\" target=\"_parent\"><img src=\"https://colab.research.google.com/assets/colab-badge.svg\" alt=\"Open In Colab\"/></a>"
      ]
    },
    {
      "cell_type": "code",
      "execution_count": 12,
      "metadata": {
        "colab": {
          "base_uri": "https://localhost:8080/"
        },
        "id": "d7kDgZQkTmWn",
        "outputId": "279e52a5-604b-434d-eeaa-0d78ccc38925"
      },
      "outputs": [
        {
          "output_type": "stream",
          "name": "stdout",
          "text": [
            "Looking in indexes: https://pypi.org/simple, https://us-python.pkg.dev/colab-wheels/public/simple/\n",
            "Requirement already satisfied: pyspark==3.3.1 in /usr/local/lib/python3.8/dist-packages (3.3.1)\n",
            "Requirement already satisfied: py4j==0.10.9.5 in /usr/local/lib/python3.8/dist-packages (0.10.9.5)\n"
          ]
        }
      ],
      "source": [
        "!pip install pyspark==3.3.1 py4j==0.10.9.5 \n",
        "!pip install -q findspark"
      ],
      "id": "d7kDgZQkTmWn"
    },
    {
      "cell_type": "code",
      "execution_count": 13,
      "metadata": {
        "id": "MGJjO2xBYv22",
        "colab": {
          "base_uri": "https://localhost:8080/"
        },
        "outputId": "500a49f6-d77a-4171-e7c3-d1f016ba0f94"
      },
      "outputs": [
        {
          "output_type": "stream",
          "name": "stdout",
          "text": [
            "Drive already mounted at /content/drive; to attempt to forcibly remount, call drive.mount(\"/content/drive\", force_remount=True).\n"
          ]
        }
      ],
      "source": [
        "from google.colab import drive\n",
        "drive.mount('/content/drive')"
      ],
      "id": "MGJjO2xBYv22"
    },
    {
      "cell_type": "code",
      "execution_count": 14,
      "metadata": {
        "id": "zHe1lL5lTi5i"
      },
      "outputs": [],
      "source": [
        "import findspark\n",
        "findspark.init()\n",
        "\n",
        "from pyspark.sql import SparkSession\n",
        "from pyspark import SparkConf"
      ],
      "id": "zHe1lL5lTi5i"
    },
    {
      "cell_type": "code",
      "execution_count": 15,
      "metadata": {
        "id": "14ef5549"
      },
      "outputs": [],
      "source": [
        "MAX_MEMORY=\"8g\"\n",
        "spark = SparkSession.builder.appName(\"taxi-fare-prediciton\")\\\n",
        "                .config(\"spark.executor.memory\", MAX_MEMORY)\\\n",
        "                .config(\"spark.driver.memory\", MAX_MEMORY)\\\n",
        "                .getOrCreate()"
      ],
      "id": "14ef5549"
    },
    {
      "cell_type": "code",
      "execution_count": 16,
      "metadata": {
        "id": "aB6-Lt7saWrc",
        "colab": {
          "base_uri": "https://localhost:8080/",
          "height": 221
        },
        "outputId": "75daaa77-a1d7-454f-dfd6-0971241eec7c"
      },
      "outputs": [
        {
          "output_type": "execute_result",
          "data": {
            "text/plain": [
              "<pyspark.sql.session.SparkSession at 0x7f15a003ebe0>"
            ],
            "text/html": [
              "\n",
              "            <div>\n",
              "                <p><b>SparkSession - in-memory</b></p>\n",
              "                \n",
              "        <div>\n",
              "            <p><b>SparkContext</b></p>\n",
              "\n",
              "            <p><a href=\"http://5ef4d9cc6f78:4040\">Spark UI</a></p>\n",
              "\n",
              "            <dl>\n",
              "              <dt>Version</dt>\n",
              "                <dd><code>v3.3.1</code></dd>\n",
              "              <dt>Master</dt>\n",
              "                <dd><code>local[*]</code></dd>\n",
              "              <dt>AppName</dt>\n",
              "                <dd><code>taxi-fare-prediciton</code></dd>\n",
              "            </dl>\n",
              "        </div>\n",
              "        \n",
              "            </div>\n",
              "        "
            ]
          },
          "metadata": {},
          "execution_count": 16
        }
      ],
      "source": [
        "spark"
      ],
      "id": "aB6-Lt7saWrc"
    },
    {
      "cell_type": "code",
      "execution_count": null,
      "metadata": {
        "id": "azB0UN44aKzt"
      },
      "outputs": [],
      "source": [
        "cd /content/drive/MyDrive/Spark/01-spark"
      ],
      "id": "azB0UN44aKzt"
    },
    {
      "cell_type": "code",
      "execution_count": null,
      "metadata": {
        "id": "4HBtGdbzab-U"
      },
      "outputs": [],
      "source": [
        "pwd"
      ],
      "id": "4HBtGdbzab-U"
    },
    {
      "cell_type": "code",
      "execution_count": null,
      "metadata": {
        "id": "528e40d4"
      },
      "outputs": [],
      "source": [
        "trip_files = \"/content/drive/MyDrive/Spark/01-spark/data/trips/*\""
      ],
      "id": "528e40d4"
    },
    {
      "cell_type": "code",
      "execution_count": null,
      "metadata": {
        "colab": {
          "background_save": true
        },
        "id": "2e0760d9"
      },
      "outputs": [],
      "source": [
        "trips_df = spark.read.csv(trip_files, inferSchema=True, header=True)"
      ],
      "id": "2e0760d9"
    },
    {
      "cell_type": "code",
      "execution_count": null,
      "metadata": {
        "colab": {
          "background_save": true
        },
        "id": "2e1392e4",
        "outputId": "0e445746-21f9-4d6a-91d2-1a36b2f6c54b"
      },
      "outputs": [
        {
          "name": "stdout",
          "output_type": "stream",
          "text": [
            "root\n",
            " |-- _c0: integer (nullable = true)\n",
            " |-- VendorID: integer (nullable = true)\n",
            " |-- tpep_pickup_datetime: timestamp (nullable = true)\n",
            " |-- tpep_dropoff_datetime: timestamp (nullable = true)\n",
            " |-- passenger_count: double (nullable = true)\n",
            " |-- trip_distance: double (nullable = true)\n",
            " |-- RatecodeID: double (nullable = true)\n",
            " |-- store_and_fwd_flag: string (nullable = true)\n",
            " |-- PULocationID: integer (nullable = true)\n",
            " |-- DOLocationID: integer (nullable = true)\n",
            " |-- payment_type: integer (nullable = true)\n",
            " |-- fare_amount: double (nullable = true)\n",
            " |-- extra: double (nullable = true)\n",
            " |-- mta_tax: double (nullable = true)\n",
            " |-- tip_amount: double (nullable = true)\n",
            " |-- tolls_amount: double (nullable = true)\n",
            " |-- improvement_surcharge: double (nullable = true)\n",
            " |-- total_amount: double (nullable = true)\n",
            " |-- congestion_surcharge: double (nullable = true)\n",
            " |-- airport_fee: double (nullable = true)\n",
            "\n"
          ]
        }
      ],
      "source": [
        "trips_df.printSchema()"
      ],
      "id": "2e1392e4"
    },
    {
      "cell_type": "code",
      "execution_count": null,
      "metadata": {
        "colab": {
          "background_save": true
        },
        "id": "005be675"
      },
      "outputs": [],
      "source": [
        "trips_df.createOrReplaceTempView(\"trips\")"
      ],
      "id": "005be675"
    },
    {
      "cell_type": "code",
      "execution_count": 17,
      "metadata": {
        "id": "ba12a38e"
      },
      "outputs": [],
      "source": [
        "query = \"\"\"\n",
        "SELECT \n",
        "    trip_distance,\n",
        "    total_amount\n",
        "FROM\n",
        "    trips\n",
        "WHERE\n",
        "    total_amount < 5000\n",
        "    AND total_amount > 0\n",
        "    AND trip_distance > 0\n",
        "    AND trip_distance < 500\n",
        "    AND passenger_count < 4\n",
        "    AND TO_DATE(tpep_pickup_datetime) >= '2021-01-01'\n",
        "    AND TO_DATE(tpep_pickup_datetime) < '2021-08-01'\n",
        "\"\"\""
      ],
      "id": "ba12a38e"
    },
    {
      "cell_type": "code",
      "execution_count": 18,
      "metadata": {
        "id": "479650c2"
      },
      "outputs": [],
      "source": [
        "data_df = spark.sql(query)\n",
        "data_df.createOrReplaceTempView(\"data\") # filter view로 만듦"
      ],
      "id": "479650c2"
    },
    {
      "cell_type": "code",
      "execution_count": 19,
      "metadata": {
        "id": "97e80528",
        "outputId": "aa55ad9f-8b24-4257-9210-ac281f5a34c7",
        "colab": {
          "base_uri": "https://localhost:8080/"
        }
      },
      "outputs": [
        {
          "output_type": "stream",
          "name": "stdout",
          "text": [
            "+-------------+------------+\n",
            "|trip_distance|total_amount|\n",
            "+-------------+------------+\n",
            "|          2.1|        11.8|\n",
            "|          0.2|         4.3|\n",
            "|         14.7|       51.95|\n",
            "|         10.6|       36.35|\n",
            "|         4.94|       24.36|\n",
            "|          1.6|       14.15|\n",
            "|          4.1|        17.3|\n",
            "|          5.7|        21.8|\n",
            "|          9.1|        28.8|\n",
            "|          2.7|       18.95|\n",
            "|         6.11|        24.3|\n",
            "|         1.21|       10.79|\n",
            "|          7.4|       33.92|\n",
            "|         1.01|        10.3|\n",
            "|         0.73|       12.09|\n",
            "|         1.17|       12.36|\n",
            "|         0.78|        9.96|\n",
            "|         1.66|        12.3|\n",
            "|         0.93|         9.3|\n",
            "|         1.16|       11.84|\n",
            "+-------------+------------+\n",
            "only showing top 20 rows\n",
            "\n"
          ]
        }
      ],
      "source": [
        "data_df.show()"
      ],
      "id": "97e80528"
    },
    {
      "cell_type": "code",
      "execution_count": 20,
      "metadata": {
        "id": "c54120dc",
        "outputId": "770d957b-026f-438c-b6b2-69c44cb0ba03",
        "colab": {
          "base_uri": "https://localhost:8080/"
        }
      },
      "outputs": [
        {
          "output_type": "stream",
          "name": "stdout",
          "text": [
            "+-------+------------------+------------------+\n",
            "|summary|     trip_distance|      total_amount|\n",
            "+-------+------------------+------------------+\n",
            "|  count|          13126271|          13126271|\n",
            "|   mean|2.8820783305479263|17.973117241906895|\n",
            "| stddev| 3.820284175387752|12.975829282992352|\n",
            "|    min|              0.01|              0.01|\n",
            "|    max|             475.5|            4973.3|\n",
            "+-------+------------------+------------------+\n",
            "\n"
          ]
        }
      ],
      "source": [
        "data_df.describe().show()"
      ],
      "id": "c54120dc"
    },
    {
      "cell_type": "code",
      "execution_count": 21,
      "metadata": {
        "id": "35dcbacb"
      },
      "outputs": [],
      "source": [
        "train_df, test_df = data_df.randomSplit([0.8, 0.2], seed=1)"
      ],
      "id": "35dcbacb"
    },
    {
      "cell_type": "code",
      "execution_count": 22,
      "metadata": {
        "id": "b9be6e2b",
        "outputId": "9712cb68-1432-4fed-e709-378d61a0ce44",
        "colab": {
          "base_uri": "https://localhost:8080/"
        }
      },
      "outputs": [
        {
          "output_type": "stream",
          "name": "stdout",
          "text": [
            "10500537\n",
            "2625734\n"
          ]
        }
      ],
      "source": [
        "print(train_df.count())\n",
        "print(test_df.count())"
      ],
      "id": "b9be6e2b"
    },
    {
      "cell_type": "code",
      "execution_count": 23,
      "metadata": {
        "id": "19f9e48c"
      },
      "outputs": [],
      "source": [
        "from pyspark.ml.feature import VectorAssembler"
      ],
      "id": "19f9e48c"
    },
    {
      "cell_type": "code",
      "execution_count": 24,
      "metadata": {
        "id": "520a8620"
      },
      "outputs": [],
      "source": [
        "# 모델 안에 넣기 위해서는 vector assembler를 통해 train df를 바꾼다 -> features를 만든다\n",
        "vassembler = VectorAssembler(inputCols=[\"trip_distance\"], outputCol=\"features\")"
      ],
      "id": "520a8620"
    },
    {
      "cell_type": "code",
      "execution_count": 25,
      "metadata": {
        "id": "59e84ad1"
      },
      "outputs": [],
      "source": [
        "vtrain_df = vassembler.transform(train_df)"
      ],
      "id": "59e84ad1"
    },
    {
      "cell_type": "code",
      "execution_count": 26,
      "metadata": {
        "id": "33a9654f",
        "outputId": "676c7d80-0729-4a68-fa7d-52609378939e",
        "colab": {
          "base_uri": "https://localhost:8080/"
        }
      },
      "outputs": [
        {
          "output_type": "stream",
          "name": "stdout",
          "text": [
            "+-------------+------------+--------+\n",
            "|trip_distance|total_amount|features|\n",
            "+-------------+------------+--------+\n",
            "|         0.01|         3.3|  [0.01]|\n",
            "|         0.01|         3.3|  [0.01]|\n",
            "|         0.01|         3.3|  [0.01]|\n",
            "|         0.01|         3.3|  [0.01]|\n",
            "|         0.01|         3.3|  [0.01]|\n",
            "|         0.01|         3.3|  [0.01]|\n",
            "|         0.01|         3.3|  [0.01]|\n",
            "|         0.01|         3.3|  [0.01]|\n",
            "|         0.01|         3.3|  [0.01]|\n",
            "|         0.01|         3.3|  [0.01]|\n",
            "|         0.01|         3.3|  [0.01]|\n",
            "|         0.01|         3.3|  [0.01]|\n",
            "|         0.01|         3.3|  [0.01]|\n",
            "|         0.01|         3.3|  [0.01]|\n",
            "|         0.01|         3.3|  [0.01]|\n",
            "|         0.01|         3.3|  [0.01]|\n",
            "|         0.01|         3.3|  [0.01]|\n",
            "|         0.01|         3.3|  [0.01]|\n",
            "|         0.01|         3.3|  [0.01]|\n",
            "|         0.01|         3.3|  [0.01]|\n",
            "+-------------+------------+--------+\n",
            "only showing top 20 rows\n",
            "\n"
          ]
        }
      ],
      "source": [
        "vtrain_df.show()"
      ],
      "id": "33a9654f"
    },
    {
      "cell_type": "code",
      "execution_count": 27,
      "metadata": {
        "id": "bba4e6d5"
      },
      "outputs": [],
      "source": [
        "from pyspark.ml.regression import LinearRegression"
      ],
      "id": "bba4e6d5"
    },
    {
      "cell_type": "code",
      "execution_count": 28,
      "metadata": {
        "id": "87db9c13"
      },
      "outputs": [],
      "source": [
        "lr = LinearRegression(\n",
        "    maxIter=50,\n",
        "    labelCol=\"total_amount\",\n",
        "    featuresCol=\"features\"\n",
        ")"
      ],
      "id": "87db9c13"
    },
    {
      "cell_type": "code",
      "execution_count": 29,
      "metadata": {
        "id": "15504cb1"
      },
      "outputs": [],
      "source": [
        "model = lr.fit(vtrain_df)"
      ],
      "id": "15504cb1"
    },
    {
      "cell_type": "code",
      "execution_count": 30,
      "metadata": {
        "id": "bdbb608c"
      },
      "outputs": [],
      "source": [
        "vtest_df = vassembler.transform(test_df)"
      ],
      "id": "bdbb608c"
    },
    {
      "cell_type": "code",
      "execution_count": 31,
      "metadata": {
        "id": "7a26b563"
      },
      "outputs": [],
      "source": [
        "prediction = model.transform(vtest_df)"
      ],
      "id": "7a26b563"
    },
    {
      "cell_type": "code",
      "execution_count": 32,
      "metadata": {
        "id": "74a81829",
        "outputId": "3ab65310-6147-4ff3-98ac-fbb549362e5d",
        "colab": {
          "base_uri": "https://localhost:8080/"
        }
      },
      "outputs": [
        {
          "output_type": "stream",
          "name": "stdout",
          "text": [
            "+-------------+------------+--------+-----------------+\n",
            "|trip_distance|total_amount|features|       prediction|\n",
            "+-------------+------------+--------+-----------------+\n",
            "|         0.01|         3.3|  [0.01]|9.425468862210433|\n",
            "|         0.01|         3.3|  [0.01]|9.425468862210433|\n",
            "|         0.01|         3.3|  [0.01]|9.425468862210433|\n",
            "|         0.01|         3.3|  [0.01]|9.425468862210433|\n",
            "|         0.01|         3.3|  [0.01]|9.425468862210433|\n",
            "|         0.01|         3.3|  [0.01]|9.425468862210433|\n",
            "|         0.01|         3.3|  [0.01]|9.425468862210433|\n",
            "|         0.01|         3.3|  [0.01]|9.425468862210433|\n",
            "|         0.01|         3.3|  [0.01]|9.425468862210433|\n",
            "|         0.01|         3.3|  [0.01]|9.425468862210433|\n",
            "|         0.01|         3.3|  [0.01]|9.425468862210433|\n",
            "|         0.01|         3.3|  [0.01]|9.425468862210433|\n",
            "|         0.01|         3.3|  [0.01]|9.425468862210433|\n",
            "|         0.01|         3.3|  [0.01]|9.425468862210433|\n",
            "|         0.01|         3.8|  [0.01]|9.425468862210433|\n",
            "|         0.01|         3.8|  [0.01]|9.425468862210433|\n",
            "|         0.01|         3.8|  [0.01]|9.425468862210433|\n",
            "|         0.01|         3.8|  [0.01]|9.425468862210433|\n",
            "|         0.01|         3.8|  [0.01]|9.425468862210433|\n",
            "|         0.01|         3.8|  [0.01]|9.425468862210433|\n",
            "+-------------+------------+--------+-----------------+\n",
            "only showing top 20 rows\n",
            "\n"
          ]
        }
      ],
      "source": [
        "prediction.show()"
      ],
      "id": "74a81829"
    },
    {
      "cell_type": "code",
      "execution_count": 33,
      "metadata": {
        "id": "14e0be60",
        "outputId": "8776fcc3-64ec-4edb-cb91-f503d2695ab2",
        "colab": {
          "base_uri": "https://localhost:8080/"
        }
      },
      "outputs": [
        {
          "output_type": "execute_result",
          "data": {
            "text/plain": [
              "6.284656849365227"
            ]
          },
          "metadata": {},
          "execution_count": 33
        }
      ],
      "source": [
        "# summary class를 이용해서 평가 \n",
        "model.summary.rootMeanSquaredError"
      ],
      "id": "14e0be60"
    },
    {
      "cell_type": "code",
      "execution_count": 34,
      "metadata": {
        "id": "0988cd09",
        "outputId": "e157ce59-70a4-442a-a4c8-08bdbe874dd9",
        "colab": {
          "base_uri": "https://localhost:8080/"
        }
      },
      "outputs": [
        {
          "output_type": "execute_result",
          "data": {
            "text/plain": [
              "0.766032267370355"
            ]
          },
          "metadata": {},
          "execution_count": 34
        }
      ],
      "source": [
        "model.summary.r2"
      ],
      "id": "0988cd09"
    },
    {
      "cell_type": "code",
      "execution_count": 41,
      "metadata": {
        "id": "ad5e86ab"
      },
      "outputs": [],
      "source": [
        "from pyspark.sql.types import DoubleType\n",
        "distance_list = [1.1, 2.0, 5.0, 7.7]\n",
        "distance_df = spark.createDataFrame(distance_list, DoubleType()).toDF(\"trip_distance\")"
      ],
      "id": "ad5e86ab"
    },
    {
      "cell_type": "code",
      "execution_count": 42,
      "metadata": {
        "id": "ac91a7a3",
        "outputId": "6d7f2106-12d2-4710-dca7-0e03589b59ce",
        "colab": {
          "base_uri": "https://localhost:8080/"
        }
      },
      "outputs": [
        {
          "output_type": "stream",
          "name": "stdout",
          "text": [
            "+-------------+\n",
            "|trip_distance|\n",
            "+-------------+\n",
            "|          1.1|\n",
            "|          2.0|\n",
            "|          5.0|\n",
            "|          7.7|\n",
            "+-------------+\n",
            "\n"
          ]
        }
      ],
      "source": [
        "distance_df.show()"
      ],
      "id": "ac91a7a3"
    },
    {
      "cell_type": "code",
      "execution_count": 43,
      "metadata": {
        "id": "1b6742a2"
      },
      "outputs": [],
      "source": [
        "vdistance_df = vassembler.transform(distance_df)"
      ],
      "id": "1b6742a2"
    },
    {
      "cell_type": "code",
      "execution_count": 44,
      "metadata": {
        "id": "1464f383",
        "outputId": "efc76d71-0aff-4984-a41d-4146f28e4efe",
        "colab": {
          "base_uri": "https://localhost:8080/"
        }
      },
      "outputs": [
        {
          "output_type": "stream",
          "name": "stdout",
          "text": [
            "+-------------+--------+\n",
            "|trip_distance|features|\n",
            "+-------------+--------+\n",
            "|          1.1|   [1.1]|\n",
            "|          2.0|   [2.0]|\n",
            "|          5.0|   [5.0]|\n",
            "|          7.7|   [7.7]|\n",
            "+-------------+--------+\n",
            "\n"
          ]
        }
      ],
      "source": [
        "vdistance_df.show()"
      ],
      "id": "1464f383"
    },
    {
      "cell_type": "code",
      "execution_count": 45,
      "metadata": {
        "id": "24d256c3",
        "outputId": "41f5d30c-a10e-4129-b882-924ac9359606",
        "colab": {
          "base_uri": "https://localhost:8080/"
        }
      },
      "outputs": [
        {
          "output_type": "stream",
          "name": "stdout",
          "text": [
            "+-------------+--------+------------------+\n",
            "|trip_distance|features|        prediction|\n",
            "+-------------+--------+------------------+\n",
            "|          1.1|   [1.1]|12.669472738013738|\n",
            "|          2.0|   [2.0]|15.348008048310046|\n",
            "|          5.0|   [5.0]| 24.27645908263107|\n",
            "|          7.7|   [7.7]| 32.31206501351999|\n",
            "+-------------+--------+------------------+\n",
            "\n"
          ]
        }
      ],
      "source": [
        "model.transform(vdistance_df).show()"
      ],
      "id": "24d256c3"
    },
    {
      "cell_type": "code",
      "execution_count": 39,
      "metadata": {
        "id": "ed4d8943"
      },
      "outputs": [],
      "source": [],
      "id": "ed4d8943"
    }
  ],
  "metadata": {
    "colab": {
      "machine_shape": "hm",
      "provenance": [],
      "include_colab_link": true
    },
    "gpuClass": "standard",
    "kernelspec": {
      "display_name": "Python 3",
      "language": "python",
      "name": "python3"
    },
    "language_info": {
      "codemirror_mode": {
        "name": "ipython",
        "version": 3
      },
      "file_extension": ".py",
      "mimetype": "text/x-python",
      "name": "python",
      "nbconvert_exporter": "python",
      "pygments_lexer": "ipython3",
      "version": "3.8.8"
    }
  },
  "nbformat": 4,
  "nbformat_minor": 5
}