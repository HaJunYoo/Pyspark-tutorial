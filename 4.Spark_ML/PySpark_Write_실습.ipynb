{
  "nbformat": 4,
  "nbformat_minor": 0,
  "metadata": {
    "colab": {
      "provenance": []
    },
    "kernelspec": {
      "name": "python3",
      "display_name": "Python 3"
    }
  },
  "cells": [
    {
      "cell_type": "markdown",
      "metadata": {
        "id": "XIA23YgbXKJd"
      },
      "source": [
        "이를 위해 pyspark과 Py4J 패키지를 설치한다. Py4J 패키지는 파이썬 프로그램이 자바가상머신상의 오브젝트들을 접근할 수 있게 해준다. Local Standalone Spark을 사용한다."
      ]
    },
    {
      "cell_type": "code",
      "metadata": {
        "colab": {
          "base_uri": "https://localhost:8080/"
        },
        "id": "NbT0rpGfVdiq",
        "outputId": "665ef15a-7a7b-447e-b54d-0794dc9e8ff4"
      },
      "source": [
        "!pip install pyspark==3.3.1 py4j==0.10.9.5 "
      ],
      "execution_count": 1,
      "outputs": [
        {
          "output_type": "stream",
          "name": "stdout",
          "text": [
            "Looking in indexes: https://pypi.org/simple, https://us-python.pkg.dev/colab-wheels/public/simple/\n",
            "Collecting pyspark==3.3.1\n",
            "  Downloading pyspark-3.3.1.tar.gz (281.4 MB)\n",
            "\u001b[2K     \u001b[90m━━━━━━━━━━━━━━━━━━━━━━━━━━━━━━━━━━━━━━━\u001b[0m \u001b[32m281.4/281.4 MB\u001b[0m \u001b[31m3.7 MB/s\u001b[0m eta \u001b[36m0:00:00\u001b[0m\n",
            "\u001b[?25h  Preparing metadata (setup.py) ... \u001b[?25l\u001b[?25hdone\n",
            "Collecting py4j==0.10.9.5\n",
            "  Downloading py4j-0.10.9.5-py2.py3-none-any.whl (199 kB)\n",
            "\u001b[2K     \u001b[90m━━━━━━━━━━━━━━━━━━━━━━━━━━━━━━━━━━━━━━━\u001b[0m \u001b[32m199.7/199.7 KB\u001b[0m \u001b[31m9.6 MB/s\u001b[0m eta \u001b[36m0:00:00\u001b[0m\n",
            "\u001b[?25hBuilding wheels for collected packages: pyspark\n",
            "  Building wheel for pyspark (setup.py) ... \u001b[?25l\u001b[?25hdone\n",
            "  Created wheel for pyspark: filename=pyspark-3.3.1-py2.py3-none-any.whl size=281845512 sha256=ab316fa9de4d46b25066dfe942c5c8dce71a511b10beeec1507edf12ac6dab90\n",
            "  Stored in directory: /root/.cache/pip/wheels/43/dc/11/ec201cd671da62fa9c5cc77078235e40722170ceba231d7598\n",
            "Successfully built pyspark\n",
            "Installing collected packages: py4j, pyspark\n",
            "Successfully installed py4j-0.10.9.5 pyspark-3.3.1\n"
          ]
        }
      ]
    },
    {
      "cell_type": "markdown",
      "metadata": {
        "id": "Ew_eTGrvXlDw"
      },
      "source": [
        "**Spark Session**을 하나 만든다"
      ]
    },
    {
      "cell_type": "code",
      "metadata": {
        "id": "3vm6tgcPXdnR"
      },
      "source": [
        "from pyspark.sql import *\n",
        "from pyspark.sql.functions import *\n",
        "\n",
        "if __name__ == \"__main__\":\n",
        "    spark = SparkSession \\\n",
        "        .builder \\\n",
        "        .appName(\"Spark Writing Demo\") \\\n",
        "        .master(\"local[3]\") \\\n",
        "        .config(\"spark.jars.packages\", \"org.apache.spark:spark-avro_2.12:3.3.1\") \\\n",
        "        .getOrCreate()"
      ],
      "execution_count": 2,
      "outputs": []
    },
    {
      "cell_type": "code",
      "source": [
        "!wget https://pyspark-test-sj.s3.us-west-2.amazonaws.com/appl_stock.csv"
      ],
      "metadata": {
        "colab": {
          "base_uri": "https://localhost:8080/"
        },
        "id": "UKrMnuGVK77P",
        "outputId": "5005d713-33e7-400b-ef9e-60af6c32926a"
      },
      "execution_count": 3,
      "outputs": [
        {
          "output_type": "stream",
          "name": "stdout",
          "text": [
            "--2023-01-26 23:15:42--  https://pyspark-test-sj.s3.us-west-2.amazonaws.com/appl_stock.csv\n",
            "Resolving pyspark-test-sj.s3.us-west-2.amazonaws.com (pyspark-test-sj.s3.us-west-2.amazonaws.com)... 3.5.81.204, 3.5.84.192, 52.92.241.194, ...\n",
            "Connecting to pyspark-test-sj.s3.us-west-2.amazonaws.com (pyspark-test-sj.s3.us-west-2.amazonaws.com)|3.5.81.204|:443... connected.\n",
            "HTTP request sent, awaiting response... 200 OK\n",
            "Length: 143130 (140K) [text/csv]\n",
            "Saving to: ‘appl_stock.csv’\n",
            "\n",
            "appl_stock.csv      100%[===================>] 139.78K   837KB/s    in 0.2s    \n",
            "\n",
            "2023-01-26 23:15:43 (837 KB/s) - ‘appl_stock.csv’ saved [143130/143130]\n",
            "\n"
          ]
        }
      ]
    },
    {
      "cell_type": "code",
      "source": [
        "df = spark.read \\\n",
        "    .format(\"csv\") \\\n",
        "    .load(\"appl_stock.csv\")"
      ],
      "metadata": {
        "id": "3ZhdS0i7LZEc"
      },
      "execution_count": 4,
      "outputs": []
    },
    {
      "cell_type": "code",
      "source": [
        "print(\"Num Partitions before: \" + str(df.rdd.getNumPartitions()))\n",
        "df.groupBy(spark_partition_id()).count().show()"
      ],
      "metadata": {
        "colab": {
          "base_uri": "https://localhost:8080/"
        },
        "id": "7g56ZGQKkRBm",
        "outputId": "fa4c5b36-b9db-4e5a-88b0-e6272a98b4b1"
      },
      "execution_count": 5,
      "outputs": [
        {
          "output_type": "stream",
          "name": "stdout",
          "text": [
            "Num Partitions before: 1\n",
            "+--------------------+-----+\n",
            "|SPARK_PARTITION_ID()|count|\n",
            "+--------------------+-----+\n",
            "|                   0| 1763|\n",
            "+--------------------+-----+\n",
            "\n"
          ]
        }
      ]
    },
    {
      "cell_type": "code",
      "source": [
        "df2 = df.repartition(4)\n",
        "print(\"Num Partitions after: \" + str(df2.rdd.getNumPartitions()))\n",
        "df2.groupBy(spark_partition_id()).count().show()"
      ],
      "metadata": {
        "id": "aej8p-pXDLUR",
        "colab": {
          "base_uri": "https://localhost:8080/"
        },
        "outputId": "18eba7d6-a6ce-4e08-ca5f-9de943c5146b"
      },
      "execution_count": 6,
      "outputs": [
        {
          "output_type": "stream",
          "name": "stdout",
          "text": [
            "Num Partitions after: 4\n",
            "+--------------------+-----+\n",
            "|SPARK_PARTITION_ID()|count|\n",
            "+--------------------+-----+\n",
            "|                   0|  440|\n",
            "|                   1|  441|\n",
            "|                   2|  441|\n",
            "|                   3|  441|\n",
            "+--------------------+-----+\n",
            "\n"
          ]
        }
      ]
    },
    {
      "cell_type": "code",
      "source": [
        "df3 = df2.coalesce(2)\n",
        "print(\"Num Partitions after: \" + str(df3.rdd.getNumPartitions()))\n",
        "df3.groupBy(spark_partition_id()).count().show()"
      ],
      "metadata": {
        "colab": {
          "base_uri": "https://localhost:8080/"
        },
        "id": "fu7BluXqZNI5",
        "outputId": "91f68daf-fc9a-4f53-f563-c8da46e189d3"
      },
      "execution_count": 7,
      "outputs": [
        {
          "output_type": "stream",
          "name": "stdout",
          "text": [
            "Num Partitions after: 2\n",
            "+--------------------+-----+\n",
            "|SPARK_PARTITION_ID()|count|\n",
            "+--------------------+-----+\n",
            "|                   0|  881|\n",
            "|                   1|  882|\n",
            "+--------------------+-----+\n",
            "\n"
          ]
        }
      ]
    },
    {
      "cell_type": "code",
      "source": [
        "df.write \\\n",
        "    .format(\"avro\") \\\n",
        "    .mode(\"overwrite\") \\\n",
        "    .option(\"path\", \"dataOutput/avro/\") \\\n",
        "    .save()"
      ],
      "metadata": {
        "id": "I9O63IczT1uf"
      },
      "execution_count": 8,
      "outputs": []
    },
    {
      "cell_type": "code",
      "source": [
        "df2.write \\\n",
        "    .format(\"parquet\") \\\n",
        "    .mode(\"overwrite\") \\\n",
        "    .option(\"path\", \"dataOutput/parquet/\") \\\n",
        "    .save()"
      ],
      "metadata": {
        "id": "T9IeT7ebT-dH"
      },
      "execution_count": 9,
      "outputs": []
    },
    {
      "cell_type": "code",
      "source": [
        "df3.write \\\n",
        "    .format(\"json\") \\\n",
        "    .mode(\"overwrite\") \\\n",
        "    .option(\"path\", \"dataOutput/json/\") \\\n",
        "    .save()"
      ],
      "metadata": {
        "id": "ukCfK1vaZaTN"
      },
      "execution_count": 10,
      "outputs": []
    },
    {
      "cell_type": "code",
      "source": [
        "!ls -tl dataOutput/"
      ],
      "metadata": {
        "colab": {
          "base_uri": "https://localhost:8080/"
        },
        "id": "dmZzZFhOWQX-",
        "outputId": "0f119662-abe1-464b-d543-3b766c246c80"
      },
      "execution_count": 11,
      "outputs": [
        {
          "output_type": "stream",
          "name": "stdout",
          "text": [
            "total 12\n",
            "drwxr-xr-x 2 root root 4096 Jan 26 23:31 json\n",
            "drwxr-xr-x 2 root root 4096 Jan 26 23:31 parquet\n",
            "drwxr-xr-x 2 root root 4096 Jan 26 23:31 avro\n"
          ]
        }
      ]
    },
    {
      "cell_type": "code",
      "source": [
        "!ls -tl dataOutput/parquet/"
      ],
      "metadata": {
        "colab": {
          "base_uri": "https://localhost:8080/"
        },
        "id": "gtwnnfpEWTck",
        "outputId": "739aa2f8-da9c-4dfc-95f3-d551e5c4689b"
      },
      "execution_count": 12,
      "outputs": [
        {
          "output_type": "stream",
          "name": "stdout",
          "text": [
            "total 112\n",
            "-rw-r--r-- 1 root root     0 Jan 26 23:31 _SUCCESS\n",
            "-rw-r--r-- 1 root root 28024 Jan 26 23:31 part-00003-a272730d-6f75-4d77-85b4-a0bc74a40904-c000.snappy.parquet\n",
            "-rw-r--r-- 1 root root 27787 Jan 26 23:31 part-00001-a272730d-6f75-4d77-85b4-a0bc74a40904-c000.snappy.parquet\n",
            "-rw-r--r-- 1 root root 27833 Jan 26 23:31 part-00000-a272730d-6f75-4d77-85b4-a0bc74a40904-c000.snappy.parquet\n",
            "-rw-r--r-- 1 root root 28069 Jan 26 23:31 part-00002-a272730d-6f75-4d77-85b4-a0bc74a40904-c000.snappy.parquet\n"
          ]
        }
      ]
    },
    {
      "cell_type": "code",
      "source": [
        "!ls -tl dataOutput/avro/"
      ],
      "metadata": {
        "colab": {
          "base_uri": "https://localhost:8080/"
        },
        "id": "_EVWKay0WWOp",
        "outputId": "66b392d0-9449-48ff-f98f-d801fd92cdd9"
      },
      "execution_count": 13,
      "outputs": [
        {
          "output_type": "stream",
          "name": "stdout",
          "text": [
            "total 88\n",
            "-rw-r--r-- 1 root root     0 Jan 26 23:31 _SUCCESS\n",
            "-rw-r--r-- 1 root root 89029 Jan 26 23:31 part-00000-102346ea-bf2b-4535-98bc-72f26c556ee9-c000.avro\n"
          ]
        }
      ]
    },
    {
      "cell_type": "code",
      "source": [
        "!ls -tl dataOutput/json/"
      ],
      "metadata": {
        "id": "8w6Y74vaWYSl",
        "colab": {
          "base_uri": "https://localhost:8080/"
        },
        "outputId": "54636768-964c-4d4d-bbef-b9c86965df5e"
      },
      "execution_count": 14,
      "outputs": [
        {
          "output_type": "stream",
          "name": "stdout",
          "text": [
            "total 240\n",
            "-rw-r--r-- 1 root root      0 Jan 26 23:31 _SUCCESS\n",
            "-rw-r--r-- 1 root root 122570 Jan 26 23:31 part-00000-7b59cfdd-9394-4373-8445-5014c08f27cb-c000.json\n",
            "-rw-r--r-- 1 root root 122814 Jan 26 23:31 part-00001-7b59cfdd-9394-4373-8445-5014c08f27cb-c000.json\n"
          ]
        }
      ]
    },
    {
      "cell_type": "code",
      "source": [],
      "metadata": {
        "id": "S-KacOeGbVAa"
      },
      "execution_count": null,
      "outputs": []
    }
  ]
}