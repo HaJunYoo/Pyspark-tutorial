{
  "nbformat": 4,
  "nbformat_minor": 0,
  "metadata": {
    "colab": {
      "provenance": []
    },
    "kernelspec": {
      "name": "python3",
      "display_name": "Python 3"
    }
  },
  "cells": [
    {
      "cell_type": "markdown",
      "metadata": {
        "id": "xAqhTDfuWrcM"
      },
      "source": [
        "PySpark을 로컬머신에 설치하고 노트북을 사용하기 보다는 머신러닝 관련 다양한 라이브러리가 이미 설치되었고 좋은 하드웨어를 제공해주는 Google Colab을 통해 실습을 진행한다. 이를 위해 pyspark과 Py4J 패키지를 설치한다. Py4J 패키지는 파이썬 프로그램이 자바가상머신상의 오브젝트들을 접근할 수 있게 해준다. Local Standalone Spark을 사용한다."
      ]
    },
    {
      "cell_type": "markdown",
      "source": [
        "# PySpark 설치"
      ],
      "metadata": {
        "id": "h0Vh7tlM_VK9"
      }
    },
    {
      "cell_type": "code",
      "metadata": {
        "colab": {
          "base_uri": "https://localhost:8080/"
        },
        "id": "NbT0rpGfVdiq",
        "outputId": "37753280-5427-42f7-d155-e0409b39aa38"
      },
      "source": [
        "!pip install pyspark==3.3.1 py4j==0.10.9.5"
      ],
      "execution_count": 1,
      "outputs": [
        {
          "output_type": "stream",
          "name": "stdout",
          "text": [
            "Collecting pyspark==3.3.1\n",
            "  Downloading pyspark-3.3.1.tar.gz (281.4 MB)\n",
            "\u001b[2K     \u001b[90m━━━━━━━━━━━━━━━━━━━━━━━━━━━━━━━━━━━━━━━\u001b[0m \u001b[32m281.4/281.4 MB\u001b[0m \u001b[31m4.9 MB/s\u001b[0m eta \u001b[36m0:00:00\u001b[0m\n",
            "\u001b[?25h  Preparing metadata (setup.py) ... \u001b[?25l\u001b[?25hdone\n",
            "Collecting py4j==0.10.9.5\n",
            "  Downloading py4j-0.10.9.5-py2.py3-none-any.whl (199 kB)\n",
            "\u001b[2K     \u001b[90m━━━━━━━━━━━━━━━━━━━━━━━━━━━━━━━━━━━━━━\u001b[0m \u001b[32m199.7/199.7 kB\u001b[0m \u001b[31m22.1 MB/s\u001b[0m eta \u001b[36m0:00:00\u001b[0m\n",
            "\u001b[?25hBuilding wheels for collected packages: pyspark\n",
            "  Building wheel for pyspark (setup.py) ... \u001b[?25l\u001b[?25hdone\n",
            "  Created wheel for pyspark: filename=pyspark-3.3.1-py2.py3-none-any.whl size=281845500 sha256=18244d8e14fc362a78a28423c900d17b685d67e4461e875636e3c39f83feced8\n",
            "  Stored in directory: /root/.cache/pip/wheels/0f/f0/3d/517368b8ce80486e84f89f214e0a022554e4ee64969f46279b\n",
            "Successfully built pyspark\n",
            "Installing collected packages: py4j, pyspark\n",
            "  Attempting uninstall: py4j\n",
            "    Found existing installation: py4j 0.10.9.7\n",
            "    Uninstalling py4j-0.10.9.7:\n",
            "      Successfully uninstalled py4j-0.10.9.7\n",
            "Successfully installed py4j-0.10.9.5 pyspark-3.3.1\n"
          ]
        }
      ]
    },
    {
      "cell_type": "markdown",
      "metadata": {
        "id": "Ew_eTGrvXlDw"
      },
      "source": [
        "**Spark Session:** SparkSession은 Spark 2.0부터 엔트리 포인트로 사용된다. SparkSession을 이용해 RDD, 데이터 프레임등을 만든다. SparkSession은 SparkSession.builder를 호출하여 생성하며 다양한 함수들을 통해 세부 설정이 가능하다\n",
        "\n",
        "* local[*] Spark이 하나의 JVM으로 동작하고 그 안에 컴퓨터의 코어 수 만큼의 스레드가 Executor로 동작한다\n"
      ]
    },
    {
      "cell_type": "code",
      "metadata": {
        "id": "3vm6tgcPXdnR"
      },
      "source": [
        "from pyspark.sql import SparkSession\n",
        "\n",
        "spark = SparkSession.builder\\\n",
        "        .master(\"local[*]\")\\\n",
        "        .appName('PySpark Tutorial')\\\n",
        "        .getOrCreate()"
      ],
      "execution_count": 2,
      "outputs": []
    },
    {
      "cell_type": "code",
      "metadata": {
        "id": "LSs_1PYaYWxI",
        "colab": {
          "base_uri": "https://localhost:8080/",
          "height": 219
        },
        "outputId": "a10c746a-681a-43d7-e61d-899c6255215d"
      },
      "source": [
        "spark"
      ],
      "execution_count": 3,
      "outputs": [
        {
          "output_type": "execute_result",
          "data": {
            "text/plain": [
              "<pyspark.sql.session.SparkSession at 0x7f416ee20730>"
            ],
            "text/html": [
              "\n",
              "            <div>\n",
              "                <p><b>SparkSession - in-memory</b></p>\n",
              "                \n",
              "        <div>\n",
              "            <p><b>SparkContext</b></p>\n",
              "\n",
              "            <p><a href=\"http://7580e2a9289b:4040\">Spark UI</a></p>\n",
              "\n",
              "            <dl>\n",
              "              <dt>Version</dt>\n",
              "                <dd><code>v3.3.1</code></dd>\n",
              "              <dt>Master</dt>\n",
              "                <dd><code>local[*]</code></dd>\n",
              "              <dt>AppName</dt>\n",
              "                <dd><code>PySpark Tutorial</code></dd>\n",
              "            </dl>\n",
              "        </div>\n",
              "        \n",
              "            </div>\n",
              "        "
            ]
          },
          "metadata": {},
          "execution_count": 3
        }
      ]
    },
    {
      "cell_type": "code",
      "source": [
        "!lscpu"
      ],
      "metadata": {
        "id": "oeEFwKoZSVaU",
        "colab": {
          "base_uri": "https://localhost:8080/"
        },
        "outputId": "55b0a4d3-d858-4dcc-8a45-1c65b32b0fa9"
      },
      "execution_count": 4,
      "outputs": [
        {
          "output_type": "stream",
          "name": "stdout",
          "text": [
            "Architecture:                    x86_64\n",
            "CPU op-mode(s):                  32-bit, 64-bit\n",
            "Byte Order:                      Little Endian\n",
            "Address sizes:                   46 bits physical, 48 bits virtual\n",
            "CPU(s):                          2\n",
            "On-line CPU(s) list:             0,1\n",
            "Thread(s) per core:              2\n",
            "Core(s) per socket:              1\n",
            "Socket(s):                       1\n",
            "NUMA node(s):                    1\n",
            "Vendor ID:                       GenuineIntel\n",
            "CPU family:                      6\n",
            "Model:                           79\n",
            "Model name:                      Intel(R) Xeon(R) CPU @ 2.20GHz\n",
            "Stepping:                        0\n",
            "CPU MHz:                         2200.134\n",
            "BogoMIPS:                        4400.26\n",
            "Hypervisor vendor:               KVM\n",
            "Virtualization type:             full\n",
            "L1d cache:                       32 KiB\n",
            "L1i cache:                       32 KiB\n",
            "L2 cache:                        256 KiB\n",
            "L3 cache:                        55 MiB\n",
            "NUMA node0 CPU(s):               0,1\n",
            "Vulnerability Itlb multihit:     Not affected\n",
            "Vulnerability L1tf:              Mitigation; PTE Inversion\n",
            "Vulnerability Mds:               Vulnerable; SMT Host state unknown\n",
            "Vulnerability Meltdown:          Vulnerable\n",
            "Vulnerability Mmio stale data:   Vulnerable\n",
            "Vulnerability Retbleed:          Vulnerable\n",
            "Vulnerability Spec store bypass: Vulnerable\n",
            "Vulnerability Spectre v1:        Vulnerable: __user pointer sanitization and use\n",
            "                                 rcopy barriers only; no swapgs barriers\n",
            "Vulnerability Spectre v2:        Vulnerable, IBPB: disabled, STIBP: disabled, PB\n",
            "                                 RSB-eIBRS: Not affected\n",
            "Vulnerability Srbds:             Not affected\n",
            "Vulnerability Tsx async abort:   Vulnerable\n",
            "Flags:                           fpu vme de pse tsc msr pae mce cx8 apic sep mtr\n",
            "                                 r pge mca cmov pat pse36 clflush mmx fxsr sse s\n",
            "                                 se2 ss ht syscall nx pdpe1gb rdtscp lm constant\n",
            "                                 _tsc rep_good nopl xtopology nonstop_tsc cpuid \n",
            "                                 tsc_known_freq pni pclmulqdq ssse3 fma cx16 pci\n",
            "                                 d sse4_1 sse4_2 x2apic movbe popcnt aes xsave a\n",
            "                                 vx f16c rdrand hypervisor lahf_lm abm 3dnowpref\n",
            "                                 etch invpcid_single ssbd ibrs ibpb stibp fsgsba\n",
            "                                 se tsc_adjust bmi1 hle avx2 smep bmi2 erms invp\n",
            "                                 cid rtm rdseed adx smap xsaveopt arat md_clear \n",
            "                                 arch_capabilities\n"
          ]
        }
      ]
    },
    {
      "cell_type": "code",
      "source": [
        "!grep MemTotal /proc/meminfo"
      ],
      "metadata": {
        "id": "eIF5oQkLSo4-",
        "colab": {
          "base_uri": "https://localhost:8080/"
        },
        "outputId": "91e969c5-1795-4049-8dca-635bdb525c0c"
      },
      "execution_count": 5,
      "outputs": [
        {
          "output_type": "stream",
          "name": "stdout",
          "text": [
            "MemTotal:       13294264 kB\n"
          ]
        }
      ]
    },
    {
      "cell_type": "markdown",
      "source": [
        "# Python <> RDD <> DataFrame"
      ],
      "metadata": {
        "id": "f8gMf2J1VLqn"
      }
    },
    {
      "cell_type": "markdown",
      "metadata": {
        "id": "VNHAAJuCZCqE"
      },
      "source": [
        "**Python 객체를 RDD로 변환해보기**\n",
        "\n",
        "**1> Python 리스트 생성**"
      ]
    },
    {
      "cell_type": "code",
      "metadata": {
        "id": "HhijTd1UY1i9"
      },
      "source": [
        "name_list_json = [ '{\"name\": \"keeyong\"}', '{\"name\": \"benjamin\"}', '{\"name\": \"claire\"}' ]"
      ],
      "execution_count": 6,
      "outputs": []
    },
    {
      "cell_type": "code",
      "metadata": {
        "id": "hXqf1lC_Zdxf",
        "colab": {
          "base_uri": "https://localhost:8080/"
        },
        "outputId": "df49613b-2588-4660-cc4d-1c2bd28eb107"
      },
      "source": [
        "for n in name_list_json:\n",
        "  print(n)"
      ],
      "execution_count": 7,
      "outputs": [
        {
          "output_type": "stream",
          "name": "stdout",
          "text": [
            "{\"name\": \"keeyong\"}\n",
            "{\"name\": \"benjamin\"}\n",
            "{\"name\": \"claire\"}\n"
          ]
        }
      ]
    },
    {
      "cell_type": "markdown",
      "metadata": {
        "id": "YKlanTznb75N"
      },
      "source": [
        "**2> 파이썬 리스트를 RDD로 변환**\n",
        "\n",
        " * RDD로 변환되는 순간 Spark 클러스터의 서버들에 데이터가 나눠 저장됨 (파티션)"
      ]
    },
    {
      "cell_type": "code",
      "metadata": {
        "id": "NvTOpLsrZ_I8"
      },
      "source": [
        "rdd = spark.sparkContext.parallelize(name_list_json)"
      ],
      "execution_count": 8,
      "outputs": []
    },
    {
      "cell_type": "code",
      "metadata": {
        "id": "KIMTLkPdk4ul",
        "colab": {
          "base_uri": "https://localhost:8080/"
        },
        "outputId": "845c75c5-c31d-493f-f126-9d802935dd89"
      },
      "source": [
        "rdd"
      ],
      "execution_count": 9,
      "outputs": [
        {
          "output_type": "execute_result",
          "data": {
            "text/plain": [
              "ParallelCollectionRDD[0] at readRDDFromFile at PythonRDD.scala:274"
            ]
          },
          "metadata": {},
          "execution_count": 9
        }
      ]
    },
    {
      "cell_type": "code",
      "metadata": {
        "id": "KmszVYtzaL3Q",
        "colab": {
          "base_uri": "https://localhost:8080/"
        },
        "outputId": "9f377307-ada1-4a48-f12a-5bca90fd378b"
      },
      "source": [
        "rdd.count()"
      ],
      "execution_count": 10,
      "outputs": [
        {
          "output_type": "execute_result",
          "data": {
            "text/plain": [
              "3"
            ]
          },
          "metadata": {},
          "execution_count": 10
        }
      ]
    },
    {
      "cell_type": "code",
      "metadata": {
        "id": "gMLop2SQbMnZ"
      },
      "source": [
        "import json\n",
        "\n",
        "parsed_rdd = rdd.map(lambda el:json.loads(el))"
      ],
      "execution_count": 11,
      "outputs": []
    },
    {
      "cell_type": "code",
      "metadata": {
        "id": "RAgNR7EWcl2t",
        "colab": {
          "base_uri": "https://localhost:8080/"
        },
        "outputId": "6f092754-5805-4e06-e264-289111af9b57"
      },
      "source": [
        "parsed_rdd"
      ],
      "execution_count": 12,
      "outputs": [
        {
          "output_type": "execute_result",
          "data": {
            "text/plain": [
              "PythonRDD[2] at RDD at PythonRDD.scala:53"
            ]
          },
          "metadata": {},
          "execution_count": 12
        }
      ]
    },
    {
      "cell_type": "code",
      "metadata": {
        "id": "qt5SMf4IcoIZ",
        "colab": {
          "base_uri": "https://localhost:8080/"
        },
        "outputId": "ed3426a2-9693-4c4b-8e99-521b9bce0c28"
      },
      "source": [
        "parsed_rdd.collect()"
      ],
      "execution_count": 13,
      "outputs": [
        {
          "output_type": "execute_result",
          "data": {
            "text/plain": [
              "[{'name': 'keeyong'}, {'name': 'benjamin'}, {'name': 'claire'}]"
            ]
          },
          "metadata": {},
          "execution_count": 13
        }
      ]
    },
    {
      "cell_type": "code",
      "metadata": {
        "id": "T1Kmn_qycqQl"
      },
      "source": [
        "parsed_name_rdd = rdd.map(lambda el:json.loads(el)[\"name\"])"
      ],
      "execution_count": 14,
      "outputs": []
    },
    {
      "cell_type": "code",
      "metadata": {
        "id": "4ZWxTKgJnDm8",
        "colab": {
          "base_uri": "https://localhost:8080/"
        },
        "outputId": "b6896f49-2f57-408c-bb16-220875e2635d"
      },
      "source": [
        "parsed_name_rdd.collect()"
      ],
      "execution_count": 15,
      "outputs": [
        {
          "output_type": "execute_result",
          "data": {
            "text/plain": [
              "['keeyong', 'benjamin', 'claire']"
            ]
          },
          "metadata": {},
          "execution_count": 15
        }
      ]
    },
    {
      "cell_type": "markdown",
      "metadata": {
        "id": "McGKfLtWnsTB"
      },
      "source": [
        "**파이썬 리스트를 데이터프레임으로 변환하기**"
      ]
    },
    {
      "cell_type": "code",
      "metadata": {
        "id": "_WlhiRsKo7j7"
      },
      "source": [
        "# RDD의 장점 중 하나는 Lambda function을 쓰기 편하다는 점\n",
        "\n",
        "from pyspark.sql.types import StringType\n",
        "\n",
        "# string으로 존재하는 rdd를 json structure로 바꾼 새로운 rdd로 만듦\n",
        "df = spark.createDataFrame(name_list_json, StringType())"
      ],
      "execution_count": 16,
      "outputs": []
    },
    {
      "cell_type": "code",
      "metadata": {
        "id": "S2-pyiKGpLZe",
        "colab": {
          "base_uri": "https://localhost:8080/"
        },
        "outputId": "9cddc901-24bf-447a-dcfb-e969847a8803"
      },
      "source": [
        "df.count()"
      ],
      "execution_count": 17,
      "outputs": [
        {
          "output_type": "execute_result",
          "data": {
            "text/plain": [
              "3"
            ]
          },
          "metadata": {},
          "execution_count": 17
        }
      ]
    },
    {
      "cell_type": "code",
      "metadata": {
        "id": "9Sql4KPhppgr",
        "colab": {
          "base_uri": "https://localhost:8080/"
        },
        "outputId": "92d00d7c-0053-43d4-97c2-3d7adc3d2e8d"
      },
      "source": [
        "df.printSchema()"
      ],
      "execution_count": 18,
      "outputs": [
        {
          "output_type": "stream",
          "name": "stdout",
          "text": [
            "root\n",
            " |-- value: string (nullable = true)\n",
            "\n"
          ]
        }
      ]
    },
    {
      "cell_type": "code",
      "metadata": {
        "id": "U2XzTjdEpuZ4",
        "colab": {
          "base_uri": "https://localhost:8080/"
        },
        "outputId": "1b3acd45-fa34-45c4-80cb-b6b05304bec0"
      },
      "source": [
        "# collect를 통해 dataframe을 파이썬 쪽으로 가져오면 Row 형태가 된다\n",
        "df.select('*').collect()"
      ],
      "execution_count": 31,
      "outputs": [
        {
          "output_type": "execute_result",
          "data": {
            "text/plain": [
              "[Row(name='Adaleigh', gender='F'),\n",
              " Row(name='Amryn', gender='Unisex'),\n",
              " Row(name='Apurva', gender='Unisex'),\n",
              " Row(name='Aryion', gender='M'),\n",
              " Row(name='Alixia', gender='F'),\n",
              " Row(name='Alyssarose', gender='F'),\n",
              " Row(name='Arvell', gender='M'),\n",
              " Row(name='Aibel', gender='M'),\n",
              " Row(name='Atiyyah', gender='F'),\n",
              " Row(name='Adlie', gender='F'),\n",
              " Row(name='Anyely', gender='F'),\n",
              " Row(name='Aamoni', gender='F'),\n",
              " Row(name='Ahman', gender='M'),\n",
              " Row(name='Arlane', gender='F'),\n",
              " Row(name='Armoney', gender='F'),\n",
              " Row(name='Atzhiry', gender='F'),\n",
              " Row(name='Antonette', gender='F'),\n",
              " Row(name='Akeelah', gender='F'),\n",
              " Row(name='Abdikadir', gender='M'),\n",
              " Row(name='Arinze', gender='M'),\n",
              " Row(name='Arshaun', gender='M'),\n",
              " Row(name='Alexandro', gender='M'),\n",
              " Row(name='Ayriauna', gender='F'),\n",
              " Row(name='Aqib', gender='M'),\n",
              " Row(name='Alleya', gender='F'),\n",
              " Row(name='Aavah', gender='F'),\n",
              " Row(name='Anesti', gender='Unisex'),\n",
              " Row(name='Adalaide', gender='F'),\n",
              " Row(name='Analena', gender='F'),\n",
              " Row(name='Alaeyah', gender='F'),\n",
              " Row(name='Albena', gender='F'),\n",
              " Row(name='Aimi', gender='F'),\n",
              " Row(name='Adwaith', gender='M'),\n",
              " Row(name='Arkady', gender='M'),\n",
              " Row(name='Astyn', gender='Unisex'),\n",
              " Row(name='Adelee', gender='F'),\n",
              " Row(name='Agata', gender='F'),\n",
              " Row(name='Alegna', gender='F'),\n",
              " Row(name='Altan', gender='M'),\n",
              " Row(name='Ahnaleigh', gender='F'),\n",
              " Row(name='Algie', gender='Unisex'),\n",
              " Row(name='Ashanti', gender='F'),\n",
              " Row(name='Aislyn', gender='F'),\n",
              " Row(name='Adaleine', gender='F'),\n",
              " Row(name='Anthnoy', gender='M'),\n",
              " Row(name='Algernon', gender='M'),\n",
              " Row(name='Aeryona', gender='F'),\n",
              " Row(name='Adrinne', gender='F'),\n",
              " Row(name='Addell', gender='F'),\n",
              " Row(name='Avril', gender='F'),\n",
              " Row(name='Ahni', gender='F'),\n",
              " Row(name='Aimon', gender='M'),\n",
              " Row(name='Adolpho', gender='M'),\n",
              " Row(name='Ahuva', gender='F'),\n",
              " Row(name='Aurielle', gender='F'),\n",
              " Row(name='Aveana', gender='F'),\n",
              " Row(name='Aliyia', gender='F'),\n",
              " Row(name='Alesander', gender='M'),\n",
              " Row(name='Adnrea', gender='F'),\n",
              " Row(name='Anjae', gender='F'),\n",
              " Row(name='Alvine', gender='F'),\n",
              " Row(name='Adorah', gender='F'),\n",
              " Row(name='Adlemi', gender='F'),\n",
              " Row(name='Alesi', gender='F'),\n",
              " Row(name='Alontae', gender='M'),\n",
              " Row(name='Antonny', gender='M'),\n",
              " Row(name='Adarah', gender='F'),\n",
              " Row(name='Ayreanna', gender='F'),\n",
              " Row(name='Antyon', gender='M'),\n",
              " Row(name='Andia', gender='F'),\n",
              " Row(name='Ashla', gender='F'),\n",
              " Row(name='Aspyn', gender='F'),\n",
              " Row(name='Antwanett', gender='F'),\n",
              " Row(name='Aundreia', gender='F'),\n",
              " Row(name='Audella', gender='F'),\n",
              " Row(name='Amari', gender='Unisex'),\n",
              " Row(name='Arsha', gender='Unisex'),\n",
              " Row(name='Aricella', gender='F'),\n",
              " Row(name='Adan', gender='M'),\n",
              " Row(name='Apasra', gender='F'),\n",
              " Row(name='Alaysha', gender='F'),\n",
              " Row(name='Anderson', gender='M'),\n",
              " Row(name='Aurelius', gender='M'),\n",
              " Row(name='Aerial', gender='F'),\n",
              " Row(name='Averleigh', gender='F'),\n",
              " Row(name='Aslean', gender='F'),\n",
              " Row(name='Arniesha', gender='F'),\n",
              " Row(name='Asyana', gender='F'),\n",
              " Row(name='Annjane', gender='F'),\n",
              " Row(name='Amabella', gender='F'),\n",
              " Row(name='Austinjohn', gender='M'),\n",
              " Row(name='Arloween', gender='F'),\n",
              " Row(name='Alula', gender='M'),\n",
              " Row(name='Anemone', gender='F'),\n",
              " Row(name='Amorina', gender='F'),\n",
              " Row(name='Anureet', gender='F'),\n",
              " Row(name='Arric', gender='M'),\n",
              " Row(name='Antonne', gender='M'),\n",
              " Row(name='Alyre', gender='M'),\n",
              " Row(name='Annaise', gender='F')]"
            ]
          },
          "metadata": {},
          "execution_count": 31
        }
      ]
    },
    {
      "cell_type": "markdown",
      "source": [
        "RDD를 DataFrame으로 변환해보는 예제: 앞서 parsed_rdd를 DataFrame으로 변환해보자\n",
        "\n"
      ],
      "metadata": {
        "id": "NhmokDHwUBNm"
      }
    },
    {
      "cell_type": "code",
      "metadata": {
        "id": "93TLUFxgqLrm"
      },
      "source": [
        "df_parsed_rdd = parsed_rdd.toDF()"
      ],
      "execution_count": 32,
      "outputs": []
    },
    {
      "cell_type": "code",
      "metadata": {
        "id": "LtFEYRG61-L8",
        "colab": {
          "base_uri": "https://localhost:8080/"
        },
        "outputId": "d857d549-48e3-43c6-a4b7-230f27fb94b2"
      },
      "source": [
        "df_parsed_rdd.printSchema()"
      ],
      "execution_count": 33,
      "outputs": [
        {
          "output_type": "stream",
          "name": "stdout",
          "text": [
            "root\n",
            " |-- name: string (nullable = true)\n",
            "\n"
          ]
        }
      ]
    },
    {
      "cell_type": "code",
      "metadata": {
        "id": "MptOIByKsLeG",
        "colab": {
          "base_uri": "https://localhost:8080/"
        },
        "outputId": "5796e1b4-7d84-4693-f63d-d4825a639c23"
      },
      "source": [
        "df_parsed_rdd.select('name').collect()"
      ],
      "execution_count": 34,
      "outputs": [
        {
          "output_type": "execute_result",
          "data": {
            "text/plain": [
              "[Row(name='keeyong'), Row(name='benjamin'), Row(name='claire')]"
            ]
          },
          "metadata": {},
          "execution_count": 34
        }
      ]
    },
    {
      "cell_type": "markdown",
      "source": [
        "## Spark 데이터프레임으로 로드해보기"
      ],
      "metadata": {
        "id": "PIDOQxK3Prz5"
      }
    },
    {
      "cell_type": "code",
      "source": [
        "!wget https://s3-geospatial.s3-us-west-2.amazonaws.com/name_gender.csv"
      ],
      "metadata": {
        "id": "PoIJAjvNPYfG",
        "colab": {
          "base_uri": "https://localhost:8080/"
        },
        "outputId": "d052ea3a-95a3-4750-ab98-f760dfdfe8e1"
      },
      "execution_count": 20,
      "outputs": [
        {
          "output_type": "stream",
          "name": "stdout",
          "text": [
            "--2023-07-04 11:48:36--  https://s3-geospatial.s3-us-west-2.amazonaws.com/name_gender.csv\n",
            "Resolving s3-geospatial.s3-us-west-2.amazonaws.com (s3-geospatial.s3-us-west-2.amazonaws.com)... 3.5.82.14, 3.5.85.15, 52.92.152.114, ...\n",
            "Connecting to s3-geospatial.s3-us-west-2.amazonaws.com (s3-geospatial.s3-us-west-2.amazonaws.com)|3.5.82.14|:443... connected.\n",
            "HTTP request sent, awaiting response... 200 OK\n",
            "Length: 997 [text/csv]\n",
            "Saving to: ‘name_gender.csv’\n",
            "\n",
            "\rname_gender.csv       0%[                    ]       0  --.-KB/s               \rname_gender.csv     100%[===================>]     997  --.-KB/s    in 0s      \n",
            "\n",
            "2023-07-04 11:48:37 (46.4 MB/s) - ‘name_gender.csv’ saved [997/997]\n",
            "\n"
          ]
        }
      ]
    },
    {
      "cell_type": "code",
      "source": [
        "df = spark.read.csv(\"name_gender.csv\")\n",
        "df.printSchema()"
      ],
      "metadata": {
        "id": "fvTn2b_dPznk",
        "colab": {
          "base_uri": "https://localhost:8080/"
        },
        "outputId": "44cd4ddf-bad3-4b2a-e103-9523f48c4031"
      },
      "execution_count": 21,
      "outputs": [
        {
          "output_type": "stream",
          "name": "stdout",
          "text": [
            "root\n",
            " |-- _c0: string (nullable = true)\n",
            " |-- _c1: string (nullable = true)\n",
            "\n"
          ]
        }
      ]
    },
    {
      "cell_type": "code",
      "source": [
        "df = spark.read.option(\"header\", True).csv(\"name_gender.csv\")\n",
        "df.printSchema()"
      ],
      "metadata": {
        "id": "2GXxjQQTTzyp",
        "colab": {
          "base_uri": "https://localhost:8080/"
        },
        "outputId": "596dc362-3752-4ceb-801b-e3880b09ef8a"
      },
      "execution_count": 22,
      "outputs": [
        {
          "output_type": "stream",
          "name": "stdout",
          "text": [
            "root\n",
            " |-- name: string (nullable = true)\n",
            " |-- gender: string (nullable = true)\n",
            "\n"
          ]
        }
      ]
    },
    {
      "cell_type": "code",
      "source": [
        "df.show()"
      ],
      "metadata": {
        "id": "eyyxGbD1QF9G",
        "colab": {
          "base_uri": "https://localhost:8080/"
        },
        "outputId": "bdef78f0-7cb0-4c83-d3f4-72b6775a4404"
      },
      "execution_count": 23,
      "outputs": [
        {
          "output_type": "stream",
          "name": "stdout",
          "text": [
            "+----------+------+\n",
            "|      name|gender|\n",
            "+----------+------+\n",
            "|  Adaleigh|     F|\n",
            "|     Amryn|Unisex|\n",
            "|    Apurva|Unisex|\n",
            "|    Aryion|     M|\n",
            "|    Alixia|     F|\n",
            "|Alyssarose|     F|\n",
            "|    Arvell|     M|\n",
            "|     Aibel|     M|\n",
            "|   Atiyyah|     F|\n",
            "|     Adlie|     F|\n",
            "|    Anyely|     F|\n",
            "|    Aamoni|     F|\n",
            "|     Ahman|     M|\n",
            "|    Arlane|     F|\n",
            "|   Armoney|     F|\n",
            "|   Atzhiry|     F|\n",
            "| Antonette|     F|\n",
            "|   Akeelah|     F|\n",
            "| Abdikadir|     M|\n",
            "|    Arinze|     M|\n",
            "+----------+------+\n",
            "only showing top 20 rows\n",
            "\n"
          ]
        }
      ]
    },
    {
      "cell_type": "code",
      "source": [
        "df.head(5)"
      ],
      "metadata": {
        "id": "B16yILDkSGbv",
        "colab": {
          "base_uri": "https://localhost:8080/"
        },
        "outputId": "2dac50c4-2256-48b5-ce23-68ec82ec7f74"
      },
      "execution_count": 24,
      "outputs": [
        {
          "output_type": "execute_result",
          "data": {
            "text/plain": [
              "[Row(name='Adaleigh', gender='F'),\n",
              " Row(name='Amryn', gender='Unisex'),\n",
              " Row(name='Apurva', gender='Unisex'),\n",
              " Row(name='Aryion', gender='M'),\n",
              " Row(name='Alixia', gender='F')]"
            ]
          },
          "metadata": {},
          "execution_count": 24
        }
      ]
    },
    {
      "cell_type": "code",
      "source": [
        "df.groupby([\"gender\"]).count().collect()"
      ],
      "metadata": {
        "id": "C60i-1oGSC8u",
        "colab": {
          "base_uri": "https://localhost:8080/"
        },
        "outputId": "4264a9e4-2e05-4bd2-e1b5-fad52b8a21e1"
      },
      "execution_count": 25,
      "outputs": [
        {
          "output_type": "execute_result",
          "data": {
            "text/plain": [
              "[Row(gender='F', count=65),\n",
              " Row(gender='M', count=28),\n",
              " Row(gender='Unisex', count=7)]"
            ]
          },
          "metadata": {},
          "execution_count": 25
        }
      ]
    },
    {
      "cell_type": "code",
      "source": [
        "df.rdd.getNumPartitions()\n",
        "# rdd가 가지고 있는 파티션을 통해 파티션 개수를 알아볼 수 있다."
      ],
      "metadata": {
        "id": "x98icREPokNC",
        "colab": {
          "base_uri": "https://localhost:8080/"
        },
        "outputId": "a4dc7ea5-e5e3-450f-8ace-086ce24c781e"
      },
      "execution_count": 26,
      "outputs": [
        {
          "output_type": "execute_result",
          "data": {
            "text/plain": [
              "1"
            ]
          },
          "metadata": {},
          "execution_count": 26
        }
      ]
    },
    {
      "cell_type": "markdown",
      "source": [
        "데이터프레임을 테이블뷰로 만들어서 SparkSQL로 처리해보기"
      ],
      "metadata": {
        "id": "__lQAuE6WQp4"
      }
    },
    {
      "cell_type": "code",
      "source": [
        "df.createOrReplaceTempView(\"namegender\")"
      ],
      "metadata": {
        "id": "CzaHf3jaWQJM"
      },
      "execution_count": 27,
      "outputs": []
    },
    {
      "cell_type": "code",
      "source": [
        "namegender_group_df = spark.sql(\"SELECT gender, count(1) FROM namegender GROUP BY 1\")"
      ],
      "metadata": {
        "id": "_XZTQIUWWVdU"
      },
      "execution_count": 28,
      "outputs": []
    },
    {
      "cell_type": "code",
      "source": [
        "namegender_group_df.collect()"
      ],
      "metadata": {
        "id": "ungWbu_zWXfq",
        "colab": {
          "base_uri": "https://localhost:8080/"
        },
        "outputId": "9505ca50-fbb9-4c43-a1c7-bbf365981927"
      },
      "execution_count": 29,
      "outputs": [
        {
          "output_type": "execute_result",
          "data": {
            "text/plain": [
              "[Row(gender='F', count(1)=65),\n",
              " Row(gender='M', count(1)=28),\n",
              " Row(gender='Unisex', count(1)=7)]"
            ]
          },
          "metadata": {},
          "execution_count": 29
        }
      ]
    },
    {
      "cell_type": "code",
      "source": [
        "spark.catalog.listTables()"
      ],
      "metadata": {
        "id": "UV3BwA7sJLmu",
        "colab": {
          "base_uri": "https://localhost:8080/"
        },
        "outputId": "2df343a3-8b5d-4e80-f24a-2ea453430529"
      },
      "execution_count": 30,
      "outputs": [
        {
          "output_type": "execute_result",
          "data": {
            "text/plain": [
              "[Table(name='namegender', database=None, description=None, tableType='TEMPORARY', isTemporary=True)]"
            ]
          },
          "metadata": {},
          "execution_count": 30
        }
      ]
    },
    {
      "cell_type": "markdown",
      "source": [
        "Partition의 수 계산해보기"
      ],
      "metadata": {
        "id": "nsBKrZthq6s9"
      }
    },
    {
      "cell_type": "code",
      "source": [
        "namegender_group_df.rdd.getNumPartitions()"
      ],
      "metadata": {
        "id": "ROHFCGikpBQM",
        "colab": {
          "base_uri": "https://localhost:8080/"
        },
        "outputId": "348653fe-5c33-4b14-f765-82146ea15fc8"
      },
      "execution_count": 35,
      "outputs": [
        {
          "output_type": "execute_result",
          "data": {
            "text/plain": [
              "1"
            ]
          },
          "metadata": {},
          "execution_count": 35
        }
      ]
    },
    {
      "cell_type": "code",
      "source": [
        "# 파티션을 2개로 나눔\n",
        "two_namegender_group_df = namegender_group_df.repartition(2)"
      ],
      "metadata": {
        "id": "LGyv_owLtTHD"
      },
      "execution_count": 36,
      "outputs": []
    },
    {
      "cell_type": "code",
      "source": [
        "two_namegender_group_df.rdd.getNumPartitions()"
      ],
      "metadata": {
        "id": "9n6okNwvtaic",
        "colab": {
          "base_uri": "https://localhost:8080/"
        },
        "outputId": "a97af4f7-fb6d-440c-a62e-f62605a6cc8e"
      },
      "execution_count": 37,
      "outputs": [
        {
          "output_type": "execute_result",
          "data": {
            "text/plain": [
              "2"
            ]
          },
          "metadata": {},
          "execution_count": 37
        }
      ]
    },
    {
      "cell_type": "code",
      "source": [],
      "metadata": {
        "id": "tsReuOiwxPq1"
      },
      "execution_count": null,
      "outputs": []
    }
  ]
}